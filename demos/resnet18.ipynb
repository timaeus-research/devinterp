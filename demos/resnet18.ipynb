{
 "cells": [
  {
   "cell_type": "markdown",
   "metadata": {},
   "source": [
    "# Resnet18"
   ]
  },
  {
   "cell_type": "code",
   "execution_count": null,
   "metadata": {},
   "outputs": [],
   "source": [
    "!pip install devinterp"
   ]
  },
  {
   "cell_type": "code",
   "execution_count": 10,
   "metadata": {},
   "outputs": [],
   "source": [
    "import torch\n",
    "import torchvision\n",
    "\n",
    "from torchvision import transforms\n",
    "from torchvision import datasets\n",
    "from torch.utils.data import DataLoader\n",
    "from torch import nn, optim\n",
    "\n",
    "import matplotlib.pyplot as plt\n",
    "import sys\n",
    "sys.path.append(\"/home/paperspace/devinterp/\")\n",
    "from devinterp.slt.sampler import estimate_rlct\n",
    "from devinterp.optim.sgld import SGLD\n",
    "\n",
    "device = torch.device('cuda' if torch.cuda.is_available() else 'cpu')\n",
    "# device = torch.device('mps')"
   ]
  },
  {
   "cell_type": "code",
   "execution_count": 2,
   "metadata": {},
   "outputs": [
    {
     "name": "stdout",
     "output_type": "stream",
     "text": [
      "Files already downloaded and verified\n",
      "Files already downloaded and verified\n"
     ]
    }
   ],
   "source": [
    "# Transform to imagenet format\n",
    "transform = transforms.Compose([\n",
    "    transforms.ToTensor(),\n",
    "    transforms.Normalize(\n",
    "        mean=[0.485, 0.456, 0.406],\n",
    "        std=[0.229, 0.244, 0.225]\n",
    "    )\n",
    "])\n",
    "\n",
    "trainset = datasets.CIFAR10(root='../data', train=True, download=True, transform=transform)\n",
    "testset = datasets.CIFAR10(root='../data', train=False, download=True, transform=transform)\n",
    "\n",
    "trainloader = DataLoader(trainset, batch_size=256, shuffle=True)\n",
    "testloader = DataLoader(testset, batch_size=256, shuffle=False)"
   ]
  },
  {
   "cell_type": "code",
   "execution_count": 3,
   "metadata": {},
   "outputs": [
    {
     "name": "stderr",
     "output_type": "stream",
     "text": [
      "/home/paperspace/devinterp/.venv/lib/python3.9/site-packages/torchvision/models/_utils.py:208: UserWarning: The parameter 'pretrained' is deprecated since 0.13 and may be removed in the future, please use 'weights' instead.\n",
      "  warnings.warn(\n",
      "/home/paperspace/devinterp/.venv/lib/python3.9/site-packages/torchvision/models/_utils.py:223: UserWarning: Arguments other than a weight enum or `None` for 'weights' are deprecated since 0.13 and may be removed in the future. The current behavior is equivalent to passing `weights=ResNet18_Weights.IMAGENET1K_V1`. You can also use `weights=ResNet18_Weights.DEFAULT` to get the most up-to-date weights.\n",
      "  warnings.warn(msg)\n"
     ]
    },
    {
     "data": {
      "application/vnd.jupyter.widget-view+json": {
       "model_id": "931616fead0144cb935d61d4fa290b30",
       "version_major": 2,
       "version_minor": 0
      },
      "text/plain": [
       "Epoch 0:   0%|          | 0/196 [00:00<?, ?it/s]"
      ]
     },
     "metadata": {},
     "output_type": "display_data"
    },
    {
     "name": "stdout",
     "output_type": "stream",
     "text": [
      "Epoch: 0, Train Loss: 0.8934337016271086, Test Loss: 0.9743420645594597, Train Acc: 0.69704, Test Acc: 0.6636\n"
     ]
    },
    {
     "data": {
      "application/vnd.jupyter.widget-view+json": {
       "model_id": "ee764ed3fb094a28a46d1379957ab2c9",
       "version_major": 2,
       "version_minor": 0
      },
      "text/plain": [
       "Epoch 1:   0%|          | 0/196 [00:00<?, ?it/s]"
      ]
     },
     "metadata": {},
     "output_type": "display_data"
    },
    {
     "name": "stdout",
     "output_type": "stream",
     "text": [
      "Epoch: 1, Train Loss: 0.6596289170639855, Test Loss: 0.7990664541721344, Train Acc: 0.78394, Test Acc: 0.7316\n"
     ]
    },
    {
     "data": {
      "application/vnd.jupyter.widget-view+json": {
       "model_id": "6a77ee914bd847e885bfd4cd2766283a",
       "version_major": 2,
       "version_minor": 0
      },
      "text/plain": [
       "Epoch 2:   0%|          | 0/196 [00:00<?, ?it/s]"
      ]
     },
     "metadata": {},
     "output_type": "display_data"
    },
    {
     "name": "stdout",
     "output_type": "stream",
     "text": [
      "Epoch: 2, Train Loss: 0.5150310155384394, Test Loss: 0.7075059518218041, Train Acc: 0.8389, Test Acc: 0.7643\n"
     ]
    },
    {
     "data": {
      "application/vnd.jupyter.widget-view+json": {
       "model_id": "2e06635c51a64b27be6054ced9a5b779",
       "version_major": 2,
       "version_minor": 0
      },
      "text/plain": [
       "Epoch 3:   0%|          | 0/196 [00:00<?, ?it/s]"
      ]
     },
     "metadata": {},
     "output_type": "display_data"
    },
    {
     "name": "stdout",
     "output_type": "stream",
     "text": [
      "Epoch: 3, Train Loss: 0.41121141171577025, Test Loss: 0.6588136121630669, Train Acc: 0.8828, Test Acc: 0.7867\n"
     ]
    },
    {
     "data": {
      "application/vnd.jupyter.widget-view+json": {
       "model_id": "6e690c51e3254fc89b3febc16a4a91b2",
       "version_major": 2,
       "version_minor": 0
      },
      "text/plain": [
       "Epoch 4:   0%|          | 0/196 [00:00<?, ?it/s]"
      ]
     },
     "metadata": {},
     "output_type": "display_data"
    },
    {
     "name": "stdout",
     "output_type": "stream",
     "text": [
      "Epoch: 4, Train Loss: 0.3293367821951302, Test Loss: 0.6345711693167686, Train Acc: 0.91532, Test Acc: 0.798\n"
     ]
    },
    {
     "data": {
      "application/vnd.jupyter.widget-view+json": {
       "model_id": "7a13dd33a1374ce19ad5752b42a6007b",
       "version_major": 2,
       "version_minor": 0
      },
      "text/plain": [
       "Epoch 5:   0%|          | 0/196 [00:00<?, ?it/s]"
      ]
     },
     "metadata": {},
     "output_type": "display_data"
    },
    {
     "name": "stdout",
     "output_type": "stream",
     "text": [
      "Epoch: 5, Train Loss: 0.32428682793159874, Test Loss: 0.666023463010788, Train Acc: 0.9222, Test Acc: 0.7934\n"
     ]
    },
    {
     "data": {
      "application/vnd.jupyter.widget-view+json": {
       "model_id": "36bd0bde1c154b3f8f46c2db7d7a60a6",
       "version_major": 2,
       "version_minor": 0
      },
      "text/plain": [
       "Epoch 6:   0%|          | 0/196 [00:00<?, ?it/s]"
      ]
     },
     "metadata": {},
     "output_type": "display_data"
    },
    {
     "name": "stdout",
     "output_type": "stream",
     "text": [
      "Epoch: 6, Train Loss: 0.3025192328709729, Test Loss: 0.6659148469567299, Train Acc: 0.93114, Test Acc: 0.8008\n"
     ]
    },
    {
     "data": {
      "application/vnd.jupyter.widget-view+json": {
       "model_id": "2bc89dc3485948758f3c38dde9145105",
       "version_major": 2,
       "version_minor": 0
      },
      "text/plain": [
       "Epoch 7:   0%|          | 0/196 [00:00<?, ?it/s]"
      ]
     },
     "metadata": {},
     "output_type": "display_data"
    },
    {
     "name": "stdout",
     "output_type": "stream",
     "text": [
      "Epoch: 7, Train Loss: 0.3999653691235854, Test Loss: 0.7317942917346955, Train Acc: 0.90612, Test Acc: 0.7852\n"
     ]
    },
    {
     "data": {
      "application/vnd.jupyter.widget-view+json": {
       "model_id": "ced42a2f571e478cbf02e3509cb7fcf4",
       "version_major": 2,
       "version_minor": 0
      },
      "text/plain": [
       "Epoch 8:   0%|          | 0/196 [00:00<?, ?it/s]"
      ]
     },
     "metadata": {},
     "output_type": "display_data"
    },
    {
     "name": "stdout",
     "output_type": "stream",
     "text": [
      "Epoch: 8, Train Loss: 0.5043625086545944, Test Loss: 0.8003457069396973, Train Acc: 0.87284, Test Acc: 0.7685\n"
     ]
    },
    {
     "data": {
      "application/vnd.jupyter.widget-view+json": {
       "model_id": "ee9dd6f582344e24ad30074483fd9b71",
       "version_major": 2,
       "version_minor": 0
      },
      "text/plain": [
       "Epoch 9:   0%|          | 0/196 [00:00<?, ?it/s]"
      ]
     },
     "metadata": {},
     "output_type": "display_data"
    },
    {
     "name": "stdout",
     "output_type": "stream",
     "text": [
      "Epoch: 9, Train Loss: 0.4767406116030654, Test Loss: 0.7688162192702294, Train Acc: 0.89396, Test Acc: 0.7856\n"
     ]
    },
    {
     "data": {
      "image/png": "[encoded data removed]",
      "text/plain": [
       "<Figure size 640x480 with 1 Axes>"
      ]
     },
     "metadata": {},
     "output_type": "display_data"
    },
    {
     "data": {
      "image/png": "[encoded data removed]",
      "text/plain": [
       "<Figure size 640x480 with 1 Axes>"
      ]
     },
     "metadata": {},
     "output_type": "display_data"
    }
   ],
   "source": [
    "from tqdm.notebook import trange, tqdm\n",
    "\n",
    "model = torchvision.models.resnet18(pretrained=True)\n",
    "model.fc = nn.Linear(model.fc.in_features, 10)\n",
    "model = model.to(device)\n",
    "\n",
    "def finetune(model, trainloader, testloader, lr=0.01, momentum=0.9, epochs=10, epsilon=1e-4, weight_decay=0.):\n",
    "    opt = optim.SGD(model.parameters(), lr=lr, momentum=momentum, weight_decay=weight_decay)\n",
    "    loss_fn = nn.CrossEntropyLoss()\n",
    "    \n",
    "    train_loss_history = []\n",
    "    test_loss_history = []\n",
    "    train_acc_history = []\n",
    "    test_acc_history = []\n",
    "    \n",
    "    epoch = 0\n",
    "    prev_train_loss = float('inf')\n",
    "    \n",
    "    while True:\n",
    "        # Train\n",
    "        model.train()\n",
    "        epoch_loss = 0.0\n",
    "        for x, y in tqdm(trainloader, desc=f\"Epoch {epoch}\", leave=False):\n",
    "            x, y = x.to(device), y.to(device)\n",
    "            opt.zero_grad()\n",
    "            loss = loss_fn(model(x), y)\n",
    "            loss.backward()\n",
    "            opt.step()\n",
    "            epoch_loss += loss.item()\n",
    "        \n",
    "        # Eval on training set\n",
    "        model.eval()\n",
    "        with torch.no_grad():\n",
    "            total_train_loss = 0\n",
    "            total_train_correct = 0\n",
    "\n",
    "            for x, y in trainloader:\n",
    "                x, y = x.to(device), y.to(device)\n",
    "                output = model(x)\n",
    "\n",
    "                # print(x.shape, y.shape, output.shape, output, y)\n",
    "                loss = loss_fn(output, y)\n",
    "                total_train_loss += loss.item()\n",
    "                total_train_correct += (output.max(dim=1).indices == y).sum().item() # argmax doesn't work on MPS\n",
    "\n",
    "            avg_train_loss = total_train_loss / len(trainloader)\n",
    "            avg_train_acc = total_train_correct / len(trainset)\n",
    "            train_loss_history.append(avg_train_loss)\n",
    "            train_acc_history.append(avg_train_acc)\n",
    "            \n",
    "            # Eval on test set\n",
    "            total_test_loss = 0\n",
    "            total_test_correct = 0\n",
    "\n",
    "            for x, y in testloader:\n",
    "                x, y = x.to(device), y.to(device)\n",
    "                output = model(x)\n",
    "                loss = loss_fn(output, y)\n",
    "                total_test_loss += loss.item()\n",
    "                total_test_correct += (output.max(dim=1).indices == y).sum().item()\n",
    "            \n",
    "            avg_test_loss = total_test_loss / len(testloader)\n",
    "            avg_test_acc = total_test_correct / len(testset)\n",
    "            test_loss_history.append(avg_test_loss)\n",
    "            test_acc_history.append(avg_test_acc)\n",
    "        \n",
    "            print(f\"Epoch: {epoch}, Train Loss: {avg_train_loss}, Test Loss: {avg_test_loss}, Train Acc: {avg_train_acc}, Test Acc: {avg_test_acc}\")\n",
    "        \n",
    "        # Check for convergence\n",
    "        if epsilon and abs(prev_train_loss - avg_train_loss) < epsilon:\n",
    "            break\n",
    "        \n",
    "        if epochs is not None and epoch >= epochs - 1:\n",
    "            break\n",
    "        \n",
    "        prev_train_loss = avg_train_loss\n",
    "        epoch += 1\n",
    "    \n",
    "    # Plotting\n",
    "    plt.plot(train_loss_history, label='Train Loss')\n",
    "    plt.plot(test_loss_history, label='Test Loss')\n",
    "    plt.xlabel('Epoch')\n",
    "    plt.ylabel('Loss')\n",
    "    plt.yscale('log')\n",
    "    plt.legend()\n",
    "    plt.show()\n",
    "\n",
    "    plt.plot(train_acc_history, label='Train Acc')\n",
    "    plt.plot(test_acc_history, label='Test Acc')\n",
    "    plt.xlabel('Epoch')\n",
    "    plt.ylabel('Accuracy')\n",
    "    plt.legend()\n",
    "    plt.show()\n",
    "\n",
    "finetune(model, trainloader, testloader, lr=0.001, weight_decay=0.1, epsilon=0.001)"
   ]
  },
  {
   "cell_type": "code",
   "execution_count": 4,
   "metadata": {},
   "outputs": [
    {
     "name": "stderr",
     "output_type": "stream",
     "text": [
      "Chain 0: 100%|██████████| 10/10 [02:13<00:00, 13.33s/it]\n",
      "Chain 1: 100%|██████████| 10/10 [02:15<00:00, 13.53s/it]\n",
      "Chain 2: 100%|██████████| 10/10 [02:15<00:00, 13.59s/it]\n",
      "Chain 3: 100%|██████████| 10/10 [02:14<00:00, 13.47s/it]\n",
      "Chain 4: 100%|██████████| 10/10 [01:16<00:00,  7.65s/it]\n"
     ]
    },
    {
     "name": "stdout",
     "output_type": "stream",
     "text": [
      "Estimate 0: 168.9925465558584\n"
     ]
    },
    {
     "name": "stderr",
     "output_type": "stream",
     "text": [
      "Chain 0: 100%|██████████| 10/10 [02:09<00:00, 12.92s/it]\n",
      "Chain 1: 100%|██████████| 10/10 [02:11<00:00, 13.11s/it]\n",
      "Chain 2: 100%|██████████| 10/10 [02:10<00:00, 13.07s/it]\n",
      "Chain 3: 100%|██████████| 10/10 [02:10<00:00, 13.01s/it]\n",
      "Chain 4: 100%|██████████| 10/10 [01:13<00:00,  7.38s/it]\n"
     ]
    },
    {
     "name": "stdout",
     "output_type": "stream",
     "text": [
      "Estimate 1: -128.23227039434528\n"
     ]
    },
    {
     "name": "stderr",
     "output_type": "stream",
     "text": [
      "Chain 0: 100%|██████████| 10/10 [02:07<00:00, 12.78s/it]\n",
      "Chain 1: 100%|██████████| 10/10 [02:09<00:00, 12.94s/it]\n",
      "Chain 2: 100%|██████████| 10/10 [02:10<00:00, 13.07s/it]\n",
      "Chain 3: 100%|██████████| 10/10 [02:09<00:00, 12.96s/it]\n",
      "Chain 4: 100%|██████████| 10/10 [01:12<00:00,  7.20s/it]\n"
     ]
    },
    {
     "name": "stdout",
     "output_type": "stream",
     "text": [
      "Estimate 2: -149.63625766715893\n"
     ]
    },
    {
     "name": "stderr",
     "output_type": "stream",
     "text": [
      "Chain 0: 100%|██████████| 10/10 [02:09<00:00, 12.93s/it]\n",
      "Chain 1: 100%|██████████| 10/10 [02:10<00:00, 13.10s/it]\n",
      "Chain 2: 100%|██████████| 10/10 [02:09<00:00, 13.00s/it]\n",
      "Chain 3: 100%|██████████| 10/10 [02:09<00:00, 12.93s/it]\n",
      "Chain 4: 100%|██████████| 10/10 [01:12<00:00,  7.25s/it]\n"
     ]
    },
    {
     "name": "stdout",
     "output_type": "stream",
     "text": [
      "Estimate 3: -134.72011001113017\n"
     ]
    },
    {
     "name": "stderr",
     "output_type": "stream",
     "text": [
      "Chain 0: 100%|██████████| 10/10 [02:08<00:00, 12.81s/it]\n",
      "Chain 1: 100%|██████████| 10/10 [02:11<00:00, 13.11s/it]\n",
      "Chain 2: 100%|██████████| 10/10 [02:11<00:00, 13.16s/it]\n",
      "Chain 3: 100%|██████████| 10/10 [02:08<00:00, 12.84s/it]\n",
      "Chain 4: 100%|██████████| 10/10 [01:15<00:00,  7.54s/it]\n"
     ]
    },
    {
     "name": "stdout",
     "output_type": "stream",
     "text": [
      "Estimate 4: -86.63054339836026\n"
     ]
    },
    {
     "name": "stderr",
     "output_type": "stream",
     "text": [
      "Chain 0: 100%|██████████| 10/10 [02:08<00:00, 12.84s/it]\n",
      "Chain 1: 100%|██████████| 10/10 [02:10<00:00, 13.02s/it]\n",
      "Chain 2: 100%|██████████| 10/10 [02:10<00:00, 13.03s/it]\n",
      "Chain 3: 100%|██████████| 10/10 [02:09<00:00, 13.00s/it]\n",
      "Chain 4: 100%|██████████| 10/10 [01:11<00:00,  7.19s/it]\n"
     ]
    },
    {
     "name": "stdout",
     "output_type": "stream",
     "text": [
      "Estimate 5: -174.31443593456046\n"
     ]
    },
    {
     "name": "stderr",
     "output_type": "stream",
     "text": [
      "Chain 0: 100%|██████████| 10/10 [02:06<00:00, 12.65s/it]\n",
      "Chain 1: 100%|██████████| 10/10 [02:08<00:00, 12.89s/it]\n",
      "Chain 2: 100%|██████████| 10/10 [02:09<00:00, 12.92s/it]\n",
      "Chain 3: 100%|██████████| 10/10 [02:08<00:00, 12.88s/it]\n",
      "Chain 4: 100%|██████████| 10/10 [01:15<00:00,  7.52s/it]\n"
     ]
    },
    {
     "name": "stdout",
     "output_type": "stream",
     "text": [
      "Estimate 6: 90.19326094017036\n"
     ]
    },
    {
     "name": "stderr",
     "output_type": "stream",
     "text": [
      "Chain 0: 100%|██████████| 10/10 [02:08<00:00, 12.80s/it]\n",
      "Chain 1: 100%|██████████| 10/10 [02:11<00:00, 13.16s/it]\n",
      "Chain 2: 100%|██████████| 10/10 [02:10<00:00, 13.04s/it]\n",
      "Chain 3: 100%|██████████| 10/10 [02:09<00:00, 13.00s/it]\n",
      "Chain 4: 100%|██████████| 10/10 [01:17<00:00,  7.70s/it]\n"
     ]
    },
    {
     "name": "stdout",
     "output_type": "stream",
     "text": [
      "Estimate 7: 175.768637276861\n"
     ]
    },
    {
     "name": "stderr",
     "output_type": "stream",
     "text": [
      "Chain 0: 100%|██████████| 10/10 [02:11<00:00, 13.12s/it]\n",
      "Chain 1: 100%|██████████| 10/10 [02:13<00:00, 13.31s/it]\n",
      "Chain 2: 100%|██████████| 10/10 [02:11<00:00, 13.20s/it]\n",
      "Chain 3: 100%|██████████| 10/10 [02:11<00:00, 13.13s/it]\n",
      "Chain 4: 100%|██████████| 10/10 [01:15<00:00,  7.56s/it]\n"
     ]
    },
    {
     "name": "stdout",
     "output_type": "stream",
     "text": [
      "Estimate 8: -185.3341943931179\n"
     ]
    },
    {
     "name": "stderr",
     "output_type": "stream",
     "text": [
      "Chain 0: 100%|██████████| 10/10 [02:06<00:00, 12.63s/it]\n",
      "Chain 1: 100%|██████████| 10/10 [02:08<00:00, 12.83s/it]\n",
      "Chain 2: 100%|██████████| 10/10 [02:08<00:00, 12.88s/it]\n",
      "Chain 3: 100%|██████████| 10/10 [02:06<00:00, 12.61s/it]\n",
      "Chain 4: 100%|██████████| 10/10 [01:13<00:00,  7.36s/it]\n"
     ]
    },
    {
     "name": "stdout",
     "output_type": "stream",
     "text": [
      "Estimate 9: -4.93717813430555\n"
     ]
    }
   ],
   "source": [
    "for i in range(10):\n",
    "    rlct = estimate_rlct(model, trainloader, nn.CrossEntropyLoss(), num_draws=10, num_chains=5, num_burnin_steps=0, num_steps_bw_draws=1, cores=None, seed=None, pbar=True,  device='cpu')\n",
    "    print(f\"Estimate {i}:\", rlct)"
   ]
  },
  {
   "cell_type": "code",
   "execution_count": 15,
   "metadata": {},
   "outputs": [
    {
     "name": "stdout",
     "output_type": "stream",
     "text": [
      "-------------------- ResNet18 --------------------\n"
     ]
    },
    {
     "data": {
      "application/vnd.jupyter.widget-view+json": {
       "model_id": "0eafa71b993d495989efc66dd8d61cfb",
       "version_major": 2,
       "version_minor": 0
      },
      "text/plain": [
       "Epoch 0:   0%|          | 0/196 [00:00<?, ?it/s]"
      ]
     },
     "metadata": {},
     "output_type": "display_data"
    },
    {
     "name": "stdout",
     "output_type": "stream",
     "text": [
      "Epoch: 0, Train Loss: 0.6449124283936559, Test Loss: 0.7559548437595367, Train Acc: 0.77768, Test Acc: 0.7437\n"
     ]
    },
    {
     "data": {
      "application/vnd.jupyter.widget-view+json": {
       "model_id": "7d1cb89a796a4e04a68a7b28a5617d98",
       "version_major": 2,
       "version_minor": 0
      },
      "text/plain": [
       "Epoch 1:   0%|          | 0/196 [00:00<?, ?it/s]"
      ]
     },
     "metadata": {},
     "output_type": "display_data"
    },
    {
     "name": "stdout",
     "output_type": "stream",
     "text": [
      "Epoch: 1, Train Loss: 0.4031578442271875, Test Loss: 0.6182190537452698, Train Acc: 0.86786, Test Acc: 0.7925\n"
     ]
    },
    {
     "data": {
      "application/vnd.jupyter.widget-view+json": {
       "model_id": "6956c6d0ac1d4be1969991e39c064aad",
       "version_major": 2,
       "version_minor": 0
      },
      "text/plain": [
       "Epoch 2:   0%|          | 0/196 [00:00<?, ?it/s]"
      ]
     },
     "metadata": {},
     "output_type": "display_data"
    },
    {
     "name": "stdout",
     "output_type": "stream",
     "text": [
      "Epoch: 2, Train Loss: 0.3279452522342302, Test Loss: 0.6600558072328567, Train Acc: 0.88614, Test Acc: 0.7881\n"
     ]
    },
    {
     "data": {
      "application/vnd.jupyter.widget-view+json": {
       "model_id": "be861c62e12f4802933648b3fad1c76d",
       "version_major": 2,
       "version_minor": 0
      },
      "text/plain": [
       "Epoch 3:   0%|          | 0/196 [00:00<?, ?it/s]"
      ]
     },
     "metadata": {},
     "output_type": "display_data"
    },
    {
     "name": "stdout",
     "output_type": "stream",
     "text": [
      "Epoch: 3, Train Loss: 0.2007149958184787, Test Loss: 0.6325093723833561, Train Acc: 0.93584, Test Acc: 0.809\n"
     ]
    },
    {
     "data": {
      "application/vnd.jupyter.widget-view+json": {
       "model_id": "3b1a611e07ac4ad6a31baa57b7a55471",
       "version_major": 2,
       "version_minor": 0
      },
      "text/plain": [
       "Epoch 4:   0%|          | 0/196 [00:00<?, ?it/s]"
      ]
     },
     "metadata": {},
     "output_type": "display_data"
    },
    {
     "name": "stdout",
     "output_type": "stream",
     "text": [
      "Epoch: 4, Train Loss: 0.17263439537159034, Test Loss: 0.7287720218300819, Train Acc: 0.94178, Test Acc: 0.8012\n"
     ]
    },
    {
     "data": {
      "application/vnd.jupyter.widget-view+json": {
       "model_id": "83424e3e14824e30a1d471a929a1a65a",
       "version_major": 2,
       "version_minor": 0
      },
      "text/plain": [
       "Epoch 5:   0%|          | 0/196 [00:00<?, ?it/s]"
      ]
     },
     "metadata": {},
     "output_type": "display_data"
    },
    {
     "name": "stdout",
     "output_type": "stream",
     "text": [
      "Epoch: 5, Train Loss: 0.10977984845106091, Test Loss: 0.7102049320936203, Train Acc: 0.96424, Test Acc: 0.8082\n"
     ]
    },
    {
     "data": {
      "application/vnd.jupyter.widget-view+json": {
       "model_id": "6bc9281d68414f06ad98aa739e53cc0b",
       "version_major": 2,
       "version_minor": 0
      },
      "text/plain": [
       "Epoch 6:   0%|          | 0/196 [00:00<?, ?it/s]"
      ]
     },
     "metadata": {},
     "output_type": "display_data"
    },
    {
     "name": "stdout",
     "output_type": "stream",
     "text": [
      "Epoch: 6, Train Loss: 0.11857757614735438, Test Loss: 0.8230372041463851, Train Acc: 0.95912, Test Acc: 0.7984\n"
     ]
    },
    {
     "data": {
      "application/vnd.jupyter.widget-view+json": {
       "model_id": "e0e6c09c6f37476b9478145e7c14c970",
       "version_major": 2,
       "version_minor": 0
      },
      "text/plain": [
       "Epoch 7:   0%|          | 0/196 [00:00<?, ?it/s]"
      ]
     },
     "metadata": {},
     "output_type": "display_data"
    },
    {
     "name": "stdout",
     "output_type": "stream",
     "text": [
      "Epoch: 7, Train Loss: 0.0814385289060218, Test Loss: 0.8667522475123406, Train Acc: 0.97246, Test Acc: 0.804\n"
     ]
    },
    {
     "data": {
      "application/vnd.jupyter.widget-view+json": {
       "model_id": "cf4a223e281249af992eba2619fa50a2",
       "version_major": 2,
       "version_minor": 0
      },
      "text/plain": [
       "Epoch 8:   0%|          | 0/196 [00:00<?, ?it/s]"
      ]
     },
     "metadata": {},
     "output_type": "display_data"
    },
    {
     "name": "stdout",
     "output_type": "stream",
     "text": [
      "Epoch: 8, Train Loss: 0.07100221375003457, Test Loss: 0.8322690680623055, Train Acc: 0.97646, Test Acc: 0.806\n"
     ]
    },
    {
     "data": {
      "application/vnd.jupyter.widget-view+json": {
       "model_id": "016d71a5f21e473fa2eb3356db0f4e84",
       "version_major": 2,
       "version_minor": 0
      },
      "text/plain": [
       "Epoch 9:   0%|          | 0/196 [00:00<?, ?it/s]"
      ]
     },
     "metadata": {},
     "output_type": "display_data"
    },
    {
     "name": "stdout",
     "output_type": "stream",
     "text": [
      "Epoch: 9, Train Loss: 0.07805242602314268, Test Loss: 0.890138940513134, Train Acc: 0.9735, Test Acc: 0.8007\n"
     ]
    },
    {
     "data": {
      "image/png": "[encoded data removed]",
      "text/plain": [
       "<Figure size 640x480 with 1 Axes>"
      ]
     },
     "metadata": {},
     "output_type": "display_data"
    },
    {
     "data": {
      "image/png": "[encoded data removed]",
      "text/plain": [
       "<Figure size 640x480 with 1 Axes>"
      ]
     },
     "metadata": {},
     "output_type": "display_data"
    },
    {
     "name": "stderr",
     "output_type": "stream",
     "text": [
      "Chain 0: 100%|██████████| 100/100 [19:53<00:00, 11.93s/it]\n",
      "Chain 1: 100%|██████████| 100/100 [19:56<00:00, 11.96s/it]\n",
      "Chain 2: 100%|██████████| 100/100 [19:56<00:00, 11.96s/it]\n"
     ]
    },
    {
     "name": "stdout",
     "output_type": "stream",
     "text": [
      "156.9145085296802\n"
     ]
    },
    {
     "name": "stderr",
     "output_type": "stream",
     "text": [
      "Chain 0: 100%|██████████| 100/100 [20:33<00:00, 12.33s/it]\n",
      "Chain 1: 100%|██████████| 100/100 [20:29<00:00, 12.29s/it]\n",
      "Chain 2: 100%|██████████| 100/100 [20:33<00:00, 12.33s/it]\n"
     ]
    },
    {
     "name": "stdout",
     "output_type": "stream",
     "text": [
      "25.892749934175924\n"
     ]
    },
    {
     "name": "stderr",
     "output_type": "stream",
     "text": [
      "Chain 0: 100%|██████████| 100/100 [24:37<00:00, 14.77s/it]\n",
      "Chain 1: 100%|██████████| 100/100 [24:45<00:00, 14.85s/it]\n",
      "Chain 2: 100%|██████████| 100/100 [24:44<00:00, 14.85s/it]\n"
     ]
    },
    {
     "name": "stdout",
     "output_type": "stream",
     "text": [
      "-36.41833667218514\n",
      "-------------------- ResNet34 --------------------\n"
     ]
    },
    {
     "name": "stderr",
     "output_type": "stream",
     "text": [
      "/home/paperspace/devinterp/.venv/lib/python3.9/site-packages/torchvision/models/_utils.py:208: UserWarning: The parameter 'pretrained' is deprecated since 0.13 and may be removed in the future, please use 'weights' instead.\n",
      "  warnings.warn(\n",
      "/home/paperspace/devinterp/.venv/lib/python3.9/site-packages/torchvision/models/_utils.py:223: UserWarning: Arguments other than a weight enum or `None` for 'weights' are deprecated since 0.13 and may be removed in the future. The current behavior is equivalent to passing `weights=ResNet34_Weights.IMAGENET1K_V1`. You can also use `weights=ResNet34_Weights.DEFAULT` to get the most up-to-date weights.\n",
      "  warnings.warn(msg)\n",
      "Downloading: \"https://download.pytorch.org/models/resnet34-b627a593.pth\" to /home/paperspace/.cache/torch/hub/checkpoints/resnet34-b627a593.pth\n",
      "100%|██████████| 83.3M/83.3M [00:01<00:00, 65.3MB/s]\n"
     ]
    },
    {
     "data": {
      "application/vnd.jupyter.widget-view+json": {
       "model_id": "9bd00f09f0fd4544968ee0c950388315",
       "version_major": 2,
       "version_minor": 0
      },
      "text/plain": [
       "Epoch 0:   0%|          | 0/196 [00:00<?, ?it/s]"
      ]
     },
     "metadata": {},
     "output_type": "display_data"
    },
    {
     "name": "stdout",
     "output_type": "stream",
     "text": [
      "Epoch: 0, Train Loss: 0.5923463446753365, Test Loss: 0.69865732640028, Train Acc: 0.7974, Test Acc: 0.7555\n"
     ]
    },
    {
     "data": {
      "application/vnd.jupyter.widget-view+json": {
       "model_id": "e2267a6852eb48e59e72972c1850c1b8",
       "version_major": 2,
       "version_minor": 0
      },
      "text/plain": [
       "Epoch 1:   0%|          | 0/196 [00:00<?, ?it/s]"
      ]
     },
     "metadata": {},
     "output_type": "display_data"
    },
    {
     "name": "stdout",
     "output_type": "stream",
     "text": [
      "Epoch: 1, Train Loss: 0.3793479237629443, Test Loss: 0.5900914400815964, Train Acc: 0.87462, Test Acc: 0.7975\n"
     ]
    },
    {
     "data": {
      "application/vnd.jupyter.widget-view+json": {
       "model_id": "39ebaa8541df47dab941bbc81c8d7ef7",
       "version_major": 2,
       "version_minor": 0
      },
      "text/plain": [
       "Epoch 2:   0%|          | 0/196 [00:00<?, ?it/s]"
      ]
     },
     "metadata": {},
     "output_type": "display_data"
    },
    {
     "name": "stdout",
     "output_type": "stream",
     "text": [
      "Epoch: 2, Train Loss: 0.2862974471431606, Test Loss: 0.6101823449134827, Train Acc: 0.90464, Test Acc: 0.7982\n"
     ]
    },
    {
     "data": {
      "application/vnd.jupyter.widget-view+json": {
       "model_id": "53c89ebaf45d454ba9460661b2bd95b3",
       "version_major": 2,
       "version_minor": 0
      },
      "text/plain": [
       "Epoch 3:   0%|          | 0/196 [00:00<?, ?it/s]"
      ]
     },
     "metadata": {},
     "output_type": "display_data"
    },
    {
     "name": "stdout",
     "output_type": "stream",
     "text": [
      "Epoch: 3, Train Loss: 0.18697238816138434, Test Loss: 0.6153422854840755, Train Acc: 0.93738, Test Acc: 0.8108\n"
     ]
    },
    {
     "data": {
      "application/vnd.jupyter.widget-view+json": {
       "model_id": "5f133855337c4eb28b379ac10f659a93",
       "version_major": 2,
       "version_minor": 0
      },
      "text/plain": [
       "Epoch 4:   0%|          | 0/196 [00:00<?, ?it/s]"
      ]
     },
     "metadata": {},
     "output_type": "display_data"
    },
    {
     "name": "stdout",
     "output_type": "stream",
     "text": [
      "Epoch: 4, Train Loss: 0.14856609846560323, Test Loss: 0.6892005704343319, Train Acc: 0.95036, Test Acc: 0.8031\n"
     ]
    },
    {
     "data": {
      "application/vnd.jupyter.widget-view+json": {
       "model_id": "67f348fe97e5408a99a4a36b322311bd",
       "version_major": 2,
       "version_minor": 0
      },
      "text/plain": [
       "Epoch 5:   0%|          | 0/196 [00:00<?, ?it/s]"
      ]
     },
     "metadata": {},
     "output_type": "display_data"
    }
   ],
   "source": [
    "import os\n",
    "\n",
    "rlcts = []\n",
    "resnet_depths = [18, 34, 50, 101, 152]\n",
    "\n",
    "for num_layers in resnet_depths:\n",
    "    print(\"-\" * 20 + f\" ResNet{num_layers} \" + \"-\" * 20)\n",
    "    model_name = f\"resnet{num_layers}\"\n",
    "    model = getattr(torchvision.models, model_name)(pretrained=True).to(device)\n",
    "    checkpoint_folder = f\"../checkpoints/resnet-finetuned-cifar/\"\n",
    "    checkpoint_full_path = checkpoint_folder + f\"{model_name}.pt\"\n",
    "    \n",
    "    if os.path.exists(checkpoint_full_path):\n",
    "        print(\"Loading from checkpoint\")\n",
    "        model.load_state_dict(torch.load(checkpoint_full_path))\n",
    "    else:\n",
    "        finetune(model, trainloader=trainloader, testloader=testloader)\n",
    "        if not os.path.exists(checkpoint_folder):\n",
    "            os.makedirs(checkpoint_folder)\n",
    "        torch.save(model.state_dict(), checkpoint_full_path)\n",
    "\n",
    "    _rlcts = []\n",
    "\n",
    "    for i in range(3):\n",
    "        _rlct = estimate_rlct(model, trainloader, nn.CrossEntropyLoss(), sampling_method=SGLD, num_draws=100, num_chains=3, num_burnin_steps=0, num_steps_bw_draws=1, optimizer_kwargs={\"elasticity\": 100}, cores=None, seed=None, pbar=True,  device='cpu')\n",
    "        _rlcts.append(_rlct)\n",
    "        print(_rlct)\n",
    "\n",
    "    rlcts.append(_rlcts)\n"
   ]
  },
  {
   "cell_type": "code",
   "execution_count": null,
   "metadata": {},
   "outputs": [
    {
     "data": {
      "image/png": "[encoded data removed]",
      "text/plain": [
       "<Figure size 1000x600 with 1 Axes>"
      ]
     },
     "metadata": {},
     "output_type": "display_data"
    },
    {
     "ename": "",
     "evalue": "",
     "output_type": "error",
     "traceback": [
      "\u001b[1;31mThe Kernel crashed while executing code in the the current cell or a previous cell. Please review the code in the cell(s) to identify a possible cause of the failure. Click <a href='https://aka.ms/vscodeJupyterKernelCrash'>here</a> for more info. View Jupyter <a href='command:jupyter.viewOutput'>log</a> for further details."
     ]
    }
   ],
   "source": [
    "import matplotlib.pyplot as plt\n",
    "import numpy as np\n",
    "import seaborn as sns\n",
    "\n",
    "sns.set()\n",
    "\n",
    "blue = sns.color_palette()[0]\n",
    "\n",
    "resnet_depths = [18, 34, 50, 101]\n",
    "\n",
    "# Names for the different ResNet architectures\n",
    "arch_names = [\"ResNet18\", \"ResNet34\", \"ResNet50\", \"ResNet101\"] #, \"ResNet152\"]\n",
    "\n",
    "# Calculate means and standard deviations\n",
    "means = [np.mean(_rlcts) for _rlcts in rlcts]\n",
    "stds = [np.std(_rlcts) for _rlcts in rlcts]\n",
    "\n",
    "# Calculate error bounds\n",
    "lower_bounds = [mean - std for mean, std in zip(means, stds)]\n",
    "upper_bounds = [mean + std for mean, std in zip(means, stds)]\n",
    "\n",
    "# Create the plot\n",
    "plt.figure(figsize=(10, 6))\n",
    "\n",
    "# Plot the scatter points for the means\n",
    "plt.scatter(resnet_depths, means, color=blue, label=r'Mean $\\hat\\lambda$', zorder=2)\n",
    "\n",
    "# Plot the transparent area chart for the error bars\n",
    "plt.fill_between(resnet_depths, lower_bounds, upper_bounds, color=blue, alpha=0.3, label=r'Std $\\hat\\lambda$')\n",
    "\n",
    "# Annotate and style the plot\n",
    "plt.xlabel('Depth')\n",
    "plt.ylabel(r'$\\hat\\lambda$')\n",
    "plt.xticks(resnet_depths, arch_names)\n",
    "plt.grid(True, linestyle='--', linewidth=0.5)\n",
    "plt.legend()\n",
    "\n",
    "# Show the plot\n",
    "plt.show()\n"
   ]
  },
  {
   "cell_type": "code",
   "execution_count": null,
   "metadata": {},
   "outputs": [],
   "source": []
  }
 ],
 "metadata": {
  "kernelspec": {
   "display_name": ".venv",
   "language": "python",
   "name": "python3"
  },
  "language_info": {
   "codemirror_mode": {
    "name": "ipython",
    "version": 3
   },
   "file_extension": ".py",
   "mimetype": "text/x-python",
   "name": "python",
   "nbconvert_exporter": "python",
   "pygments_lexer": "ipython3",
   "version": "3.9.15"
  },
  "orig_nbformat": 4
 },
 "nbformat": 4,
 "nbformat_minor": 2
}
