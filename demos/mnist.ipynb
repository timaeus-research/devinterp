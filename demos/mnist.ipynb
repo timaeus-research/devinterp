{
 "cells": [
  {
   "cell_type": "markdown",
   "metadata": {},
   "source": [
    "# RLCT Estimation of MNIST\n",
    "\n",
    "This Jupyter Notebook aims to reproduce the results of Lau et al. (2023) by measuring the Real Log Canonical Threshold (RLCT) for a small 2-layer ReLU model (about 1M parameters) trained on the MNIST dataset. It uses both Stochastic Gradient Nose-Hoover Thermostat (SGNHT) and Stochastic Gradient Langevin Dynamics (SGLD) as sampling methods.\n",
    "\n",
    "## Main Steps:\n",
    "\n",
    "1. **Data Preparation**: Load the MNIST dataset for training and testing.\n",
    "2. **Model Training**: Train a multi-layer perceptron model using stochastic gradient descent.\n",
    "3. **Model Evaluation**: Evaluate the model's performance on a test set.\n",
    "4. **RLCT Estimation**: Use SGNHT and SGLD samplers to estimate RLCT.\n",
    "5. **Plotting**: Visualize train and test losses, and RLCT estimates."
   ]
  },
  {
   "cell_type": "code",
   "execution_count": null,
   "metadata": {},
   "outputs": [],
   "source": [
    "!pip install devinterp pydantic seaborn wandb tqdm"
   ]
  },
  {
   "cell_type": "code",
   "execution_count": 1,
   "metadata": {},
   "outputs": [],
   "source": [
    "import copy\n",
    "import matplotlib.pyplot as plt\n",
    "import sys\n",
    "\n",
    "import seaborn as sns\n",
    "import torch\n",
    "import torch.nn as nn\n",
    "import torch.nn.functional as F\n",
    "import torch.optim as optim\n",
    "from torchvision import datasets, transforms\n",
    "from torch.utils.data import DataLoader\n",
    "from tqdm import tqdm\n",
    "\n",
    "sys.path.insert(1, \"/home/paperspace/devinterp\")  # TODO fix path\n",
    "\n",
    "from devinterp.optim.sgld import SGLD\n",
    "from devinterp.optim.sgnht import SGNHT\n",
    "\n",
    "DEVICE = \"cuda\" if torch.cuda.is_available() else \"cpu\"\n",
    "\n",
    "PRIMARY, SECONDARY, TERTIARY = sns.color_palette(\"muted\")[:3]\n",
    "PRIMARY_LIGHT, SECONDARY_LIGHT, TERTIARY_LIGHT = sns.color_palette(\"pastel\")[:3]"
   ]
  },
  {
   "cell_type": "code",
   "execution_count": 2,
   "metadata": {},
   "outputs": [],
   "source": [
    "def train_one_epoch(model, train_loader, optimizer, criterion):\n",
    "    model.train()\n",
    "    train_loss = 0\n",
    "    for data, target in tqdm(train_loader):\n",
    "        optimizer.zero_grad()\n",
    "        output = model(data.to(DEVICE))\n",
    "        loss = criterion(output, target.to(DEVICE))\n",
    "        train_loss += loss.item()\n",
    "        loss.backward()\n",
    "        optimizer.step()\n",
    "    return train_loss / len(train_loader)\n",
    "\n",
    "\n",
    "def evaluate(model, test_loader, criterion):\n",
    "    model.eval()\n",
    "    test_loss = 0\n",
    "    with torch.no_grad():\n",
    "        for data, target in test_loader:\n",
    "            output = model(data.to(DEVICE))\n",
    "            loss = criterion(output, target.to(DEVICE))\n",
    "            test_loss += loss.item()\n",
    "    return test_loss / len(test_loader)\n",
    "\n",
    "\n",
    "# Define the neural network\n",
    "class Net(nn.Module):\n",
    "    def __init__(\n",
    "        self,\n",
    "        hidden_layer_sizes=[1024, 1024],\n",
    "        input_dim=28 * 28,\n",
    "        output_dim=10,\n",
    "        activation=F.relu,\n",
    "        with_bias=True,\n",
    "    ):\n",
    "        super(Net, self).__init__()\n",
    "        self.input_dim = input_dim\n",
    "        self.layer_sizes = [input_dim] + hidden_layer_sizes + [output_dim]\n",
    "        self.activation = activation\n",
    "        self.with_bias = with_bias\n",
    "        self.layers = nn.ModuleList()\n",
    "        for i in range(len(self.layer_sizes) - 1):\n",
    "            dim_in, dim_out = self.layer_sizes[i : i + 2]\n",
    "            self.layers.append(nn.Linear(dim_in, dim_out, bias=self.with_bias).float())\n",
    "\n",
    "    def forward(self, x):\n",
    "        x = x.view(-1, self.input_dim)\n",
    "        for layer in self.layers[:-1]:\n",
    "            x = self.activation(layer(x))\n",
    "        x = self.layers[-1](x)\n",
    "        return x"
   ]
  },
  {
   "cell_type": "code",
   "execution_count": 3,
   "metadata": {},
   "outputs": [
    {
     "name": "stdout",
     "output_type": "stream",
     "text": [
      "60000\n"
     ]
    }
   ],
   "source": [
    "DEVICE = \"cuda\"\n",
    "# Load MNIST data\n",
    "batch_size = 512\n",
    "train_data = datasets.MNIST(\n",
    "    \"./data\", train=True, transform=transforms.ToTensor(), download=True\n",
    ")\n",
    "train_loader = DataLoader(train_data, batch_size=batch_size, shuffle=True)\n",
    "print(len(train_data))\n",
    "# Load test data\n",
    "test_data = datasets.MNIST(\"./data\", train=False, transform=transforms.ToTensor())\n",
    "test_loader = DataLoader(test_data, batch_size=batch_size, shuffle=False)\n",
    "# Initialize model, loss, optimizer and sgld sampler\n",
    "model = Net().to(DEVICE)\n",
    "criterion = nn.CrossEntropyLoss()\n",
    "lr = 0.005\n",
    "optimizer = optim.SGD(model.parameters(), lr=lr, momentum=0.9, nesterov=True)\n",
    "n_epochs = 20"
   ]
  },
  {
   "cell_type": "code",
   "execution_count": 4,
   "metadata": {},
   "outputs": [
    {
     "name": "stderr",
     "output_type": "stream",
     "text": [
      "100%|██████████| 118/118 [00:09<00:00, 12.81it/s]\n"
     ]
    },
    {
     "name": "stdout",
     "output_type": "stream",
     "text": [
      "Epoch 1, Train Loss: 1.9797090564743947, Test Loss: 1.2593935072422027\n"
     ]
    },
    {
     "name": "stderr",
     "output_type": "stream",
     "text": [
      "100%|██████████| 118/118 [00:08<00:00, 13.44it/s]\n"
     ]
    },
    {
     "name": "stdout",
     "output_type": "stream",
     "text": [
      "Epoch 2, Train Loss: 0.7703131288290024, Test Loss: 0.5168933182954788\n"
     ]
    },
    {
     "name": "stderr",
     "output_type": "stream",
     "text": [
      "100%|██████████| 118/118 [00:08<00:00, 13.19it/s]\n"
     ]
    },
    {
     "name": "stdout",
     "output_type": "stream",
     "text": [
      "Epoch 3, Train Loss: 0.4590490036091562, Test Loss: 0.3942414440214634\n"
     ]
    },
    {
     "name": "stderr",
     "output_type": "stream",
     "text": [
      "100%|██████████| 118/118 [00:08<00:00, 13.39it/s]\n"
     ]
    },
    {
     "name": "stdout",
     "output_type": "stream",
     "text": [
      "Epoch 4, Train Loss: 0.3793781824031119, Test Loss: 0.34596002027392386\n"
     ]
    },
    {
     "name": "stderr",
     "output_type": "stream",
     "text": [
      "100%|██████████| 118/118 [00:08<00:00, 13.12it/s]\n"
     ]
    },
    {
     "name": "stdout",
     "output_type": "stream",
     "text": [
      "Epoch 5, Train Loss: 0.342110355526714, Test Loss: 0.31863952800631523\n"
     ]
    },
    {
     "name": "stderr",
     "output_type": "stream",
     "text": [
      "100%|██████████| 118/118 [00:08<00:00, 13.55it/s]\n"
     ]
    },
    {
     "name": "stdout",
     "output_type": "stream",
     "text": [
      "Epoch 6, Train Loss: 0.31745082821886417, Test Loss: 0.29936069548130034\n"
     ]
    },
    {
     "name": "stderr",
     "output_type": "stream",
     "text": [
      "100%|██████████| 118/118 [00:08<00:00, 13.35it/s]\n"
     ]
    },
    {
     "name": "stdout",
     "output_type": "stream",
     "text": [
      "Epoch 7, Train Loss: 0.2972498864440595, Test Loss: 0.2840582296252251\n"
     ]
    },
    {
     "name": "stderr",
     "output_type": "stream",
     "text": [
      "100%|██████████| 118/118 [00:08<00:00, 13.31it/s]\n"
     ]
    },
    {
     "name": "stdout",
     "output_type": "stream",
     "text": [
      "Epoch 8, Train Loss: 0.28204420878220415, Test Loss: 0.2711625199764967\n"
     ]
    },
    {
     "name": "stderr",
     "output_type": "stream",
     "text": [
      "100%|██████████| 118/118 [00:08<00:00, 13.38it/s]\n"
     ]
    },
    {
     "name": "stdout",
     "output_type": "stream",
     "text": [
      "Epoch 9, Train Loss: 0.2691761515403198, Test Loss: 0.2593308832496405\n"
     ]
    },
    {
     "name": "stderr",
     "output_type": "stream",
     "text": [
      "100%|██████████| 118/118 [00:08<00:00, 13.45it/s]\n"
     ]
    },
    {
     "name": "stdout",
     "output_type": "stream",
     "text": [
      "Epoch 10, Train Loss: 0.25547573469200374, Test Loss: 0.24785419628024102\n"
     ]
    },
    {
     "name": "stderr",
     "output_type": "stream",
     "text": [
      "100%|██████████| 118/118 [00:08<00:00, 13.25it/s]\n"
     ]
    },
    {
     "name": "stdout",
     "output_type": "stream",
     "text": [
      "Epoch 11, Train Loss: 0.24504778660454993, Test Loss: 0.23769749850034713\n"
     ]
    },
    {
     "name": "stderr",
     "output_type": "stream",
     "text": [
      "100%|██████████| 118/118 [00:08<00:00, 13.24it/s]\n"
     ]
    },
    {
     "name": "stdout",
     "output_type": "stream",
     "text": [
      "Epoch 12, Train Loss: 0.23440726657034988, Test Loss: 0.2287828240543604\n"
     ]
    },
    {
     "name": "stderr",
     "output_type": "stream",
     "text": [
      "100%|██████████| 118/118 [00:08<00:00, 13.53it/s]\n"
     ]
    },
    {
     "name": "stdout",
     "output_type": "stream",
     "text": [
      "Epoch 13, Train Loss: 0.2238590265229597, Test Loss: 0.2218688167631626\n"
     ]
    },
    {
     "name": "stderr",
     "output_type": "stream",
     "text": [
      "100%|██████████| 118/118 [00:08<00:00, 13.50it/s]\n"
     ]
    },
    {
     "name": "stdout",
     "output_type": "stream",
     "text": [
      "Epoch 14, Train Loss: 0.2156385608901412, Test Loss: 0.21289095804095268\n"
     ]
    },
    {
     "name": "stderr",
     "output_type": "stream",
     "text": [
      "100%|██████████| 118/118 [00:08<00:00, 13.36it/s]\n"
     ]
    },
    {
     "name": "stdout",
     "output_type": "stream",
     "text": [
      "Epoch 15, Train Loss: 0.20559073706804695, Test Loss: 0.2039803232997656\n"
     ]
    },
    {
     "name": "stderr",
     "output_type": "stream",
     "text": [
      "100%|██████████| 118/118 [00:08<00:00, 13.30it/s]\n"
     ]
    },
    {
     "name": "stdout",
     "output_type": "stream",
     "text": [
      "Epoch 16, Train Loss: 0.1976738164232949, Test Loss: 0.1970057487487793\n"
     ]
    },
    {
     "name": "stderr",
     "output_type": "stream",
     "text": [
      "100%|██████████| 118/118 [00:08<00:00, 13.30it/s]\n"
     ]
    },
    {
     "name": "stdout",
     "output_type": "stream",
     "text": [
      "Epoch 17, Train Loss: 0.19124657566011963, Test Loss: 0.19109472446143627\n"
     ]
    },
    {
     "name": "stderr",
     "output_type": "stream",
     "text": [
      "100%|██████████| 118/118 [00:08<00:00, 13.75it/s]\n"
     ]
    },
    {
     "name": "stdout",
     "output_type": "stream",
     "text": [
      "Epoch 18, Train Loss: 0.18286241357356814, Test Loss: 0.18343290351331235\n"
     ]
    },
    {
     "name": "stderr",
     "output_type": "stream",
     "text": [
      "100%|██████████| 118/118 [00:08<00:00, 13.27it/s]\n"
     ]
    },
    {
     "name": "stdout",
     "output_type": "stream",
     "text": [
      "Epoch 19, Train Loss: 0.17632739511081727, Test Loss: 0.17833250537514686\n"
     ]
    },
    {
     "name": "stderr",
     "output_type": "stream",
     "text": [
      "100%|██████████| 118/118 [00:08<00:00, 13.18it/s]\n"
     ]
    },
    {
     "name": "stdout",
     "output_type": "stream",
     "text": [
      "Epoch 20, Train Loss: 0.16939394245460881, Test Loss: 0.171290148422122\n"
     ]
    }
   ],
   "source": [
    "# train model\n",
    "train_losses = []\n",
    "test_losses = []\n",
    "rlct_estimates = []\n",
    "models = []\n",
    "for epoch in range(n_epochs):\n",
    "    train_loss = train_one_epoch(model, train_loader, optimizer, criterion)\n",
    "    test_loss = evaluate(model, test_loader, criterion)\n",
    "    train_losses.append(train_loss)\n",
    "    test_losses.append(test_loss)\n",
    "    # rlct_estimates.append(rlct_estimate)\n",
    "    models += [copy.deepcopy(model)]\n",
    "    print(f\"Epoch {epoch+1}, Train Loss: {train_loss}, Test Loss: {test_loss}\")"
   ]
  },
  {
   "cell_type": "code",
   "execution_count": 5,
   "metadata": {},
   "outputs": [
    {
     "name": "stderr",
     "output_type": "stream",
     "text": [
      "Chain 0:   0%|          | 0/400 [00:00<?, ?it/s]"
     ]
    },
    {
     "name": "stderr",
     "output_type": "stream",
     "text": [
      "Chain 0: 100%|██████████| 400/400 [00:11<00:00, 35.66it/s] \n",
      "Chain 0: 100%|██████████| 400/400 [00:11<00:00, 35.69it/s] \n"
     ]
    },
    {
     "name": "stdout",
     "output_type": "stream",
     "text": [
      "-3751.1507123738857 -3631.5400902342076\n"
     ]
    },
    {
     "name": "stderr",
     "output_type": "stream",
     "text": [
      "Chain 0: 100%|██████████| 400/400 [00:11<00:00, 35.07it/s] \n",
      "Chain 0: 100%|██████████| 400/400 [00:10<00:00, 36.93it/s] \n"
     ]
    },
    {
     "name": "stdout",
     "output_type": "stream",
     "text": [
      "-346.57450471218544 -394.1218129057804\n"
     ]
    },
    {
     "name": "stderr",
     "output_type": "stream",
     "text": [
      "Chain 0: 100%|██████████| 400/400 [00:10<00:00, 37.45it/s] \n",
      "Chain 0: 100%|██████████| 400/400 [00:10<00:00, 37.99it/s] \n"
     ]
    },
    {
     "name": "stdout",
     "output_type": "stream",
     "text": [
      "45.354720551051116 392.9662923820921\n"
     ]
    },
    {
     "name": "stderr",
     "output_type": "stream",
     "text": [
      "Chain 0: 100%|██████████| 400/400 [00:11<00:00, 35.07it/s] \n",
      "Chain 0: 100%|██████████| 400/400 [00:11<00:00, 35.82it/s] \n"
     ]
    },
    {
     "name": "stdout",
     "output_type": "stream",
     "text": [
      "17.243422015396373 379.1561167271905\n"
     ]
    },
    {
     "name": "stderr",
     "output_type": "stream",
     "text": [
      "Chain 0: 100%|██████████| 400/400 [00:11<00:00, 34.65it/s] \n",
      "Chain 0: 100%|██████████| 400/400 [00:10<00:00, 36.51it/s] \n"
     ]
    },
    {
     "name": "stdout",
     "output_type": "stream",
     "text": [
      "52.115434136514956 -262.0582604071222\n"
     ]
    },
    {
     "name": "stderr",
     "output_type": "stream",
     "text": [
      "Chain 0: 100%|██████████| 400/400 [00:11<00:00, 35.54it/s] \n",
      "Chain 0: 100%|██████████| 400/400 [00:11<00:00, 36.04it/s] \n"
     ]
    },
    {
     "name": "stdout",
     "output_type": "stream",
     "text": [
      "81.42651745060688 130.07862247684795\n"
     ]
    },
    {
     "name": "stderr",
     "output_type": "stream",
     "text": [
      "Chain 0: 100%|██████████| 400/400 [00:11<00:00, 34.93it/s] \n",
      "Chain 0: 100%|██████████| 400/400 [00:11<00:00, 36.28it/s] \n"
     ]
    },
    {
     "name": "stdout",
     "output_type": "stream",
     "text": [
      "478.05564034452414 -79.085668121085\n"
     ]
    },
    {
     "name": "stderr",
     "output_type": "stream",
     "text": [
      "Chain 0: 100%|██████████| 400/400 [00:11<00:00, 35.11it/s] \n",
      "Chain 0: 100%|██████████| 400/400 [00:10<00:00, 36.45it/s] \n"
     ]
    },
    {
     "name": "stdout",
     "output_type": "stream",
     "text": [
      "286.8169690918572 364.8548920638427\n"
     ]
    },
    {
     "name": "stderr",
     "output_type": "stream",
     "text": [
      "Chain 0: 100%|██████████| 400/400 [00:11<00:00, 35.53it/s] \n",
      "Chain 0: 100%|██████████| 400/400 [00:11<00:00, 36.25it/s] \n"
     ]
    },
    {
     "name": "stdout",
     "output_type": "stream",
     "text": [
      "215.44559150558814 142.26234153097323\n"
     ]
    },
    {
     "name": "stderr",
     "output_type": "stream",
     "text": [
      "Chain 0: 100%|██████████| 400/400 [00:11<00:00, 35.05it/s] \n",
      "Chain 0: 100%|██████████| 400/400 [00:10<00:00, 36.63it/s] \n"
     ]
    },
    {
     "name": "stdout",
     "output_type": "stream",
     "text": [
      "203.53782152026494 374.1688941467428\n"
     ]
    },
    {
     "name": "stderr",
     "output_type": "stream",
     "text": [
      "Chain 0: 100%|██████████| 400/400 [00:11<00:00, 35.46it/s] \n",
      "Chain 0: 100%|██████████| 400/400 [00:11<00:00, 36.03it/s] \n"
     ]
    },
    {
     "name": "stdout",
     "output_type": "stream",
     "text": [
      "77.79906685295497 80.14842955495348\n"
     ]
    },
    {
     "name": "stderr",
     "output_type": "stream",
     "text": [
      "Chain 0: 100%|██████████| 400/400 [00:11<00:00, 35.42it/s] \n",
      "Chain 0: 100%|██████████| 400/400 [00:10<00:00, 36.66it/s] \n"
     ]
    },
    {
     "name": "stdout",
     "output_type": "stream",
     "text": [
      "758.9741222109 427.4054993145647\n"
     ]
    },
    {
     "name": "stderr",
     "output_type": "stream",
     "text": [
      "Chain 0: 100%|██████████| 400/400 [00:11<00:00, 35.07it/s] \n",
      "Chain 0: 100%|██████████| 400/400 [00:10<00:00, 36.53it/s] \n"
     ]
    },
    {
     "name": "stdout",
     "output_type": "stream",
     "text": [
      "536.3282373954997 329.12716360559426\n"
     ]
    },
    {
     "name": "stderr",
     "output_type": "stream",
     "text": [
      "Chain 0: 100%|██████████| 400/400 [00:11<00:00, 35.69it/s] \n",
      "Chain 0: 100%|██████████| 400/400 [00:11<00:00, 35.69it/s] \n"
     ]
    },
    {
     "name": "stdout",
     "output_type": "stream",
     "text": [
      "-14.460165396363719 329.0867859832012\n"
     ]
    },
    {
     "name": "stderr",
     "output_type": "stream",
     "text": [
      "Chain 0: 100%|██████████| 400/400 [00:11<00:00, 35.84it/s] \n",
      "Chain 0: 100%|██████████| 400/400 [00:10<00:00, 36.40it/s] \n"
     ]
    },
    {
     "name": "stdout",
     "output_type": "stream",
     "text": [
      "5.858782262109064 238.59280827196258\n"
     ]
    },
    {
     "name": "stderr",
     "output_type": "stream",
     "text": [
      "Chain 0: 100%|██████████| 400/400 [00:11<00:00, 35.31it/s] \n",
      "Chain 0: 100%|██████████| 400/400 [00:10<00:00, 36.77it/s] \n"
     ]
    },
    {
     "name": "stdout",
     "output_type": "stream",
     "text": [
      "444.44702976429556 594.2232076134297\n"
     ]
    },
    {
     "name": "stderr",
     "output_type": "stream",
     "text": [
      "Chain 0: 100%|██████████| 400/400 [00:11<00:00, 35.04it/s] \n",
      "Chain 0: 100%|██████████| 400/400 [00:10<00:00, 36.60it/s] \n"
     ]
    },
    {
     "name": "stdout",
     "output_type": "stream",
     "text": [
      "575.365201398502 457.6114608854972\n"
     ]
    },
    {
     "name": "stderr",
     "output_type": "stream",
     "text": [
      "Chain 0: 100%|██████████| 400/400 [00:11<00:00, 34.31it/s] \n",
      "Chain 0: 100%|██████████| 400/400 [00:10<00:00, 36.60it/s] \n"
     ]
    },
    {
     "name": "stdout",
     "output_type": "stream",
     "text": [
      "557.8371396857125 533.5310289426014\n"
     ]
    },
    {
     "name": "stderr",
     "output_type": "stream",
     "text": [
      "Chain 0: 100%|██████████| 400/400 [00:11<00:00, 35.47it/s] \n",
      "Chain 0: 100%|██████████| 400/400 [00:11<00:00, 36.33it/s] \n"
     ]
    },
    {
     "name": "stdout",
     "output_type": "stream",
     "text": [
      "361.9376836592082 653.9004521054121\n"
     ]
    },
    {
     "name": "stderr",
     "output_type": "stream",
     "text": [
      "Chain 0: 100%|██████████| 400/400 [00:11<00:00, 35.09it/s] \n",
      "Chain 0: 100%|██████████| 400/400 [00:10<00:00, 36.89it/s] "
     ]
    },
    {
     "name": "stdout",
     "output_type": "stream",
     "text": [
      "575.5876719419753 446.46839135217374\n"
     ]
    },
    {
     "name": "stderr",
     "output_type": "stream",
     "text": [
      "\n"
     ]
    }
   ],
   "source": [
    "from devinterp.slt.sampler import estimate_rlct\n",
    "\n",
    "# Load MNIST data\n",
    "batch_size = 512\n",
    "train_data = datasets.MNIST(\n",
    "    \"./data\", train=True, transform=transforms.ToTensor(), download=True\n",
    ")\n",
    "train_loader = DataLoader(train_data, batch_size=batch_size, shuffle=True)\n",
    "# Load test data\n",
    "test_data = datasets.MNIST(\"./data\", train=False, transform=transforms.ToTensor())\n",
    "test_loader = DataLoader(test_data, batch_size=batch_size, shuffle=False)\n",
    "\n",
    "rlct_estimates_sgnht = []\n",
    "rlct_estimates_sgld = []\n",
    "for model in models:\n",
    "    rlct_estimate_sgnht = estimate_rlct(\n",
    "        model,\n",
    "        train_loader,\n",
    "        criterion=criterion,\n",
    "        optimizer_kwargs=dict(\n",
    "            lr=1e-7,\n",
    "            diffusion_factor=0.01,\n",
    "            num_samples=len(train_data),\n",
    "        ),\n",
    "        sampling_method=SGNHT,\n",
    "        num_chains=1,\n",
    "        num_draws=400,\n",
    "        num_burnin_steps=0,\n",
    "        num_steps_bw_draws=1,\n",
    "        device=DEVICE,\n",
    "    )\n",
    "    rlct_estimate_sgld = estimate_rlct(\n",
    "        model,\n",
    "        train_loader,\n",
    "        criterion=criterion,\n",
    "        optimizer_kwargs=dict(\n",
    "            lr=1e-5,\n",
    "            noise_level=1.0,\n",
    "            elasticity=100.0,\n",
    "            num_samples=len(train_data),\n",
    "            temperature=\"adaptive\",\n",
    "        ),\n",
    "        sampling_method=SGLD,\n",
    "        num_chains=1,\n",
    "        num_draws=400,\n",
    "        num_burnin_steps=0,\n",
    "        num_steps_bw_draws=1,\n",
    "        device=DEVICE,\n",
    "    )\n",
    "    rlct_estimates_sgnht += [rlct_estimate_sgnht]\n",
    "    rlct_estimates_sgld += [rlct_estimate_sgld]\n",
    "    print(rlct_estimate_sgld, rlct_estimate_sgnht)"
   ]
  },
  {
   "cell_type": "code",
   "execution_count": 13,
   "metadata": {},
   "outputs": [
    {
     "data": {
      "image/png": "[encoded data removed]",
      "text/plain": [
       "<Figure size 640x480 with 2 Axes>"
      ]
     },
     "metadata": {},
     "output_type": "display_data"
    }
   ],
   "source": [
    "sns.set_style(\"whitegrid\")\n",
    "\n",
    "fig, ax1 = plt.subplots()\n",
    "ax1.set_xlabel(\"Epoch\")\n",
    "ax1.set_ylabel(\"Loss\", color=PRIMARY)\n",
    "ax1.plot(train_losses, label=\"Train Loss\", color=PRIMARY)\n",
    "ax1.plot(test_losses, label=\"Test Loss\", color=PRIMARY_LIGHT)\n",
    "ax1.tick_params(axis=\"y\", labelcolor=PRIMARY)\n",
    "ax1.legend(loc=\"lower left\")\n",
    "\n",
    "ax2 = ax1.twinx()\n",
    "ax2.set_ylabel(r\"Local Learning Coefficient, $\\hat \\lambda$\", color=SECONDARY)\n",
    "ax2.plot(rlct_estimates_sgnht, label=\"SGNHT\", color=SECONDARY)\n",
    "ax2.plot(rlct_estimates_sgld, label=\"SGLD\", color=SECONDARY_LIGHT)\n",
    "ax2.tick_params(axis=\"y\", labelcolor=SECONDARY)\n",
    "ax2.legend(loc=\"center right\")\n",
    "\n",
    "fig.tight_layout()\n",
    "plt.show()"
   ]
  }
 ],
 "metadata": {
  "kernelspec": {
   "display_name": ".venv",
   "language": "python",
   "name": "python3"
  },
  "language_info": {
   "codemirror_mode": {
    "name": "ipython",
    "version": 3
   },
   "file_extension": ".py",
   "mimetype": "text/x-python",
   "name": "python",
   "nbconvert_exporter": "python",
   "pygments_lexer": "ipython3",
   "version": "3.9.16"
  },
  "orig_nbformat": 4
 },
 "nbformat": 4,
 "nbformat_minor": 2
}
