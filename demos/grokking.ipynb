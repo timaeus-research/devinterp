{
 "cells": [
  {
   "cell_type": "markdown",
   "metadata": {},
   "source": [
    "# Grokking"
   ]
  },
  {
   "cell_type": "code",
   "execution_count": null,
   "metadata": {},
   "outputs": [],
   "source": [
    "!pip install devinterp pydantic seaborn wandb tqdm\n",
    "!wandb login"
   ]
  },
  {
   "cell_type": "code",
   "execution_count": 9,
   "metadata": {},
   "outputs": [
    {
     "data": {
      "text/plain": [
       "(device(type='cuda', index=0), 1, 'grokking', 'devinterp', True)"
      ]
     },
     "execution_count": 9,
     "metadata": {},
     "output_type": "execute_result"
    }
   ],
   "source": [
    "import os\n",
    "from typing import Callable, Dict, List, Literal, Optional, Union, Any, Type, Tuple \n",
    "import logging\n",
    "from dataclasses import dataclass\n",
    "from pathlib import Path\n",
    "import time\n",
    "import sys\n",
    "sys.path.append(\"/home/paperspace/devinterp/\")\n",
    "\n",
    "from tqdm import tqdm\n",
    "import pandas as pd\n",
    "import numpy as np\n",
    "import matplotlib.pyplot as plt\n",
    "import seaborn as sns\n",
    "from pydantic import BaseModel\n",
    "import wandb\n",
    "\n",
    "import torch\n",
    "from torch import nn\n",
    "from torch import optim\n",
    "from torch.multiprocessing import Pool, cpu_count\n",
    "from torch.nn import functional as F\n",
    "from torch.utils.data import DataLoader\n",
    "\n",
    "from devinterp.slt.sampler import estimate_rlct\n",
    "from devinterp.zoo.arithmetic import ModularArithmeticConfig, ModularArithmetic, OperatorLiteral\n",
    "from devinterp.zoo.transformer import TransformerConfig, Transformer\n",
    "from devinterp.slt.sampler import estimate_rlct\n",
    "from devinterp.optim.sgld import SGLD\n",
    "\n",
    "logging.basicConfig(level=logging.INFO)\n",
    "\n",
    "sns.set_palette(\"deep\")\n",
    "sns.set_style(\"whitegrid\")\n",
    "\n",
    "CHECKPOINTS_PATH = Path(\"checkpoints/grokking\")\n",
    "\n",
    "if not os.path.exists(CHECKPOINTS_PATH):\n",
    "    os.makedirs(CHECKPOINTS_PATH)\n",
    "\n",
    "PRIMARY, SECONDARY, TERTIARY = sns.color_palette(\"deep\")[:3]\n",
    "PRIMARY_LIGHT, SECONDARY_LIGHT, TERTIARY_LIGHT = sns.color_palette(\"muted\")[:3]\n",
    "\n",
    "DEVICE = os.environ.get(\"DEVICE\", \"cuda:0\" if torch.cuda.is_available() else \"mps\" if torch.backends.mps.is_available() else \"cpu\")\n",
    "DEVICE = torch.device(DEVICE)\n",
    "NUM_CORES = int(os.environ.get(\"NUM_CORES\", 1))\n",
    "\n",
    "# wandb\n",
    "PROJECT = os.environ.get(\"PROJECT\", \"grokking\")\n",
    "ENTITY = os.environ.get(\"ENTITY\", \"devinterp\")\n",
    "# ENTITY = None\n",
    "USE_WANDB = bool(PROJECT and ENTITY)\n",
    "\n",
    "DEVICE, NUM_CORES, PROJECT, ENTITY, USE_WANDB"
   ]
  },
  {
   "cell_type": "code",
   "execution_count": 10,
   "metadata": {},
   "outputs": [],
   "source": [
    "# Evals\n",
    "\n",
    "def cross_entropy_last_token(outputs, targets, reduction = \"sum\"):\n",
    "    \"\"\"\n",
    "    Wrapper around cross entropy loss because we only care about the last number predicted.\n",
    "    \"\"\"\n",
    "    # Only look at predictions of last numbers\n",
    "    outputs = outputs[:, -1]\n",
    "\n",
    "    # Compute individual and summed losses for final number\n",
    "    logprobs = F.log_softmax(outputs.to(torch.float32), dim=-1)\n",
    "    prediction_logprobs = torch.gather(logprobs, index=targets.unsqueeze(1), dim=-1)\n",
    "\n",
    "    if reduction == \"mean\":\n",
    "        loss = -torch.mean(prediction_logprobs)\n",
    "    elif reduction == \"sum\":\n",
    "        loss = -torch.sum(prediction_logprobs)\n",
    "    else:\n",
    "        raise ValueError(\"Invalid reduction argument.\")\n",
    "\n",
    "    return loss\n",
    "\n",
    "\n",
    "def make_evals(trainset: ModularArithmetic, testset: ModularArithmetic, device: str):\n",
    "    trainloader = torch.utils.data.DataLoader(trainset, batch_size=1024, shuffle=True)\n",
    "    testloader = torch.utils.data.DataLoader(testset, batch_size=1024, shuffle=False)\n",
    "\n",
    "    def eval_loss_and_acc(model: nn.Module) -> Dict[str, float]:\n",
    "        model.eval()\n",
    "\n",
    "        results = {}\n",
    "\n",
    "        for name, loader in zip([\"train\", \"test\"], [trainloader, testloader]):\n",
    "            total = 0\n",
    "            correct = 0\n",
    "\n",
    "            for x, y in loader:\n",
    "                x = x.to(device)\n",
    "                y = y.to(device)\n",
    "\n",
    "                with torch.no_grad():\n",
    "                    y_hat = model(x)\n",
    "\n",
    "                total += cross_entropy_last_token(y_hat, y, reduction=\"sum\").item()\n",
    "                correct += (y_hat[:, -1, :].max(dim=1).indices == y).sum().item()  # argmax doesn't work for device=mps\n",
    "\n",
    "            results[f\"{name}/loss\"] = total / len(loader.dataset)\n",
    "            results[f\"{name}/accuracy\"] = correct / len(loader.dataset)\n",
    "\n",
    "        return results\n",
    "\n",
    "    return eval_loss_and_acc"
   ]
  },
  {
   "cell_type": "code",
   "execution_count": 11,
   "metadata": {},
   "outputs": [],
   "source": [
    "@dataclass\n",
    "class Learner:\n",
    "    config: 'GrokkingConfig'\n",
    "    model: nn.Module\n",
    "    dataset: torch.utils.data.Dataset\n",
    "    loader: torch.utils.data.DataLoader\n",
    "    optimizer: torch.optim.Optimizer\n",
    "    evals: Callable[[nn.Module], Dict[str, float]]\n",
    "\n",
    "class GrokkingConfig(BaseModel):\n",
    "    data: ModularArithmeticConfig\n",
    "    model: TransformerConfig\n",
    "    noise_level: float = 1.\n",
    "    batch_size: int = 256\n",
    "    num_steps: int = 25_000\n",
    "    device: str = \"cpu\"\n",
    "    lr: float = 1e-3\n",
    "    betas: Tuple[float, float] = (0.9, 0.99)\n",
    "    weight_decay: float = 1e-3\n",
    "\n",
    "    class Config:\n",
    "        arbitrary_types_allowed=True\n",
    "\n",
    "    @property\n",
    "    def num_training_examples(self):\n",
    "        return int((self.data.modulus ** 2) * self.data.split)\n",
    "    \n",
    "    def create_model(self):\n",
    "        return self.model.factory()\n",
    "        \n",
    "    def create_data(self):\n",
    "        return self.data.factory_split()\n",
    "\n",
    "    def create_learner(self):\n",
    "        model = self.create_model()\n",
    "        trainset, testset = self.create_data()\n",
    "        trainloader = torch.utils.data.DataLoader(trainset, batch_size=self.batch_size, shuffle=True)\n",
    "        evals = make_evals(trainset, testset, self.device)\n",
    "        optimizer=optim.AdamW(\n",
    "            model.parameters(),\n",
    "            lr=self.lr,\n",
    "            betas=self.betas,\n",
    "            weight_decay=self.weight_decay,\n",
    "        )\n",
    "\n",
    "        learner = Learner(self, model, trainset, trainloader, optimizer, evals)\n",
    "        return learner\n",
    "\n",
    "MODULUS = 113\n",
    "\n",
    "learner_config = GrokkingConfig(\n",
    "    data=ModularArithmeticConfig(\n",
    "        operator=\"/\",\n",
    "        modulus=MODULUS,\n",
    "        seed=0,\n",
    "        split=0.4\n",
    "    ),\n",
    "    model=TransformerConfig(\n",
    "        d_vocab = MODULUS + 1,\n",
    "        d_model=128,\n",
    "        num_layers=2,\n",
    "    ),\n",
    "    lr = 1e-3,\n",
    "    weight_decay = 0.2,\n",
    "    betas = (0.9, 0.98),\n",
    "    device=str(DEVICE),\n",
    ")\n",
    "learner = learner_config.create_learner()"
   ]
  },
  {
   "cell_type": "code",
   "execution_count": 12,
   "metadata": {},
   "outputs": [],
   "source": [
    "def throttle(seconds):\n",
    "    def decorator(func):\n",
    "        last_called = 0\n",
    "\n",
    "        def wrapper(*args, **kwargs):\n",
    "            nonlocal last_called\n",
    "            elapsed = time.monotonic() - last_called\n",
    "            last_called = time.monotonic()\n",
    "\n",
    "            if elapsed < seconds:\n",
    "                return func(*args, **kwargs)\n",
    "\n",
    "        return wrapper\n",
    "\n",
    "    return decorator\n",
    "\n",
    "def train(learner, use_wandb=USE_WANDB, num_log_ivl_steps=100, num_lin_ivl_steps=100):\n",
    "    learner.model.to(learner.config.device)\n",
    "    learner.model.train()\n",
    "\n",
    "    evals = []\n",
    "\n",
    "    if use_wandb:\n",
    "        wandb.init(project=PROJECT, entity=ENTITY)\n",
    "\n",
    "    num_steps = learner.config.num_steps\n",
    "    logging_steps = set(np.linspace(0, num_steps, num_lin_ivl_steps).astype(int)) | set(np.logspace(0, num_steps, num_log_ivl_steps).astype(int))\n",
    "\n",
    "    def log(step):\n",
    "        learner.model.eval()\n",
    "        evals.append({\"step\": step, **learner.evals(learner.model)})\n",
    "        # print(yaml.dump(evals[-1]))\n",
    "        if use_wandb:\n",
    "            wandb.log(evals[-1], step=step)\n",
    "\n",
    "        learner.model.train()\n",
    "\n",
    "    @throttle(1)\n",
    "    def log_batch_loss(loss, step):\n",
    "        wandb.log({\"batch/loss\": loss.item()}, step=step)\n",
    "\n",
    "    def save_checkpoint(step):\n",
    "        torch.save(learner.model.state_dict(), CHECKPOINTS_PATH / f\"{step}.pt\")\n",
    "\n",
    "    step = -1\n",
    "    epoch = -1\n",
    "\n",
    "    pbar = tqdm(\n",
    "        total=learner.config.num_steps,\n",
    "        desc=f\"Training...\",\n",
    "    )\n",
    "\n",
    "    while step < learner.config.num_steps:\n",
    "        torch.manual_seed(step)\n",
    "        epoch += 1\n",
    "\n",
    "        for x, y in learner.loader:\n",
    "            step += 1\n",
    "            x, y = x.to(learner.config.device), y.to(learner.config.device)\n",
    "            learner.optimizer.zero_grad()\n",
    "            y_hat = learner.model(x)\n",
    "            loss = cross_entropy_last_token(y_hat, y)\n",
    "            loss.backward()\n",
    "            learner.optimizer.step()\n",
    "\n",
    "            if use_wandb:\n",
    "                log_batch_loss(loss, step)                \n",
    "\n",
    "            if step in logging_steps:\n",
    "                log(step=step)\n",
    "                save_checkpoint(step=step)\n",
    "\n",
    "            pbar.update(1)\n",
    "\n",
    "    if pbar:\n",
    "        pbar.close()\n",
    "\n",
    "    log(step=step)\n",
    "\n",
    "    if use_wandb:\n",
    "        wandb.finish()\n",
    "\n",
    "    evals_df = pd.DataFrame(evals)\n",
    "    evals_df.sort_values(\"step\", inplace=True)\n",
    "    \n",
    "    return evals_df"
   ]
  },
  {
   "cell_type": "code",
   "execution_count": 13,
   "metadata": {},
   "outputs": [
    {
     "data": {
      "text/html": [
       "wandb version 0.15.11 is available!  To upgrade, please run:\n",
       " $ pip install wandb --upgrade"
      ],
      "text/plain": [
       "<IPython.core.display.HTML object>"
      ]
     },
     "metadata": {},
     "output_type": "display_data"
    },
    {
     "data": {
      "text/html": [
       "Tracking run with wandb version 0.15.5"
      ],
      "text/plain": [
       "<IPython.core.display.HTML object>"
      ]
     },
     "metadata": {},
     "output_type": "display_data"
    },
    {
     "data": {
      "text/html": [
       "Run data is saved locally in <code>/home/paperspace/devinterp/demos/wandb/run-20230928_081132-0fgobhb0</code>"
      ],
      "text/plain": [
       "<IPython.core.display.HTML object>"
      ]
     },
     "metadata": {},
     "output_type": "display_data"
    },
    {
     "data": {
      "text/html": [
       "Syncing run <strong><a href='https://wandb.ai/devinterp/grokking/runs/0fgobhb0' target=\"_blank\">lunar-hill-24</a></strong> to <a href='https://wandb.ai/devinterp/grokking' target=\"_blank\">Weights & Biases</a> (<a href='https://wandb.me/run' target=\"_blank\">docs</a>)<br/>"
      ],
      "text/plain": [
       "<IPython.core.display.HTML object>"
      ]
     },
     "metadata": {},
     "output_type": "display_data"
    },
    {
     "data": {
      "text/html": [
       " View project at <a href='https://wandb.ai/devinterp/grokking' target=\"_blank\">https://wandb.ai/devinterp/grokking</a>"
      ],
      "text/plain": [
       "<IPython.core.display.HTML object>"
      ]
     },
     "metadata": {},
     "output_type": "display_data"
    },
    {
     "data": {
      "text/html": [
       " View run at <a href='https://wandb.ai/devinterp/grokking/runs/0fgobhb0' target=\"_blank\">https://wandb.ai/devinterp/grokking/runs/0fgobhb0</a>"
      ],
      "text/plain": [
       "<IPython.core.display.HTML object>"
      ]
     },
     "metadata": {},
     "output_type": "display_data"
    },
    {
     "name": "stderr",
     "output_type": "stream",
     "text": [
      "/home/paperspace/devinterp/.venv/lib/python3.9/site-packages/numpy/core/function_base.py:298: RuntimeWarning: overflow encountered in power\n",
      "  return _nx.power(base, y)\n",
      "/tmp/ipykernel_2924/1344494103.py:27: RuntimeWarning: invalid value encountered in cast\n",
      "  logging_steps = set(np.linspace(0, num_steps, num_lin_ivl_steps).astype(int)) | set(np.logspace(0, num_steps, num_log_ivl_steps).astype(int))\n",
      "Training...: 25020it [10:06, 41.22it/s]                           \n"
     ]
    },
    {
     "data": {
      "text/html": [
       "Waiting for W&B process to finish... <strong style=\"color:green\">(success).</strong>"
      ],
      "text/plain": [
       "<IPython.core.display.HTML object>"
      ]
     },
     "metadata": {},
     "output_type": "display_data"
    },
    {
     "data": {
      "application/vnd.jupyter.widget-view+json": {
       "model_id": "f5300597ea9b46e3bedf79731ec7f1a9",
       "version_major": 2,
       "version_minor": 0
      },
      "text/plain": [
       "VBox(children=(Label(value='0.002 MB of 0.002 MB uploaded (0.000 MB deduped)\\r'), FloatProgress(value=1.0, max…"
      ]
     },
     "metadata": {},
     "output_type": "display_data"
    },
    {
     "data": {
      "text/html": [
       "<style>\n",
       "    table.wandb td:nth-child(1) { padding: 0 10px; text-align: left ; width: auto;} td:nth-child(2) {text-align: left ; width: 100%}\n",
       "    .wandb-row { display: flex; flex-direction: row; flex-wrap: wrap; justify-content: flex-start; width: 100% }\n",
       "    .wandb-col { display: flex; flex-direction: column; flex-basis: 100%; flex: 1; padding: 10px; }\n",
       "    </style>\n",
       "<div class=\"wandb-row\"><div class=\"wandb-col\"><h3>Run history:</h3><br/><table class=\"wandb\"><tr><td>batch/loss</td><td>█▁▁▁▁▂▁▁▁▁▁▁▂▁▁▁▁▁▁▁▁▁▁▁▁▁▁▁▁▁▁▁▁▁▁▁▁▁▁▁</td></tr><tr><td>step</td><td>▁▁▁▁▂▂▂▂▂▃▃▃▃▃▃▄▄▄▄▄▅▅▅▅▅▅▆▆▆▆▆▇▇▇▇▇████</td></tr><tr><td>test/accuracy</td><td>▁▁▁▁▁▁▁▁▁▁▁▁▁▁▂▂▃▅▇█████████████████████</td></tr><tr><td>test/loss</td><td>▃▄▇▇▆█▆▆▅▆▅▅▆▄▄▃▃▂▁▁▁▁▁▁▁▁▁▁▁▁▁▁▁▁▁▁▁▁▁▁</td></tr><tr><td>train/accuracy</td><td>▁▃███▇██████████████████████████████████</td></tr><tr><td>train/loss</td><td>█▅▁▁▁▁▁▁▁▁▁▁▁▁▁▁▁▁▁▁▁▁▁▁▁▁▁▁▁▁▁▁▁▁▁▁▁▁▁▁</td></tr></table><br/></div><div class=\"wandb-col\"><h3>Run summary:</h3><br/><table class=\"wandb\"><tr><td>batch/loss</td><td>3.30774</td></tr><tr><td>step</td><td>25019</td></tr><tr><td>test/accuracy</td><td>0.99635</td></tr><tr><td>test/loss</td><td>0.01158</td></tr><tr><td>train/accuracy</td><td>0.99941</td></tr><tr><td>train/loss</td><td>0.00308</td></tr></table><br/></div></div>"
      ],
      "text/plain": [
       "<IPython.core.display.HTML object>"
      ]
     },
     "metadata": {},
     "output_type": "display_data"
    },
    {
     "data": {
      "text/html": [
       " View run <strong style=\"color:#cdcd00\">lunar-hill-24</strong> at: <a href='https://wandb.ai/devinterp/grokking/runs/0fgobhb0' target=\"_blank\">https://wandb.ai/devinterp/grokking/runs/0fgobhb0</a><br/>Synced 5 W&B file(s), 0 media file(s), 0 artifact file(s) and 0 other file(s)"
      ],
      "text/plain": [
       "<IPython.core.display.HTML object>"
      ]
     },
     "metadata": {},
     "output_type": "display_data"
    },
    {
     "data": {
      "text/html": [
       "Find logs at: <code>./wandb/run-20230928_081132-0fgobhb0/logs</code>"
      ],
      "text/plain": [
       "<IPython.core.display.HTML object>"
      ]
     },
     "metadata": {},
     "output_type": "display_data"
    },
    {
     "data": {
      "text/html": [
       "<div>\n",
       "<style scoped>\n",
       "    .dataframe tbody tr th:only-of-type {\n",
       "        vertical-align: middle;\n",
       "    }\n",
       "\n",
       "    .dataframe tbody tr th {\n",
       "        vertical-align: top;\n",
       "    }\n",
       "\n",
       "    .dataframe thead th {\n",
       "        text-align: right;\n",
       "    }\n",
       "</style>\n",
       "<table border=\"1\" class=\"dataframe\">\n",
       "  <thead>\n",
       "    <tr style=\"text-align: right;\">\n",
       "      <th></th>\n",
       "      <th>step</th>\n",
       "      <th>train/loss</th>\n",
       "      <th>train/accuracy</th>\n",
       "      <th>test/loss</th>\n",
       "      <th>test/accuracy</th>\n",
       "    </tr>\n",
       "  </thead>\n",
       "  <tbody>\n",
       "    <tr>\n",
       "      <th>0</th>\n",
       "      <td>0</td>\n",
       "      <td>4.848523</td>\n",
       "      <td>0.009399</td>\n",
       "      <td>4.851753</td>\n",
       "      <td>0.008744</td>\n",
       "    </tr>\n",
       "    <tr>\n",
       "      <th>1</th>\n",
       "      <td>1</td>\n",
       "      <td>4.824393</td>\n",
       "      <td>0.009790</td>\n",
       "      <td>4.838420</td>\n",
       "      <td>0.008092</td>\n",
       "    </tr>\n",
       "    <tr>\n",
       "      <th>2</th>\n",
       "      <td>252</td>\n",
       "      <td>3.095787</td>\n",
       "      <td>0.271784</td>\n",
       "      <td>6.384306</td>\n",
       "      <td>0.019186</td>\n",
       "    </tr>\n",
       "    <tr>\n",
       "      <th>3</th>\n",
       "      <td>505</td>\n",
       "      <td>0.477118</td>\n",
       "      <td>0.927355</td>\n",
       "      <td>11.010229</td>\n",
       "      <td>0.019447</td>\n",
       "    </tr>\n",
       "    <tr>\n",
       "      <th>4</th>\n",
       "      <td>757</td>\n",
       "      <td>0.127173</td>\n",
       "      <td>0.979440</td>\n",
       "      <td>14.698437</td>\n",
       "      <td>0.020491</td>\n",
       "    </tr>\n",
       "    <tr>\n",
       "      <th>...</th>\n",
       "      <td>...</td>\n",
       "      <td>...</td>\n",
       "      <td>...</td>\n",
       "      <td>...</td>\n",
       "      <td>...</td>\n",
       "    </tr>\n",
       "    <tr>\n",
       "      <th>97</th>\n",
       "      <td>24242</td>\n",
       "      <td>0.005587</td>\n",
       "      <td>0.998042</td>\n",
       "      <td>0.013621</td>\n",
       "      <td>0.995171</td>\n",
       "    </tr>\n",
       "    <tr>\n",
       "      <th>98</th>\n",
       "      <td>24494</td>\n",
       "      <td>0.003715</td>\n",
       "      <td>0.998825</td>\n",
       "      <td>0.011148</td>\n",
       "      <td>0.995824</td>\n",
       "    </tr>\n",
       "    <tr>\n",
       "      <th>99</th>\n",
       "      <td>24747</td>\n",
       "      <td>0.002628</td>\n",
       "      <td>0.999608</td>\n",
       "      <td>0.009987</td>\n",
       "      <td>0.996868</td>\n",
       "    </tr>\n",
       "    <tr>\n",
       "      <th>100</th>\n",
       "      <td>25000</td>\n",
       "      <td>0.002574</td>\n",
       "      <td>0.999217</td>\n",
       "      <td>0.009408</td>\n",
       "      <td>0.996868</td>\n",
       "    </tr>\n",
       "    <tr>\n",
       "      <th>101</th>\n",
       "      <td>25019</td>\n",
       "      <td>0.003083</td>\n",
       "      <td>0.999413</td>\n",
       "      <td>0.011585</td>\n",
       "      <td>0.996346</td>\n",
       "    </tr>\n",
       "  </tbody>\n",
       "</table>\n",
       "<p>102 rows × 5 columns</p>\n",
       "</div>"
      ],
      "text/plain": [
       "      step  train/loss  train/accuracy  test/loss  test/accuracy\n",
       "0        0    4.848523        0.009399   4.851753       0.008744\n",
       "1        1    4.824393        0.009790   4.838420       0.008092\n",
       "2      252    3.095787        0.271784   6.384306       0.019186\n",
       "3      505    0.477118        0.927355  11.010229       0.019447\n",
       "4      757    0.127173        0.979440  14.698437       0.020491\n",
       "..     ...         ...             ...        ...            ...\n",
       "97   24242    0.005587        0.998042   0.013621       0.995171\n",
       "98   24494    0.003715        0.998825   0.011148       0.995824\n",
       "99   24747    0.002628        0.999608   0.009987       0.996868\n",
       "100  25000    0.002574        0.999217   0.009408       0.996868\n",
       "101  25019    0.003083        0.999413   0.011585       0.996346\n",
       "\n",
       "[102 rows x 5 columns]"
      ]
     },
     "execution_count": 13,
     "metadata": {},
     "output_type": "execute_result"
    }
   ],
   "source": [
    "train(learner, True)"
   ]
  },
  {
   "cell_type": "code",
   "execution_count": 14,
   "metadata": {},
   "outputs": [],
   "source": [
    "import yaml\n",
    "\n",
    "\n",
    "def make_rlct_evals(trainset: ModularArithmetic, num_draws=20, num_chains=5, num_cores=NUM_CORES, lr=1e-7, noise_level=1., weight_decay=3e-7, elasticity=1., repeats=5, pbar=False):\n",
    "    trainloader = torch.utils.data.DataLoader(trainset, batch_size=1024, shuffle=True)\n",
    "    optimizer_kwargs = dict(\n",
    "        lr=lr, noise_level=noise_level, weight_decay=weight_decay, elasticity=elasticity, temperature=\"adaptive\", num_samples=len(trainset)\n",
    "    )\n",
    "\n",
    "    def eval_rlct(model: nn.Module):\n",
    "        return estimate_rlct(\n",
    "            model, \n",
    "            trainloader, \n",
    "            cross_entropy_last_token, \n",
    "            SGLD, \n",
    "            optimizer_kwargs, \n",
    "            num_draws=num_draws, \n",
    "            num_chains=num_chains, \n",
    "            num_burnin_steps=0, \n",
    "            num_steps_bw_draws=1, \n",
    "            cores=num_cores, \n",
    "            pbar=pbar,\n",
    "        )\n",
    "\n",
    "    def eval_rlct_repeated(model):\n",
    "        results = {\n",
    "            f\"rlct/{i}\": eval_rlct(model).item() for i in range(repeats)\n",
    "        }\n",
    "        rlcts = list(results.values())\n",
    "        results[\"rlct/mean\"] = np.mean(rlcts).item()\n",
    "        results[\"rlct/std\"] = np.std(rlcts).item()\n",
    "\n",
    "        return results\n",
    "    \n",
    "    return eval_rlct_repeated\n",
    "\n",
    "\n",
    "def eval_rlcts_at_step(learner: Learner, step: int, num_draws=20, num_chains=5, num_cores=NUM_CORES, lr=1e-7, noise_level=1., weight_decay=3e-7, elasticity=1., repeats=5):\n",
    "    evals = []\n",
    "    eval_rlcts = make_rlct_evals(learner.dataset, num_draws=num_draws, num_chains=num_chains, num_cores=num_cores, lr=lr, noise_level=noise_level, weight_decay=weight_decay, elasticity=elasticity, repeats=repeats)\n",
    "\n",
    "    checkpoint = torch.load(CHECKPOINTS_PATH / f\"{step}.pt\")\n",
    "    learner.model.load_state_dict(checkpoint)\n",
    "    evals.append(eval_rlcts(learner.model))\n",
    "\n",
    "    return pd.DataFrame(evals)\n",
    "\n",
    "\n",
    "def eval_rlcts_over_time(learner: Learner, steps: List[int], num_draws=20, num_chains=5, num_cores=NUM_CORES, lr=1e-7, noise_level=1., weight_decay=3e-7, elasticity=1., repeats=5, pbar=False):\n",
    "    evals = []\n",
    "    eval_rlcts = make_rlct_evals(learner.dataset, num_draws=num_draws, num_chains=num_chains, num_cores=num_cores, lr=lr, noise_level=noise_level, weight_decay=weight_decay, elasticity=elasticity, repeats=repeats, pbar=True)\n",
    "\n",
    "    wandb.init(project=PROJECT, entity=ENTITY)\n",
    "\n",
    "    for step in steps:\n",
    "        checkpoint = torch.load(CHECKPOINTS_PATH / f\"{step}.pt\")\n",
    "        learner.model.load_state_dict(checkpoint)\n",
    "        evals.append(eval_rlcts(learner.model))\n",
    "        wandb.log(evals[-1], step=step)\n",
    "        # print(yaml.dump(evals[-1]))\n",
    "\n",
    "    wandb.finish()\n",
    "\n",
    "    return pd.DataFrame(evals)"
   ]
  },
  {
   "cell_type": "markdown",
   "metadata": {},
   "source": [
    "## RLCT estimation hyperparameter tuning"
   ]
  },
  {
   "cell_type": "code",
   "execution_count": 15,
   "metadata": {},
   "outputs": [
    {
     "name": "stderr",
     "output_type": "stream",
     "text": [
      "Chain 0: 100%|██████████| 10/10 [00:18<00:00,  1.83s/it]\n",
      "Chain 0: 100%|██████████| 10/10 [00:18<00:00,  1.83s/it]\n",
      "Chain 0: 100%|██████████| 10/10 [00:18<00:00,  1.89s/it]\n",
      "Chain 0: 100%|██████████| 10/10 [00:17<00:00,  1.76s/it]\n",
      "Chain 0: 100%|██████████| 10/10 [00:19<00:00,  1.90s/it]\n",
      "Chain 0: 100%|██████████| 10/10 [00:18<00:00,  1.82s/it]\n",
      "Chain 0: 100%|██████████| 10/10 [00:18<00:00,  1.82s/it]\n",
      "Chain 0: 100%|██████████| 10/10 [00:18<00:00,  1.85s/it]\n",
      "Chain 0: 100%|██████████| 10/10 [00:18<00:00,  1.86s/it]\n",
      "Chain 0: 100%|██████████| 10/10 [00:21<00:00,  2.14s/it]\n",
      "Chain 0: 100%|██████████| 10/10 [00:21<00:00,  2.14s/it]\n",
      "Chain 0: 100%|██████████| 10/10 [00:21<00:00,  2.10s/it]\n",
      "Chain 0: 100%|██████████| 10/10 [00:20<00:00,  2.03s/it]\n",
      "Chain 0: 100%|██████████| 10/10 [00:20<00:00,  2.06s/it]\n",
      "Chain 0: 100%|██████████| 10/10 [00:20<00:00,  2.05s/it]\n",
      "Chain 0: 100%|██████████| 10/10 [00:24<00:00,  2.47s/it]\n",
      "Chain 0: 100%|██████████| 10/10 [00:25<00:00,  2.59s/it]\n",
      "Chain 0: 100%|██████████| 10/10 [00:25<00:00,  2.55s/it]\n",
      "Chain 0: 100%|██████████| 10/10 [00:26<00:00,  2.63s/it]\n",
      "Chain 0: 100%|██████████| 10/10 [00:23<00:00,  2.32s/it]\n",
      "Chain 0: 100%|██████████| 10/10 [00:24<00:00,  2.43s/it]\n",
      "Chain 0: 100%|██████████| 10/10 [00:23<00:00,  2.34s/it]\n",
      "Chain 0: 100%|██████████| 10/10 [00:24<00:00,  2.50s/it]\n",
      "Chain 0: 100%|██████████| 10/10 [00:23<00:00,  2.37s/it]\n",
      "Chain 0: 100%|██████████| 10/10 [00:21<00:00,  2.16s/it]\n",
      "Chain 0: 100%|██████████| 10/10 [00:20<00:00,  2.04s/it]\n",
      "Chain 0: 100%|██████████| 10/10 [00:23<00:00,  2.33s/it]\n",
      "Chain 0: 100%|██████████| 10/10 [00:24<00:00,  2.48s/it]\n",
      "Chain 0: 100%|██████████| 10/10 [00:20<00:00,  2.09s/it]\n",
      "Chain 0: 100%|██████████| 10/10 [00:19<00:00,  1.94s/it]\n",
      "Chain 0: 100%|██████████| 10/10 [00:18<00:00,  1.88s/it]\n",
      "Chain 0: 100%|██████████| 10/10 [00:20<00:00,  2.00s/it]\n",
      "Chain 0: 100%|██████████| 10/10 [00:18<00:00,  1.85s/it]\n",
      "Chain 0: 100%|██████████| 10/10 [00:18<00:00,  1.85s/it]\n",
      "Chain 0: 100%|██████████| 10/10 [00:19<00:00,  1.95s/it]\n",
      "Chain 0: 100%|██████████| 10/10 [00:21<00:00,  2.11s/it]\n",
      "Chain 0: 100%|██████████| 10/10 [00:21<00:00,  2.12s/it]\n",
      "Chain 0: 100%|██████████| 10/10 [00:19<00:00,  1.98s/it]\n",
      "Chain 0: 100%|██████████| 10/10 [00:20<00:00,  2.03s/it]\n",
      "Chain 0: 100%|██████████| 10/10 [00:21<00:00,  2.14s/it]\n",
      "Chain 0: 100%|██████████| 10/10 [00:20<00:00,  2.01s/it]\n",
      "Chain 0: 100%|██████████| 10/10 [00:19<00:00,  1.99s/it]\n",
      "Chain 0: 100%|██████████| 10/10 [00:18<00:00,  1.83s/it]\n",
      "Chain 0: 100%|██████████| 10/10 [00:18<00:00,  1.83s/it]\n",
      "Chain 0: 100%|██████████| 10/10 [00:16<00:00,  1.68s/it]\n",
      "Chain 0: 100%|██████████| 30/30 [00:51<00:00,  1.72s/it]\n",
      "Chain 0: 100%|██████████| 30/30 [00:51<00:00,  1.71s/it]\n",
      "Chain 0: 100%|██████████| 30/30 [00:52<00:00,  1.73s/it]\n",
      "Chain 0: 100%|██████████| 30/30 [00:53<00:00,  1.78s/it]\n",
      "Chain 0: 100%|██████████| 30/30 [00:53<00:00,  1.80s/it]\n",
      "Chain 0: 100%|██████████| 30/30 [00:49<00:00,  1.67s/it]\n",
      "Chain 0: 100%|██████████| 30/30 [00:48<00:00,  1.63s/it]\n",
      "Chain 0: 100%|██████████| 30/30 [00:48<00:00,  1.62s/it]\n",
      "Chain 0: 100%|██████████| 30/30 [00:46<00:00,  1.55s/it]\n",
      "Chain 0: 100%|██████████| 30/30 [00:51<00:00,  1.71s/it]\n",
      "Chain 0: 100%|██████████| 30/30 [00:54<00:00,  1.83s/it]\n",
      "Chain 0: 100%|██████████| 30/30 [00:50<00:00,  1.68s/it]\n",
      "Chain 0: 100%|██████████| 30/30 [00:48<00:00,  1.61s/it]\n",
      "Chain 0: 100%|██████████| 30/30 [00:49<00:00,  1.65s/it]\n",
      "Chain 0: 100%|██████████| 30/30 [00:48<00:00,  1.62s/it]\n",
      "Chain 0: 100%|██████████| 30/30 [00:50<00:00,  1.68s/it]\n",
      "Chain 0: 100%|██████████| 30/30 [00:52<00:00,  1.74s/it]\n",
      "Chain 0: 100%|██████████| 30/30 [00:53<00:00,  1.77s/it]\n",
      "Chain 0: 100%|██████████| 30/30 [00:53<00:00,  1.78s/it]\n",
      "Chain 0: 100%|██████████| 30/30 [00:53<00:00,  1.78s/it]\n",
      "Chain 0: 100%|██████████| 30/30 [00:53<00:00,  1.77s/it]\n",
      "Chain 0: 100%|██████████| 30/30 [00:51<00:00,  1.70s/it]\n",
      "Chain 0: 100%|██████████| 30/30 [00:48<00:00,  1.61s/it]\n",
      "Chain 0: 100%|██████████| 30/30 [00:46<00:00,  1.56s/it]\n",
      "Chain 0: 100%|██████████| 30/30 [00:46<00:00,  1.56s/it]\n",
      "Chain 0: 100%|██████████| 30/30 [00:45<00:00,  1.51s/it]\n",
      "Chain 0: 100%|██████████| 30/30 [00:47<00:00,  1.59s/it]\n",
      "Chain 0: 100%|██████████| 30/30 [00:48<00:00,  1.61s/it]\n",
      "Chain 0: 100%|██████████| 30/30 [00:53<00:00,  1.79s/it]\n",
      "Chain 0: 100%|██████████| 30/30 [00:51<00:00,  1.73s/it]\n",
      "Chain 0: 100%|██████████| 30/30 [00:49<00:00,  1.66s/it]\n",
      "Chain 0: 100%|██████████| 30/30 [00:49<00:00,  1.65s/it]\n",
      "Chain 0: 100%|██████████| 30/30 [00:47<00:00,  1.57s/it]\n",
      "Chain 0: 100%|██████████| 30/30 [00:47<00:00,  1.58s/it]\n",
      "Chain 0: 100%|██████████| 30/30 [01:37<00:00,  3.26s/it]\n",
      "Chain 0: 100%|██████████| 30/30 [01:29<00:00,  3.00s/it]\n",
      "Chain 0: 100%|██████████| 30/30 [01:06<00:00,  2.22s/it]\n",
      "Chain 0: 100%|██████████| 30/30 [01:53<00:00,  3.79s/it]\n",
      "Chain 0: 100%|██████████| 30/30 [01:02<00:00,  2.08s/it]\n",
      "Chain 0: 100%|██████████| 30/30 [01:31<00:00,  3.06s/it]\n",
      "Chain 0: 100%|██████████| 30/30 [01:30<00:00,  3.02s/it]\n",
      "Chain 0: 100%|██████████| 30/30 [01:02<00:00,  2.09s/it]\n",
      "Chain 0: 100%|██████████| 30/30 [01:52<00:00,  3.76s/it]\n",
      "Chain 0: 100%|██████████| 30/30 [01:05<00:00,  2.17s/it]\n",
      "Chain 0: 100%|██████████| 30/30 [01:30<00:00,  3.02s/it]\n",
      "Chain 0: 100%|██████████| 100/100 [04:54<00:00,  2.95s/it]\n",
      "Chain 0: 100%|██████████| 100/100 [04:17<00:00,  2.58s/it]\n",
      "Chain 0: 100%|██████████| 100/100 [04:50<00:00,  2.90s/it]\n",
      "Chain 0: 100%|██████████| 100/100 [04:59<00:00,  3.00s/it]\n",
      "Chain 0: 100%|██████████| 100/100 [02:32<00:00,  1.52s/it]\n",
      "Chain 0: 100%|██████████| 100/100 [02:10<00:00,  1.31s/it]\n",
      "Chain 0: 100%|██████████| 100/100 [02:09<00:00,  1.30s/it]\n",
      "Chain 0: 100%|██████████| 100/100 [02:13<00:00,  1.33s/it]\n",
      "Chain 0: 100%|██████████| 100/100 [02:14<00:00,  1.35s/it]\n",
      "Chain 0: 100%|██████████| 100/100 [02:40<00:00,  1.60s/it]\n",
      "Chain 0: 100%|██████████| 100/100 [02:39<00:00,  1.60s/it]\n",
      "Chain 0: 100%|██████████| 100/100 [02:36<00:00,  1.56s/it]\n",
      "Chain 0: 100%|██████████| 100/100 [02:50<00:00,  1.71s/it]\n",
      "Chain 0: 100%|██████████| 100/100 [02:43<00:00,  1.63s/it]\n",
      "Chain 0: 100%|██████████| 100/100 [02:27<00:00,  1.48s/it]\n",
      "Chain 0: 100%|██████████| 100/100 [02:26<00:00,  1.46s/it]\n",
      "Chain 0: 100%|██████████| 100/100 [02:13<00:00,  1.34s/it]\n",
      "Chain 0: 100%|██████████| 100/100 [04:38<00:00,  2.79s/it]\n",
      "Chain 0: 100%|██████████| 100/100 [04:46<00:00,  2.87s/it]\n",
      "Chain 0: 100%|██████████| 100/100 [02:46<00:00,  1.67s/it]\n",
      "Chain 0: 100%|██████████| 100/100 [02:39<00:00,  1.59s/it]\n",
      "Chain 0: 100%|██████████| 100/100 [02:35<00:00,  1.55s/it]\n",
      "Chain 0: 100%|██████████| 100/100 [02:37<00:00,  1.57s/it]\n",
      "Chain 0: 100%|██████████| 100/100 [02:34<00:00,  1.55s/it]\n",
      "Chain 0: 100%|██████████| 100/100 [04:48<00:00,  2.88s/it]\n",
      "Chain 0: 100%|██████████| 100/100 [05:24<00:00,  3.24s/it]\n",
      "Chain 0: 100%|██████████| 100/100 [05:20<00:00,  3.20s/it]\n",
      "Chain 0: 100%|██████████| 100/100 [05:13<00:00,  3.13s/it]\n",
      "Chain 0: 100%|██████████| 100/100 [05:18<00:00,  3.19s/it]\n",
      "Chain 0: 100%|██████████| 100/100 [05:33<00:00,  3.33s/it]\n",
      "Chain 0: 100%|██████████| 100/100 [05:26<00:00,  3.27s/it]\n",
      "Chain 0: 100%|██████████| 100/100 [05:14<00:00,  3.14s/it]\n",
      "Chain 0: 100%|██████████| 100/100 [05:25<00:00,  3.25s/it]\n",
      "Chain 0: 100%|██████████| 100/100 [05:52<00:00,  3.52s/it]\n",
      "Chain 0: 100%|██████████| 100/100 [07:52<00:00,  4.72s/it]\n",
      "Chain 0: 100%|██████████| 100/100 [06:23<00:00,  3.84s/it]\n",
      "Chain 0: 100%|██████████| 100/100 [04:00<00:00,  2.40s/it]\n",
      "Chain 0: 100%|██████████| 100/100 [03:29<00:00,  2.10s/it]\n",
      "Chain 0: 100%|██████████| 100/100 [03:18<00:00,  1.99s/it]\n",
      "Chain 0: 100%|██████████| 100/100 [03:21<00:00,  2.02s/it]\n",
      "Chain 0: 100%|██████████| 100/100 [02:14<00:00,  1.34s/it]\n",
      "Chain 0: 100%|██████████| 100/100 [02:22<00:00,  1.43s/it]\n",
      "Chain 0:  26%|██▌       | 26/100 [00:41<01:41,  1.37s/it]"
     ]
    }
   ],
   "source": [
    "from itertools import product\n",
    "from typing import Iterable\n",
    "\n",
    "import yaml\n",
    "\n",
    "\n",
    "def unroll_grid(**hyperparams):\n",
    "    hyperparams = {k: (v if isinstance(v, list) else [v]) for k, v in hyperparams.items()}\n",
    "\n",
    "    keys, values = zip(*hyperparams.items())\n",
    "    combinations = list(product(*values))\n",
    "    return [dict(zip(keys, c)) for c in combinations]\n",
    "\n",
    "\n",
    "def generate_rlct_hyperparam_grid_search(model, dataset, **hyperparams):\n",
    "    grid = unroll_grid(**hyperparams)\n",
    "\n",
    "    for _hyperparams in grid:\n",
    "        evals = make_rlct_evals(dataset, pbar=True, **_hyperparams)(model)\n",
    "        yield _hyperparams, evals\n",
    "\n",
    "\n",
    "def rlct_hyperparam_grid_search(model, dataset, **hyperparams):\n",
    "    results = []\n",
    "\n",
    "    for _hyperparams, evals in generate_rlct_hyperparam_grid_search(model, dataset, **hyperparams):\n",
    "        results.append({**_hyperparams, **evals})\n",
    "        # print(yaml.dump(results[-1]))\n",
    "\n",
    "    return pd.DataFrame(results)\n",
    "\n",
    "# lr, num_draws, noise_level, elasticity\n",
    "grid_search = rlct_hyperparam_grid_search(learner.model, dataset=learner.dataset, lr=[1e-7, 1e-6, 1e-5], num_draws=[10, 30, 100, 300, 1000], noise_level=[0.1, 0.3, 1.], num_chains=1, repeats=5, elasticity=[10., 100., 1000.])"
   ]
  },
  {
   "cell_type": "code",
   "execution_count": null,
   "metadata": {},
   "outputs": [],
   "source": [
    "# torch.save(grid_search, \"../data/grokking-rlct-sweep.pt\")"
   ]
  },
  {
   "cell_type": "code",
   "execution_count": null,
   "metadata": {},
   "outputs": [
    {
     "name": "stderr",
     "output_type": "stream",
     "text": [
      "WARNING:matplotlib.legend:No artists with labels found to put in legend.  Note that artists whose label start with an underscore are ignored when legend() is called with no argument.\n"
     ]
    },
    {
     "data": {
      "image/png": "[encoded data removed]",
      "text/plain": [
       "<Figure size 1000x600 with 9 Axes>"
      ]
     },
     "metadata": {},
     "output_type": "display_data"
    }
   ],
   "source": [
    "import matplotlib.pyplot as plt\n",
    "\n",
    "NUM_PARAMS = sum(map(lambda x: x.numel(), learner.model.parameters()))\n",
    "\n",
    "def plot_rlct_grid(df, col_axis: str, row_axis: str, label_axis: str, x_axis: str, title: str, logscale: bool = True, inset=False, figsize=(10, 6)):\n",
    "    cols = df[col_axis].unique()\n",
    "    rows = df[row_axis].unique()\n",
    "    labels = df[label_axis].unique()\n",
    "    xs = df[x_axis].unique()\n",
    "\n",
    "    # Define the colors for each w value\n",
    "    colors = [PRIMARY, SECONDARY, TERTIARY]\n",
    "\n",
    "    # Create a figure with 3 subplots (one for each gamma)\n",
    "    fig, axes = plt.subplots(len(rows), len(cols), figsize=figsize)\n",
    "\n",
    "    if len(rows) == 1 and len(cols) == 1:\n",
    "        axes = np.array([[axes]])\n",
    "    elif len(rows) == 1: \n",
    "        axes = axes.reshape(1, -1)\n",
    "    elif len(cols) == 1:\n",
    "        axes = axes.reshape(-1, 1)\n",
    "\n",
    "    fig.suptitle(title)\n",
    "    fig.tight_layout()\n",
    "\n",
    "    # Iterate through the unique gammas\n",
    "    for i, col in enumerate(cols):\n",
    "        for j, row in enumerate(rows):\n",
    "            axes[j, 0].set_ylabel(f\"{row_axis}={row}\")\n",
    "            axes[0, i].set_title(f\"{col_axis}={col}\")\n",
    "            axes[-1, i].set_xlabel(x_axis)\n",
    "\n",
    "            ax = axes[j, i]\n",
    "\n",
    "            for k, label in enumerate(labels):\n",
    "                data = df[(df[col_axis] == col) & (df[label_axis] == label) & (df[row_axis] == row)]\n",
    "                color = colors[k]\n",
    "                \n",
    "                rlct_mean = data[\"rlct/mean\"]\n",
    "                rlct_std = data[\"rlct/std\"]\n",
    "\n",
    "                if rlct_mean.max() > NUM_PARAMS:\n",
    "                    continue\n",
    "\n",
    "                # Plot the training error against the number of steps\n",
    "                ax.plot(data[x_axis], rlct_mean, color=color, label=f'{label_axis}={label}')\n",
    "                ax.fill_between(xs, rlct_mean-rlct_std, rlct_mean+rlct_std, alpha=0.3)\n",
    "\n",
    "            if logscale:\n",
    "                ax.set_yscale('log')\n",
    "                ax.set_xscale('log')\n",
    "\n",
    "            ax.legend(loc='lower left') \n",
    "\n",
    "    plt.show()\n",
    "\n",
    "\n",
    "# lr, num_draws, noise_level, elasticity\n",
    "plot_rlct_grid(grid_search, col_axis=\"lr\", row_axis=\"noise_level\", x_axis=\"num_draws\", label_axis=\"elasticity\", title=\"Lambda hats\")"
   ]
  },
  {
   "cell_type": "code",
   "execution_count": null,
   "metadata": {},
   "outputs": [
    {
     "data": {
      "text/html": [
       "Finishing last run (ID:e75c5uch) before initializing another..."
      ],
      "text/plain": [
       "<IPython.core.display.HTML object>"
      ]
     },
     "metadata": {},
     "output_type": "display_data"
    },
    {
     "data": {
      "text/html": [
       "Waiting for W&B process to finish... <strong style=\"color:green\">(success).</strong>"
      ],
      "text/plain": [
       "<IPython.core.display.HTML object>"
      ]
     },
     "metadata": {},
     "output_type": "display_data"
    },
    {
     "data": {
      "application/vnd.jupyter.widget-view+json": {
       "model_id": "7ea2689e616147eda3231cf11ca17f83",
       "version_major": 2,
       "version_minor": 0
      },
      "text/plain": [
       "VBox(children=(Label(value='0.001 MB of 0.003 MB uploaded (0.000 MB deduped)\\r'), FloatProgress(value=0.316023…"
      ]
     },
     "metadata": {},
     "output_type": "display_data"
    },
    {
     "data": {
      "text/html": [
       "<style>\n",
       "    table.wandb td:nth-child(1) { padding: 0 10px; text-align: left ; width: auto;} td:nth-child(2) {text-align: left ; width: 100%}\n",
       "    .wandb-row { display: flex; flex-direction: row; flex-wrap: wrap; justify-content: flex-start; width: 100% }\n",
       "    .wandb-col { display: flex; flex-direction: column; flex-basis: 100%; flex: 1; padding: 10px; }\n",
       "    </style>\n",
       "<div class=\"wandb-row\"><div class=\"wandb-col\"><h3>Run history:</h3><br/><table class=\"wandb\"><tr><td>rlct/0</td><td>▁</td></tr><tr><td>rlct/1</td><td>▁</td></tr><tr><td>rlct/2</td><td>▁</td></tr><tr><td>rlct/3</td><td>▁</td></tr><tr><td>rlct/4</td><td>▁</td></tr><tr><td>rlct/mean</td><td>▁</td></tr><tr><td>rlct/std</td><td>▁</td></tr></table><br/></div><div class=\"wandb-col\"><h3>Run summary:</h3><br/><table class=\"wandb\"><tr><td>rlct/0</td><td>-1090544.10238</td></tr><tr><td>rlct/1</td><td>4974583126.84238</td></tr><tr><td>rlct/2</td><td>-1095200.19739</td></tr><tr><td>rlct/3</td><td>464535469.37144</td></tr><tr><td>rlct/4</td><td>-1147983.41702</td></tr><tr><td>rlct/mean</td><td>1087156973.69941</td></tr><tr><td>rlct/std</td><td>1952061616.21341</td></tr></table><br/></div></div>"
      ],
      "text/plain": [
       "<IPython.core.display.HTML object>"
      ]
     },
     "metadata": {},
     "output_type": "display_data"
    },
    {
     "data": {
      "text/html": [
       " View run <strong style=\"color:#cdcd00\">robust-gorge-20</strong> at: <a href='https://wandb.ai/devinterp/grokking/runs/e75c5uch' target=\"_blank\">https://wandb.ai/devinterp/grokking/runs/e75c5uch</a><br/>Synced 4 W&B file(s), 0 media file(s), 0 artifact file(s) and 0 other file(s)"
      ],
      "text/plain": [
       "<IPython.core.display.HTML object>"
      ]
     },
     "metadata": {},
     "output_type": "display_data"
    },
    {
     "data": {
      "text/html": [
       "Find logs at: <code>./wandb/run-20230926_204238-e75c5uch/logs</code>"
      ],
      "text/plain": [
       "<IPython.core.display.HTML object>"
      ]
     },
     "metadata": {},
     "output_type": "display_data"
    },
    {
     "data": {
      "text/html": [
       "Successfully finished last run (ID:e75c5uch). Initializing new run:<br/>"
      ],
      "text/plain": [
       "<IPython.core.display.HTML object>"
      ]
     },
     "metadata": {},
     "output_type": "display_data"
    },
    {
     "data": {
      "application/vnd.jupyter.widget-view+json": {
       "model_id": "6a942eabc3db44e4a469dc8d308d7bc2",
       "version_major": 2,
       "version_minor": 0
      },
      "text/plain": [
       "VBox(children=(Label(value='Waiting for wandb.init()...\\r'), FloatProgress(value=0.016751621516656694, max=1.0…"
      ]
     },
     "metadata": {},
     "output_type": "display_data"
    },
    {
     "data": {
      "text/html": [
       "wandb version 0.15.11 is available!  To upgrade, please run:\n",
       " $ pip install wandb --upgrade"
      ],
      "text/plain": [
       "<IPython.core.display.HTML object>"
      ]
     },
     "metadata": {},
     "output_type": "display_data"
    },
    {
     "data": {
      "text/html": [
       "Tracking run with wandb version 0.15.5"
      ],
      "text/plain": [
       "<IPython.core.display.HTML object>"
      ]
     },
     "metadata": {},
     "output_type": "display_data"
    },
    {
     "data": {
      "text/html": [
       "Run data is saved locally in <code>/Users/Jesse/Projects/devinterp/demos/wandb/run-20230926_205332-wuem2lan</code>"
      ],
      "text/plain": [
       "<IPython.core.display.HTML object>"
      ]
     },
     "metadata": {},
     "output_type": "display_data"
    },
    {
     "data": {
      "text/html": [
       "Syncing run <strong><a href='https://wandb.ai/devinterp/grokking/runs/wuem2lan' target=\"_blank\">colorful-night-21</a></strong> to <a href='https://wandb.ai/devinterp/grokking' target=\"_blank\">Weights & Biases</a> (<a href='https://wandb.me/run' target=\"_blank\">docs</a>)<br/>"
      ],
      "text/plain": [
       "<IPython.core.display.HTML object>"
      ]
     },
     "metadata": {},
     "output_type": "display_data"
    },
    {
     "data": {
      "text/html": [
       " View project at <a href='https://wandb.ai/devinterp/grokking' target=\"_blank\">https://wandb.ai/devinterp/grokking</a>"
      ],
      "text/plain": [
       "<IPython.core.display.HTML object>"
      ]
     },
     "metadata": {},
     "output_type": "display_data"
    },
    {
     "data": {
      "text/html": [
       " View run at <a href='https://wandb.ai/devinterp/grokking/runs/wuem2lan' target=\"_blank\">https://wandb.ai/devinterp/grokking/runs/wuem2lan</a>"
      ],
      "text/plain": [
       "<IPython.core.display.HTML object>"
      ]
     },
     "metadata": {},
     "output_type": "display_data"
    },
    {
     "name": "stderr",
     "output_type": "stream",
     "text": [
      "Chain 0: 100%|██████████| 1000/1000 [01:15<00:00, 13.26it/s]\n",
      "Chain 0: 100%|██████████| 1000/1000 [01:17<00:00, 12.98it/s]\n",
      "Chain 0: 100%|██████████| 1000/1000 [01:14<00:00, 13.36it/s]\n",
      "Chain 0: 100%|██████████| 1000/1000 [01:15<00:00, 13.26it/s]\n",
      "Chain 0: 100%|██████████| 1000/1000 [01:14<00:00, 13.44it/s]\n"
     ]
    },
    {
     "name": "stdout",
     "output_type": "stream",
     "text": [
      "rlct/0: -1076022.612389441\n",
      "rlct/1: -1054982.6960950864\n",
      "rlct/2: 66154327.386090904\n",
      "rlct/3: -1111001.9574656803\n",
      "rlct/4: 3782366701.3189497\n",
      "rlct/mean: 769055804.2878181\n",
      "rlct/std: 1506880460.6121142\n",
      "\n"
     ]
    },
    {
     "name": "stderr",
     "output_type": "stream",
     "text": [
      "Chain 0: 100%|██████████| 1000/1000 [01:14<00:00, 13.40it/s]\n",
      "Chain 0: 100%|██████████| 1000/1000 [01:18<00:00, 12.72it/s]\n",
      "Chain 0: 100%|██████████| 1000/1000 [01:21<00:00, 12.34it/s]\n",
      "Chain 0: 100%|██████████| 1000/1000 [01:16<00:00, 13.10it/s]\n",
      "Chain 0: 100%|██████████| 1000/1000 [01:18<00:00, 12.74it/s]\n"
     ]
    },
    {
     "name": "stdout",
     "output_type": "stream",
     "text": [
      "rlct/0: -958250.7928802938\n",
      "rlct/1: -1118475.4288528177\n",
      "rlct/2: 2.1412674231859354e+18\n",
      "rlct/3: 8957218978.728872\n",
      "rlct/4: -1055052.6100986358\n",
      "rlct/mean: 4.2825348642800454e+17\n",
      "rlct/std: 8.565069683789654e+17\n",
      "\n"
     ]
    },
    {
     "name": "stderr",
     "output_type": "stream",
     "text": [
      "Chain 0: 100%|██████████| 1000/1000 [01:14<00:00, 13.46it/s]\n",
      "Chain 0: 100%|██████████| 1000/1000 [01:15<00:00, 13.22it/s]\n",
      "Chain 0: 100%|██████████| 1000/1000 [01:14<00:00, 13.46it/s]\n",
      "Chain 0: 100%|██████████| 1000/1000 [01:15<00:00, 13.16it/s]\n",
      "Chain 0: 100%|██████████| 1000/1000 [01:15<00:00, 13.23it/s]\n"
     ]
    },
    {
     "name": "stdout",
     "output_type": "stream",
     "text": [
      "rlct/0: 590806735691404.1\n",
      "rlct/1: 23154678116733.12\n",
      "rlct/2: 455390776642.02515\n",
      "rlct/3: 4.006420555579203e+16\n",
      "rlct/4: 18513385509.090744\n",
      "rlct/mean: 8135728174752464.0\n",
      "rlct/std: 1.5965837222615244e+16\n",
      "\n"
     ]
    },
    {
     "name": "stderr",
     "output_type": "stream",
     "text": [
      "Chain 0: 100%|██████████| 1000/1000 [01:15<00:00, 13.25it/s]\n",
      "Chain 0: 100%|██████████| 1000/1000 [01:14<00:00, 13.38it/s]\n",
      "Chain 0: 100%|██████████| 1000/1000 [01:17<00:00, 12.90it/s]\n",
      "Chain 0: 100%|██████████| 1000/1000 [01:16<00:00, 13.11it/s]\n",
      "Chain 0: 100%|██████████| 1000/1000 [01:14<00:00, 13.42it/s]\n"
     ]
    },
    {
     "name": "stdout",
     "output_type": "stream",
     "text": [
      "rlct/0: 84420522265905.47\n",
      "rlct/1: 78208507879795.12\n",
      "rlct/2: 10585671937732.695\n",
      "rlct/3: 144937915223922.78\n",
      "rlct/4: 725232559101.8042\n",
      "rlct/mean: 63775569973291.58\n",
      "rlct/std: 52964819152785.33\n",
      "\n"
     ]
    },
    {
     "name": "stderr",
     "output_type": "stream",
     "text": [
      "Chain 0: 100%|██████████| 1000/1000 [01:15<00:00, 13.20it/s]\n",
      "Chain 0: 100%|██████████| 1000/1000 [01:15<00:00, 13.33it/s]\n",
      "Chain 0: 100%|██████████| 1000/1000 [01:15<00:00, 13.31it/s]\n",
      "Chain 0: 100%|██████████| 1000/1000 [01:16<00:00, 13.13it/s]\n",
      "Chain 0: 100%|██████████| 1000/1000 [01:15<00:00, 13.16it/s]\n"
     ]
    },
    {
     "name": "stdout",
     "output_type": "stream",
     "text": [
      "rlct/0: 20827003100251.957\n",
      "rlct/1: 5.9100261075731e+16\n",
      "rlct/2: 1.546139953995687e+31\n",
      "rlct/3: 1269000336089450.5\n",
      "rlct/4: 1923250140393970.0\n",
      "rlct/mean: 3.0922799079913867e+30\n",
      "rlct/std: 6.184559815982742e+30\n",
      "\n"
     ]
    },
    {
     "name": "stderr",
     "output_type": "stream",
     "text": [
      "Chain 0: 100%|██████████| 1000/1000 [01:15<00:00, 13.26it/s]\n",
      "Chain 0: 100%|██████████| 1000/1000 [01:17<00:00, 12.88it/s]\n",
      "Chain 0: 100%|██████████| 1000/1000 [01:19<00:00, 12.61it/s]\n",
      "Chain 0: 100%|██████████| 1000/1000 [01:20<00:00, 12.42it/s]\n",
      "Chain 0: 100%|██████████| 1000/1000 [01:21<00:00, 12.20it/s]\n"
     ]
    },
    {
     "name": "stdout",
     "output_type": "stream",
     "text": [
      "rlct/0: 1.1624082032980454e+24\n",
      "rlct/1: 2.2314989529901013e+20\n",
      "rlct/2: 294535153766.3506\n",
      "rlct/3: 3.2678892621509212e+16\n",
      "rlct/4: 7.960900255446852e+21\n",
      "rlct/mean: 2.3411845722559566e+23\n",
      "rlct/std: 4.641549303314312e+23\n",
      "\n"
     ]
    },
    {
     "name": "stderr",
     "output_type": "stream",
     "text": [
      "Chain 0: 100%|██████████| 1000/1000 [01:21<00:00, 12.24it/s]\n",
      "Chain 0: 100%|██████████| 1000/1000 [01:20<00:00, 12.35it/s]\n",
      "Chain 0: 100%|██████████| 1000/1000 [01:21<00:00, 12.33it/s]\n",
      "Chain 0: 100%|██████████| 1000/1000 [01:22<00:00, 12.17it/s]\n",
      "Chain 0: 100%|██████████| 1000/1000 [01:22<00:00, 12.15it/s]\n"
     ]
    },
    {
     "name": "stdout",
     "output_type": "stream",
     "text": [
      "rlct/0: 354940006340040.56\n",
      "rlct/1: 9.778278004969368e+17\n",
      "rlct/2: 4.602720081154702e+16\n",
      "rlct/3: 2295597540684887.0\n",
      "rlct/4: 3.360172557566105e+17\n",
      "rlct/mean: 2.7250455892242387e+17\n",
      "rlct/std: 3.741350102271585e+17\n",
      "\n"
     ]
    },
    {
     "name": "stderr",
     "output_type": "stream",
     "text": [
      "Chain 0: 100%|██████████| 1000/1000 [01:20<00:00, 12.35it/s]\n",
      "Chain 0: 100%|██████████| 1000/1000 [01:22<00:00, 12.15it/s]\n",
      "Chain 0: 100%|██████████| 1000/1000 [01:22<00:00, 12.15it/s]\n",
      "Chain 0: 100%|██████████| 1000/1000 [01:22<00:00, 12.13it/s]\n",
      "Chain 0: 100%|██████████| 1000/1000 [01:21<00:00, 12.30it/s]\n"
     ]
    },
    {
     "name": "stdout",
     "output_type": "stream",
     "text": [
      "rlct/0: 68726027149.83414\n",
      "rlct/1: 3.1354085842839204e+18\n",
      "rlct/2: 34831748508.905136\n",
      "rlct/3: 1748511379291866.5\n",
      "rlct/4: 1053056108566956.0\n",
      "rlct/mean: 6.27642051065911e+17\n",
      "rlct/std: 1.253883442373285e+18\n",
      "\n"
     ]
    },
    {
     "name": "stderr",
     "output_type": "stream",
     "text": [
      "Chain 0: 100%|██████████| 1000/1000 [01:21<00:00, 12.24it/s]\n",
      "Chain 0: 100%|██████████| 1000/1000 [01:17<00:00, 12.83it/s]\n",
      "Chain 0: 100%|██████████| 1000/1000 [01:11<00:00, 14.01it/s]\n",
      "Chain 0: 100%|██████████| 1000/1000 [01:11<00:00, 13.91it/s]\n",
      "Chain 0: 100%|██████████| 1000/1000 [01:16<00:00, 13.08it/s]\n"
     ]
    },
    {
     "name": "stdout",
     "output_type": "stream",
     "text": [
      "rlct/0: 662328791590129.9\n",
      "rlct/1: 2.6424305666599336e+33\n",
      "rlct/2: 6.682207732939501e+16\n",
      "rlct/3: 262087912930.4793\n",
      "rlct/4: 1968866495066.6123\n",
      "rlct/mean: 5.284861133319867e+32\n",
      "rlct/std: 1.0569722266639735e+33\n",
      "\n"
     ]
    },
    {
     "name": "stderr",
     "output_type": "stream",
     "text": [
      "Chain 0: 100%|██████████| 1000/1000 [01:15<00:00, 13.33it/s]\n",
      "Chain 0: 100%|██████████| 1000/1000 [01:16<00:00, 13.00it/s]\n",
      "Chain 0: 100%|██████████| 1000/1000 [01:14<00:00, 13.43it/s]\n",
      "Chain 0: 100%|██████████| 1000/1000 [01:16<00:00, 13.11it/s]\n",
      "Chain 0: 100%|██████████| 1000/1000 [01:16<00:00, 13.04it/s]\n"
     ]
    },
    {
     "name": "stdout",
     "output_type": "stream",
     "text": [
      "rlct/0: -7265.708729567356\n",
      "rlct/1: -6604.494732025537\n",
      "rlct/2: -5923.446941951286\n",
      "rlct/3: -7352.3616086739785\n",
      "rlct/4: -6036.206155893416\n",
      "rlct/mean: -6636.443633622315\n",
      "rlct/std: 596.3527734980731\n",
      "\n"
     ]
    },
    {
     "name": "stderr",
     "output_type": "stream",
     "text": [
      "Chain 0: 100%|██████████| 1000/1000 [01:21<00:00, 12.27it/s]\n",
      "Chain 0: 100%|██████████| 1000/1000 [01:20<00:00, 12.40it/s]\n",
      "Chain 0: 100%|██████████| 1000/1000 [01:18<00:00, 12.77it/s]\n",
      "Chain 0: 100%|██████████| 1000/1000 [01:17<00:00, 12.87it/s]\n",
      "Chain 0: 100%|██████████| 1000/1000 [01:18<00:00, 12.76it/s]\n"
     ]
    },
    {
     "name": "stdout",
     "output_type": "stream",
     "text": [
      "rlct/0: 1454.8972983902186\n",
      "rlct/1: 1476.7806499208393\n",
      "rlct/2: 1455.2836098875869\n",
      "rlct/3: 1530.3417783910963\n",
      "rlct/4: 1448.3330626422\n",
      "rlct/mean: 1473.1272798463883\n",
      "rlct/std: 30.173922333308553\n",
      "\n"
     ]
    },
    {
     "name": "stderr",
     "output_type": "stream",
     "text": [
      "Chain 0: 100%|██████████| 1000/1000 [01:17<00:00, 12.94it/s]\n",
      "Chain 0: 100%|██████████| 1000/1000 [01:20<00:00, 12.47it/s]\n",
      "Chain 0: 100%|██████████| 1000/1000 [01:17<00:00, 12.89it/s]\n",
      "Chain 0: 100%|██████████| 1000/1000 [01:17<00:00, 12.97it/s]\n",
      "Chain 0: 100%|██████████| 1000/1000 [01:16<00:00, 13.12it/s]\n"
     ]
    },
    {
     "name": "stdout",
     "output_type": "stream",
     "text": [
      "rlct/0: -5036.406985572983\n",
      "rlct/1: -5730.672989143792\n",
      "rlct/2: -4296.196262934319\n",
      "rlct/3: -5121.183947133264\n",
      "rlct/4: -3035.1845718373606\n",
      "rlct/mean: -4643.928951324344\n",
      "rlct/std: 924.3160112466168\n",
      "\n"
     ]
    },
    {
     "name": "stderr",
     "output_type": "stream",
     "text": [
      "Chain 0: 100%|██████████| 1000/1000 [01:14<00:00, 13.36it/s]\n",
      "Chain 0: 100%|██████████| 1000/1000 [01:14<00:00, 13.39it/s]\n",
      "Chain 0: 100%|██████████| 1000/1000 [01:17<00:00, 12.96it/s]\n",
      "Chain 0: 100%|██████████| 1000/1000 [01:16<00:00, 12.99it/s]\n",
      "Chain 0: 100%|██████████| 1000/1000 [01:16<00:00, 13.12it/s]\n"
     ]
    },
    {
     "name": "stdout",
     "output_type": "stream",
     "text": [
      "rlct/0: 1419.6363178528725\n",
      "rlct/1: 1435.8964783549848\n",
      "rlct/2: 1518.6668765346983\n",
      "rlct/3: 1470.5792436720358\n",
      "rlct/4: 1467.0745722036413\n",
      "rlct/mean: 1462.3706977236466\n",
      "rlct/std: 34.01728362040662\n",
      "\n"
     ]
    },
    {
     "name": "stderr",
     "output_type": "stream",
     "text": [
      "Chain 0: 100%|██████████| 1000/1000 [01:17<00:00, 12.92it/s]\n",
      "Chain 0: 100%|██████████| 1000/1000 [01:17<00:00, 12.90it/s]\n",
      "Chain 0: 100%|██████████| 1000/1000 [01:18<00:00, 12.71it/s]\n",
      "Chain 0: 100%|██████████| 1000/1000 [01:19<00:00, 12.61it/s]\n",
      "Chain 0: 100%|██████████| 1000/1000 [01:19<00:00, 12.62it/s]\n"
     ]
    },
    {
     "name": "stdout",
     "output_type": "stream",
     "text": [
      "rlct/0: -10361.076790363493\n",
      "rlct/1: -10476.652976339836\n",
      "rlct/2: -8036.012993279445\n",
      "rlct/3: -15301.839163069573\n",
      "rlct/4: -9474.768156493736\n",
      "rlct/mean: -10730.070015909218\n",
      "rlct/std: 2446.8418555682274\n",
      "\n"
     ]
    },
    {
     "name": "stderr",
     "output_type": "stream",
     "text": [
      "Chain 0: 100%|██████████| 1000/1000 [01:18<00:00, 12.76it/s]\n",
      "Chain 0: 100%|██████████| 1000/1000 [01:17<00:00, 12.88it/s]\n",
      "Chain 0: 100%|██████████| 1000/1000 [01:16<00:00, 13.05it/s]\n",
      "Chain 0: 100%|██████████| 1000/1000 [01:16<00:00, 13.06it/s]\n",
      "Chain 0: 100%|██████████| 1000/1000 [01:17<00:00, 12.91it/s]\n"
     ]
    },
    {
     "name": "stdout",
     "output_type": "stream",
     "text": [
      "rlct/0: 1270.346132816964\n",
      "rlct/1: 1270.497787186347\n",
      "rlct/2: 1271.9352847354464\n",
      "rlct/3: 1288.7489116387997\n",
      "rlct/4: 1275.0607393170733\n",
      "rlct/mean: 1275.317771138926\n",
      "rlct/std: 6.926070280643061\n",
      "\n"
     ]
    },
    {
     "name": "stderr",
     "output_type": "stream",
     "text": [
      "Chain 0: 100%|██████████| 1000/1000 [01:17<00:00, 12.95it/s]\n",
      "Chain 0: 100%|██████████| 1000/1000 [01:17<00:00, 12.97it/s]\n",
      "Chain 0: 100%|██████████| 1000/1000 [01:16<00:00, 13.05it/s]\n",
      "Chain 0: 100%|██████████| 1000/1000 [01:16<00:00, 13.11it/s]\n",
      "Chain 0: 100%|██████████| 1000/1000 [01:17<00:00, 12.98it/s]\n"
     ]
    },
    {
     "name": "stdout",
     "output_type": "stream",
     "text": [
      "rlct/0: 1295.8866343373154\n",
      "rlct/1: 1318.7114394592938\n",
      "rlct/2: 1318.070603913546\n",
      "rlct/3: 1338.9617807097038\n",
      "rlct/4: 1336.3498411731623\n",
      "rlct/mean: 1321.5960599186042\n",
      "rlct/std: 15.498172530072567\n",
      "\n"
     ]
    },
    {
     "name": "stderr",
     "output_type": "stream",
     "text": [
      "Chain 0: 100%|██████████| 1000/1000 [01:18<00:00, 12.78it/s]\n",
      "Chain 0: 100%|██████████| 1000/1000 [01:17<00:00, 12.94it/s]\n",
      "Chain 0: 100%|██████████| 1000/1000 [01:18<00:00, 12.79it/s]\n",
      "Chain 0: 100%|██████████| 1000/1000 [01:16<00:00, 13.03it/s]\n",
      "Chain 0: 100%|██████████| 1000/1000 [01:17<00:00, 12.97it/s]\n"
     ]
    },
    {
     "name": "stdout",
     "output_type": "stream",
     "text": [
      "rlct/0: 282.0437021465578\n",
      "rlct/1: 101.32662996142261\n",
      "rlct/2: 214.7435427770518\n",
      "rlct/3: 214.31041423659883\n",
      "rlct/4: 260.89862698512724\n",
      "rlct/mean: 214.66458322135162\n",
      "rlct/std: 62.487047920859325\n",
      "\n"
     ]
    },
    {
     "name": "stderr",
     "output_type": "stream",
     "text": [
      "Chain 0: 100%|██████████| 1000/1000 [01:18<00:00, 12.69it/s]\n",
      "Chain 0: 100%|██████████| 1000/1000 [01:16<00:00, 13.08it/s]\n",
      "Chain 0: 100%|██████████| 1000/1000 [01:16<00:00, 13.15it/s]\n",
      "Chain 0: 100%|██████████| 1000/1000 [01:18<00:00, 12.82it/s]\n",
      "Chain 0: 100%|██████████| 1000/1000 [01:18<00:00, 12.77it/s]\n"
     ]
    },
    {
     "name": "stdout",
     "output_type": "stream",
     "text": [
      "rlct/0: 1507.5791926550598\n",
      "rlct/1: 1512.9637428113374\n",
      "rlct/2: 1520.6306315007912\n",
      "rlct/3: 1504.50117619174\n",
      "rlct/4: 1490.787597326559\n",
      "rlct/mean: 1507.2924680970975\n",
      "rlct/std: 9.90307265946522\n",
      "\n"
     ]
    },
    {
     "name": "stderr",
     "output_type": "stream",
     "text": [
      "Chain 0: 100%|██████████| 1000/1000 [01:17<00:00, 12.94it/s]\n",
      "Chain 0: 100%|██████████| 1000/1000 [01:17<00:00, 12.97it/s]\n",
      "Chain 0: 100%|██████████| 1000/1000 [01:17<00:00, 12.98it/s]\n",
      "Chain 0: 100%|██████████| 1000/1000 [01:16<00:00, 13.06it/s]\n",
      "Chain 0: 100%|██████████| 1000/1000 [01:16<00:00, 13.02it/s]\n"
     ]
    },
    {
     "name": "stdout",
     "output_type": "stream",
     "text": [
      "rlct/0: -199.54340434363567\n",
      "rlct/1: -50.629741053882874\n",
      "rlct/2: -146.98613514472413\n",
      "rlct/3: -104.43176036355429\n",
      "rlct/4: -122.61175760317155\n",
      "rlct/mean: -124.8405597017937\n",
      "rlct/std: 48.98912892244188\n",
      "\n"
     ]
    },
    {
     "name": "stderr",
     "output_type": "stream",
     "text": [
      "Chain 0: 100%|██████████| 1000/1000 [01:16<00:00, 13.00it/s]\n",
      "Chain 0: 100%|██████████| 1000/1000 [01:16<00:00, 13.08it/s]\n",
      "Chain 0: 100%|██████████| 1000/1000 [01:16<00:00, 13.03it/s]\n",
      "Chain 0: 100%|██████████| 1000/1000 [01:16<00:00, 13.00it/s]\n",
      "Chain 0: 100%|██████████| 1000/1000 [01:17<00:00, 12.95it/s]\n"
     ]
    },
    {
     "name": "stdout",
     "output_type": "stream",
     "text": [
      "rlct/0: 1408.1353288233636\n",
      "rlct/1: 1380.079104211469\n",
      "rlct/2: 1430.7869840220712\n",
      "rlct/3: 1382.4383798504014\n",
      "rlct/4: 1448.3311959583928\n",
      "rlct/mean: 1409.9541985731396\n",
      "rlct/std: 26.682386355560137\n",
      "\n"
     ]
    },
    {
     "name": "stderr",
     "output_type": "stream",
     "text": [
      "Chain 0: 100%|██████████| 1000/1000 [01:16<00:00, 13.14it/s]\n",
      "Chain 0: 100%|██████████| 1000/1000 [01:16<00:00, 13.04it/s]\n",
      "Chain 0: 100%|██████████| 1000/1000 [01:16<00:00, 13.12it/s]\n",
      "Chain 0: 100%|██████████| 1000/1000 [01:19<00:00, 12.65it/s]\n",
      "Chain 0: 100%|██████████| 1000/1000 [01:16<00:00, 13.01it/s]\n"
     ]
    },
    {
     "name": "stdout",
     "output_type": "stream",
     "text": [
      "rlct/0: 5.483639585088347e+23\n",
      "rlct/1: 3.0666053836780425e+30\n",
      "rlct/2: 1.3796783843794215e+25\n",
      "rlct/3: 9.722619103723534e+17\n",
      "rlct/4: 7.111754224427093e+19\n",
      "rlct/mean: 6.133239457795869e+29\n",
      "rlct/std: 1.2266407189605763e+30\n",
      "\n"
     ]
    },
    {
     "name": "stderr",
     "output_type": "stream",
     "text": [
      "Chain 0: 100%|██████████| 1000/1000 [01:17<00:00, 12.89it/s]\n",
      "Chain 0: 100%|██████████| 1000/1000 [01:17<00:00, 12.91it/s]\n",
      "Chain 0: 100%|██████████| 1000/1000 [01:17<00:00, 12.86it/s]\n",
      "Chain 0: 100%|██████████| 1000/1000 [01:17<00:00, 12.95it/s]\n",
      "Chain 0: 100%|██████████| 1000/1000 [01:17<00:00, 12.90it/s]\n"
     ]
    },
    {
     "name": "stdout",
     "output_type": "stream",
     "text": [
      "rlct/0: 533.4241032642008\n",
      "rlct/1: 577.6710825359023\n",
      "rlct/2: 544.5751652302604\n",
      "rlct/3: 594.9126226733525\n",
      "rlct/4: 612.9391987537449\n",
      "rlct/mean: 572.7044344914923\n",
      "rlct/std: 29.902868360254736\n",
      "\n"
     ]
    },
    {
     "name": "stderr",
     "output_type": "stream",
     "text": [
      "Chain 0: 100%|██████████| 1000/1000 [01:17<00:00, 12.88it/s]\n",
      "Chain 0: 100%|██████████| 1000/1000 [01:18<00:00, 12.73it/s]\n",
      "Chain 0: 100%|██████████| 1000/1000 [01:18<00:00, 12.69it/s]\n",
      "Chain 0: 100%|██████████| 1000/1000 [01:31<00:00, 10.93it/s]\n",
      "Chain 0: 100%|██████████| 1000/1000 [01:15<00:00, 13.29it/s]\n"
     ]
    },
    {
     "name": "stdout",
     "output_type": "stream",
     "text": [
      "rlct/0: 1390.8921642681453\n",
      "rlct/1: 1381.7111230832893\n",
      "rlct/2: 1437.5108479560074\n",
      "rlct/3: 1417.9499149344372\n",
      "rlct/4: 1379.4197905281324\n",
      "rlct/mean: 1401.4967681540024\n",
      "rlct/std: 22.62318411938095\n",
      "\n"
     ]
    },
    {
     "name": "stderr",
     "output_type": "stream",
     "text": [
      "Chain 0: 100%|██████████| 1000/1000 [01:17<00:00, 12.95it/s]\n",
      "Chain 0: 100%|██████████| 1000/1000 [17:15<00:00,  1.04s/it]  \n",
      "Chain 0: 100%|██████████| 1000/1000 [10:21<00:00,  1.61it/s]  \n",
      "Chain 0: 100%|██████████| 1000/1000 [17:37<00:00,  1.06s/it]  \n",
      "Chain 0: 100%|██████████| 1000/1000 [17:27<00:00,  1.05s/it]  \n"
     ]
    },
    {
     "name": "stdout",
     "output_type": "stream",
     "text": [
      "rlct/0: 231.13689501912282\n",
      "rlct/1: 170.78583218649567\n",
      "rlct/2: 255.24101268152776\n",
      "rlct/3: 216.5854136649507\n",
      "rlct/4: 236.9549425962463\n",
      "rlct/mean: 222.14081922966867\n",
      "rlct/std: 28.51037587431371\n",
      "\n"
     ]
    },
    {
     "name": "stderr",
     "output_type": "stream",
     "text": [
      "Chain 0: 100%|██████████| 1000/1000 [01:20<00:00, 12.36it/s]\n",
      "Chain 0: 100%|██████████| 1000/1000 [22:23<00:00,  1.34s/it]  \n",
      "Chain 0: 100%|██████████| 1000/1000 [17:58<00:00,  1.08s/it]   \n",
      "Chain 0: 100%|██████████| 1000/1000 [26:02<00:00,  1.56s/it]  \n",
      "Chain 0: 100%|██████████| 1000/1000 [13:20<00:00,  1.25it/s]   \n"
     ]
    },
    {
     "name": "stdout",
     "output_type": "stream",
     "text": [
      "rlct/0: 1417.4001303317102\n",
      "rlct/1: 1384.1430993897907\n",
      "rlct/2: 1435.2247368926471\n",
      "rlct/3: 1394.2168772391633\n",
      "rlct/4: 1402.9316955155084\n",
      "rlct/mean: 1406.783307873764\n",
      "rlct/std: 17.9274144292477\n",
      "\n"
     ]
    },
    {
     "name": "stderr",
     "output_type": "stream",
     "text": [
      "Chain 0: 100%|██████████| 1000/1000 [16:12<00:00,  1.03it/s]   \n",
      "Chain 0: 100%|██████████| 1000/1000 [18:40<00:00,  1.12s/it]   \n",
      "Chain 0: 100%|██████████| 1000/1000 [16:26<00:00,  1.01it/s]   \n",
      "Chain 0: 100%|██████████| 1000/1000 [32:18<00:00,  1.94s/it]   \n",
      "Chain 0: 100%|██████████| 1000/1000 [17:23<00:00,  1.04s/it]   \n"
     ]
    },
    {
     "name": "stdout",
     "output_type": "stream",
     "text": [
      "rlct/0: 1.0097719535856591e+20\n",
      "rlct/1: 1.2577857278534722e+30\n",
      "rlct/2: 1.3085163365203768e+18\n",
      "rlct/3: 3.2534778985792668e+16\n",
      "rlct/4: 1051.6265640784527\n",
      "rlct/mean: 2.515571455911581e+29\n",
      "rlct/std: 5.0311429113115706e+29\n",
      "\n"
     ]
    },
    {
     "name": "stderr",
     "output_type": "stream",
     "text": [
      "Chain 0: 100%|██████████| 1000/1000 [30:47<00:00,  1.85s/it]   \n",
      "Chain 0: 100%|██████████| 1000/1000 [17:36<00:00,  1.06s/it]   \n",
      "Chain 0: 100%|██████████| 1000/1000 [06:47<00:00,  2.46it/s] \n",
      "Chain 0: 100%|██████████| 1000/1000 [19:37<00:00,  1.18s/it]  \n",
      "Chain 0: 100%|██████████| 1000/1000 [15:21<00:00,  1.09it/s]   \n"
     ]
    },
    {
     "name": "stdout",
     "output_type": "stream",
     "text": [
      "rlct/0: 409.89332274801035\n",
      "rlct/1: 360.95882749233584\n",
      "rlct/2: 382.3064749238547\n",
      "rlct/3: 448.3521533267589\n",
      "rlct/4: 427.7341770517238\n",
      "rlct/mean: 405.8489911085368\n",
      "rlct/std: 31.21286157506784\n",
      "\n"
     ]
    },
    {
     "name": "stderr",
     "output_type": "stream",
     "text": [
      "Chain 0: 100%|██████████| 1000/1000 [23:44<00:00,  1.42s/it]  \n",
      "Chain 0: 100%|██████████| 1000/1000 [01:43<00:00,  9.63it/s]\n",
      "Chain 0: 100%|██████████| 1000/1000 [17:54<00:00,  1.07s/it]  \n",
      "Chain 0: 100%|██████████| 1000/1000 [02:34<00:00,  6.46it/s] \n",
      "Chain 0: 100%|██████████| 1000/1000 [22:51<00:00,  1.37s/it]   \n"
     ]
    },
    {
     "name": "stdout",
     "output_type": "stream",
     "text": [
      "rlct/0: 1346.2521014404563\n",
      "rlct/1: 1377.87945941445\n",
      "rlct/2: 1344.786543883252\n",
      "rlct/3: 1339.9372936155912\n",
      "rlct/4: 1346.347664207438\n",
      "rlct/mean: 1351.0406125122377\n",
      "rlct/std: 13.621118676916165\n",
      "\n"
     ]
    },
    {
     "name": "stderr",
     "output_type": "stream",
     "text": [
      "Chain 0: 100%|██████████| 1000/1000 [16:51<00:00,  1.01s/it]   \n",
      "Chain 0: 100%|██████████| 1000/1000 [07:16<00:00,  2.29it/s]  \n",
      "Chain 0: 100%|██████████| 1000/1000 [35:04<00:00,  2.10s/it]  \n",
      "Chain 0: 100%|██████████| 1000/1000 [19:44<00:00,  1.18s/it]  \n",
      "Chain 0: 100%|██████████| 1000/1000 [58:35<00:00,  3.52s/it]  \n"
     ]
    },
    {
     "name": "stdout",
     "output_type": "stream",
     "text": [
      "rlct/0: 1.7454710715271249e+21\n",
      "rlct/1: 982.015456135878\n",
      "rlct/2: 8.419612786675968e+18\n",
      "rlct/3: 1.2486993446262464e+17\n",
      "rlct/4: 1012.3825084351506\n",
      "rlct/mean: 3.5080311084965265e+20\n",
      "rlct/std: 6.973415309733185e+20\n",
      "\n"
     ]
    },
    {
     "name": "stderr",
     "output_type": "stream",
     "text": [
      "Chain 0: 100%|██████████| 1000/1000 [03:36<00:00,  4.62it/s] \n",
      "Chain 0: 100%|██████████| 1000/1000 [01:21<00:00, 12.29it/s]\n",
      "Chain 0: 100%|██████████| 1000/1000 [01:15<00:00, 13.31it/s]\n",
      "Chain 0: 100%|██████████| 1000/1000 [01:20<00:00, 12.50it/s]\n",
      "Chain 0: 100%|██████████| 1000/1000 [01:22<00:00, 12.07it/s]\n"
     ]
    },
    {
     "name": "stdout",
     "output_type": "stream",
     "text": [
      "rlct/0: -1437.5807819493302\n",
      "rlct/1: -2125.632843541254\n",
      "rlct/2: -2728.1212538536265\n",
      "rlct/3: -2678.228804418359\n",
      "rlct/4: -1741.786167522736\n",
      "rlct/mean: -2142.2699702570612\n",
      "rlct/std: 507.4888217021126\n",
      "\n"
     ]
    },
    {
     "name": "stderr",
     "output_type": "stream",
     "text": [
      "Chain 0: 100%|██████████| 1000/1000 [01:15<00:00, 13.24it/s]\n",
      "Chain 0: 100%|██████████| 1000/1000 [01:13<00:00, 13.56it/s]\n",
      "Chain 0: 100%|██████████| 1000/1000 [01:13<00:00, 13.64it/s]\n",
      "Chain 0: 100%|██████████| 1000/1000 [01:16<00:00, 13.11it/s]\n",
      "Chain 0: 100%|██████████| 1000/1000 [01:15<00:00, 13.26it/s]\n"
     ]
    },
    {
     "name": "stdout",
     "output_type": "stream",
     "text": [
      "rlct/0: -6555.625780901129\n",
      "rlct/1: -5477.178414174388\n",
      "rlct/2: -14252.172089706826\n",
      "rlct/3: -8616.514161838071\n",
      "rlct/4: -7496.949160653056\n",
      "rlct/mean: -8479.687921454695\n",
      "rlct/std: 3066.6968818838645\n",
      "\n"
     ]
    },
    {
     "name": "stderr",
     "output_type": "stream",
     "text": [
      "Chain 0: 100%|██████████| 1000/1000 [01:14<00:00, 13.39it/s]\n",
      "Chain 0: 100%|██████████| 1000/1000 [01:13<00:00, 13.66it/s]\n",
      "Chain 0: 100%|██████████| 1000/1000 [01:14<00:00, 13.41it/s]\n",
      "Chain 0: 100%|██████████| 1000/1000 [01:14<00:00, 13.46it/s]\n",
      "Chain 0: 100%|██████████| 1000/1000 [01:17<00:00, 12.85it/s]\n"
     ]
    },
    {
     "name": "stdout",
     "output_type": "stream",
     "text": [
      "rlct/0: -18616.59414468133\n",
      "rlct/1: -15725.008284727051\n",
      "rlct/2: -17115.767220267375\n",
      "rlct/3: 61820009383468.22\n",
      "rlct/4: -17826.24543644904\n",
      "rlct/mean: 12364001862836.922\n",
      "rlct/std: 24728003760315.65\n",
      "\n"
     ]
    },
    {
     "name": "stderr",
     "output_type": "stream",
     "text": [
      "Chain 0: 100%|██████████| 1000/1000 [01:17<00:00, 12.97it/s]\n",
      "Chain 0: 100%|██████████| 1000/1000 [01:15<00:00, 13.33it/s]\n",
      "Chain 0: 100%|██████████| 1000/1000 [01:14<00:00, 13.47it/s]\n",
      "Chain 0: 100%|██████████| 1000/1000 [01:12<00:00, 13.76it/s]\n",
      "Chain 0: 100%|██████████| 1000/1000 [01:12<00:00, 13.75it/s]\n"
     ]
    },
    {
     "name": "stdout",
     "output_type": "stream",
     "text": [
      "rlct/0: 4.381866597260994e+17\n",
      "rlct/1: 856451242028.7047\n",
      "rlct/2: 1105511662166232.4\n",
      "rlct/3: 1111000345789897.2\n",
      "rlct/4: 12946162896.413742\n",
      "rlct/mean: 8.808080822629208e+16\n",
      "rlct/std: 1.750536268413022e+17\n",
      "\n"
     ]
    },
    {
     "name": "stderr",
     "output_type": "stream",
     "text": [
      "Chain 0: 100%|██████████| 1000/1000 [01:13<00:00, 13.59it/s]\n",
      "Chain 0: 100%|██████████| 1000/1000 [01:13<00:00, 13.63it/s]\n",
      "Chain 0: 100%|██████████| 1000/1000 [01:12<00:00, 13.77it/s]\n",
      "Chain 0: 100%|██████████| 1000/1000 [01:13<00:00, 13.63it/s]\n",
      "Chain 0: 100%|██████████| 1000/1000 [01:12<00:00, 13.72it/s]\n"
     ]
    },
    {
     "name": "stdout",
     "output_type": "stream",
     "text": [
      "rlct/0: -7289.619333509876\n",
      "rlct/1: -24359.5318161417\n",
      "rlct/2: -11124.433489246172\n",
      "rlct/3: -12325.587236049227\n",
      "rlct/4: -17062.851275831996\n",
      "rlct/mean: -14432.404630155794\n",
      "rlct/std: 5862.897545031325\n",
      "\n"
     ]
    },
    {
     "name": "stderr",
     "output_type": "stream",
     "text": [
      "Chain 0: 100%|██████████| 1000/1000 [01:13<00:00, 13.65it/s]\n",
      "Chain 0: 100%|██████████| 1000/1000 [01:18<00:00, 12.73it/s]\n",
      "Chain 0: 100%|██████████| 1000/1000 [01:18<00:00, 12.67it/s]\n",
      "Chain 0: 100%|██████████| 1000/1000 [01:14<00:00, 13.35it/s]\n",
      "Chain 0: 100%|██████████| 1000/1000 [01:12<00:00, 13.87it/s]\n"
     ]
    },
    {
     "name": "stdout",
     "output_type": "stream",
     "text": [
      "rlct/0: -14022.801332259865\n",
      "rlct/1: -14135.034134380734\n",
      "rlct/2: -24689.215972570586\n",
      "rlct/3: -20335.78342920171\n",
      "rlct/4: -17010.016978991254\n",
      "rlct/mean: -18038.57036948083\n",
      "rlct/std: 4047.9672171542816\n",
      "\n"
     ]
    },
    {
     "name": "stderr",
     "output_type": "stream",
     "text": [
      "Chain 0: 100%|██████████| 1000/1000 [01:16<00:00, 13.07it/s]\n",
      "Chain 0: 100%|██████████| 1000/1000 [01:34<00:00, 10.61it/s]\n",
      "Chain 0: 100%|██████████| 1000/1000 [01:22<00:00, 12.09it/s]\n",
      "Chain 0: 100%|██████████| 1000/1000 [01:20<00:00, 12.48it/s]\n",
      "Chain 0: 100%|██████████| 1000/1000 [01:19<00:00, 12.51it/s]\n"
     ]
    },
    {
     "name": "stdout",
     "output_type": "stream",
     "text": [
      "rlct/0: -14033.89177926648\n",
      "rlct/1: -11723.179526085722\n",
      "rlct/2: -14513.40328266907\n",
      "rlct/3: -9006.824467261902\n",
      "rlct/4: -9925.53898044332\n",
      "rlct/mean: -11840.5676071453\n",
      "rlct/std: 2175.5889436133293\n",
      "\n"
     ]
    },
    {
     "name": "stderr",
     "output_type": "stream",
     "text": [
      "Chain 0: 100%|██████████| 1000/1000 [01:20<00:00, 12.41it/s]\n",
      "Chain 0: 100%|██████████| 1000/1000 [01:14<00:00, 13.44it/s]\n",
      "Chain 0: 100%|██████████| 1000/1000 [01:14<00:00, 13.35it/s]\n",
      "Chain 0: 100%|██████████| 1000/1000 [01:14<00:00, 13.34it/s]\n",
      "Chain 0: 100%|██████████| 1000/1000 [01:23<00:00, 12.01it/s]\n"
     ]
    },
    {
     "name": "stdout",
     "output_type": "stream",
     "text": [
      "rlct/0: -4238.135536426667\n",
      "rlct/1: -4854.658654506619\n",
      "rlct/2: -9411.048809541337\n",
      "rlct/3: -4466.750752818276\n",
      "rlct/4: -8146.396866693593\n",
      "rlct/mean: -6223.398123997299\n",
      "rlct/std: 2133.5213296838792\n",
      "\n"
     ]
    },
    {
     "name": "stderr",
     "output_type": "stream",
     "text": [
      "Chain 0: 100%|██████████| 1000/1000 [01:15<00:00, 13.30it/s]\n",
      "Chain 0: 100%|██████████| 1000/1000 [01:13<00:00, 13.57it/s]\n",
      "Chain 0: 100%|██████████| 1000/1000 [01:16<00:00, 13.04it/s]\n",
      "Chain 0: 100%|██████████| 1000/1000 [01:16<00:00, 13.10it/s]\n",
      "Chain 0: 100%|██████████| 1000/1000 [01:16<00:00, 13.10it/s]\n"
     ]
    },
    {
     "name": "stdout",
     "output_type": "stream",
     "text": [
      "rlct/0: -13003.1482698285\n",
      "rlct/1: -14856.286541973393\n",
      "rlct/2: -19103.205760838155\n",
      "rlct/3: -7042.595298882686\n",
      "rlct/4: -11194.747919288666\n",
      "rlct/mean: -13039.99675816228\n",
      "rlct/std: 3985.888541871995\n",
      "\n"
     ]
    },
    {
     "name": "stderr",
     "output_type": "stream",
     "text": [
      "Chain 0: 100%|██████████| 1000/1000 [01:16<00:00, 13.15it/s]\n",
      "Chain 0: 100%|██████████| 1000/1000 [01:15<00:00, 13.20it/s]\n",
      "Chain 0: 100%|██████████| 1000/1000 [01:17<00:00, 12.89it/s]\n",
      "Chain 0: 100%|██████████| 1000/1000 [01:16<00:00, 13.02it/s]\n",
      "Chain 0: 100%|██████████| 1000/1000 [01:16<00:00, 13.15it/s]\n"
     ]
    },
    {
     "name": "stdout",
     "output_type": "stream",
     "text": [
      "rlct/0: -7800.818402034671\n",
      "rlct/1: -15161.127673241888\n",
      "rlct/2: -4202.518157179993\n",
      "rlct/3: -11614.008587053466\n",
      "rlct/4: -14861.47922088476\n",
      "rlct/mean: -10727.990408078955\n",
      "rlct/std: 4211.260809806537\n",
      "\n"
     ]
    },
    {
     "name": "stderr",
     "output_type": "stream",
     "text": [
      "Chain 0: 100%|██████████| 1000/1000 [01:15<00:00, 13.23it/s]\n",
      "Chain 0: 100%|██████████| 1000/1000 [01:16<00:00, 13.06it/s]\n",
      "Chain 0: 100%|██████████| 1000/1000 [01:15<00:00, 13.30it/s]\n",
      "Chain 0: 100%|██████████| 1000/1000 [01:15<00:00, 13.21it/s]\n",
      "Chain 0: 100%|██████████| 1000/1000 [01:13<00:00, 13.55it/s]\n"
     ]
    },
    {
     "name": "stdout",
     "output_type": "stream",
     "text": [
      "rlct/0: -5340.293456203714\n",
      "rlct/1: -6400.9188311885355\n",
      "rlct/2: -2204.912445923657\n",
      "rlct/3: -2934.4671686109405\n",
      "rlct/4: -2605.66399638572\n",
      "rlct/mean: -3897.2511796625136\n",
      "rlct/std: 1661.919589801944\n",
      "\n"
     ]
    },
    {
     "name": "stderr",
     "output_type": "stream",
     "text": [
      "Chain 0: 100%|██████████| 1000/1000 [01:14<00:00, 13.45it/s]\n",
      "Chain 0: 100%|██████████| 1000/1000 [01:15<00:00, 13.21it/s]\n",
      "Chain 0: 100%|██████████| 1000/1000 [01:15<00:00, 13.21it/s]\n",
      "Chain 0: 100%|██████████| 1000/1000 [01:15<00:00, 13.19it/s]\n",
      "Chain 0: 100%|██████████| 1000/1000 [01:16<00:00, 13.13it/s]\n"
     ]
    },
    {
     "name": "stdout",
     "output_type": "stream",
     "text": [
      "rlct/0: -6818.287954169025\n",
      "rlct/1: -4971.803052743925\n",
      "rlct/2: -9566.990195865354\n",
      "rlct/3: -7442.646987766801\n",
      "rlct/4: -3994.443945518843\n",
      "rlct/mean: -6558.83442721279\n",
      "rlct/std: 1948.9591596270975\n",
      "\n"
     ]
    },
    {
     "name": "stderr",
     "output_type": "stream",
     "text": [
      "Chain 0: 100%|██████████| 1000/1000 [01:18<00:00, 12.77it/s]\n",
      "Chain 0: 100%|██████████| 1000/1000 [01:15<00:00, 13.19it/s]\n",
      "Chain 0: 100%|██████████| 1000/1000 [01:15<00:00, 13.27it/s]\n",
      "Chain 0: 100%|██████████| 1000/1000 [01:17<00:00, 12.92it/s]\n",
      "Chain 0: 100%|██████████| 1000/1000 [01:17<00:00, 12.85it/s]\n"
     ]
    },
    {
     "name": "stdout",
     "output_type": "stream",
     "text": [
      "rlct/0: 315.55701800864114\n",
      "rlct/1: 338.66260209031486\n",
      "rlct/2: 296.5628704589195\n",
      "rlct/3: 318.6759982438302\n",
      "rlct/4: 335.5787222932977\n",
      "rlct/mean: 321.00744221900067\n",
      "rlct/std: 15.209909379751462\n",
      "\n"
     ]
    },
    {
     "name": "stderr",
     "output_type": "stream",
     "text": [
      "Chain 0: 100%|██████████| 1000/1000 [01:14<00:00, 13.40it/s]\n",
      "Chain 0: 100%|██████████| 1000/1000 [14:35<00:00,  1.14it/s]  \n",
      "Chain 0: 100%|██████████| 1000/1000 [04:37<00:00,  3.61it/s]\n",
      "Chain 0: 100%|██████████| 1000/1000 [01:16<00:00, 13.00it/s]\n",
      "Chain 0: 100%|██████████| 1000/1000 [01:17<00:00, 12.84it/s]\n"
     ]
    },
    {
     "name": "stdout",
     "output_type": "stream",
     "text": [
      "rlct/0: 286.5472715439491\n",
      "rlct/1: 285.8029195697275\n",
      "rlct/2: 274.9975062933832\n",
      "rlct/3: 288.392236692658\n",
      "rlct/4: 286.6183108816462\n",
      "rlct/mean: 284.4716489962728\n",
      "rlct/std: 4.812879291859435\n",
      "\n"
     ]
    },
    {
     "name": "stderr",
     "output_type": "stream",
     "text": [
      "Chain 0: 100%|██████████| 1000/1000 [01:14<00:00, 13.37it/s]\n",
      "Chain 0: 100%|██████████| 1000/1000 [01:17<00:00, 12.89it/s]\n",
      "Chain 0: 100%|██████████| 1000/1000 [01:16<00:00, 13.09it/s]\n",
      "Chain 0: 100%|██████████| 1000/1000 [01:15<00:00, 13.18it/s]\n",
      "Chain 0: 100%|██████████| 1000/1000 [01:14<00:00, 13.49it/s]\n"
     ]
    },
    {
     "name": "stdout",
     "output_type": "stream",
     "text": [
      "rlct/0: 155.79698101761696\n",
      "rlct/1: 156.0542219451248\n",
      "rlct/2: 162.5161991316121\n",
      "rlct/3: 155.37279911478302\n",
      "rlct/4: 161.79870218102928\n",
      "rlct/mean: 158.30778067803323\n",
      "rlct/std: 3.158926320588575\n",
      "\n"
     ]
    },
    {
     "name": "stderr",
     "output_type": "stream",
     "text": [
      "Chain 0: 100%|██████████| 1000/1000 [01:15<00:00, 13.16it/s]\n",
      "Chain 0: 100%|██████████| 1000/1000 [01:15<00:00, 13.19it/s]\n",
      "Chain 0: 100%|██████████| 1000/1000 [01:15<00:00, 13.33it/s]\n",
      "Chain 0: 100%|██████████| 1000/1000 [01:23<00:00, 11.93it/s]\n",
      "Chain 0: 100%|██████████| 1000/1000 [01:17<00:00, 12.92it/s]\n"
     ]
    },
    {
     "name": "stdout",
     "output_type": "stream",
     "text": [
      "rlct/0: 99.9770820642595\n",
      "rlct/1: 95.17147823698298\n",
      "rlct/2: 96.59852795557077\n",
      "rlct/3: 92.72011400077947\n",
      "rlct/4: 98.68258512432763\n",
      "rlct/mean: 96.62995747638406\n",
      "rlct/std: 2.5624811717604086\n",
      "\n"
     ]
    },
    {
     "name": "stderr",
     "output_type": "stream",
     "text": [
      "Chain 0: 100%|██████████| 1000/1000 [01:15<00:00, 13.33it/s]\n",
      "Chain 0: 100%|██████████| 1000/1000 [01:16<00:00, 13.07it/s]\n",
      "Chain 0: 100%|██████████| 1000/1000 [01:17<00:00, 12.83it/s]\n",
      "Chain 0: 100%|██████████| 1000/1000 [01:16<00:00, 13.07it/s]\n",
      "Chain 0: 100%|██████████| 1000/1000 [01:14<00:00, 13.47it/s]\n"
     ]
    },
    {
     "name": "stdout",
     "output_type": "stream",
     "text": [
      "rlct/0: -16551.50614650968\n",
      "rlct/1: 1.7236255558097418e+17\n",
      "rlct/2: -14696.544557372745\n",
      "rlct/3: -8490.085228845264\n",
      "rlct/4: 215577395986720.44\n",
      "rlct/mean: 3.4515626595384236e+16\n",
      "rlct/std: 6.892351506366763e+16\n",
      "\n"
     ]
    },
    {
     "name": "stderr",
     "output_type": "stream",
     "text": [
      "Chain 0: 100%|██████████| 1000/1000 [01:17<00:00, 12.90it/s]\n",
      "Chain 0: 100%|██████████| 1000/1000 [01:15<00:00, 13.27it/s]\n",
      "Chain 0: 100%|██████████| 1000/1000 [01:17<00:00, 12.94it/s]\n",
      "Chain 0: 100%|██████████| 1000/1000 [01:16<00:00, 13.13it/s]\n",
      "Chain 0: 100%|██████████| 1000/1000 [01:16<00:00, 13.11it/s]\n"
     ]
    },
    {
     "name": "stdout",
     "output_type": "stream",
     "text": [
      "rlct/0: -1637.3936381254775\n",
      "rlct/1: -3610.522614465434\n",
      "rlct/2: -1355.7769916293846\n",
      "rlct/3: -1452.5585550966857\n",
      "rlct/4: -1646.13926702342\n",
      "rlct/mean: -1940.4782132680805\n",
      "rlct/std: 842.31645933726\n",
      "\n"
     ]
    },
    {
     "name": "stderr",
     "output_type": "stream",
     "text": [
      "Chain 0: 100%|██████████| 1000/1000 [01:15<00:00, 13.23it/s]\n",
      "Chain 0: 100%|██████████| 1000/1000 [01:16<00:00, 13.00it/s]\n",
      "Chain 0: 100%|██████████| 1000/1000 [01:15<00:00, 13.30it/s]\n",
      "Chain 0: 100%|██████████| 1000/1000 [01:16<00:00, 13.10it/s]\n",
      "Chain 0: 100%|██████████| 1000/1000 [01:16<00:00, 13.04it/s]\n"
     ]
    },
    {
     "name": "stdout",
     "output_type": "stream",
     "text": [
      "rlct/0: 254.8712226593964\n",
      "rlct/1: 249.90454585001618\n",
      "rlct/2: 237.95059831632716\n",
      "rlct/3: 235.1956513748294\n",
      "rlct/4: 238.85446881748254\n",
      "rlct/mean: 243.35529740361034\n",
      "rlct/std: 7.636193334514078\n",
      "\n"
     ]
    },
    {
     "name": "stderr",
     "output_type": "stream",
     "text": [
      "Chain 0: 100%|██████████| 1000/1000 [01:17<00:00, 12.87it/s]\n",
      "Chain 0: 100%|██████████| 1000/1000 [01:16<00:00, 13.13it/s]\n",
      "Chain 0: 100%|██████████| 1000/1000 [01:16<00:00, 13.15it/s]\n",
      "Chain 0: 100%|██████████| 1000/1000 [01:15<00:00, 13.21it/s]\n",
      "Chain 0: 100%|██████████| 1000/1000 [01:16<00:00, 13.15it/s]\n"
     ]
    },
    {
     "name": "stdout",
     "output_type": "stream",
     "text": [
      "rlct/0: 176.92631018142225\n",
      "rlct/1: 173.50322398145235\n",
      "rlct/2: 186.49969255025246\n",
      "rlct/3: 189.97528763200276\n",
      "rlct/4: 184.85593195909516\n",
      "rlct/mean: 182.352089260845\n",
      "rlct/std: 6.1534785294408705\n",
      "\n"
     ]
    },
    {
     "name": "stderr",
     "output_type": "stream",
     "text": [
      "Chain 0: 100%|██████████| 1000/1000 [01:19<00:00, 12.63it/s]\n",
      "Chain 0: 100%|██████████| 1000/1000 [01:16<00:00, 13.14it/s]\n",
      "Chain 0: 100%|██████████| 1000/1000 [01:15<00:00, 13.26it/s]\n",
      "Chain 0: 100%|██████████| 1000/1000 [01:14<00:00, 13.38it/s]\n",
      "Chain 0: 100%|██████████| 1000/1000 [01:16<00:00, 13.05it/s]\n"
     ]
    },
    {
     "name": "stdout",
     "output_type": "stream",
     "text": [
      "rlct/0: 108.11717552673021\n",
      "rlct/1: 104.09569290744236\n",
      "rlct/2: 105.57215502295014\n",
      "rlct/3: 105.73654861964613\n",
      "rlct/4: 117.46820320364625\n",
      "rlct/mean: 108.19795505608302\n",
      "rlct/std: 4.810944361458892\n",
      "\n"
     ]
    },
    {
     "name": "stderr",
     "output_type": "stream",
     "text": [
      "Chain 0: 100%|██████████| 1000/1000 [01:15<00:00, 13.32it/s]\n",
      "Chain 0: 100%|██████████| 1000/1000 [01:15<00:00, 13.25it/s]\n",
      "Chain 0: 100%|██████████| 1000/1000 [01:15<00:00, 13.27it/s]\n",
      "Chain 0: 100%|██████████| 1000/1000 [01:17<00:00, 12.89it/s]\n",
      "Chain 0: 100%|██████████| 1000/1000 [01:15<00:00, 13.31it/s]\n"
     ]
    },
    {
     "name": "stdout",
     "output_type": "stream",
     "text": [
      "rlct/0: 74.28043357021342\n",
      "rlct/1: 70.12726694794402\n",
      "rlct/2: 76.64654363544622\n",
      "rlct/3: 73.3394681128684\n",
      "rlct/4: 69.25282951776222\n",
      "rlct/mean: 72.72930835684686\n",
      "rlct/std: 2.7195419171456603\n",
      "\n"
     ]
    },
    {
     "name": "stderr",
     "output_type": "stream",
     "text": [
      "Chain 0: 100%|██████████| 1000/1000 [01:16<00:00, 13.11it/s]\n",
      "Chain 0: 100%|██████████| 1000/1000 [01:15<00:00, 13.31it/s]\n",
      "Chain 0: 100%|██████████| 1000/1000 [01:19<00:00, 12.60it/s]\n",
      "Chain 0: 100%|██████████| 1000/1000 [01:17<00:00, 12.97it/s]\n",
      "Chain 0: 100%|██████████| 1000/1000 [01:16<00:00, 13.15it/s]\n"
     ]
    },
    {
     "name": "stdout",
     "output_type": "stream",
     "text": [
      "rlct/0: -3291.24752501639\n",
      "rlct/1: -8749.216553621867\n",
      "rlct/2: -20251.393889612445\n",
      "rlct/3: 1.1122731332677074e+37\n",
      "rlct/4: 977866546590703.4\n",
      "rlct/mean: 2.2245462665354148e+36\n",
      "rlct/std: 4.4490925330708296e+36\n",
      "\n"
     ]
    },
    {
     "name": "stderr",
     "output_type": "stream",
     "text": [
      "Chain 0: 100%|██████████| 1000/1000 [01:16<00:00, 13.11it/s]\n",
      "Chain 0: 100%|██████████| 1000/1000 [01:16<00:00, 13.00it/s]\n",
      "Chain 0: 100%|██████████| 1000/1000 [01:19<00:00, 12.55it/s]\n",
      "Chain 0: 100%|██████████| 1000/1000 [01:17<00:00, 12.93it/s]\n",
      "Chain 0: 100%|██████████| 1000/1000 [01:17<00:00, 12.98it/s]\n"
     ]
    },
    {
     "name": "stdout",
     "output_type": "stream",
     "text": [
      "rlct/0: 194.85787505794116\n",
      "rlct/1: 189.27240360930205\n",
      "rlct/2: 175.61715647850073\n",
      "rlct/3: 184.15452799176296\n",
      "rlct/4: 197.62212786029042\n",
      "rlct/mean: 188.30481819955946\n",
      "rlct/std: 7.859932617843884\n",
      "\n"
     ]
    },
    {
     "name": "stderr",
     "output_type": "stream",
     "text": [
      "Chain 0: 100%|██████████| 1000/1000 [01:19<00:00, 12.62it/s]\n",
      "Chain 0: 100%|██████████| 1000/1000 [01:17<00:00, 12.92it/s]\n",
      "Chain 0: 100%|██████████| 1000/1000 [01:14<00:00, 13.40it/s]\n",
      "Chain 0: 100%|██████████| 1000/1000 [01:15<00:00, 13.30it/s]\n",
      "Chain 0: 100%|██████████| 1000/1000 [01:16<00:00, 13.09it/s]\n"
     ]
    },
    {
     "name": "stdout",
     "output_type": "stream",
     "text": [
      "rlct/0: 191.48809450954573\n",
      "rlct/1: 205.1204703986935\n",
      "rlct/2: 191.99596996741798\n",
      "rlct/3: 208.96190401352806\n",
      "rlct/4: 188.22776092090783\n",
      "rlct/mean: 197.15883996201862\n",
      "rlct/std: 8.261678202649632\n",
      "\n"
     ]
    },
    {
     "name": "stderr",
     "output_type": "stream",
     "text": [
      "Chain 0: 100%|██████████| 1000/1000 [01:20<00:00, 12.40it/s]\n",
      "Chain 0: 100%|██████████| 1000/1000 [01:18<00:00, 12.76it/s]\n",
      "Chain 0: 100%|██████████| 1000/1000 [01:15<00:00, 13.19it/s]\n",
      "Chain 0: 100%|██████████| 1000/1000 [01:16<00:00, 13.01it/s]\n",
      "Chain 0: 100%|██████████| 1000/1000 [01:17<00:00, 12.94it/s]\n"
     ]
    },
    {
     "name": "stdout",
     "output_type": "stream",
     "text": [
      "rlct/0: 131.29886752174139\n",
      "rlct/1: 128.58370326102556\n",
      "rlct/2: 115.62912220885954\n",
      "rlct/3: 120.10238964789997\n",
      "rlct/4: 124.13307746531551\n",
      "rlct/mean: 123.9494320209684\n",
      "rlct/std: 5.648923581450391\n",
      "\n"
     ]
    },
    {
     "name": "stderr",
     "output_type": "stream",
     "text": [
      "Chain 0: 100%|██████████| 1000/1000 [01:16<00:00, 13.03it/s]\n",
      "Chain 0: 100%|██████████| 1000/1000 [01:13<00:00, 13.59it/s]\n",
      "Chain 0: 100%|██████████| 1000/1000 [01:16<00:00, 13.09it/s]\n",
      "Chain 0: 100%|██████████| 1000/1000 [01:19<00:00, 12.63it/s]\n",
      "Chain 0: 100%|██████████| 1000/1000 [01:21<00:00, 12.23it/s]\n"
     ]
    },
    {
     "name": "stdout",
     "output_type": "stream",
     "text": [
      "rlct/0: 79.14331234718918\n",
      "rlct/1: 81.26962747570023\n",
      "rlct/2: 81.76573304604538\n",
      "rlct/3: 78.05654303920794\n",
      "rlct/4: 75.97892481992888\n",
      "rlct/mean: 79.24282814561433\n",
      "rlct/std: 2.123356085459717\n",
      "\n"
     ]
    },
    {
     "name": "stderr",
     "output_type": "stream",
     "text": [
      "Chain 0: 100%|██████████| 1000/1000 [01:20<00:00, 12.41it/s]\n",
      "Chain 0: 100%|██████████| 1000/1000 [01:19<00:00, 12.55it/s]\n",
      "Chain 0: 100%|██████████| 1000/1000 [01:21<00:00, 12.31it/s]\n",
      "Chain 0: 100%|██████████| 1000/1000 [01:23<00:00, 11.98it/s]\n",
      "Chain 0: 100%|██████████| 1000/1000 [01:20<00:00, 12.45it/s]\n"
     ]
    },
    {
     "name": "stdout",
     "output_type": "stream",
     "text": [
      "rlct/0: 68.4155763447219\n",
      "rlct/1: 62.92091902054034\n",
      "rlct/2: 69.04064886674695\n",
      "rlct/3: 67.71695129840623\n",
      "rlct/4: 65.59325785721363\n",
      "rlct/mean: 66.7374706775258\n",
      "rlct/std: 2.2340698385173723\n",
      "\n"
     ]
    },
    {
     "name": "stderr",
     "output_type": "stream",
     "text": [
      "Chain 0: 100%|██████████| 1000/1000 [01:16<00:00, 13.09it/s]\n",
      "Chain 0: 100%|██████████| 1000/1000 [01:17<00:00, 12.94it/s]\n",
      "Chain 0: 100%|██████████| 1000/1000 [01:18<00:00, 12.77it/s]\n",
      "Chain 0: 100%|██████████| 1000/1000 [01:14<00:00, 13.48it/s]\n",
      "Chain 0: 100%|██████████| 1000/1000 [01:16<00:00, 13.05it/s]\n"
     ]
    },
    {
     "name": "stdout",
     "output_type": "stream",
     "text": [
      "rlct/0: 156.47916871314547\n",
      "rlct/1: 156.5274210768969\n",
      "rlct/2: 132.51967901870557\n",
      "rlct/3: 159.60521882163107\n",
      "rlct/4: 139.65355069701084\n",
      "rlct/mean: 148.957007665478\n",
      "rlct/std: 10.807576522782387\n",
      "\n"
     ]
    },
    {
     "name": "stderr",
     "output_type": "stream",
     "text": [
      "Chain 0: 100%|██████████| 1000/1000 [01:20<00:00, 12.45it/s]\n",
      "Chain 0: 100%|██████████| 1000/1000 [01:19<00:00, 12.56it/s]\n",
      "Chain 0: 100%|██████████| 1000/1000 [01:18<00:00, 12.77it/s]\n",
      "Chain 0: 100%|██████████| 1000/1000 [01:21<00:00, 12.29it/s]\n",
      "Chain 0: 100%|██████████| 1000/1000 [01:15<00:00, 13.33it/s]\n"
     ]
    },
    {
     "name": "stdout",
     "output_type": "stream",
     "text": [
      "rlct/0: 228.7532895756783\n",
      "rlct/1: 230.82837353418444\n",
      "rlct/2: 226.66875648851675\n",
      "rlct/3: 220.1463367461285\n",
      "rlct/4: 221.89263658711198\n",
      "rlct/mean: 225.65787858632402\n",
      "rlct/std: 4.047013765750324\n",
      "\n"
     ]
    },
    {
     "name": "stderr",
     "output_type": "stream",
     "text": [
      "Chain 0: 100%|██████████| 1000/1000 [01:14<00:00, 13.34it/s]\n",
      "Chain 0: 100%|██████████| 1000/1000 [01:19<00:00, 12.51it/s]\n",
      "Chain 0: 100%|██████████| 1000/1000 [01:18<00:00, 12.73it/s]\n",
      "Chain 0: 100%|██████████| 1000/1000 [01:16<00:00, 13.09it/s]\n",
      "Chain 0: 100%|██████████| 1000/1000 [01:17<00:00, 12.94it/s]\n"
     ]
    },
    {
     "name": "stdout",
     "output_type": "stream",
     "text": [
      "rlct/0: 151.285814584599\n",
      "rlct/1: 146.71119256215027\n",
      "rlct/2: 145.93778229901628\n",
      "rlct/3: 139.99235590073033\n",
      "rlct/4: 147.5061254236215\n",
      "rlct/mean: 146.28665415402347\n",
      "rlct/std: 3.6441418776059527\n",
      "\n"
     ]
    },
    {
     "name": "stderr",
     "output_type": "stream",
     "text": [
      "Chain 0: 100%|██████████| 1000/1000 [01:20<00:00, 12.49it/s]\n",
      "Chain 0: 100%|██████████| 1000/1000 [01:17<00:00, 12.94it/s]\n",
      "Chain 0: 100%|██████████| 1000/1000 [01:18<00:00, 12.77it/s]\n",
      "Chain 0: 100%|██████████| 1000/1000 [01:21<00:00, 12.20it/s]\n",
      "Chain 0: 100%|██████████| 1000/1000 [01:16<00:00, 13.03it/s]\n"
     ]
    },
    {
     "name": "stdout",
     "output_type": "stream",
     "text": [
      "rlct/0: 91.71252421219825\n",
      "rlct/1: 92.40860748398369\n",
      "rlct/2: 83.87391393178805\n",
      "rlct/3: 95.12601174714693\n",
      "rlct/4: 95.49667785917495\n",
      "rlct/mean: 91.72354704685837\n",
      "rlct/std: 4.192837977078755\n",
      "\n"
     ]
    },
    {
     "name": "stderr",
     "output_type": "stream",
     "text": [
      "Chain 0: 100%|██████████| 1000/1000 [01:18<00:00, 12.81it/s]\n",
      "Chain 0: 100%|██████████| 1000/1000 [01:16<00:00, 13.06it/s]\n",
      "Chain 0: 100%|██████████| 1000/1000 [01:14<00:00, 13.45it/s]\n",
      "Chain 0: 100%|██████████| 1000/1000 [01:20<00:00, 12.46it/s]\n",
      "Chain 0: 100%|██████████| 1000/1000 [01:18<00:00, 12.74it/s]\n"
     ]
    },
    {
     "name": "stdout",
     "output_type": "stream",
     "text": [
      "rlct/0: 76.10447708648236\n",
      "rlct/1: 72.75727705456808\n",
      "rlct/2: 71.66865795183338\n",
      "rlct/3: 73.3314298336461\n",
      "rlct/4: 66.77705360703406\n",
      "rlct/mean: 72.1277791067128\n",
      "rlct/std: 3.049597519964707\n",
      "\n"
     ]
    },
    {
     "name": "stderr",
     "output_type": "stream",
     "text": [
      "Chain 0: 100%|██████████| 1000/1000 [01:21<00:00, 12.33it/s]\n",
      "Chain 0: 100%|██████████| 1000/1000 [01:19<00:00, 12.53it/s]\n",
      "Chain 0: 100%|██████████| 1000/1000 [01:21<00:00, 12.33it/s]\n",
      "Chain 0: 100%|██████████| 1000/1000 [01:20<00:00, 12.48it/s]\n",
      "Chain 0: 100%|██████████| 1000/1000 [01:18<00:00, 12.67it/s]\n"
     ]
    },
    {
     "name": "stdout",
     "output_type": "stream",
     "text": [
      "rlct/0: 29.68085104061136\n",
      "rlct/1: 55.1843355410207\n",
      "rlct/2: 104.98373365393671\n",
      "rlct/3: 38.5038801189725\n",
      "rlct/4: 43.95375805871884\n",
      "rlct/mean: 54.461311682652024\n",
      "rlct/std: 26.578778829153883\n",
      "\n"
     ]
    },
    {
     "name": "stderr",
     "output_type": "stream",
     "text": [
      "Chain 0: 100%|██████████| 1000/1000 [01:20<00:00, 12.43it/s]\n",
      "Chain 0: 100%|██████████| 1000/1000 [01:22<00:00, 12.18it/s]\n",
      "Chain 0: 100%|██████████| 1000/1000 [01:20<00:00, 12.48it/s]\n",
      "Chain 0: 100%|██████████| 1000/1000 [01:20<00:00, 12.46it/s]\n",
      "Chain 0: 100%|██████████| 1000/1000 [01:19<00:00, 12.57it/s]\n"
     ]
    },
    {
     "name": "stdout",
     "output_type": "stream",
     "text": [
      "rlct/0: 227.3988146717272\n",
      "rlct/1: 223.34141085963446\n",
      "rlct/2: 211.88649627058092\n",
      "rlct/3: 207.19046453550726\n",
      "rlct/4: 209.62458728105867\n",
      "rlct/mean: 215.8883547237017\n",
      "rlct/std: 7.986760061009499\n",
      "\n"
     ]
    },
    {
     "name": "stderr",
     "output_type": "stream",
     "text": [
      "Chain 0: 100%|██████████| 1000/1000 [01:22<00:00, 12.14it/s]\n",
      "Chain 0: 100%|██████████| 1000/1000 [01:18<00:00, 12.66it/s]\n",
      "Chain 0: 100%|██████████| 1000/1000 [01:19<00:00, 12.61it/s]\n",
      "Chain 0: 100%|██████████| 1000/1000 [01:21<00:00, 12.24it/s]\n",
      "Chain 0: 100%|██████████| 1000/1000 [01:22<00:00, 12.14it/s]\n"
     ]
    },
    {
     "name": "stdout",
     "output_type": "stream",
     "text": [
      "rlct/0: 154.14105305210262\n",
      "rlct/1: 165.44847506689584\n",
      "rlct/2: 158.88738681519203\n",
      "rlct/3: 161.29545214455675\n",
      "rlct/4: 148.87965756305906\n",
      "rlct/mean: 157.73040492836125\n",
      "rlct/std: 5.74170621365291\n",
      "\n"
     ]
    },
    {
     "name": "stderr",
     "output_type": "stream",
     "text": [
      "Chain 0: 100%|██████████| 1000/1000 [01:18<00:00, 12.68it/s]\n",
      "Chain 0: 100%|██████████| 1000/1000 [01:15<00:00, 13.22it/s]\n",
      "Chain 0: 100%|██████████| 1000/1000 [01:17<00:00, 12.96it/s]\n",
      "Chain 0: 100%|██████████| 1000/1000 [01:17<00:00, 12.83it/s]\n",
      "Chain 0: 100%|██████████| 1000/1000 [01:20<00:00, 12.41it/s]\n"
     ]
    },
    {
     "name": "stdout",
     "output_type": "stream",
     "text": [
      "rlct/0: 105.88419528375859\n",
      "rlct/1: 97.96076923915574\n",
      "rlct/2: 96.44383241335602\n",
      "rlct/3: 96.7335474218333\n",
      "rlct/4: 94.71202919597182\n",
      "rlct/mean: 98.34687471081509\n",
      "rlct/std: 3.908881571463388\n",
      "\n"
     ]
    },
    {
     "name": "stderr",
     "output_type": "stream",
     "text": [
      "Chain 0: 100%|██████████| 1000/1000 [01:22<00:00, 12.11it/s]\n",
      "Chain 0: 100%|██████████| 1000/1000 [01:21<00:00, 12.23it/s]\n",
      "Chain 0: 100%|██████████| 1000/1000 [01:39<00:00, 10.04it/s]\n",
      "Chain 0: 100%|██████████| 1000/1000 [06:17<00:00,  2.65it/s] \n",
      "Chain 0: 100%|██████████| 1000/1000 [01:20<00:00, 12.45it/s]\n"
     ]
    },
    {
     "name": "stdout",
     "output_type": "stream",
     "text": [
      "rlct/0: 70.71192006511976\n",
      "rlct/1: 66.99074074649356\n",
      "rlct/2: 78.34671250231114\n",
      "rlct/3: 74.00284521965939\n",
      "rlct/4: 81.00123086700792\n",
      "rlct/mean: 74.21068988011835\n",
      "rlct/std: 5.052333819914786\n",
      "\n"
     ]
    },
    {
     "name": "stderr",
     "output_type": "stream",
     "text": [
      "Chain 0: 100%|██████████| 1000/1000 [01:20<00:00, 12.35it/s]\n",
      "Chain 0: 100%|██████████| 1000/1000 [01:20<00:00, 12.48it/s]\n",
      "Chain 0: 100%|██████████| 1000/1000 [01:20<00:00, 12.47it/s]\n",
      "Chain 0: 100%|██████████| 1000/1000 [01:20<00:00, 12.48it/s]\n",
      "Chain 0: 100%|██████████| 1000/1000 [01:19<00:00, 12.53it/s]\n"
     ]
    },
    {
     "name": "stdout",
     "output_type": "stream",
     "text": [
      "rlct/0: 101.19503605699234\n",
      "rlct/1: 97.09096041259535\n",
      "rlct/2: 96.72762641231279\n",
      "rlct/3: 101.207435729675\n",
      "rlct/4: 118.62255197969269\n",
      "rlct/mean: 102.96872211825364\n",
      "rlct/std: 8.059650607769573\n",
      "\n"
     ]
    },
    {
     "name": "stderr",
     "output_type": "stream",
     "text": [
      "Chain 0: 100%|██████████| 1000/1000 [01:19<00:00, 12.51it/s]\n",
      "Chain 0: 100%|██████████| 1000/1000 [01:21<00:00, 12.28it/s]\n",
      "Chain 0: 100%|██████████| 1000/1000 [01:19<00:00, 12.59it/s]\n",
      "Chain 0: 100%|██████████| 1000/1000 [01:19<00:00, 12.64it/s]\n",
      "Chain 0: 100%|██████████| 1000/1000 [01:21<00:00, 12.27it/s]\n"
     ]
    },
    {
     "name": "stdout",
     "output_type": "stream",
     "text": [
      "rlct/0: 204.8527020130123\n",
      "rlct/1: 205.26350834760208\n",
      "rlct/2: 214.42105761888425\n",
      "rlct/3: 217.5685301255056\n",
      "rlct/4: 222.15433176194614\n",
      "rlct/mean: 212.85202597339008\n",
      "rlct/std: 6.82370791117641\n",
      "\n"
     ]
    },
    {
     "name": "stderr",
     "output_type": "stream",
     "text": [
      "Chain 0: 100%|██████████| 1000/1000 [01:19<00:00, 12.52it/s]\n",
      "Chain 0: 100%|██████████| 1000/1000 [01:18<00:00, 12.66it/s]\n",
      "Chain 0: 100%|██████████| 1000/1000 [01:20<00:00, 12.47it/s]\n",
      "Chain 0: 100%|██████████| 1000/1000 [01:19<00:00, 12.50it/s]\n",
      "Chain 0: 100%|██████████| 1000/1000 [01:19<00:00, 12.59it/s]\n"
     ]
    },
    {
     "name": "stdout",
     "output_type": "stream",
     "text": [
      "rlct/0: 174.78209768039397\n",
      "rlct/1: 174.68639131583706\n",
      "rlct/2: 184.5064036972138\n",
      "rlct/3: 177.29072333432796\n",
      "rlct/4: 192.54873462591814\n",
      "rlct/mean: 180.7628701307382\n",
      "rlct/std: 6.894485952246673\n",
      "\n"
     ]
    },
    {
     "name": "stderr",
     "output_type": "stream",
     "text": [
      "Chain 0: 100%|██████████| 1000/1000 [01:27<00:00, 11.49it/s]\n",
      "Chain 0: 100%|██████████| 1000/1000 [01:17<00:00, 12.91it/s]\n",
      "Chain 0: 100%|██████████| 1000/1000 [01:16<00:00, 13.08it/s]\n",
      "Chain 0: 100%|██████████| 1000/1000 [01:16<00:00, 13.08it/s]\n",
      "Chain 0: 100%|██████████| 1000/1000 [01:20<00:00, 12.37it/s]\n"
     ]
    },
    {
     "name": "stdout",
     "output_type": "stream",
     "text": [
      "rlct/0: 119.73840637047394\n",
      "rlct/1: 121.87240624827196\n",
      "rlct/2: 122.02392555326021\n",
      "rlct/3: 115.68784021617786\n",
      "rlct/4: 115.78663921194155\n",
      "rlct/mean: 119.0218435200251\n",
      "rlct/std: 2.801206585230489\n",
      "\n"
     ]
    },
    {
     "name": "stderr",
     "output_type": "stream",
     "text": [
      "Chain 0: 100%|██████████| 1000/1000 [01:19<00:00, 12.62it/s]\n",
      "Chain 0: 100%|██████████| 1000/1000 [01:28<00:00, 11.34it/s]\n",
      "Chain 0: 100%|██████████| 1000/1000 [01:22<00:00, 12.19it/s]\n",
      "Chain 0: 100%|██████████| 1000/1000 [01:24<00:00, 11.81it/s]\n",
      "Chain 0: 100%|██████████| 1000/1000 [01:17<00:00, 12.84it/s]\n"
     ]
    },
    {
     "name": "stdout",
     "output_type": "stream",
     "text": [
      "rlct/0: 80.19327750107233\n",
      "rlct/1: 86.16222762678983\n",
      "rlct/2: 83.62304368818874\n",
      "rlct/3: 84.01828616877253\n",
      "rlct/4: 91.84326270723557\n",
      "rlct/mean: 85.1680195384118\n",
      "rlct/std: 3.8471864166695022\n",
      "\n"
     ]
    },
    {
     "name": "stderr",
     "output_type": "stream",
     "text": [
      "Chain 0: 100%|██████████| 1000/1000 [01:19<00:00, 12.57it/s]\n",
      "Chain 0: 100%|██████████| 1000/1000 [01:16<00:00, 13.03it/s]\n",
      "Chain 0: 100%|██████████| 1000/1000 [01:17<00:00, 12.88it/s]\n",
      "Chain 0: 100%|██████████| 1000/1000 [01:16<00:00, 13.08it/s]\n",
      "Chain 0: 100%|██████████| 1000/1000 [01:29<00:00, 11.22it/s]\n"
     ]
    },
    {
     "name": "stdout",
     "output_type": "stream",
     "text": [
      "rlct/0: 96.50010940336723\n",
      "rlct/1: 101.19540400377562\n",
      "rlct/2: 95.70270664455055\n",
      "rlct/3: 90.6080821139533\n",
      "rlct/4: 89.50242327816123\n",
      "rlct/mean: 94.7017450887616\n",
      "rlct/std: 4.24722658190628\n",
      "\n"
     ]
    },
    {
     "name": "stderr",
     "output_type": "stream",
     "text": [
      "Chain 0: 100%|██████████| 1000/1000 [01:09<00:00, 14.29it/s]\n",
      "Chain 0: 100%|██████████| 1000/1000 [02:25<00:00,  6.90it/s] \n",
      "Chain 0: 100%|██████████| 1000/1000 [01:14<00:00, 13.49it/s]\n",
      "Chain 0: 100%|██████████| 1000/1000 [01:22<00:00, 12.17it/s]\n",
      "Chain 0: 100%|██████████| 1000/1000 [01:12<00:00, 13.78it/s]\n"
     ]
    },
    {
     "name": "stdout",
     "output_type": "stream",
     "text": [
      "rlct/0: 213.83294668383627\n",
      "rlct/1: 220.41490768819872\n",
      "rlct/2: 212.3743886828836\n",
      "rlct/3: 214.91347083918737\n",
      "rlct/4: 210.36995902511657\n",
      "rlct/mean: 214.3811345838445\n",
      "rlct/std: 3.379552284290215\n",
      "\n"
     ]
    },
    {
     "name": "stderr",
     "output_type": "stream",
     "text": [
      "Chain 0: 100%|██████████| 1000/1000 [01:12<00:00, 13.86it/s]\n",
      "Chain 0: 100%|██████████| 1000/1000 [01:15<00:00, 13.24it/s]\n",
      "Chain 0: 100%|██████████| 1000/1000 [01:16<00:00, 13.12it/s]\n",
      "Chain 0: 100%|██████████| 1000/1000 [09:35<00:00,  1.74it/s] \n",
      "Chain 0: 100%|██████████| 1000/1000 [01:49<00:00,  9.12it/s]\n"
     ]
    },
    {
     "name": "stdout",
     "output_type": "stream",
     "text": [
      "rlct/0: 193.32202687646563\n",
      "rlct/1: 210.96513074525376\n",
      "rlct/2: 196.39454311269827\n",
      "rlct/3: 181.75606938664075\n",
      "rlct/4: 184.30003463591152\n",
      "rlct/mean: 193.347560951394\n",
      "rlct/std: 10.352622149454723\n",
      "\n"
     ]
    },
    {
     "name": "stderr",
     "output_type": "stream",
     "text": [
      "Chain 0: 100%|██████████| 1000/1000 [01:15<00:00, 13.20it/s]\n",
      "Chain 0: 100%|██████████| 1000/1000 [01:17<00:00, 12.85it/s]\n",
      "Chain 0: 100%|██████████| 1000/1000 [01:19<00:00, 12.62it/s]\n",
      "Chain 0: 100%|██████████| 1000/1000 [01:27<00:00, 11.41it/s]\n",
      "Chain 0: 100%|██████████| 1000/1000 [01:20<00:00, 12.43it/s]\n"
     ]
    },
    {
     "name": "stdout",
     "output_type": "stream",
     "text": [
      "rlct/0: 131.92906855344341\n",
      "rlct/1: 130.94511953068823\n",
      "rlct/2: 130.2517501854428\n",
      "rlct/3: 124.24454700565086\n",
      "rlct/4: 118.54391912063366\n",
      "rlct/mean: 127.18288087917179\n",
      "rlct/std: 5.0865344223176\n",
      "\n"
     ]
    },
    {
     "name": "stderr",
     "output_type": "stream",
     "text": [
      "Chain 0: 100%|██████████| 1000/1000 [01:20<00:00, 12.45it/s]\n",
      "Chain 0: 100%|██████████| 1000/1000 [01:20<00:00, 12.49it/s]\n",
      "Chain 0: 100%|██████████| 1000/1000 [01:18<00:00, 12.71it/s]\n",
      "Chain 0: 100%|██████████| 1000/1000 [01:19<00:00, 12.63it/s]\n",
      "Chain 0: 100%|██████████| 1000/1000 [01:19<00:00, 12.59it/s]\n"
     ]
    },
    {
     "name": "stdout",
     "output_type": "stream",
     "text": [
      "rlct/0: 97.38182944013309\n",
      "rlct/1: 97.58266124088438\n",
      "rlct/2: 95.15757415769895\n",
      "rlct/3: 94.69875672663285\n",
      "rlct/4: 99.80726540093261\n",
      "rlct/mean: 96.92561739325637\n",
      "rlct/std: 1.8454601919803635\n",
      "\n"
     ]
    },
    {
     "name": "stderr",
     "output_type": "stream",
     "text": [
      "Chain 0: 100%|██████████| 1000/1000 [01:21<00:00, 12.32it/s]\n",
      "Chain 0: 100%|██████████| 1000/1000 [01:20<00:00, 12.45it/s]\n",
      "Chain 0: 100%|██████████| 1000/1000 [01:18<00:00, 12.70it/s]\n",
      "Chain 0: 100%|██████████| 1000/1000 [01:26<00:00, 11.54it/s]\n",
      "Chain 0: 100%|██████████| 1000/1000 [01:21<00:00, 12.24it/s]\n"
     ]
    },
    {
     "name": "stdout",
     "output_type": "stream",
     "text": [
      "rlct/0: 118.90190135406847\n",
      "rlct/1: 123.08853121462442\n",
      "rlct/2: 127.93098436996038\n",
      "rlct/3: 132.85894724987753\n",
      "rlct/4: 112.70160126961119\n",
      "rlct/mean: 123.0963930916284\n",
      "rlct/std: 6.9903684636779415\n",
      "\n"
     ]
    },
    {
     "name": "stderr",
     "output_type": "stream",
     "text": [
      "Chain 0: 100%|██████████| 1000/1000 [01:21<00:00, 12.27it/s]\n",
      "Chain 0: 100%|██████████| 1000/1000 [01:20<00:00, 12.36it/s]\n",
      "Chain 0: 100%|██████████| 1000/1000 [01:19<00:00, 12.57it/s]\n",
      "Chain 0: 100%|██████████| 1000/1000 [01:18<00:00, 12.74it/s]\n",
      "Chain 0: 100%|██████████| 1000/1000 [01:16<00:00, 13.11it/s]\n"
     ]
    },
    {
     "name": "stdout",
     "output_type": "stream",
     "text": [
      "rlct/0: 229.53435653386876\n",
      "rlct/1: 245.52520398371\n",
      "rlct/2: 236.2340508341042\n",
      "rlct/3: 225.6296720519183\n",
      "rlct/4: 231.46029322934652\n",
      "rlct/mean: 233.67671532658954\n",
      "rlct/std: 6.83744421697344\n",
      "\n"
     ]
    },
    {
     "name": "stderr",
     "output_type": "stream",
     "text": [
      "Chain 0: 100%|██████████| 1000/1000 [01:18<00:00, 12.73it/s]\n",
      "Chain 0: 100%|██████████| 1000/1000 [01:18<00:00, 12.72it/s]\n",
      "Chain 0: 100%|██████████| 1000/1000 [01:18<00:00, 12.71it/s]\n",
      "Chain 0: 100%|██████████| 1000/1000 [01:18<00:00, 12.74it/s]\n",
      "Chain 0: 100%|██████████| 1000/1000 [01:18<00:00, 12.71it/s]\n"
     ]
    },
    {
     "name": "stdout",
     "output_type": "stream",
     "text": [
      "rlct/0: 188.40289663558585\n",
      "rlct/1: 184.67196486430396\n",
      "rlct/2: 190.11711622822904\n",
      "rlct/3: 195.67129070276567\n",
      "rlct/4: 205.11556634185308\n",
      "rlct/mean: 192.79576695454753\n",
      "rlct/std: 7.106542528181868\n",
      "\n"
     ]
    },
    {
     "name": "stderr",
     "output_type": "stream",
     "text": [
      "Chain 0: 100%|██████████| 1000/1000 [01:17<00:00, 12.95it/s]\n",
      "Chain 0: 100%|██████████| 1000/1000 [01:17<00:00, 12.90it/s]\n",
      "Chain 0: 100%|██████████| 1000/1000 [01:15<00:00, 13.18it/s]\n",
      "Chain 0: 100%|██████████| 1000/1000 [01:17<00:00, 12.90it/s]\n",
      "Chain 0: 100%|██████████| 1000/1000 [01:17<00:00, 12.85it/s]\n"
     ]
    },
    {
     "name": "stdout",
     "output_type": "stream",
     "text": [
      "rlct/0: 135.37809175130533\n",
      "rlct/1: 8.374483968127605e+19\n",
      "rlct/2: 135.52935392084842\n",
      "rlct/3: 136.38449972698092\n",
      "rlct/4: 138.82192410420294\n",
      "rlct/mean: 1.674896793625521e+19\n",
      "rlct/std: 3.349793587251042e+19\n",
      "\n"
     ]
    },
    {
     "name": "stderr",
     "output_type": "stream",
     "text": [
      "Chain 0: 100%|██████████| 1000/1000 [01:17<00:00, 12.92it/s]\n",
      "Chain 0: 100%|██████████| 1000/1000 [01:15<00:00, 13.18it/s]\n",
      "Chain 0: 100%|██████████| 1000/1000 [01:16<00:00, 13.00it/s]\n",
      "Chain 0: 100%|██████████| 1000/1000 [01:17<00:00, 12.98it/s]\n",
      "Chain 0: 100%|██████████| 1000/1000 [01:17<00:00, 12.98it/s]\n"
     ]
    },
    {
     "name": "stdout",
     "output_type": "stream",
     "text": [
      "rlct/0: 95.72178667146446\n",
      "rlct/1: 99.54153802857762\n",
      "rlct/2: 101.91471786346158\n",
      "rlct/3: 102.70084884189863\n",
      "rlct/4: 94.48272496474485\n",
      "rlct/mean: 98.87232327402941\n",
      "rlct/std: 3.2727992743312235\n",
      "\n"
     ]
    },
    {
     "name": "stderr",
     "output_type": "stream",
     "text": [
      "Chain 0: 100%|██████████| 1000/1000 [01:14<00:00, 13.46it/s]\n",
      "Chain 0: 100%|██████████| 1000/1000 [01:17<00:00, 12.93it/s]\n",
      "Chain 0: 100%|██████████| 1000/1000 [01:16<00:00, 13.09it/s]\n",
      "Chain 0: 100%|██████████| 1000/1000 [01:20<00:00, 12.40it/s]\n",
      "Chain 0: 100%|██████████| 1000/1000 [01:16<00:00, 13.09it/s]\n"
     ]
    },
    {
     "name": "stdout",
     "output_type": "stream",
     "text": [
      "rlct/0: 144217089377423.16\n",
      "rlct/1: 94.15732566720742\n",
      "rlct/2: 97.95747421600169\n",
      "rlct/3: 95.02118130003771\n",
      "rlct/4: 114.60335865438317\n",
      "rlct/mean: 28843417875564.98\n",
      "rlct/std: 57686835750929.086\n",
      "\n"
     ]
    },
    {
     "name": "stderr",
     "output_type": "stream",
     "text": [
      "Chain 0: 100%|██████████| 1000/1000 [01:15<00:00, 13.27it/s]\n",
      "Chain 0: 100%|██████████| 1000/1000 [01:15<00:00, 13.21it/s]\n",
      "Chain 0: 100%|██████████| 1000/1000 [01:15<00:00, 13.19it/s]\n",
      "Chain 0: 100%|██████████| 1000/1000 [01:16<00:00, 13.05it/s]\n",
      "Chain 0: 100%|██████████| 1000/1000 [01:15<00:00, 13.31it/s]\n"
     ]
    },
    {
     "name": "stdout",
     "output_type": "stream",
     "text": [
      "rlct/0: 193.4799991347446\n",
      "rlct/1: 207.82442476411225\n",
      "rlct/2: 195.38227302381364\n",
      "rlct/3: 207.29735283429233\n",
      "rlct/4: 200.87255017587773\n",
      "rlct/mean: 200.9713199865681\n",
      "rlct/std: 5.905096548149382\n",
      "\n"
     ]
    },
    {
     "name": "stderr",
     "output_type": "stream",
     "text": [
      "Chain 0: 100%|██████████| 1000/1000 [01:16<00:00, 13.00it/s]\n",
      "Chain 0: 100%|██████████| 1000/1000 [01:17<00:00, 12.84it/s]\n",
      "Chain 0: 100%|██████████| 1000/1000 [01:18<00:00, 12.68it/s]\n",
      "Chain 0: 100%|██████████| 1000/1000 [01:16<00:00, 13.07it/s]\n",
      "Chain 0: 100%|██████████| 1000/1000 [01:16<00:00, 13.04it/s]\n"
     ]
    },
    {
     "name": "stdout",
     "output_type": "stream",
     "text": [
      "rlct/0: 176.74716259779765\n",
      "rlct/1: 180.68193083081178\n",
      "rlct/2: 177.2846341028347\n",
      "rlct/3: 182.52866913250045\n",
      "rlct/4: 177.60469544863895\n",
      "rlct/mean: 178.96941842251672\n",
      "rlct/std: 2.2467911480535196\n",
      "\n"
     ]
    },
    {
     "name": "stderr",
     "output_type": "stream",
     "text": [
      "Chain 0: 100%|██████████| 1000/1000 [01:18<00:00, 12.77it/s]\n",
      "Chain 0: 100%|██████████| 1000/1000 [01:17<00:00, 12.90it/s]\n",
      "Chain 0: 100%|██████████| 1000/1000 [01:15<00:00, 13.29it/s]\n",
      "Chain 0: 100%|██████████| 1000/1000 [01:15<00:00, 13.23it/s]\n",
      "Chain 0: 100%|██████████| 1000/1000 [01:13<00:00, 13.60it/s]\n"
     ]
    },
    {
     "name": "stdout",
     "output_type": "stream",
     "text": [
      "rlct/0: 120.57111985855003\n",
      "rlct/1: 127.1594349713819\n",
      "rlct/2: 128.8151474399865\n",
      "rlct/3: 133.13037078234046\n",
      "rlct/4: 124.40538725199967\n",
      "rlct/mean: 126.8162920608517\n",
      "rlct/std: 4.214152294795425\n",
      "\n"
     ]
    },
    {
     "name": "stderr",
     "output_type": "stream",
     "text": [
      "Chain 0: 100%|██████████| 1000/1000 [01:09<00:00, 14.31it/s]\n",
      "Chain 0: 100%|██████████| 1000/1000 [01:09<00:00, 14.42it/s]\n",
      "Chain 0: 100%|██████████| 1000/1000 [01:09<00:00, 14.29it/s]\n",
      "Chain 0: 100%|██████████| 1000/1000 [01:10<00:00, 14.26it/s]\n",
      "Chain 0: 100%|██████████| 1000/1000 [01:09<00:00, 14.29it/s]\n"
     ]
    },
    {
     "name": "stdout",
     "output_type": "stream",
     "text": [
      "rlct/0: 99.3660881192832\n",
      "rlct/1: 102.55014031948984\n",
      "rlct/2: 8239191825.003675\n",
      "rlct/3: 104.7158124208077\n",
      "rlct/4: 100.20233192173464\n",
      "rlct/mean: 1647838446.3676095\n",
      "rlct/std: 3295676689.318033\n",
      "\n"
     ]
    },
    {
     "name": "stderr",
     "output_type": "stream",
     "text": [
      "Chain 0: 100%|██████████| 1000/1000 [01:09<00:00, 14.45it/s]\n",
      "Chain 0: 100%|██████████| 1000/1000 [01:09<00:00, 14.47it/s]\n",
      "Chain 0: 100%|██████████| 1000/1000 [01:09<00:00, 14.39it/s]\n",
      "Chain 0: 100%|██████████| 1000/1000 [01:10<00:00, 14.10it/s]\n",
      "Chain 0: 100%|██████████| 1000/1000 [01:17<00:00, 12.88it/s]\n"
     ]
    },
    {
     "name": "stdout",
     "output_type": "stream",
     "text": [
      "rlct/0: 134.23855711056453\n",
      "rlct/1: 148.16239224241625\n",
      "rlct/2: 138.66589927948405\n",
      "rlct/3: 135.22474700843213\n",
      "rlct/4: 145.3368631777584\n",
      "rlct/mean: 140.32569176373107\n",
      "rlct/std: 5.520026632300694\n",
      "\n"
     ]
    },
    {
     "name": "stderr",
     "output_type": "stream",
     "text": [
      "Chain 0: 100%|██████████| 1000/1000 [01:17<00:00, 12.90it/s]\n",
      "Chain 0: 100%|██████████| 1000/1000 [01:17<00:00, 12.85it/s]\n",
      "Chain 0: 100%|██████████| 1000/1000 [01:17<00:00, 12.89it/s]\n",
      "Chain 0: 100%|██████████| 1000/1000 [01:17<00:00, 12.89it/s]\n",
      "Chain 0: 100%|██████████| 1000/1000 [01:18<00:00, 12.75it/s]\n"
     ]
    },
    {
     "name": "stdout",
     "output_type": "stream",
     "text": [
      "rlct/0: 199.01682569374628\n",
      "rlct/1: 204.05993626647165\n",
      "rlct/2: 195.09168428152728\n",
      "rlct/3: 208.90527407619237\n",
      "rlct/4: 206.8409845884635\n",
      "rlct/mean: 202.7829409812802\n",
      "rlct/std: 5.077803686275201\n",
      "\n"
     ]
    },
    {
     "name": "stderr",
     "output_type": "stream",
     "text": [
      "Chain 0: 100%|██████████| 1000/1000 [01:15<00:00, 13.32it/s]\n",
      "Chain 0: 100%|██████████| 1000/1000 [01:13<00:00, 13.58it/s]\n",
      "Chain 0: 100%|██████████| 1000/1000 [01:17<00:00, 12.95it/s]\n",
      "Chain 0: 100%|██████████| 1000/1000 [01:20<00:00, 12.44it/s]\n",
      "Chain 0: 100%|██████████| 1000/1000 [01:19<00:00, 12.65it/s]\n"
     ]
    },
    {
     "name": "stdout",
     "output_type": "stream",
     "text": [
      "rlct/0: 172.6355957716455\n",
      "rlct/1: 169.95638031069623\n",
      "rlct/2: 165.20593163877695\n",
      "rlct/3: 156.09171113852005\n",
      "rlct/4: 172.34846935560358\n",
      "rlct/mean: 167.24761764304847\n",
      "rlct/std: 6.180762467126145\n",
      "\n"
     ]
    },
    {
     "name": "stderr",
     "output_type": "stream",
     "text": [
      "Chain 0: 100%|██████████| 1000/1000 [01:21<00:00, 12.28it/s]\n",
      "Chain 0: 100%|██████████| 1000/1000 [01:19<00:00, 12.55it/s]\n",
      "Chain 0: 100%|██████████| 1000/1000 [01:19<00:00, 12.55it/s]\n",
      "Chain 0: 100%|██████████| 1000/1000 [01:18<00:00, 12.74it/s]\n",
      "Chain 0: 100%|██████████| 1000/1000 [01:15<00:00, 13.33it/s]\n"
     ]
    },
    {
     "name": "stdout",
     "output_type": "stream",
     "text": [
      "rlct/0: 121.25295464320583\n",
      "rlct/1: 4.093824615440154e+18\n",
      "rlct/2: 113.93169369179728\n",
      "rlct/3: 116.57209481465972\n",
      "rlct/4: 110.84000624435261\n",
      "rlct/mean: 8.187649230880308e+17\n",
      "rlct/std: 1.6375298461760617e+18\n",
      "\n"
     ]
    },
    {
     "name": "stderr",
     "output_type": "stream",
     "text": [
      "Chain 0: 100%|██████████| 1000/1000 [01:12<00:00, 13.80it/s]\n",
      "Chain 0: 100%|██████████| 1000/1000 [01:13<00:00, 13.61it/s]\n",
      "Chain 0: 100%|██████████| 1000/1000 [01:15<00:00, 13.26it/s]\n",
      "Chain 0: 100%|██████████| 1000/1000 [01:14<00:00, 13.51it/s]\n",
      "Chain 0: 100%|██████████| 1000/1000 [01:15<00:00, 13.18it/s]\n"
     ]
    },
    {
     "name": "stdout",
     "output_type": "stream",
     "text": [
      "rlct/0: 1.088072701918318e+22\n",
      "rlct/1: 53718275.401278675\n",
      "rlct/2: 100947687.56239423\n",
      "rlct/3: 7627341955193069.0\n",
      "rlct/4: 2.1188565210211953e+18\n",
      "rlct/mean: 2.1765707006092627e+21\n",
      "rlct/std: 4.3520782364714116e+21\n",
      "\n"
     ]
    },
    {
     "name": "stderr",
     "output_type": "stream",
     "text": [
      "Chain 0: 100%|██████████| 1000/1000 [01:16<00:00, 13.08it/s]\n",
      "Chain 0: 100%|██████████| 1000/1000 [01:15<00:00, 13.26it/s]\n",
      "Chain 0: 100%|██████████| 1000/1000 [01:15<00:00, 13.25it/s]\n",
      "Chain 0: 100%|██████████| 1000/1000 [01:13<00:00, 13.60it/s]\n",
      "Chain 0: 100%|██████████| 1000/1000 [01:14<00:00, 13.34it/s]\n"
     ]
    },
    {
     "name": "stdout",
     "output_type": "stream",
     "text": [
      "rlct/0: 130.18140849243719\n",
      "rlct/1: 127.73848753107004\n",
      "rlct/2: 143.48863518157523\n",
      "rlct/3: 130.30311873213657\n",
      "rlct/4: 124.44820817391881\n",
      "rlct/mean: 131.23197162222758\n",
      "rlct/std: 6.487158542935836\n",
      "\n"
     ]
    },
    {
     "name": "stderr",
     "output_type": "stream",
     "text": [
      "Chain 0: 100%|██████████| 1000/1000 [01:17<00:00, 12.93it/s]\n",
      "Chain 0: 100%|██████████| 1000/1000 [01:17<00:00, 12.83it/s]\n",
      "Chain 0: 100%|██████████| 1000/1000 [01:16<00:00, 13.00it/s]\n",
      "Chain 0: 100%|██████████| 1000/1000 [01:16<00:00, 13.06it/s]\n",
      "Chain 0: 100%|██████████| 1000/1000 [01:15<00:00, 13.22it/s]\n"
     ]
    },
    {
     "name": "stdout",
     "output_type": "stream",
     "text": [
      "rlct/0: 200.81500164610537\n",
      "rlct/1: 204.41799490637064\n",
      "rlct/2: 196.26126766374955\n",
      "rlct/3: 190.15628105254098\n",
      "rlct/4: 200.0575463931414\n",
      "rlct/mean: 198.34161833238159\n",
      "rlct/std: 4.84379998935669\n",
      "\n"
     ]
    },
    {
     "name": "stderr",
     "output_type": "stream",
     "text": [
      "Chain 0: 100%|██████████| 1000/1000 [01:17<00:00, 12.95it/s]\n",
      "Chain 0: 100%|██████████| 1000/1000 [01:18<00:00, 12.78it/s]\n",
      "Chain 0: 100%|██████████| 1000/1000 [01:15<00:00, 13.19it/s]\n",
      "Chain 0: 100%|██████████| 1000/1000 [01:18<00:00, 12.75it/s]\n",
      "Chain 0: 100%|██████████| 1000/1000 [01:16<00:00, 13.08it/s]\n"
     ]
    },
    {
     "name": "stdout",
     "output_type": "stream",
     "text": [
      "rlct/0: 150.3332263529246\n",
      "rlct/1: 164.11918989889907\n",
      "rlct/2: 152.19320808546144\n",
      "rlct/3: 158.891300243228\n",
      "rlct/4: 151.27001499029456\n",
      "rlct/mean: 155.36138791416155\n",
      "rlct/std: 5.314479864856062\n",
      "\n"
     ]
    },
    {
     "name": "stderr",
     "output_type": "stream",
     "text": [
      "Chain 0: 100%|██████████| 1000/1000 [01:18<00:00, 12.76it/s]\n",
      "Chain 0: 100%|██████████| 1000/1000 [01:16<00:00, 12.99it/s]\n",
      "Chain 0: 100%|██████████| 1000/1000 [01:16<00:00, 13.13it/s]\n",
      "Chain 0: 100%|██████████| 1000/1000 [01:14<00:00, 13.33it/s]\n",
      "Chain 0: 100%|██████████| 1000/1000 [01:15<00:00, 13.25it/s]\n"
     ]
    },
    {
     "name": "stdout",
     "output_type": "stream",
     "text": [
      "rlct/0: 123.835849886314\n",
      "rlct/1: 119.98159569836571\n",
      "rlct/2: 108.7446154097702\n",
      "rlct/3: 116.9165171168659\n",
      "rlct/4: 2.121077313385854e+17\n",
      "rlct/mean: 4.2421546267717176e+16\n",
      "rlct/std: 8.484309253543411e+16\n",
      "\n"
     ]
    },
    {
     "name": "stderr",
     "output_type": "stream",
     "text": [
      "Chain 0: 100%|██████████| 1000/1000 [01:13<00:00, 13.69it/s]\n",
      "Chain 0: 100%|██████████| 1000/1000 [01:12<00:00, 13.84it/s]\n",
      "Chain 0: 100%|██████████| 1000/1000 [01:13<00:00, 13.52it/s]\n",
      "Chain 0: 100%|██████████| 1000/1000 [01:13<00:00, 13.63it/s]\n",
      "Chain 0: 100%|██████████| 1000/1000 [01:12<00:00, 13.76it/s]\n"
     ]
    },
    {
     "name": "stdout",
     "output_type": "stream",
     "text": [
      "rlct/0: 412144541405367.4\n",
      "rlct/1: 3635216620490.0586\n",
      "rlct/2: 7.974450227524948e+27\n",
      "rlct/3: 9.149332738855426e+20\n",
      "rlct/4: 3.4776124512137244e+24\n",
      "rlct/mean: 1.59558575098197e+27\n",
      "rlct/std: 3.189432522608948e+27\n",
      "\n"
     ]
    },
    {
     "name": "stderr",
     "output_type": "stream",
     "text": [
      "Chain 0: 100%|██████████| 1000/1000 [01:15<00:00, 13.28it/s]\n",
      "Chain 0: 100%|██████████| 1000/1000 [01:14<00:00, 13.33it/s]\n",
      "Chain 0: 100%|██████████| 1000/1000 [01:13<00:00, 13.57it/s]\n",
      "Chain 0: 100%|██████████| 1000/1000 [01:14<00:00, 13.36it/s]\n",
      "Chain 0: 100%|██████████| 1000/1000 [01:13<00:00, 13.55it/s]\n"
     ]
    },
    {
     "name": "stdout",
     "output_type": "stream",
     "text": [
      "rlct/0: 100.02988101311568\n",
      "rlct/1: 96.96143960206723\n",
      "rlct/2: 105.36648645106939\n",
      "rlct/3: 119.5986399443365\n",
      "rlct/4: 106.0626594479086\n",
      "rlct/mean: 105.60382129169948\n",
      "rlct/std: 7.770217254348514\n",
      "\n"
     ]
    },
    {
     "name": "stderr",
     "output_type": "stream",
     "text": [
      "Chain 0: 100%|██████████| 1000/1000 [01:13<00:00, 13.56it/s]\n",
      "Chain 0: 100%|██████████| 1000/1000 [01:16<00:00, 13.04it/s]\n",
      "Chain 0: 100%|██████████| 1000/1000 [01:15<00:00, 13.16it/s]\n",
      "Chain 0: 100%|██████████| 1000/1000 [01:17<00:00, 12.97it/s]\n",
      "Chain 0: 100%|██████████| 1000/1000 [01:13<00:00, 13.52it/s]\n"
     ]
    },
    {
     "name": "stdout",
     "output_type": "stream",
     "text": [
      "rlct/0: 207.7648529203064\n",
      "rlct/1: 215.76966129022443\n",
      "rlct/2: 206.40205377102365\n",
      "rlct/3: 199.56973094455788\n",
      "rlct/4: 197.31232300126814\n",
      "rlct/mean: 205.3637243854761\n",
      "rlct/std: 6.534867913926041\n",
      "\n"
     ]
    },
    {
     "name": "stderr",
     "output_type": "stream",
     "text": [
      "Chain 0: 100%|██████████| 1000/1000 [01:16<00:00, 13.11it/s]\n",
      "Chain 0: 100%|██████████| 1000/1000 [01:15<00:00, 13.33it/s]\n",
      "Chain 0: 100%|██████████| 1000/1000 [01:14<00:00, 13.43it/s]\n",
      "Chain 0: 100%|██████████| 1000/1000 [01:12<00:00, 13.78it/s]\n",
      "Chain 0: 100%|██████████| 1000/1000 [01:15<00:00, 13.31it/s]\n"
     ]
    },
    {
     "name": "stdout",
     "output_type": "stream",
     "text": [
      "rlct/0: 165.5106315790431\n",
      "rlct/1: 166.5248222629364\n",
      "rlct/2: 164.85112582453556\n",
      "rlct/3: 166.26286493468126\n",
      "rlct/4: 152.44594098144816\n",
      "rlct/mean: 163.1190771165289\n",
      "rlct/std: 5.36875893070059\n",
      "\n"
     ]
    },
    {
     "name": "stderr",
     "output_type": "stream",
     "text": [
      "Chain 0: 100%|██████████| 1000/1000 [01:14<00:00, 13.45it/s]\n",
      "Chain 0: 100%|██████████| 1000/1000 [01:13<00:00, 13.69it/s]\n",
      "Chain 0: 100%|██████████| 1000/1000 [01:14<00:00, 13.43it/s]\n",
      "Chain 0: 100%|██████████| 1000/1000 [01:19<00:00, 12.63it/s]\n",
      "Chain 0: 100%|██████████| 1000/1000 [01:18<00:00, 12.73it/s]"
     ]
    },
    {
     "name": "stdout",
     "output_type": "stream",
     "text": [
      "rlct/0: 116.98023068550133\n",
      "rlct/1: 116.56411709279675\n",
      "rlct/2: 121.71716616075066\n",
      "rlct/3: 116.43021858211286\n",
      "rlct/4: 335981373.9496058\n",
      "rlct/mean: 67196369.12826768\n",
      "rlct/std: 134392502.41066912\n",
      "\n"
     ]
    },
    {
     "name": "stderr",
     "output_type": "stream",
     "text": [
      "\n"
     ]
    },
    {
     "data": {
      "text/html": [
       "Waiting for W&B process to finish... <strong style=\"color:green\">(success).</strong>"
      ],
      "text/plain": [
       "<IPython.core.display.HTML object>"
      ]
     },
     "metadata": {},
     "output_type": "display_data"
    }
   ],
   "source": [
    "checkpoint_steps = sorted(list(map(lambda filename: int(str(filename).split(\"/\")[-1].split(\".\")[0]), CHECKPOINTS_PATH.glob(\"*.pt\"))))\n",
    "evals_over_time = eval_rlcts_over_time(learner, checkpoint_steps, num_draws=1000, num_chains=1, num_cores=NUM_CORES, lr=1e-6, noise_level=1., weight_decay=3e-7, elasticity=100., repeats=5, pbar=True)"
   ]
  },
  {
   "cell_type": "code",
   "execution_count": null,
   "metadata": {},
   "outputs": [],
   "source": []
  }
 ],
 "metadata": {
  "kernelspec": {
   "display_name": ".venv",
   "language": "python",
   "name": "python3"
  },
  "language_info": {
   "codemirror_mode": {
    "name": "ipython",
    "version": 3
   },
   "file_extension": ".py",
   "mimetype": "text/x-python",
   "name": "python",
   "nbconvert_exporter": "python",
   "pygments_lexer": "ipython3",
   "version": "3.9.16"
  },
  "orig_nbformat": 4
 },
 "nbformat": 4,
 "nbformat_minor": 2
}
