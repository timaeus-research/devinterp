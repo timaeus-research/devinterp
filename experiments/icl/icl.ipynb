{
 "cells": [
  {
   "cell_type": "markdown",
   "metadata": {},
   "source": [
    "# SLT for In-Context Learning"
   ]
  },
  {
   "cell_type": "markdown",
   "metadata": {},
   "source": []
  },
  {
   "cell_type": "code",
   "execution_count": 5,
   "metadata": {},
   "outputs": [],
   "source": [
    "import torch \n",
    "\n",
    "def accuracy_fn(ys_true, ys_pred, axis=None, atol=1e-3):\n",
    "    return ((ys_true - ys_pred).abs() < atol).mean(axis=axis, dtype=torch.float64) \n",
    "\n",
    "def test_basic():\n",
    "    ys_true = torch.Tensor([0.1, 0.2, 0.3])\n",
    "    ys_pred = torch.Tensor([0.1, 0.2, 0.3])\n",
    "    assert accuracy_fn(ys_true, ys_pred).item() == 1.0\n",
    "\n",
    "def test_tolerance():\n",
    "    ys_true = torch.Tensor([0.1, 0.2, 0.3])\n",
    "    ys_pred = torch.Tensor([0.1, 0.21, 0.3])\n",
    "    assert accuracy_fn(ys_true, ys_pred, atol=0.02).item() == 1.0\n",
    "\n",
    "def test_failure():\n",
    "    ys_true = torch.Tensor([0.1, 0.2, 0.3, 0.4])\n",
    "    ys_pred = torch.Tensor([0.2, 0.3, 0.3, 0.5])\n",
    "    assert accuracy_fn(ys_true, ys_pred).item() == 0.25\n",
    "\n",
    "\n",
    "test_basic()\n",
    "test_tolerance()\n",
    "test_failure()"
   ]
  },
  {
   "cell_type": "code",
   "execution_count": null,
   "metadata": {},
   "outputs": [],
   "source": []
  }
 ],
 "metadata": {
  "kernelspec": {
   "display_name": ".venv",
   "language": "python",
   "name": "python3"
  },
  "language_info": {
   "codemirror_mode": {
    "name": "ipython",
    "version": 3
   },
   "file_extension": ".py",
   "mimetype": "text/x-python",
   "name": "python",
   "nbconvert_exporter": "python",
   "pygments_lexer": "ipython3",
   "version": "3.9.16"
  },
  "orig_nbformat": 4
 },
 "nbformat": 4,
 "nbformat_minor": 2
}
