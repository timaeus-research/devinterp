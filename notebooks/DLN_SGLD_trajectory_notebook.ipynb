{
  "cells": [
    {
      "cell_type": "markdown",
      "metadata": {
        "id": "T7X6Ie0-JeGX"
      },
      "source": [
        "[![Open In Colab](https://colab.research.google.com/assets/colab-badge.svg)](https://colab.research.google.com/github/timaeus-research/devinterp/blob/stan/jet/notebooks/DLN_SGLD_trajectory_notebook.ipynb)\n",
        "\n",
        "# Normal Crossing SGLD trajectory notebook\n",
        "\n",
        "This notebook uses SGLD to sample from the posterior around a point, for a polynomial model characterized by $y_{pred} = w_1^a * w_2^b * x$ for some $(a, b)$, where $w_1$ and $w_2$ are weights to be learned and $x$ is our (1-dimensional) input.\n",
        "\n",
        "Both the input $x$ and target data $y$ are generated using (independent) gaussian noise, and the loss is Mean Squared Error from $y$ to $y_{pred}$, so the model achieves its lowest loss when $w_1=0$ or $w_2=0$.\n"
      ]
    },
    {
      "cell_type": "code",
      "execution_count": 1,
      "metadata": {
        "colab": {
          "base_uri": "https://localhost:8080/"
        },
        "collapsed": true,
        "id": "adozz2e4JeGa",
        "outputId": "ef7549d4-7279-4486-b510-7f38aaff08d6"
      },
      "outputs": [
        {
          "name": "stdout",
          "output_type": "stream",
          "text": [
            "Collecting git+https://github.com/timaeus-research/devinterp.git@stan/jet\n",
            "  Cloning https://github.com/timaeus-research/devinterp.git (to revision stan/jet) to /tmp/pip-req-build-4ui563nm\n",
            "  Running command git clone --filter=blob:none --quiet https://github.com/timaeus-research/devinterp.git /tmp/pip-req-build-4ui563nm\n",
            "  Running command git checkout -b stan/jet --track origin/stan/jet\n",
            "  Switched to a new branch 'stan/jet'\n",
            "  Branch 'stan/jet' set up to track remote branch 'stan/jet' from 'origin'.\n",
            "  Resolved https://github.com/timaeus-research/devinterp.git to commit 8b2fcc565588d8fdc4d552fa8a1d3d7c0dd1503b\n",
            "  Installing build dependencies ... \u001b[?25ldone\n",
            "\u001b[?25h  Getting requirements to build wheel ... \u001b[?25ldone\n",
            "\u001b[?25h  Preparing metadata (pyproject.toml) ... \u001b[?25ldone\n",
            "\u001b[?25hRequirement already satisfied: einops>=0.6.1 in /home/svwin/devinterp/.venv/lib/python3.8/site-packages (from devinterp==1.2.0) (0.8.0)\n",
            "Requirement already satisfied: matplotlib>=3.7.5 in /home/svwin/devinterp/.venv/lib/python3.8/site-packages (from devinterp==1.2.0) (3.7.5)\n",
            "Requirement already satisfied: nbformat>=4.2.0 in /home/svwin/devinterp/.venv/lib/python3.8/site-packages (from devinterp==1.2.0) (5.10.4)\n",
            "Requirement already satisfied: numpy>=1.23.5 in /home/svwin/devinterp/.venv/lib/python3.8/site-packages (from devinterp==1.2.0) (1.24.4)\n",
            "Requirement already satisfied: pandas>=1.5.3 in /home/svwin/devinterp/.venv/lib/python3.8/site-packages (from devinterp==1.2.0) (2.0.3)\n",
            "Requirement already satisfied: plotly>=5.24.0 in /home/svwin/devinterp/.venv/lib/python3.8/site-packages (from devinterp==1.2.0) (5.24.1)\n",
            "Requirement already satisfied: pydantic>=2.9.0 in /home/svwin/devinterp/.venv/lib/python3.8/site-packages (from devinterp==1.2.0) (2.9.2)\n",
            "Requirement already satisfied: scipy>=1.10.1 in /home/svwin/devinterp/.venv/lib/python3.8/site-packages (from devinterp==1.2.0) (1.10.1)\n",
            "Requirement already satisfied: torch>=2.0.1 in /home/svwin/devinterp/.venv/lib/python3.8/site-packages (from devinterp==1.2.0) (2.4.1)\n",
            "Requirement already satisfied: tqdm>=4.65.0 in /home/svwin/devinterp/.venv/lib/python3.8/site-packages (from devinterp==1.2.0) (4.66.6)\n",
            "Requirement already satisfied: cloudpickle>=3.0.0 in /home/svwin/devinterp/.venv/lib/python3.8/site-packages (from devinterp==1.2.0) (3.1.0)\n",
            "Requirement already satisfied: PyMoments in /home/svwin/devinterp/.venv/lib/python3.8/site-packages (from devinterp==1.2.0) (1.0.1)\n",
            "Requirement already satisfied: contourpy>=1.0.1 in /home/svwin/devinterp/.venv/lib/python3.8/site-packages (from matplotlib>=3.7.5->devinterp==1.2.0) (1.1.1)\n",
            "Requirement already satisfied: cycler>=0.10 in /home/svwin/devinterp/.venv/lib/python3.8/site-packages (from matplotlib>=3.7.5->devinterp==1.2.0) (0.12.1)\n",
            "Requirement already satisfied: fonttools>=4.22.0 in /home/svwin/devinterp/.venv/lib/python3.8/site-packages (from matplotlib>=3.7.5->devinterp==1.2.0) (4.54.1)\n",
            "Requirement already satisfied: kiwisolver>=1.0.1 in /home/svwin/devinterp/.venv/lib/python3.8/site-packages (from matplotlib>=3.7.5->devinterp==1.2.0) (1.4.7)\n",
            "Requirement already satisfied: packaging>=20.0 in /home/svwin/devinterp/.venv/lib/python3.8/site-packages (from matplotlib>=3.7.5->devinterp==1.2.0) (24.1)\n",
            "Requirement already satisfied: pillow>=6.2.0 in /home/svwin/devinterp/.venv/lib/python3.8/site-packages (from matplotlib>=3.7.5->devinterp==1.2.0) (10.4.0)\n",
            "Requirement already satisfied: pyparsing>=2.3.1 in /home/svwin/devinterp/.venv/lib/python3.8/site-packages (from matplotlib>=3.7.5->devinterp==1.2.0) (3.1.4)\n",
            "Requirement already satisfied: python-dateutil>=2.7 in /home/svwin/devinterp/.venv/lib/python3.8/site-packages (from matplotlib>=3.7.5->devinterp==1.2.0) (2.9.0.post0)\n",
            "Requirement already satisfied: importlib-resources>=3.2.0 in /home/svwin/devinterp/.venv/lib/python3.8/site-packages (from matplotlib>=3.7.5->devinterp==1.2.0) (6.4.5)\n",
            "Requirement already satisfied: fastjsonschema>=2.15 in /home/svwin/devinterp/.venv/lib/python3.8/site-packages (from nbformat>=4.2.0->devinterp==1.2.0) (2.20.0)\n",
            "Requirement already satisfied: jsonschema>=2.6 in /home/svwin/devinterp/.venv/lib/python3.8/site-packages (from nbformat>=4.2.0->devinterp==1.2.0) (4.23.0)\n",
            "Requirement already satisfied: jupyter-core!=5.0.*,>=4.12 in /home/svwin/devinterp/.venv/lib/python3.8/site-packages (from nbformat>=4.2.0->devinterp==1.2.0) (5.7.2)\n",
            "Requirement already satisfied: traitlets>=5.1 in /home/svwin/devinterp/.venv/lib/python3.8/site-packages (from nbformat>=4.2.0->devinterp==1.2.0) (5.14.3)\n",
            "Requirement already satisfied: pytz>=2020.1 in /home/svwin/devinterp/.venv/lib/python3.8/site-packages (from pandas>=1.5.3->devinterp==1.2.0) (2024.2)\n",
            "Requirement already satisfied: tzdata>=2022.1 in /home/svwin/devinterp/.venv/lib/python3.8/site-packages (from pandas>=1.5.3->devinterp==1.2.0) (2024.2)\n",
            "Requirement already satisfied: tenacity>=6.2.0 in /home/svwin/devinterp/.venv/lib/python3.8/site-packages (from plotly>=5.24.0->devinterp==1.2.0) (9.0.0)\n",
            "Requirement already satisfied: annotated-types>=0.6.0 in /home/svwin/devinterp/.venv/lib/python3.8/site-packages (from pydantic>=2.9.0->devinterp==1.2.0) (0.7.0)\n",
            "Requirement already satisfied: pydantic-core==2.23.4 in /home/svwin/devinterp/.venv/lib/python3.8/site-packages (from pydantic>=2.9.0->devinterp==1.2.0) (2.23.4)\n",
            "Requirement already satisfied: typing-extensions>=4.6.1 in /home/svwin/devinterp/.venv/lib/python3.8/site-packages (from pydantic>=2.9.0->devinterp==1.2.0) (4.12.2)\n",
            "Requirement already satisfied: filelock in /home/svwin/devinterp/.venv/lib/python3.8/site-packages (from torch>=2.0.1->devinterp==1.2.0) (3.16.1)\n",
            "Requirement already satisfied: sympy in /home/svwin/devinterp/.venv/lib/python3.8/site-packages (from torch>=2.0.1->devinterp==1.2.0) (1.13.3)\n",
            "Requirement already satisfied: networkx in /home/svwin/devinterp/.venv/lib/python3.8/site-packages (from torch>=2.0.1->devinterp==1.2.0) (3.1)\n",
            "Requirement already satisfied: jinja2 in /home/svwin/devinterp/.venv/lib/python3.8/site-packages (from torch>=2.0.1->devinterp==1.2.0) (3.1.4)\n",
            "Requirement already satisfied: fsspec in /home/svwin/devinterp/.venv/lib/python3.8/site-packages (from torch>=2.0.1->devinterp==1.2.0) (2024.10.0)\n",
            "Requirement already satisfied: nvidia-cuda-nvrtc-cu12==12.1.105 in /home/svwin/devinterp/.venv/lib/python3.8/site-packages (from torch>=2.0.1->devinterp==1.2.0) (12.1.105)\n",
            "Requirement already satisfied: nvidia-cuda-runtime-cu12==12.1.105 in /home/svwin/devinterp/.venv/lib/python3.8/site-packages (from torch>=2.0.1->devinterp==1.2.0) (12.1.105)\n",
            "Requirement already satisfied: nvidia-cuda-cupti-cu12==12.1.105 in /home/svwin/devinterp/.venv/lib/python3.8/site-packages (from torch>=2.0.1->devinterp==1.2.0) (12.1.105)\n",
            "Requirement already satisfied: nvidia-cudnn-cu12==9.1.0.70 in /home/svwin/devinterp/.venv/lib/python3.8/site-packages (from torch>=2.0.1->devinterp==1.2.0) (9.1.0.70)\n",
            "Requirement already satisfied: nvidia-cublas-cu12==12.1.3.1 in /home/svwin/devinterp/.venv/lib/python3.8/site-packages (from torch>=2.0.1->devinterp==1.2.0) (12.1.3.1)\n",
            "Requirement already satisfied: nvidia-cufft-cu12==11.0.2.54 in /home/svwin/devinterp/.venv/lib/python3.8/site-packages (from torch>=2.0.1->devinterp==1.2.0) (11.0.2.54)\n",
            "Requirement already satisfied: nvidia-curand-cu12==10.3.2.106 in /home/svwin/devinterp/.venv/lib/python3.8/site-packages (from torch>=2.0.1->devinterp==1.2.0) (10.3.2.106)\n",
            "Requirement already satisfied: nvidia-cusolver-cu12==11.4.5.107 in /home/svwin/devinterp/.venv/lib/python3.8/site-packages (from torch>=2.0.1->devinterp==1.2.0) (11.4.5.107)\n",
            "Requirement already satisfied: nvidia-cusparse-cu12==12.1.0.106 in /home/svwin/devinterp/.venv/lib/python3.8/site-packages (from torch>=2.0.1->devinterp==1.2.0) (12.1.0.106)\n",
            "Requirement already satisfied: nvidia-nccl-cu12==2.20.5 in /home/svwin/devinterp/.venv/lib/python3.8/site-packages (from torch>=2.0.1->devinterp==1.2.0) (2.20.5)\n",
            "Requirement already satisfied: nvidia-nvtx-cu12==12.1.105 in /home/svwin/devinterp/.venv/lib/python3.8/site-packages (from torch>=2.0.1->devinterp==1.2.0) (12.1.105)\n",
            "Requirement already satisfied: triton==3.0.0 in /home/svwin/devinterp/.venv/lib/python3.8/site-packages (from torch>=2.0.1->devinterp==1.2.0) (3.0.0)\n",
            "Requirement already satisfied: nvidia-nvjitlink-cu12 in /home/svwin/devinterp/.venv/lib/python3.8/site-packages (from nvidia-cusolver-cu12==11.4.5.107->torch>=2.0.1->devinterp==1.2.0) (12.6.77)\n",
            "Requirement already satisfied: zipp>=3.1.0 in /home/svwin/devinterp/.venv/lib/python3.8/site-packages (from importlib-resources>=3.2.0->matplotlib>=3.7.5->devinterp==1.2.0) (3.20.2)\n",
            "Requirement already satisfied: attrs>=22.2.0 in /home/svwin/devinterp/.venv/lib/python3.8/site-packages (from jsonschema>=2.6->nbformat>=4.2.0->devinterp==1.2.0) (24.2.0)\n",
            "Requirement already satisfied: jsonschema-specifications>=2023.03.6 in /home/svwin/devinterp/.venv/lib/python3.8/site-packages (from jsonschema>=2.6->nbformat>=4.2.0->devinterp==1.2.0) (2023.12.1)\n",
            "Requirement already satisfied: pkgutil-resolve-name>=1.3.10 in /home/svwin/devinterp/.venv/lib/python3.8/site-packages (from jsonschema>=2.6->nbformat>=4.2.0->devinterp==1.2.0) (1.3.10)\n",
            "Requirement already satisfied: referencing>=0.28.4 in /home/svwin/devinterp/.venv/lib/python3.8/site-packages (from jsonschema>=2.6->nbformat>=4.2.0->devinterp==1.2.0) (0.35.1)\n",
            "Requirement already satisfied: rpds-py>=0.7.1 in /home/svwin/devinterp/.venv/lib/python3.8/site-packages (from jsonschema>=2.6->nbformat>=4.2.0->devinterp==1.2.0) (0.20.1)\n",
            "Requirement already satisfied: platformdirs>=2.5 in /home/svwin/devinterp/.venv/lib/python3.8/site-packages (from jupyter-core!=5.0.*,>=4.12->nbformat>=4.2.0->devinterp==1.2.0) (4.3.6)\n",
            "Requirement already satisfied: six>=1.5 in /home/svwin/devinterp/.venv/lib/python3.8/site-packages (from python-dateutil>=2.7->matplotlib>=3.7.5->devinterp==1.2.0) (1.16.0)\n",
            "Requirement already satisfied: MarkupSafe>=2.0 in /home/svwin/devinterp/.venv/lib/python3.8/site-packages (from jinja2->torch>=2.0.1->devinterp==1.2.0) (2.1.5)\n",
            "Requirement already satisfied: mpmath<1.4,>=1.1.0 in /home/svwin/devinterp/.venv/lib/python3.8/site-packages (from sympy->torch>=2.0.1->devinterp==1.2.0) (1.3.0)\n",
            "Building wheels for collected packages: devinterp\n",
            "  Building wheel for devinterp (pyproject.toml) ... \u001b[?25ldone\n",
            "\u001b[?25h  Created wheel for devinterp: filename=devinterp-1.2.0-py3-none-any.whl size=58582 sha256=3f715c3312a4ba6e328f657a576daa88831d483bb187fbd2191bfe5e8dae1b9a\n",
            "  Stored in directory: /tmp/pip-ephem-wheel-cache-kefndxn2/wheels/7a/f0/4a/b93f1844c3473a359fb7ff449749205ab8a743ecb26250ace2\n",
            "Successfully built devinterp\n",
            "Installing collected packages: devinterp\n",
            "  Attempting uninstall: devinterp\n",
            "    Found existing installation: devinterp 1.2.0\n",
            "    Uninstalling devinterp-1.2.0:\n",
            "      Successfully uninstalled devinterp-1.2.0\n",
            "Successfully installed devinterp-1.2.0\n",
            "Requirement already satisfied: seaborn in /home/svwin/devinterp/.venv/lib/python3.8/site-packages (0.13.2)\n",
            "Requirement already satisfied: numpy!=1.24.0,>=1.20 in /home/svwin/devinterp/.venv/lib/python3.8/site-packages (from seaborn) (1.24.4)\n",
            "Requirement already satisfied: pandas>=1.2 in /home/svwin/devinterp/.venv/lib/python3.8/site-packages (from seaborn) (2.0.3)\n",
            "Requirement already satisfied: matplotlib!=3.6.1,>=3.4 in /home/svwin/devinterp/.venv/lib/python3.8/site-packages (from seaborn) (3.7.5)\n",
            "Requirement already satisfied: contourpy>=1.0.1 in /home/svwin/devinterp/.venv/lib/python3.8/site-packages (from matplotlib!=3.6.1,>=3.4->seaborn) (1.1.1)\n",
            "Requirement already satisfied: cycler>=0.10 in /home/svwin/devinterp/.venv/lib/python3.8/site-packages (from matplotlib!=3.6.1,>=3.4->seaborn) (0.12.1)\n",
            "Requirement already satisfied: fonttools>=4.22.0 in /home/svwin/devinterp/.venv/lib/python3.8/site-packages (from matplotlib!=3.6.1,>=3.4->seaborn) (4.54.1)\n",
            "Requirement already satisfied: kiwisolver>=1.0.1 in /home/svwin/devinterp/.venv/lib/python3.8/site-packages (from matplotlib!=3.6.1,>=3.4->seaborn) (1.4.7)\n",
            "Requirement already satisfied: packaging>=20.0 in /home/svwin/devinterp/.venv/lib/python3.8/site-packages (from matplotlib!=3.6.1,>=3.4->seaborn) (24.1)\n",
            "Requirement already satisfied: pillow>=6.2.0 in /home/svwin/devinterp/.venv/lib/python3.8/site-packages (from matplotlib!=3.6.1,>=3.4->seaborn) (10.4.0)\n",
            "Requirement already satisfied: pyparsing>=2.3.1 in /home/svwin/devinterp/.venv/lib/python3.8/site-packages (from matplotlib!=3.6.1,>=3.4->seaborn) (3.1.4)\n",
            "Requirement already satisfied: python-dateutil>=2.7 in /home/svwin/devinterp/.venv/lib/python3.8/site-packages (from matplotlib!=3.6.1,>=3.4->seaborn) (2.9.0.post0)\n",
            "Requirement already satisfied: importlib-resources>=3.2.0 in /home/svwin/devinterp/.venv/lib/python3.8/site-packages (from matplotlib!=3.6.1,>=3.4->seaborn) (6.4.5)\n",
            "Requirement already satisfied: pytz>=2020.1 in /home/svwin/devinterp/.venv/lib/python3.8/site-packages (from pandas>=1.2->seaborn) (2024.2)\n",
            "Requirement already satisfied: tzdata>=2022.1 in /home/svwin/devinterp/.venv/lib/python3.8/site-packages (from pandas>=1.2->seaborn) (2024.2)\n",
            "Requirement already satisfied: zipp>=3.1.0 in /home/svwin/devinterp/.venv/lib/python3.8/site-packages (from importlib-resources>=3.2.0->matplotlib!=3.6.1,>=3.4->seaborn) (3.20.2)\n",
            "Requirement already satisfied: six>=1.5 in /home/svwin/devinterp/.venv/lib/python3.8/site-packages (from python-dateutil>=2.7->matplotlib!=3.6.1,>=3.4->seaborn) (1.16.0)\n",
            "Note: you may need to restart the kernel to use updated packages.\n"
          ]
        }
      ],
      "source": [
        "!pip install git+https://github.com/timaeus-research/devinterp.git@stan/jet\n",
        "\n",
        "%pip install seaborn"
      ]
    },
    {
      "cell_type": "code",
      "execution_count": 2,
      "metadata": {
        "colab": {
          "base_uri": "https://localhost:8080/"
        },
        "id": "mtMp5sPLJeGk",
        "outputId": "dcff55bf-ecf5-476f-b333-1d5c31f7f962"
      },
      "outputs": [],
      "source": [
        "# @title\n",
        "import locale\n",
        "\n",
        "\n",
        "def getpreferredencoding(do_setlocale=True):\n",
        "    return \"UTF-8\"\n",
        "\n",
        "\n",
        "locale.getpreferredencoding = getpreferredencoding\n",
        "\n",
        "import numpy as np\n",
        "import seaborn as sns\n",
        "import torch\n",
        "import torch.nn as nn\n",
        "from matplotlib.colors import LinearSegmentedColormap\n",
        "\n",
        "from devinterp.optim.sgld import SGLD\n",
        "from devinterp.optim.sgnht import SGNHT\n",
        "from devinterp.slt.llc import OnlineLLCEstimator\n",
        "from devinterp.utils import default_nbeta, evaluate_mse\n",
        "from devinterp.slt.sampler import sample\n",
        "\n",
        "from devinterp.jet_tools.plot import *\n",
        "from devinterp.jet_tools.models import *\n",
        "from devinterp.jet_tools.diffs import *\n",
        "from devinterp.jet_tools.utils import *"
      ]
    },
    {
      "cell_type": "markdown",
      "metadata": {
        "id": "R0Q6fDgVG8Md"
      },
      "source": [
        "# **Auxiliary functions**"
      ]
    },
    {
      "cell_type": "code",
      "execution_count": 3,
      "metadata": {
        "id": "crcmiE9zJeGo"
      },
      "outputs": [],
      "source": [
        "# plotting\n",
        "sns.set_style(\"whitegrid\")\n",
        "\n",
        "# plotting\n",
        "CMAP = sns.color_palette(\"muted\", as_cmap=True)\n",
        "PRIMARY, SECONDARY, TERTIARY = CMAP[:3]\n",
        "\n",
        "\n",
        "def hex_to_rgb(hex_color):\n",
        "    hex_color = hex_color.lstrip(\"#\")\n",
        "    return tuple(int(hex_color[i : i + 2], 16) / 255.0 for i in (0, 2, 4))\n",
        "\n",
        "\n",
        "lighter_factor = 0.9  # Between 0 and 1, higher values make it closer to white\n",
        "lighter_SECONDARY = tuple(\n",
        "    [x + (1 - x) * lighter_factor for x in hex_to_rgb(SECONDARY)[:3]] + [1.0]\n",
        ")\n",
        "\n",
        "colors = [SECONDARY, lighter_SECONDARY]\n",
        "n_bins = 20  # Number of bins\n",
        "contour_cmap = LinearSegmentedColormap.from_list(\"custom_cmap\", colors, N=n_bins)"
      ]
    },
    {
      "cell_type": "code",
      "execution_count": 4,
      "metadata": {
        "id": "3WxiBvc-En1M"
      },
      "outputs": [],
      "source": [
        "DEVICE = \"cuda\" if torch.cuda.is_available() else \"cpu\""
      ]
    },
    {
      "cell_type": "code",
      "execution_count": 5,
      "metadata": {
        "id": "dkAkgb3oXiFc"
      },
      "outputs": [],
      "source": [
        "SEED = 0\n",
        "SIGMA = 1\n",
        "NUM_TRAIN_SAMPLES = 1000\n",
        "BATCH_SIZE = NUM_TRAIN_SAMPLES\n",
        "EVALUATE = evaluate_mse\n",
        "\n",
        "train_loader, train_data, x, y = generate_dataset_for_seed(\n",
        "    seed=SEED, sigma=SIGMA, batch_size=BATCH_SIZE, num_samples=NUM_TRAIN_SAMPLES\n",
        ")"
      ]
    },
    {
      "cell_type": "markdown",
      "metadata": {
        "id": "bDEsFpweJeG0"
      },
      "source": [
        "# **SGLD trajectories sampling**\n"
      ]
    },
    {
      "cell_type": "code",
      "execution_count": 7,
      "metadata": {
        "colab": {
          "base_uri": "https://localhost:8080/"
        },
        "id": "Eyhsfo_rtsdA",
        "outputId": "d610e68a-9c47-485d-d8b2-2ec19febf25b"
      },
      "outputs": [
        {
          "name": "stdout",
          "output_type": "stream",
          "text": [
            "Created continuous dataset (shuffle parameter is ignored)\n"
          ]
        }
      ],
      "source": [
        "method = \"xavier\"\n",
        "dln_model = DLN(\n",
        "    DLNConfig(\n",
        "        input_dim=2,\n",
        "        hidden_dim=2,\n",
        "        output_dim=2,\n",
        "        n_layers=2,\n",
        "        initialization_method=method,  # \"xavier\" \"zeros\" \"random\" \"kaiming\"\n",
        "    )\n",
        ")\n",
        "\n",
        "dln_dataset = create_dataset(dln_model, seed=SEED)\n",
        "dln_dataloader = torch.utils.data.DataLoader(dln_dataset, batch_size=64)"
      ]
    },
    {
      "cell_type": "code",
      "execution_count": 8,
      "metadata": {
        "id": "rJ4X4HJitudr"
      },
      "outputs": [],
      "source": [
        "INITIAL_PARAMETERS = [0.0, 0.0]\n",
        "A_B = [\n",
        "    1,\n",
        "    3,\n",
        "]  # MSE loss function and zero-mean gaussian, so this is effectively w_1**2 * w_2**4 as loss, NB\n",
        "\n",
        "nbeta = default_nbeta(len(train_data))  # = n/log(n)\n",
        "model = PolyModel(torch.tensor(A_B).to(DEVICE), DEVICE).to(\n",
        "    DEVICE\n",
        ")  # lol idk which one it should be\n",
        "model.weights = nn.Parameter(\n",
        "    torch.tensor(INITIAL_PARAMETERS, dtype=torch.float32, requires_grad=True).to(DEVICE)\n",
        ")"
      ]
    },
    {
      "cell_type": "code",
      "execution_count": 19,
      "metadata": {
        "id": "v4c-OwPQajGj"
      },
      "outputs": [],
      "source": [
        "sampling_method = SGLD\n",
        "\n",
        "# Number and length of chains\n",
        "num_chains_sgld = 1\n",
        "num_draws_sgld = 10_0\n",
        "\n",
        "# SGLD parameters\n",
        "epsilon_sgld = 0.005"
      ]
    },
    {
      "cell_type": "code",
      "execution_count": 20,
      "metadata": {
        "colab": {
          "base_uri": "https://localhost:8080/"
        },
        "id": "46XYC-3tJeG4",
        "outputId": "92b43df4-6a0c-4ccf-f3ee-a2cb8ed59148"
      },
      "outputs": [
        {
          "name": "stderr",
          "output_type": "stream",
          "text": [
            "/home/svwin/devinterp/.venv/lib/python3.8/site-packages/devinterp/backends/default/slt/sampler.py:225: UserWarning: You are taking more draws than burn-in steps, your LLC estimates will likely be underestimates. Please check LLC chain convergence.\n",
            "  warnings.warn(\n",
            "/home/svwin/devinterp/.venv/lib/python3.8/site-packages/devinterp/backends/default/slt/sampler.py:264: UserWarning: If you're setting a nbeta or temperature in optimizer_kwargs, please also make sure to set it in the callbacks.\n",
            "  warnings.warn(\n",
            "/home/svwin/devinterp/.venv/lib/python3.8/site-packages/devinterp/backends/default/slt/sampler.py:291: UserWarning: You are using seeded runs, for full reproducibility check https://pytorch.org/docs/stable/notes/randomness.html\n",
            "  warnings.warn(\n",
            "Chain 0:   0%|          | 0/100 [00:00<?, ?it/s]"
          ]
        },
        {
          "name": "stderr",
          "output_type": "stream",
          "text": [
            "Chain 0: 100%|██████████| 100/100 [00:02<00:00, 43.83it/s]\n",
            "/home/svwin/devinterp/.venv/lib/python3.8/site-packages/devinterp/slt/llc.py:149: UserWarning: std(): degrees of freedom is <= 0. Correction should be strictly less than the reduction factor (input numel divided by output numel). (Triggered internally at ../aten/src/ATen/native/ReduceOps.cpp:1808.)\n",
            "  self.llc_stds = self.llcs.std(dim=0)\n"
          ]
        }
      ],
      "source": [
        "torch.manual_seed(SEED)\n",
        "np.random.seed(SEED)\n",
        "weights = WeightCallback(\n",
        "    num_chains=num_chains_sgld, num_draws=num_draws_sgld, model=dln_model\n",
        ")\n",
        "\n",
        "online_llc_estimator = OnlineLLCEstimator(\n",
        "    num_chains=num_chains_sgld,\n",
        "    num_draws=num_draws_sgld,\n",
        "    nbeta=nbeta,\n",
        "    init_loss=0.0,\n",
        "    device=DEVICE,\n",
        ")\n",
        "trace_sgld = sample(\n",
        "    dln_model,\n",
        "    dln_dataloader,\n",
        "    evaluate=EVALUATE,\n",
        "    optimizer_kwargs=dict(lr=epsilon_sgld, nbeta=nbeta, bounding_box_size=1.0),\n",
        "    sampling_method=sampling_method,\n",
        "    num_chains=num_chains_sgld,  # independent sampling runs\n",
        "    num_draws=num_draws_sgld,  # length of a sampling run\n",
        "    verbose=True,\n",
        "    device=DEVICE,\n",
        "    callbacks=[online_llc_estimator, weights],\n",
        "    seed=SEED,\n",
        ")"
      ]
    },
    {
      "cell_type": "code",
      "execution_count": 26,
      "metadata": {
        "colab": {
          "base_uri": "https://localhost:8080/"
        },
        "id": "HIsLRtNOb0ZU",
        "outputId": "cfa98382-b73b-4558-8b5e-ac1de6743684"
      },
      "outputs": [
        {
          "name": "stdout",
          "output_type": "stream",
          "text": [
            "0.5\n"
          ]
        },
        {
          "name": "stderr",
          "output_type": "stream",
          "text": [
            "/tmp/ipykernel_1533517/2970365113.py:8: DeprecationWarning: The truth value of an empty array is ambiguous. Returning False, but in future this will result in an error. Use `array.size > 0` to check that an array is not empty.\n",
            "  assert not any(np.nonzero(np.isnan(wt_sgld))), \"Nans in the chain\"\n"
          ]
        }
      ],
      "source": [
        "wt_sgld = np.array(weights.get_results()[\"ws/trace\"])\n",
        "\n",
        "# numpy running mean of llc_chain (does not work yet with multiple chains)\n",
        "llc_chain = online_llc_estimator.get_results()[\"llc/trace\"]\n",
        "# llc_chain = np.cumsum(llc_chain) / np.arange(1, len(llc_chain[0]) + 1)\n",
        "\n",
        "# check our chain for nans\n",
        "assert not any(np.nonzero(np.isnan(wt_sgld))), \"Nans in the chain\"\n",
        "print(epsilon_sgld * num_draws_sgld)\n",
        "\n",
        "# take the first element of the first element of every weights tensor (which has shape (3, 10000, 2, 3, 3)), so we get\n",
        "# wt_sgld = wt_sgld[:,:,:,0,0]\n",
        "# print(wt_sgld.shape)"
      ]
    },
    {
      "cell_type": "markdown",
      "metadata": {
        "id": "nIPbl4QuPfSw"
      },
      "source": [
        "# **SGLD plots**"
      ]
    },
    {
      "cell_type": "markdown",
      "metadata": {
        "id": "oX4m0sLgCgVL"
      },
      "source": [
        "## **Plot cumulant statistics of marginal distribution of jet coordinates SGLD**\n"
      ]
    },
    {
      "cell_type": "code",
      "execution_count": 22,
      "metadata": {
        "colab": {
          "base_uri": "https://localhost:8080/",
          "height": 882
        },
        "id": "NQqx7jIYrVZL",
        "outputId": "95666323-4ffc-4f1c-e1f7-81a0f250b536"
      },
      "outputs": [
        {
          "name": "stdout",
          "output_type": "stream",
          "text": [
            "(1, 100, 8)\n"
          ]
        },
        {
          "ename": "TypeError",
          "evalue": "plot_second_order_one_place_stats() got an unexpected keyword argument 'title'",
          "output_type": "error",
          "traceback": [
            "\u001b[0;31m---------------------------------------------------------------------------\u001b[0m",
            "\u001b[0;31mTypeError\u001b[0m                                 Traceback (most recent call last)",
            "Cell \u001b[0;32mIn[22], line 3\u001b[0m\n\u001b[1;32m      1\u001b[0m flattened \u001b[38;5;241m=\u001b[39m wt_sgld\u001b[38;5;241m.\u001b[39mreshape((num_chains_sgld, num_draws_sgld, \u001b[38;5;241m-\u001b[39m\u001b[38;5;241m1\u001b[39m))\n\u001b[1;32m      2\u001b[0m \u001b[38;5;28mprint\u001b[39m(flattened\u001b[38;5;241m.\u001b[39mshape)\n\u001b[0;32m----> 3\u001b[0m \u001b[43mplot_second_order_one_place_stats\u001b[49m\u001b[43m(\u001b[49m\n\u001b[1;32m      4\u001b[0m \u001b[43m    \u001b[49m\u001b[43mflattened\u001b[49m\u001b[43m,\u001b[49m\n\u001b[1;32m      5\u001b[0m \u001b[43m    \u001b[49m\u001b[38;5;241;43m1\u001b[39;49m\u001b[43m,\u001b[49m\n\u001b[1;32m      6\u001b[0m \u001b[43m    \u001b[49m\u001b[43mtitle\u001b[49m\u001b[38;5;241;43m=\u001b[39;49m\u001b[38;5;124;43mf\u001b[39;49m\u001b[38;5;124;43m\"\u001b[39;49m\u001b[38;5;124;43mDLN init \u001b[39;49m\u001b[38;5;132;43;01m{\u001b[39;49;00m\u001b[43mmethod\u001b[49m\u001b[38;5;132;43;01m}\u001b[39;49;00m\u001b[38;5;124;43m, eps=\u001b[39;49m\u001b[38;5;132;43;01m{\u001b[39;49;00m\u001b[43mepsilon_sgld\u001b[49m\u001b[38;5;132;43;01m}\u001b[39;49;00m\u001b[38;5;124;43m, \u001b[39;49m\u001b[38;5;132;43;01m{\u001b[39;49;00m\u001b[43msampling_method\u001b[49m\u001b[38;5;132;43;01m}\u001b[39;49;00m\u001b[38;5;124;43m\"\u001b[39;49m\u001b[43m,\u001b[49m\n\u001b[1;32m      7\u001b[0m \u001b[43m)\u001b[49m\n\u001b[1;32m      8\u001b[0m plot_third_order_stats_per_dim(\n\u001b[1;32m      9\u001b[0m     flattened, \u001b[38;5;241m1\u001b[39m, title\u001b[38;5;241m=\u001b[39m\u001b[38;5;124mf\u001b[39m\u001b[38;5;124m\"\u001b[39m\u001b[38;5;124mDLN init \u001b[39m\u001b[38;5;132;01m{\u001b[39;00mmethod\u001b[38;5;132;01m}\u001b[39;00m\u001b[38;5;124m, eps=\u001b[39m\u001b[38;5;132;01m{\u001b[39;00mepsilon_sgld\u001b[38;5;132;01m}\u001b[39;00m\u001b[38;5;124m, \u001b[39m\u001b[38;5;132;01m{\u001b[39;00msampling_method\u001b[38;5;132;01m}\u001b[39;00m\u001b[38;5;124m\"\u001b[39m\n\u001b[1;32m     10\u001b[0m )\n",
            "\u001b[0;31mTypeError\u001b[0m: plot_second_order_one_place_stats() got an unexpected keyword argument 'title'"
          ]
        }
      ],
      "source": [
        "flattened = wt_sgld.reshape((num_chains_sgld, num_draws_sgld, -1))\n",
        "print(flattened.shape)\n",
        "plot_second_order_one_place_stats(\n",
        "    flattened,\n",
        "    1,\n",
        "    title=f\"DLN init {method}, eps={epsilon_sgld}, {sampling_method}\",\n",
        ")\n",
        "plot_third_order_stats_per_dim(\n",
        "    flattened, 1, title=f\"DLN init {method}, eps={epsilon_sgld}, {sampling_method}\"\n",
        ")"
      ]
    },
    {
      "cell_type": "code",
      "execution_count": null,
      "metadata": {
        "colab": {
          "base_uri": "https://localhost:8080/",
          "height": 705
        },
        "id": "A_OkJvsi1IrL",
        "outputId": "ade6b431-5d93-424d-b49b-efcd8d275fed"
      },
      "outputs": [
        {
          "ename": "ValueError",
          "evalue": "x and y can be no greater than 2D, but have shapes (9997,) and (9997, 2, 2)",
          "output_type": "error",
          "traceback": [
            "\u001b[0;31m---------------------------------------------------------------------------\u001b[0m",
            "\u001b[0;31mValueError\u001b[0m                                Traceback (most recent call last)",
            "\u001b[0;32m<ipython-input-112-a8e8b16c491e>\u001b[0m in \u001b[0;36m<cell line: 1>\u001b[0;34m()\u001b[0m\n\u001b[0;32m----> 1\u001b[0;31m \u001b[0mplot_second_order_stats\u001b[0m\u001b[0;34m(\u001b[0m\u001b[0mwt_sgld\u001b[0m\u001b[0;34m,\u001b[0m\u001b[0;36m1\u001b[0m\u001b[0;34m)\u001b[0m\u001b[0;34m\u001b[0m\u001b[0;34m\u001b[0m\u001b[0m\n\u001b[0m",
            "\u001b[0;32m<ipython-input-96-65ef53ac0805>\u001b[0m in \u001b[0;36mplot_second_order_stats\u001b[0;34m(wt, n, method)\u001b[0m\n\u001b[1;32m     39\u001b[0m     \u001b[0;31m# Plot data on the primary y-axis\u001b[0m\u001b[0;34m\u001b[0m\u001b[0;34m\u001b[0m\u001b[0m\n\u001b[1;32m     40\u001b[0m \u001b[0;34m\u001b[0m\u001b[0m\n\u001b[0;32m---> 41\u001b[0;31m   \u001b[0max1\u001b[0m\u001b[0;34m.\u001b[0m\u001b[0mplot\u001b[0m\u001b[0;34m(\u001b[0m\u001b[0mi_values\u001b[0m\u001b[0;34m,\u001b[0m \u001b[0mall_stds_x_per_i\u001b[0m\u001b[0;34m,\u001b[0m \u001b[0mlabel\u001b[0m\u001b[0;34m=\u001b[0m\u001b[0;34m'xx'\u001b[0m\u001b[0;34m)\u001b[0m\u001b[0;34m\u001b[0m\u001b[0;34m\u001b[0m\u001b[0m\n\u001b[0m\u001b[1;32m     42\u001b[0m   \u001b[0max1\u001b[0m\u001b[0;34m.\u001b[0m\u001b[0mplot\u001b[0m\u001b[0;34m(\u001b[0m\u001b[0mi_values\u001b[0m\u001b[0;34m,\u001b[0m \u001b[0mall_stds_y_per_i\u001b[0m\u001b[0;34m,\u001b[0m \u001b[0mlabel\u001b[0m\u001b[0;34m=\u001b[0m\u001b[0;34m'yy'\u001b[0m\u001b[0;34m)\u001b[0m\u001b[0;34m\u001b[0m\u001b[0;34m\u001b[0m\u001b[0m\n\u001b[1;32m     43\u001b[0m   \u001b[0max1\u001b[0m\u001b[0;34m.\u001b[0m\u001b[0mplot\u001b[0m\u001b[0;34m(\u001b[0m\u001b[0mi_values\u001b[0m\u001b[0;34m,\u001b[0m \u001b[0mcov_x_y_per_i\u001b[0m\u001b[0;34m,\u001b[0m \u001b[0mlabel\u001b[0m\u001b[0;34m=\u001b[0m\u001b[0;34m'xy'\u001b[0m\u001b[0;34m)\u001b[0m\u001b[0;34m\u001b[0m\u001b[0;34m\u001b[0m\u001b[0m\n",
            "\u001b[0;32m/usr/local/lib/python3.10/dist-packages/matplotlib/axes/_axes.py\u001b[0m in \u001b[0;36mplot\u001b[0;34m(self, scalex, scaley, data, *args, **kwargs)\u001b[0m\n\u001b[1;32m   1686\u001b[0m         scatter : XY scatter plot with markers of varying size and/or color (\n\u001b[1;32m   1687\u001b[0m             sometimes also called bubble chart).\n\u001b[0;32m-> 1688\u001b[0;31m \u001b[0;34m\u001b[0m\u001b[0m\n\u001b[0m\u001b[1;32m   1689\u001b[0m         \u001b[0mNotes\u001b[0m\u001b[0;34m\u001b[0m\u001b[0;34m\u001b[0m\u001b[0m\n\u001b[1;32m   1690\u001b[0m         \u001b[0;34m-\u001b[0m\u001b[0;34m-\u001b[0m\u001b[0;34m-\u001b[0m\u001b[0;34m-\u001b[0m\u001b[0;34m-\u001b[0m\u001b[0;34m\u001b[0m\u001b[0;34m\u001b[0m\u001b[0m\n",
            "\u001b[0;32m/usr/local/lib/python3.10/dist-packages/matplotlib/axes/_base.py\u001b[0m in \u001b[0;36m__call__\u001b[0;34m(self, data, *args, **kwargs)\u001b[0m\n\u001b[1;32m    309\u001b[0m         \"\"\"\n\u001b[1;32m    310\u001b[0m         If some keys in the property cycle (excluding those in the set\n\u001b[0;32m--> 311\u001b[0;31m         *ignore*) are absent or set to None in the dict *kw*, return a copy\n\u001b[0m\u001b[1;32m    312\u001b[0m         \u001b[0mof\u001b[0m \u001b[0mthe\u001b[0m \u001b[0mnext\u001b[0m \u001b[0mentry\u001b[0m \u001b[0;32min\u001b[0m \u001b[0mthe\u001b[0m \u001b[0mproperty\u001b[0m \u001b[0mcycle\u001b[0m\u001b[0;34m,\u001b[0m \u001b[0mexcluding\u001b[0m \u001b[0mkeys\u001b[0m \u001b[0;32min\u001b[0m \u001b[0;34m*\u001b[0m\u001b[0mignore\u001b[0m\u001b[0;34m*\u001b[0m\u001b[0;34m.\u001b[0m\u001b[0;34m\u001b[0m\u001b[0;34m\u001b[0m\u001b[0m\n\u001b[1;32m    313\u001b[0m         \u001b[0mOtherwise\u001b[0m\u001b[0;34m,\u001b[0m \u001b[0mdon\u001b[0m\u001b[0;31m'\u001b[0m\u001b[0mt\u001b[0m \u001b[0madvance\u001b[0m \u001b[0mthe\u001b[0m \u001b[0mproperty\u001b[0m \u001b[0mcycle\u001b[0m\u001b[0;34m,\u001b[0m \u001b[0;32mand\u001b[0m \u001b[0;32mreturn\u001b[0m \u001b[0man\u001b[0m \u001b[0mempty\u001b[0m \u001b[0mdict\u001b[0m\u001b[0;34m.\u001b[0m\u001b[0;34m\u001b[0m\u001b[0;34m\u001b[0m\u001b[0m\n",
            "\u001b[0;32m/usr/local/lib/python3.10/dist-packages/matplotlib/axes/_base.py\u001b[0m in \u001b[0;36m_plot_args\u001b[0;34m(self, tup, kwargs, return_kwargs, ambiguous_fmt_datakey)\u001b[0m\n\u001b[1;32m    505\u001b[0m         \u001b[0;32mif\u001b[0m \u001b[0mncx\u001b[0m \u001b[0;34m==\u001b[0m \u001b[0;36m0\u001b[0m \u001b[0;32mor\u001b[0m \u001b[0mncy\u001b[0m \u001b[0;34m==\u001b[0m \u001b[0;36m0\u001b[0m\u001b[0;34m:\u001b[0m\u001b[0;34m\u001b[0m\u001b[0;34m\u001b[0m\u001b[0m\n\u001b[1;32m    506\u001b[0m             \u001b[0;32mreturn\u001b[0m \u001b[0;34m[\u001b[0m\u001b[0;34m]\u001b[0m\u001b[0;34m\u001b[0m\u001b[0;34m\u001b[0m\u001b[0m\n\u001b[0;32m--> 507\u001b[0;31m \u001b[0;34m\u001b[0m\u001b[0m\n\u001b[0m\u001b[1;32m    508\u001b[0m         \u001b[0mlabel\u001b[0m \u001b[0;34m=\u001b[0m \u001b[0mkwargs\u001b[0m\u001b[0;34m.\u001b[0m\u001b[0mget\u001b[0m\u001b[0;34m(\u001b[0m\u001b[0;34m'label'\u001b[0m\u001b[0;34m)\u001b[0m\u001b[0;34m\u001b[0m\u001b[0;34m\u001b[0m\u001b[0m\n\u001b[1;32m    509\u001b[0m         \u001b[0mn_datasets\u001b[0m \u001b[0;34m=\u001b[0m \u001b[0mmax\u001b[0m\u001b[0;34m(\u001b[0m\u001b[0mncx\u001b[0m\u001b[0;34m,\u001b[0m \u001b[0mncy\u001b[0m\u001b[0;34m)\u001b[0m\u001b[0;34m\u001b[0m\u001b[0;34m\u001b[0m\u001b[0m\n",
            "\u001b[0;31mValueError\u001b[0m: x and y can be no greater than 2D, but have shapes (9997,) and (9997, 2, 2)"
          ]
        },
        {
          "data": {
            "image/png": "[encoded data removed]",
            "text/plain": [
              "<Figure size 640x480 with 1 Axes>"
            ]
          },
          "metadata": {},
          "output_type": "display_data"
        }
      ],
      "source": [
        "plot_second_order_two_place_stats(wt_sgld, 1)"
      ]
    },
    {
      "cell_type": "code",
      "execution_count": null,
      "metadata": {
        "id": "HVukMH_jKtMB"
      },
      "outputs": [],
      "source": [
        "plot_third_order_stats(wt_sgld, 1)"
      ]
    },
    {
      "cell_type": "markdown",
      "metadata": {
        "id": "J1CNG6VcMu9l"
      },
      "source": [
        "## **Vector fields SGLD**"
      ]
    },
    {
      "cell_type": "code",
      "execution_count": null,
      "metadata": {
        "id": "D1zL6GemIPFh"
      },
      "outputs": [],
      "source": [
        "plot_vector_field_jets(wt_sgld, [10, 100, 500], [1], 15, \"SGLD\")"
      ]
    },
    {
      "cell_type": "markdown",
      "metadata": {
        "id": "NhuR4bY4Rhu-"
      },
      "source": [
        "# **SGHNT trajectories sampling**"
      ]
    },
    {
      "cell_type": "code",
      "execution_count": null,
      "metadata": {
        "id": "c_cp5xUdRtGP"
      },
      "outputs": [],
      "source": [
        "num_chains_sgnht = 1\n",
        "num_draws_sgnht = 10_000\n",
        "\n",
        "epsilon_sgnht = 0.001"
      ]
    },
    {
      "cell_type": "code",
      "execution_count": null,
      "metadata": {
        "id": "Ed0M_UqCRhgj"
      },
      "outputs": [],
      "source": [
        "sgnht_weights = WeightCallback(\n",
        "    num_chains=num_chains_sgnht, num_draws=num_draws_sgnht, model=model\n",
        ")\n",
        "online_llc_estimator = OnlineLLCEstimator(\n",
        "    num_chains=num_chains_sgnht,\n",
        "    num_draws=num_draws_sgld,\n",
        "    nbeta=nbeta,\n",
        "    init_loss=0.0,\n",
        "    device=DEVICE,\n",
        ")\n",
        "\n",
        "trace_sgnht = sample(\n",
        "    model,\n",
        "    train_loader,\n",
        "    evaluate=EVALUATE,\n",
        "    optimizer_kwargs=dict(\n",
        "        lr=epsilon_sgnht, nbeta=nbeta, diffusion_factor=0.005, bounding_box_size=1.0\n",
        "    ),\n",
        "    sampling_method=SGNHT,\n",
        "    num_chains=num_chains_sgnht,  # independent sampling runs\n",
        "    num_draws=num_draws_sgnht,  # length of a sampling run\n",
        "    verbose=True,\n",
        "    device=DEVICE,\n",
        "    callbacks=[online_llc_estimator, sgnht_weights],\n",
        "    seed=SEED,\n",
        ")"
      ]
    },
    {
      "cell_type": "code",
      "execution_count": null,
      "metadata": {
        "id": "yq97LgCWR3AZ"
      },
      "outputs": [],
      "source": [
        "wt_sgnht = np.array(sgnht_weights.get_results()[\"ws/trace\"])\n",
        "\n",
        "print(np.nonzero(np.isnan(wt_sgnht)))\n",
        "print(epsilon_sgld * num_draws_sgnht)"
      ]
    },
    {
      "cell_type": "markdown",
      "metadata": {
        "id": "dFTchnwePqHf"
      },
      "source": [
        "# **SGNHT plots**"
      ]
    },
    {
      "cell_type": "markdown",
      "metadata": {
        "id": "LFFVM_W5OBBh"
      },
      "source": [
        "## **Plotting SGNHT trajectories and jet coordinates**\n",
        "\n",
        "\n"
      ]
    },
    {
      "cell_type": "code",
      "execution_count": null,
      "metadata": {
        "id": "bHvgeY2kG3UY"
      },
      "outputs": [],
      "source": [
        "plot_multi_trajectories(wt_sgnht, [1, 10], [0, 1, 2], \"SGNHT\")"
      ]
    },
    {
      "cell_type": "markdown",
      "metadata": {
        "id": "rvNOYprHOOqh"
      },
      "source": [
        "## **Plot cumulant statistics of marginal distribution of jet coordinates SGNHT**"
      ]
    },
    {
      "cell_type": "code",
      "execution_count": null,
      "metadata": {
        "id": "5L9wwfcROQgf"
      },
      "outputs": [],
      "source": [
        "plot_second_order_two_place_stats(wt_sgnht, 1)"
      ]
    },
    {
      "cell_type": "code",
      "execution_count": null,
      "metadata": {
        "id": "zxsHEjcJOhvZ"
      },
      "outputs": [],
      "source": [
        "plot_third_order_stats(wt_sgnht, 1)"
      ]
    },
    {
      "cell_type": "markdown",
      "metadata": {
        "id": "lf8X-VKvOtnh"
      },
      "source": [
        "## **Vector fields SGNHT**"
      ]
    },
    {
      "cell_type": "code",
      "execution_count": null,
      "metadata": {
        "id": "voj4Hoh_OmHu"
      },
      "outputs": [],
      "source": [
        "plot_vector_field_jets(wt_sgnht, [10, 100, 500], [1], 15, \"SGNHT\")"
      ]
    },
    {
      "cell_type": "code",
      "execution_count": null,
      "metadata": {
        "id": "d6ur2hNfOxLT"
      },
      "outputs": [],
      "source": []
    }
  ],
  "metadata": {
    "accelerator": "GPU",
    "colab": {
      "collapsed_sections": [
        "VscFk5TxDsTP",
        "Y-2OVnx_COBU",
        "QI2iD3zhtdmw",
        "LFFVM_W5OBBh"
      ],
      "gpuType": "T4",
      "provenance": []
    },
    "kernelspec": {
      "display_name": "Python 3",
      "name": "python3"
    },
    "language_info": {
      "codemirror_mode": {
        "name": "ipython",
        "version": 3
      },
      "file_extension": ".py",
      "mimetype": "text/x-python",
      "name": "python",
      "nbconvert_exporter": "python",
      "pygments_lexer": "ipython3",
      "version": "3.8.10"
    }
  },
  "nbformat": 4,
  "nbformat_minor": 0
}
