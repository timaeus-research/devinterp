{
      "cells": [
            {
                  "cell_type": "markdown",
                  "metadata": {},
                  "source": [
                        "# RLCT Estimation of MNIST\n",
                        "\n",
                        "[![Open In Colab](https://colab.research.google.com/assets/colab-badge.svg)](https://colab.research.google.com/github/timaeus-research/devinterp/blob/main/examples/mnist.ipynb)\n",
                        "\n",
                        "This Jupyter Notebook aims to reproduce the results of Lau et al. (2023) by measuring the Real Log Canonical Threshold (RLCT) for a small 2-layer ReLU model (about 1M parameters) trained on the MNIST dataset. It uses both Stochastic Gradient Nose-Hoover Thermostat (SGNHT) and Stochastic Gradient Langevin Dynamics (SGLD) as sampling methods.\n",
                        "\n",
                        "## Main Steps:\n",
                        "\n",
                        "1. **Data Preparation**: Load the MNIST dataset for training and testing.\n",
                        "2. **Model Training**: Train a multi-layer perceptron model using stochastic gradient descent.\n",
                        "3. **Model Evaluation**: Evaluate the model's performance on a test set.\n",
                        "4. **RLCT Estimation**: Use SGNHT and SGLD samplers to estimate RLCT.\n",
                        "5. **Plotting**: Visualize train and test losses, and RLCT estimates."
                  ]
            },
            {
                  "cell_type": "code",
                  "execution_count": 1,
                  "metadata": {},
                  "outputs": [
                        {
                              "name": "stdout",
                              "output_type": "stream",
                              "text": [
                                    "Requirement already satisfied: pip in /home/paperspace/devinterp/.venv/lib/python3.9/site-packages (24.2)\n",
                                    "Note: you may need to restart the kernel to use updated packages.\n",
                                    "Requirement already satisfied: transformers in /home/paperspace/devinterp/.venv/lib/python3.9/site-packages (4.30.2)\n",
                                    "Requirement already satisfied: torch in /home/paperspace/devinterp/.venv/lib/python3.9/site-packages (2.0.1)\n",
                                    "Requirement already satisfied: torchvision in /home/paperspace/devinterp/.venv/lib/python3.9/site-packages (0.15.2)\n",
                                    "Requirement already satisfied: seaborn in /home/paperspace/devinterp/.venv/lib/python3.9/site-packages (0.12.2)\n",
                                    "Requirement already satisfied: filelock in /home/paperspace/devinterp/.venv/lib/python3.9/site-packages (from transformers) (3.12.2)\n",
                                    "Requirement already satisfied: huggingface-hub<1.0,>=0.14.1 in /home/paperspace/devinterp/.venv/lib/python3.9/site-packages (from transformers) (0.20.3)\n",
                                    "Requirement already satisfied: numpy>=1.17 in /home/paperspace/devinterp/.venv/lib/python3.9/site-packages (from transformers) (1.26.4)\n",
                                    "Requirement already satisfied: packaging>=20.0 in /home/paperspace/devinterp/.venv/lib/python3.9/site-packages (from transformers) (23.1)\n",
                                    "Requirement already satisfied: pyyaml>=5.1 in /home/paperspace/devinterp/.venv/lib/python3.9/site-packages (from transformers) (6.0)\n",
                                    "Requirement already satisfied: regex!=2019.12.17 in /home/paperspace/devinterp/.venv/lib/python3.9/site-packages (from transformers) (2023.6.3)\n",
                                    "Requirement already satisfied: requests in /home/paperspace/devinterp/.venv/lib/python3.9/site-packages (from transformers) (2.31.0)\n",
                                    "Requirement already satisfied: tokenizers!=0.11.3,<0.14,>=0.11.1 in /home/paperspace/devinterp/.venv/lib/python3.9/site-packages (from transformers) (0.13.3)\n",
                                    "Requirement already satisfied: safetensors>=0.3.1 in /home/paperspace/devinterp/.venv/lib/python3.9/site-packages (from transformers) (0.3.1)\n",
                                    "Requirement already satisfied: tqdm>=4.27 in /home/paperspace/devinterp/.venv/lib/python3.9/site-packages (from transformers) (4.65.0)\n",
                                    "Requirement already satisfied: typing-extensions in /home/paperspace/devinterp/.venv/lib/python3.9/site-packages (from torch) (4.7.1)\n",
                                    "Requirement already satisfied: sympy in /home/paperspace/devinterp/.venv/lib/python3.9/site-packages (from torch) (1.12)\n",
                                    "Requirement already satisfied: networkx in /home/paperspace/devinterp/.venv/lib/python3.9/site-packages (from torch) (3.1)\n",
                                    "Requirement already satisfied: jinja2 in /home/paperspace/devinterp/.venv/lib/python3.9/site-packages (from torch) (3.1.2)\n",
                                    "Requirement already satisfied: nvidia-cuda-nvrtc-cu11==11.7.99 in /home/paperspace/devinterp/.venv/lib/python3.9/site-packages (from torch) (11.7.99)\n",
                                    "Requirement already satisfied: nvidia-cuda-runtime-cu11==11.7.99 in /home/paperspace/devinterp/.venv/lib/python3.9/site-packages (from torch) (11.7.99)\n",
                                    "Requirement already satisfied: nvidia-cuda-cupti-cu11==11.7.101 in /home/paperspace/devinterp/.venv/lib/python3.9/site-packages (from torch) (11.7.101)\n",
                                    "Requirement already satisfied: nvidia-cudnn-cu11==8.5.0.96 in /home/paperspace/devinterp/.venv/lib/python3.9/site-packages (from torch) (8.5.0.96)\n",
                                    "Requirement already satisfied: nvidia-cublas-cu11==11.10.3.66 in /home/paperspace/devinterp/.venv/lib/python3.9/site-packages (from torch) (11.10.3.66)\n",
                                    "Requirement already satisfied: nvidia-cufft-cu11==10.9.0.58 in /home/paperspace/devinterp/.venv/lib/python3.9/site-packages (from torch) (10.9.0.58)\n",
                                    "Requirement already satisfied: nvidia-curand-cu11==10.2.10.91 in /home/paperspace/devinterp/.venv/lib/python3.9/site-packages (from torch) (10.2.10.91)\n",
                                    "Requirement already satisfied: nvidia-cusolver-cu11==11.4.0.1 in /home/paperspace/devinterp/.venv/lib/python3.9/site-packages (from torch) (11.4.0.1)\n",
                                    "Requirement already satisfied: nvidia-cusparse-cu11==11.7.4.91 in /home/paperspace/devinterp/.venv/lib/python3.9/site-packages (from torch) (11.7.4.91)\n",
                                    "Requirement already satisfied: nvidia-nccl-cu11==2.14.3 in /home/paperspace/devinterp/.venv/lib/python3.9/site-packages (from torch) (2.14.3)\n",
                                    "Requirement already satisfied: nvidia-nvtx-cu11==11.7.91 in /home/paperspace/devinterp/.venv/lib/python3.9/site-packages (from torch) (11.7.91)\n",
                                    "Requirement already satisfied: triton==2.0.0 in /home/paperspace/devinterp/.venv/lib/python3.9/site-packages (from torch) (2.0.0)\n",
                                    "Requirement already satisfied: setuptools in /home/paperspace/devinterp/.venv/lib/python3.9/site-packages (from nvidia-cublas-cu11==11.10.3.66->torch) (58.1.0)\n",
                                    "Requirement already satisfied: wheel in /home/paperspace/devinterp/.venv/lib/python3.9/site-packages (from nvidia-cublas-cu11==11.10.3.66->torch) (0.42.0)\n",
                                    "Requirement already satisfied: cmake in /home/paperspace/devinterp/.venv/lib/python3.9/site-packages (from triton==2.0.0->torch) (3.28.3)\n",
                                    "Requirement already satisfied: lit in /home/paperspace/devinterp/.venv/lib/python3.9/site-packages (from triton==2.0.0->torch) (17.0.6)\n",
                                    "Requirement already satisfied: pillow!=8.3.*,>=5.3.0 in /home/paperspace/devinterp/.venv/lib/python3.9/site-packages (from torchvision) (10.0.0)\n",
                                    "Requirement already satisfied: pandas>=0.25 in /home/paperspace/devinterp/.venv/lib/python3.9/site-packages (from seaborn) (1.5.3)\n",
                                    "Requirement already satisfied: matplotlib!=3.6.1,>=3.1 in /home/paperspace/devinterp/.venv/lib/python3.9/site-packages (from seaborn) (3.8.3)\n",
                                    "Requirement already satisfied: fsspec>=2023.5.0 in /home/paperspace/devinterp/.venv/lib/python3.9/site-packages (from huggingface-hub<1.0,>=0.14.1->transformers) (2023.6.0)\n",
                                    "Requirement already satisfied: contourpy>=1.0.1 in /home/paperspace/devinterp/.venv/lib/python3.9/site-packages (from matplotlib!=3.6.1,>=3.1->seaborn) (1.1.0)\n",
                                    "Requirement already satisfied: cycler>=0.10 in /home/paperspace/devinterp/.venv/lib/python3.9/site-packages (from matplotlib!=3.6.1,>=3.1->seaborn) (0.11.0)\n",
                                    "Requirement already satisfied: fonttools>=4.22.0 in /home/paperspace/devinterp/.venv/lib/python3.9/site-packages (from matplotlib!=3.6.1,>=3.1->seaborn) (4.41.0)\n",
                                    "Requirement already satisfied: kiwisolver>=1.3.1 in /home/paperspace/devinterp/.venv/lib/python3.9/site-packages (from matplotlib!=3.6.1,>=3.1->seaborn) (1.4.4)\n",
                                    "Requirement already satisfied: pyparsing>=2.3.1 in /home/paperspace/devinterp/.venv/lib/python3.9/site-packages (from matplotlib!=3.6.1,>=3.1->seaborn) (3.0.9)\n",
                                    "Requirement already satisfied: python-dateutil>=2.7 in /home/paperspace/devinterp/.venv/lib/python3.9/site-packages (from matplotlib!=3.6.1,>=3.1->seaborn) (2.8.2)\n",
                                    "Requirement already satisfied: importlib-resources>=3.2.0 in /home/paperspace/devinterp/.venv/lib/python3.9/site-packages (from matplotlib!=3.6.1,>=3.1->seaborn) (6.0.1)\n",
                                    "Requirement already satisfied: pytz>=2020.1 in /home/paperspace/devinterp/.venv/lib/python3.9/site-packages (from pandas>=0.25->seaborn) (2023.3)\n",
                                    "Requirement already satisfied: MarkupSafe>=2.0 in /home/paperspace/devinterp/.venv/lib/python3.9/site-packages (from jinja2->torch) (2.1.3)\n",
                                    "Requirement already satisfied: charset-normalizer<4,>=2 in /home/paperspace/devinterp/.venv/lib/python3.9/site-packages (from requests->transformers) (3.2.0)\n",
                                    "Requirement already satisfied: idna<4,>=2.5 in /home/paperspace/devinterp/.venv/lib/python3.9/site-packages (from requests->transformers) (3.4)\n",
                                    "Requirement already satisfied: urllib3<3,>=1.21.1 in /home/paperspace/devinterp/.venv/lib/python3.9/site-packages (from requests->transformers) (1.26.16)\n",
                                    "Requirement already satisfied: certifi>=2017.4.17 in /home/paperspace/devinterp/.venv/lib/python3.9/site-packages (from requests->transformers) (2023.5.7)\n",
                                    "Requirement already satisfied: mpmath>=0.19 in /home/paperspace/devinterp/.venv/lib/python3.9/site-packages (from sympy->torch) (1.3.0)\n",
                                    "Requirement already satisfied: zipp>=3.1.0 in /home/paperspace/devinterp/.venv/lib/python3.9/site-packages (from importlib-resources>=3.2.0->matplotlib!=3.6.1,>=3.1->seaborn) (3.16.2)\n",
                                    "Requirement already satisfied: six>=1.5 in /home/paperspace/devinterp/.venv/lib/python3.9/site-packages (from python-dateutil>=2.7->matplotlib!=3.6.1,>=3.1->seaborn) (1.16.0)\n",
                                    "Note: you may need to restart the kernel to use updated packages.\n",
                                    "Requirement already satisfied: devinterp in /home/paperspace/devinterp/.venv/lib/python3.9/site-packages (0.1.0)\n",
                                    "Requirement already satisfied: einops>=0.6.1 in /home/paperspace/devinterp/.venv/lib/python3.9/site-packages (from devinterp) (0.6.1)\n",
                                    "Requirement already satisfied: matplotlib>=3.7.4 in /home/paperspace/devinterp/.venv/lib/python3.9/site-packages (from devinterp) (3.8.3)\n",
                                    "Requirement already satisfied: numpy>=1.23.5 in /home/paperspace/devinterp/.venv/lib/python3.9/site-packages (from devinterp) (1.26.4)\n",
                                    "Requirement already satisfied: torch>=2.0.1 in /home/paperspace/devinterp/.venv/lib/python3.9/site-packages (from devinterp) (2.0.1)\n",
                                    "Requirement already satisfied: tqdm>=4.65.0 in /home/paperspace/devinterp/.venv/lib/python3.9/site-packages (from devinterp) (4.65.0)\n",
                                    "Requirement already satisfied: contourpy>=1.0.1 in /home/paperspace/devinterp/.venv/lib/python3.9/site-packages (from matplotlib>=3.7.4->devinterp) (1.1.0)\n",
                                    "Requirement already satisfied: cycler>=0.10 in /home/paperspace/devinterp/.venv/lib/python3.9/site-packages (from matplotlib>=3.7.4->devinterp) (0.11.0)\n",
                                    "Requirement already satisfied: fonttools>=4.22.0 in /home/paperspace/devinterp/.venv/lib/python3.9/site-packages (from matplotlib>=3.7.4->devinterp) (4.41.0)\n",
                                    "Requirement already satisfied: kiwisolver>=1.3.1 in /home/paperspace/devinterp/.venv/lib/python3.9/site-packages (from matplotlib>=3.7.4->devinterp) (1.4.4)\n",
                                    "Requirement already satisfied: packaging>=20.0 in /home/paperspace/devinterp/.venv/lib/python3.9/site-packages (from matplotlib>=3.7.4->devinterp) (23.1)\n",
                                    "Requirement already satisfied: pillow>=8 in /home/paperspace/devinterp/.venv/lib/python3.9/site-packages (from matplotlib>=3.7.4->devinterp) (10.0.0)\n",
                                    "Requirement already satisfied: pyparsing>=2.3.1 in /home/paperspace/devinterp/.venv/lib/python3.9/site-packages (from matplotlib>=3.7.4->devinterp) (3.0.9)\n",
                                    "Requirement already satisfied: python-dateutil>=2.7 in /home/paperspace/devinterp/.venv/lib/python3.9/site-packages (from matplotlib>=3.7.4->devinterp) (2.8.2)\n",
                                    "Requirement already satisfied: importlib-resources>=3.2.0 in /home/paperspace/devinterp/.venv/lib/python3.9/site-packages (from matplotlib>=3.7.4->devinterp) (6.0.1)\n",
                                    "Requirement already satisfied: filelock in /home/paperspace/devinterp/.venv/lib/python3.9/site-packages (from torch>=2.0.1->devinterp) (3.12.2)\n",
                                    "Requirement already satisfied: typing-extensions in /home/paperspace/devinterp/.venv/lib/python3.9/site-packages (from torch>=2.0.1->devinterp) (4.7.1)\n",
                                    "Requirement already satisfied: sympy in /home/paperspace/devinterp/.venv/lib/python3.9/site-packages (from torch>=2.0.1->devinterp) (1.12)\n",
                                    "Requirement already satisfied: networkx in /home/paperspace/devinterp/.venv/lib/python3.9/site-packages (from torch>=2.0.1->devinterp) (3.1)\n",
                                    "Requirement already satisfied: jinja2 in /home/paperspace/devinterp/.venv/lib/python3.9/site-packages (from torch>=2.0.1->devinterp) (3.1.2)\n",
                                    "Requirement already satisfied: nvidia-cuda-nvrtc-cu11==11.7.99 in /home/paperspace/devinterp/.venv/lib/python3.9/site-packages (from torch>=2.0.1->devinterp) (11.7.99)\n",
                                    "Requirement already satisfied: nvidia-cuda-runtime-cu11==11.7.99 in /home/paperspace/devinterp/.venv/lib/python3.9/site-packages (from torch>=2.0.1->devinterp) (11.7.99)\n",
                                    "Requirement already satisfied: nvidia-cuda-cupti-cu11==11.7.101 in /home/paperspace/devinterp/.venv/lib/python3.9/site-packages (from torch>=2.0.1->devinterp) (11.7.101)\n",
                                    "Requirement already satisfied: nvidia-cudnn-cu11==8.5.0.96 in /home/paperspace/devinterp/.venv/lib/python3.9/site-packages (from torch>=2.0.1->devinterp) (8.5.0.96)\n",
                                    "Requirement already satisfied: nvidia-cublas-cu11==11.10.3.66 in /home/paperspace/devinterp/.venv/lib/python3.9/site-packages (from torch>=2.0.1->devinterp) (11.10.3.66)\n",
                                    "Requirement already satisfied: nvidia-cufft-cu11==10.9.0.58 in /home/paperspace/devinterp/.venv/lib/python3.9/site-packages (from torch>=2.0.1->devinterp) (10.9.0.58)\n",
                                    "Requirement already satisfied: nvidia-curand-cu11==10.2.10.91 in /home/paperspace/devinterp/.venv/lib/python3.9/site-packages (from torch>=2.0.1->devinterp) (10.2.10.91)\n",
                                    "Requirement already satisfied: nvidia-cusolver-cu11==11.4.0.1 in /home/paperspace/devinterp/.venv/lib/python3.9/site-packages (from torch>=2.0.1->devinterp) (11.4.0.1)\n",
                                    "Requirement already satisfied: nvidia-cusparse-cu11==11.7.4.91 in /home/paperspace/devinterp/.venv/lib/python3.9/site-packages (from torch>=2.0.1->devinterp) (11.7.4.91)\n",
                                    "Requirement already satisfied: nvidia-nccl-cu11==2.14.3 in /home/paperspace/devinterp/.venv/lib/python3.9/site-packages (from torch>=2.0.1->devinterp) (2.14.3)\n",
                                    "Requirement already satisfied: nvidia-nvtx-cu11==11.7.91 in /home/paperspace/devinterp/.venv/lib/python3.9/site-packages (from torch>=2.0.1->devinterp) (11.7.91)\n",
                                    "Requirement already satisfied: triton==2.0.0 in /home/paperspace/devinterp/.venv/lib/python3.9/site-packages (from torch>=2.0.1->devinterp) (2.0.0)\n",
                                    "Requirement already satisfied: setuptools in /home/paperspace/devinterp/.venv/lib/python3.9/site-packages (from nvidia-cublas-cu11==11.10.3.66->torch>=2.0.1->devinterp) (58.1.0)\n",
                                    "Requirement already satisfied: wheel in /home/paperspace/devinterp/.venv/lib/python3.9/site-packages (from nvidia-cublas-cu11==11.10.3.66->torch>=2.0.1->devinterp) (0.42.0)\n",
                                    "Requirement already satisfied: cmake in /home/paperspace/devinterp/.venv/lib/python3.9/site-packages (from triton==2.0.0->torch>=2.0.1->devinterp) (3.28.3)\n",
                                    "Requirement already satisfied: lit in /home/paperspace/devinterp/.venv/lib/python3.9/site-packages (from triton==2.0.0->torch>=2.0.1->devinterp) (17.0.6)\n",
                                    "Requirement already satisfied: zipp>=3.1.0 in /home/paperspace/devinterp/.venv/lib/python3.9/site-packages (from importlib-resources>=3.2.0->matplotlib>=3.7.4->devinterp) (3.16.2)\n",
                                    "Requirement already satisfied: six>=1.5 in /home/paperspace/devinterp/.venv/lib/python3.9/site-packages (from python-dateutil>=2.7->matplotlib>=3.7.4->devinterp) (1.16.0)\n",
                                    "Requirement already satisfied: MarkupSafe>=2.0 in /home/paperspace/devinterp/.venv/lib/python3.9/site-packages (from jinja2->torch>=2.0.1->devinterp) (2.1.3)\n",
                                    "Requirement already satisfied: mpmath>=0.19 in /home/paperspace/devinterp/.venv/lib/python3.9/site-packages (from sympy->torch>=2.0.1->devinterp) (1.3.0)\n",
                                    "Note: you may need to restart the kernel to use updated packages.\n",
                                    "Cloning into 'entropy-sgd'...\n",
                                    "remote: Enumerating objects: 89, done.\u001b[K\n",
                                    "remote: Total 89 (delta 0), reused 0 (delta 0), pack-reused 89 (from 1)\u001b[K\n",
                                    "Unpacking objects: 100% (89/89), 25.31 KiB | 1.41 MiB/s, done.\n",
                                    "/home/paperspace/devinterp/examples/entropy-sgd\n",
                                    "/home/paperspace/devinterp/examples\n"
                              ]
                        }
                  ],
                  "source": [
                        "%pip install --upgrade pip\n",
                        "%pip install transformers torch torchvision seaborn\n",
                        "%pip install devinterp\n",
                        "\n",
                        "!git clone https://github.com/ucla-vision/entropy-sgd.git\n",
                        "%cd entropy-sgd\n",
                        "from python.optim import EntropySGD  \n",
                        "%cd ..\n",
                        "\n"
                  ]
            },
            {
                  "cell_type": "code",
                  "execution_count": 2,
                  "metadata": {},
                  "outputs": [],
                  "source": [
                        "import copy\n",
                        "\n",
                        "import matplotlib.pyplot as plt\n",
                        "import seaborn as sns\n",
                        "import torch\n",
                        "import torch.nn as nn\n",
                        "import torch.nn.functional as F\n",
                        "import torch.optim as optim\n",
                        "from torch.utils.data import DataLoader\n",
                        "from torchvision import datasets, transforms\n",
                        "from tqdm import tqdm\n",
                        "\n",
                        "from devinterp.optim.sgld import SGLD\n",
                        "from devinterp.optim.sgnht import SGNHT\n",
                        "\n",
                        "DEVICE = \"cuda\" if torch.cuda.is_available() else \"cpu\"\n",
                        "\n",
                        "PRIMARY, SECONDARY, TERTIARY, QUATERNARY = sns.color_palette(\"muted\")[:4]\n",
                        "PRIMARY_LIGHT, SECONDARY_LIGHT, TERTIARY_LIGHT, QUATERNARY_LIGHT = sns.color_palette(\n",
                        "    \"pastel\"\n",
                        ")[:4]"
                  ]
            },
            {
                  "cell_type": "code",
                  "execution_count": 3,
                  "metadata": {},
                  "outputs": [],
                  "source": [
                        "def emtpy_func():\n",
                        "    return (), ()\n",
                        "\n",
                        "\n",
                        "def train_one_epoch(model, train_loader, optimizer, criterion, model_key):\n",
                        "    model.train()\n",
                        "    train_loss = 0\n",
                        "    for data, target in tqdm(train_loader):\n",
                        "        optimizer.zero_grad()\n",
                        "        output = model(data.to(DEVICE))\n",
                        "        loss = criterion(output, target.to(DEVICE))\n",
                        "        train_loss += loss.item()\n",
                        "        loss.backward()\n",
                        "        if model_key == \"sgd\":\n",
                        "            optimizer.step()\n",
                        "        else:\n",
                        "            optimizer.step(emtpy_func, model, criterion)\n",
                        "    return train_loss / len(train_loader)\n",
                        "\n",
                        "\n",
                        "def evaluate(model, test_loader, criterion):\n",
                        "    model.eval()\n",
                        "    test_loss = 0\n",
                        "    with torch.no_grad():\n",
                        "        for data, target in test_loader:\n",
                        "            output = model(data.to(DEVICE))\n",
                        "            loss = criterion(output, target.to(DEVICE))\n",
                        "            test_loss += loss.item()\n",
                        "    return test_loss / len(test_loader)\n",
                        "\n",
                        "\n",
                        "# Define the neural network\n",
                        "class Net(nn.Module):\n",
                        "    def __init__(\n",
                        "        self,\n",
                        "        hidden_layer_sizes=[1024, 1024],\n",
                        "        input_dim=28 * 28,\n",
                        "        output_dim=10,\n",
                        "        activation=F.relu,\n",
                        "        with_bias=True,\n",
                        "    ):\n",
                        "        super(Net, self).__init__()\n",
                        "        self.input_dim = input_dim\n",
                        "        self.layer_sizes = [input_dim] + hidden_layer_sizes + [output_dim]\n",
                        "        self.activation = activation\n",
                        "        self.with_bias = with_bias\n",
                        "        self.layers = nn.ModuleList()\n",
                        "        for i in range(len(self.layer_sizes) - 1):\n",
                        "            dim_in, dim_out = self.layer_sizes[i : i + 2]\n",
                        "            self.layers.append(nn.Linear(dim_in, dim_out, bias=self.with_bias).float())\n",
                        "\n",
                        "    def forward(self, x):\n",
                        "        x = x.view(-1, self.input_dim)\n",
                        "        for layer in self.layers[:-1]:\n",
                        "            x = self.activation(layer(x))\n",
                        "        x = self.layers[-1](x)\n",
                        "        return x"
                  ]
            },
            {
                  "cell_type": "code",
                  "execution_count": 4,
                  "metadata": {},
                  "outputs": [],
                  "source": [
                        "# Constants\n",
                        "DEVICE = \"cpu\"\n",
                        "BATCH_SIZE = 512\n",
                        "LR = 0.05\n",
                        "MOMENTUM = 0.9\n",
                        "N_EPOCHS = 10\n",
                        "DATA_PATH = \"../data\"\n",
                        "\n",
                        "\n",
                        "# Load MNIST dataset\n",
                        "def load_mnist_data(train, batch_size, shuffle):\n",
                        "    dataset = datasets.MNIST(\n",
                        "        DATA_PATH, train=train, transform=transforms.ToTensor(), download=True\n",
                        "    )\n",
                        "    return DataLoader(dataset, batch_size=batch_size, shuffle=shuffle)\n",
                        "\n",
                        "\n",
                        "train_loader = load_mnist_data(train=True, batch_size=BATCH_SIZE, shuffle=True)\n",
                        "test_loader = load_mnist_data(train=False, batch_size=BATCH_SIZE, shuffle=False)\n",
                        "\n",
                        "model_esgd = Net().to(DEVICE)\n",
                        "model_sgd = Net().to(DEVICE)\n",
                        "optimizer_esgd = EntropySGD(\n",
                        "    model_esgd.parameters(), config=dict(lr=LR, momentum=MOMENTUM, L=5)\n",
                        ")\n",
                        "optimizer_sgd = optim.SGD(\n",
                        "    model_sgd.parameters(), lr=LR, momentum=MOMENTUM, nesterov=True\n",
                        ")\n",
                        "\n",
                        "criterion = nn.CrossEntropyLoss()"
                  ]
            },
            {
                  "cell_type": "code",
                  "execution_count": 5,
                  "metadata": {},
                  "outputs": [
                        {
                              "name": "stderr",
                              "output_type": "stream",
                              "text": [
                                    "  0%|          | 0/118 [00:00<?, ?it/s]/home/svwin/devinterp/examples/entropy-sgd/python/optim.py:72: UserWarning: This overload of add_ is deprecated:\n",
                                    "\tadd_(Number alpha, Tensor other)\n",
                                    "Consider using one of the following signatures instead:\n",
                                    "\tadd_(Tensor other, *, Number alpha) (Triggered internally at ../torch/csrc/utils/python_arg_parser.cpp:1630.)\n",
                                    "  mdw.mul_(mom).add_(1-damp, dw)\n",
                                    "100%|██████████| 118/118 [00:31<00:00,  3.70it/s]\n"
                              ]
                        },
                        {
                              "name": "stdout",
                              "output_type": "stream",
                              "text": [
                                    "Epoch 1, Model ESGD Train Loss: 0.520543460181709, Test Loss: 0.14373821429908276\n"
                              ]
                        },
                        {
                              "name": "stderr",
                              "output_type": "stream",
                              "text": [
                                    "100%|██████████| 118/118 [00:25<00:00,  4.56it/s]\n"
                              ]
                        },
                        {
                              "name": "stdout",
                              "output_type": "stream",
                              "text": [
                                    "Epoch 2, Model ESGD Train Loss: 0.10414145050286236, Test Loss: 0.10481228260323405\n"
                              ]
                        },
                        {
                              "name": "stderr",
                              "output_type": "stream",
                              "text": [
                                    "100%|██████████| 118/118 [00:25<00:00,  4.58it/s]\n"
                              ]
                        },
                        {
                              "name": "stdout",
                              "output_type": "stream",
                              "text": [
                                    "Epoch 3, Model ESGD Train Loss: 0.06439691013261928, Test Loss: 0.07769402964040636\n"
                              ]
                        },
                        {
                              "name": "stderr",
                              "output_type": "stream",
                              "text": [
                                    "100%|██████████| 118/118 [00:27<00:00,  4.37it/s]\n"
                              ]
                        },
                        {
                              "name": "stdout",
                              "output_type": "stream",
                              "text": [
                                    "Epoch 4, Model ESGD Train Loss: 0.043287328249080326, Test Loss: 0.0634560571052134\n"
                              ]
                        },
                        {
                              "name": "stderr",
                              "output_type": "stream",
                              "text": [
                                    "100%|██████████| 118/118 [00:25<00:00,  4.61it/s]\n"
                              ]
                        },
                        {
                              "name": "stdout",
                              "output_type": "stream",
                              "text": [
                                    "Epoch 5, Model ESGD Train Loss: 0.02971772437074648, Test Loss: 0.0651294318959117\n"
                              ]
                        },
                        {
                              "name": "stderr",
                              "output_type": "stream",
                              "text": [
                                    "100%|██████████| 118/118 [00:25<00:00,  4.66it/s]\n"
                              ]
                        },
                        {
                              "name": "stdout",
                              "output_type": "stream",
                              "text": [
                                    "Epoch 6, Model ESGD Train Loss: 0.021006646317477198, Test Loss: 0.06795943402685226\n"
                              ]
                        },
                        {
                              "name": "stderr",
                              "output_type": "stream",
                              "text": [
                                    "100%|██████████| 118/118 [00:25<00:00,  4.70it/s]\n"
                              ]
                        },
                        {
                              "name": "stdout",
                              "output_type": "stream",
                              "text": [
                                    "Epoch 7, Model ESGD Train Loss: 0.015240220003761351, Test Loss: 0.07017610149923711\n"
                              ]
                        },
                        {
                              "name": "stderr",
                              "output_type": "stream",
                              "text": [
                                    "100%|██████████| 118/118 [00:25<00:00,  4.68it/s]\n"
                              ]
                        },
                        {
                              "name": "stdout",
                              "output_type": "stream",
                              "text": [
                                    "Epoch 8, Model ESGD Train Loss: 0.010381115683338653, Test Loss: 0.07317977137863636\n"
                              ]
                        },
                        {
                              "name": "stderr",
                              "output_type": "stream",
                              "text": [
                                    "100%|██████████| 118/118 [00:25<00:00,  4.58it/s]\n"
                              ]
                        },
                        {
                              "name": "stdout",
                              "output_type": "stream",
                              "text": [
                                    "Epoch 9, Model ESGD Train Loss: 0.00836867772011181, Test Loss: 0.06080201299628243\n"
                              ]
                        },
                        {
                              "name": "stderr",
                              "output_type": "stream",
                              "text": [
                                    "100%|██████████| 118/118 [00:26<00:00,  4.53it/s]\n"
                              ]
                        },
                        {
                              "name": "stdout",
                              "output_type": "stream",
                              "text": [
                                    "Epoch 10, Model ESGD Train Loss: 0.005955816361011337, Test Loss: 0.06499954364262521\n"
                              ]
                        },
                        {
                              "name": "stderr",
                              "output_type": "stream",
                              "text": [
                                    "100%|██████████| 118/118 [00:11<00:00, 10.50it/s]\n"
                              ]
                        },
                        {
                              "name": "stdout",
                              "output_type": "stream",
                              "text": [
                                    "Epoch 1, Model SGD Train Loss: 0.7046918516694489, Test Loss: 0.2804649993777275\n"
                              ]
                        },
                        {
                              "name": "stderr",
                              "output_type": "stream",
                              "text": [
                                    "100%|██████████| 118/118 [00:11<00:00, 10.63it/s]\n"
                              ]
                        },
                        {
                              "name": "stdout",
                              "output_type": "stream",
                              "text": [
                                    "Epoch 2, Model SGD Train Loss: 0.23119064193155806, Test Loss: 0.2077132284641266\n"
                              ]
                        },
                        {
                              "name": "stderr",
                              "output_type": "stream",
                              "text": [
                                    "100%|██████████| 118/118 [00:11<00:00, 10.49it/s]\n"
                              ]
                        },
                        {
                              "name": "stdout",
                              "output_type": "stream",
                              "text": [
                                    "Epoch 3, Model SGD Train Loss: 0.1623564348003622, Test Loss: 0.15121494550257922\n"
                              ]
                        },
                        {
                              "name": "stderr",
                              "output_type": "stream",
                              "text": [
                                    "100%|██████████| 118/118 [00:11<00:00, 10.70it/s]\n"
                              ]
                        },
                        {
                              "name": "stdout",
                              "output_type": "stream",
                              "text": [
                                    "Epoch 4, Model SGD Train Loss: 0.12224109701307143, Test Loss: 0.12011358859017492\n"
                              ]
                        },
                        {
                              "name": "stderr",
                              "output_type": "stream",
                              "text": [
                                    "100%|██████████| 118/118 [00:10<00:00, 10.98it/s]\n"
                              ]
                        },
                        {
                              "name": "stdout",
                              "output_type": "stream",
                              "text": [
                                    "Epoch 5, Model SGD Train Loss: 0.09519002580289114, Test Loss: 0.10901108467951418\n"
                              ]
                        },
                        {
                              "name": "stderr",
                              "output_type": "stream",
                              "text": [
                                    "100%|██████████| 118/118 [00:11<00:00, 10.66it/s]\n"
                              ]
                        },
                        {
                              "name": "stdout",
                              "output_type": "stream",
                              "text": [
                                    "Epoch 6, Model SGD Train Loss: 0.07665509379358362, Test Loss: 0.08917208248749375\n"
                              ]
                        },
                        {
                              "name": "stderr",
                              "output_type": "stream",
                              "text": [
                                    "100%|██████████| 118/118 [00:11<00:00, 10.47it/s]\n"
                              ]
                        },
                        {
                              "name": "stdout",
                              "output_type": "stream",
                              "text": [
                                    "Epoch 7, Model SGD Train Loss: 0.06297573845012713, Test Loss: 0.0825060684233904\n"
                              ]
                        },
                        {
                              "name": "stderr",
                              "output_type": "stream",
                              "text": [
                                    "100%|██████████| 118/118 [00:10<00:00, 10.79it/s]\n"
                              ]
                        },
                        {
                              "name": "stdout",
                              "output_type": "stream",
                              "text": [
                                    "Epoch 8, Model SGD Train Loss: 0.05249734841665979, Test Loss: 0.07756000394001603\n"
                              ]
                        },
                        {
                              "name": "stderr",
                              "output_type": "stream",
                              "text": [
                                    "100%|██████████| 118/118 [00:10<00:00, 10.79it/s]\n"
                              ]
                        },
                        {
                              "name": "stdout",
                              "output_type": "stream",
                              "text": [
                                    "Epoch 9, Model SGD Train Loss: 0.0446294730024065, Test Loss: 0.06989156450144947\n"
                              ]
                        },
                        {
                              "name": "stderr",
                              "output_type": "stream",
                              "text": [
                                    "100%|██████████| 118/118 [00:11<00:00, 10.54it/s]\n"
                              ]
                        },
                        {
                              "name": "stdout",
                              "output_type": "stream",
                              "text": [
                                    "Epoch 10, Model SGD Train Loss: 0.03807993709914765, Test Loss: 0.07223279816098511\n"
                              ]
                        }
                  ],
                  "source": [
                        "train_losses, test_losses, models_saved = {}, {}, {}\n",
                        "for model_key, model, optimizer in [\n",
                        "    (\"esgd\", model_esgd, optimizer_esgd),\n",
                        "    (\"sgd\", model_sgd, optimizer_sgd),\n",
                        "]:\n",
                        "    train_losses[model_key] = []\n",
                        "    test_losses[model_key] = []\n",
                        "    models_saved[model_key] = []\n",
                        "\n",
                        "    for epoch in range(N_EPOCHS):\n",
                        "        train_loss = train_one_epoch(\n",
                        "            model, train_loader, optimizer, criterion, model_key\n",
                        "        )\n",
                        "        test_loss = evaluate(model, test_loader, criterion)\n",
                        "        train_losses[model_key].append(train_loss)\n",
                        "        test_losses[model_key].append(test_loss)\n",
                        "        models_saved[model_key] += [copy.deepcopy(model)]\n",
                        "\n",
                        "        print(\n",
                        "            f\"Epoch {epoch+1}, Model {model_key.upper()} Train Loss: {train_loss}, Test Loss: {test_loss}\"\n",
                        "        )"
                  ]
            },
            {
                  "cell_type": "code",
                  "execution_count": 6,
                  "metadata": {},
                  "outputs": [
                        {
                              "name": "stderr",
                              "output_type": "stream",
                              "text": [
                                    "  0%|          | 0/10 [00:00<?, ?it/s]"
                              ]
                        },
                        {
                              "name": "stdout",
                              "output_type": "stream",
                              "text": [
                                    "nbeta not set - using default nbeta.\n",
                                    "If you're setting a nbeta in optimizer_kwargs, please also make sure to set it in the callbacks.\n"
                              ]
                        },
                        {
                              "name": "stderr",
                              "output_type": "stream",
                              "text": [
                                    "/home/paperspace/devinterp/src/devinterp/backends/default/slt/sampler.py:208: UserWarning: You are taking more draws than burn-in steps, your LLC estimates will likely be underestimates. Please check LLC chain convergence.\n",
                                    "  warnings.warn(\n",
                                    "/home/paperspace/devinterp/src/devinterp/backends/default/slt/sampler.py:212: UserWarning: You are taking more sample batches than there are dataloader batches available, this removes some randomness from sampling but is probably fine. (All sample batches beyond the number dataloader batches are cycled from the start, f.e. 9 samples from [A, B, C] would be [B, A, C, B, A, C, B, A, C].)\n",
                                    "  warnings.warn(\n",
                                    "/home/paperspace/devinterp/src/devinterp/backends/default/slt/sampler.py:52: UserWarning: You are taking more sample batches than there are dataloader batches available, this removes some randomness from sampling but is probably fine. (All sample batches beyond the number dataloader batches are cycled from the start, f.e. 9 samples from [A, B, C] would be [B, A, C, B, A, C, B, A, C].)\n",
                                    "  warnings.warn(\n"
                              ]
                        },
                        {
                              "name": "stdout",
                              "output_type": "stream",
                              "text": [
                                    "nbeta not set - using default nbeta.\n",
                                    "If you're setting a nbeta in optimizer_kwargs, please also make sure to set it in the callbacks.\n"
                              ]
                        },
                        {
                              "name": "stderr",
                              "output_type": "stream",
                              "text": [
                                    " 10%|█         | 1/10 [00:48<07:16, 48.55s/it]"
                              ]
                        },
                        {
                              "name": "stdout",
                              "output_type": "stream",
                              "text": [
                                    "nbeta not set - using default nbeta.\n",
                                    "If you're setting a nbeta in optimizer_kwargs, please also make sure to set it in the callbacks.\n",
                                    "nbeta not set - using default nbeta.\n",
                                    "If you're setting a nbeta in optimizer_kwargs, please also make sure to set it in the callbacks.\n"
                              ]
                        },
                        {
                              "name": "stderr",
                              "output_type": "stream",
                              "text": [
                                    " 20%|██        | 2/10 [01:36<06:27, 48.47s/it]"
                              ]
                        },
                        {
                              "name": "stdout",
                              "output_type": "stream",
                              "text": [
                                    "nbeta not set - using default nbeta.\n",
                                    "If you're setting a nbeta in optimizer_kwargs, please also make sure to set it in the callbacks.\n",
                                    "nbeta not set - using default nbeta.\n",
                                    "If you're setting a nbeta in optimizer_kwargs, please also make sure to set it in the callbacks.\n"
                              ]
                        },
                        {
                              "name": "stderr",
                              "output_type": "stream",
                              "text": [
                                    " 30%|███       | 3/10 [02:25<05:39, 48.51s/it]"
                              ]
                        },
                        {
                              "name": "stdout",
                              "output_type": "stream",
                              "text": [
                                    "nbeta not set - using default nbeta.\n",
                                    "If you're setting a nbeta in optimizer_kwargs, please also make sure to set it in the callbacks.\n",
                                    "nbeta not set - using default nbeta.\n",
                                    "If you're setting a nbeta in optimizer_kwargs, please also make sure to set it in the callbacks.\n"
                              ]
                        },
                        {
                              "name": "stderr",
                              "output_type": "stream",
                              "text": [
                                    " 40%|████      | 4/10 [03:13<04:49, 48.27s/it]"
                              ]
                        },
                        {
                              "name": "stdout",
                              "output_type": "stream",
                              "text": [
                                    "nbeta not set - using default nbeta.\n",
                                    "If you're setting a nbeta in optimizer_kwargs, please also make sure to set it in the callbacks.\n",
                                    "nbeta not set - using default nbeta.\n",
                                    "If you're setting a nbeta in optimizer_kwargs, please also make sure to set it in the callbacks.\n"
                              ]
                        },
                        {
                              "name": "stderr",
                              "output_type": "stream",
                              "text": [
                                    " 50%|█████     | 5/10 [04:02<04:02, 48.45s/it]"
                              ]
                        },
                        {
                              "name": "stdout",
                              "output_type": "stream",
                              "text": [
                                    "nbeta not set - using default nbeta.\n",
                                    "If you're setting a nbeta in optimizer_kwargs, please also make sure to set it in the callbacks.\n",
                                    "nbeta not set - using default nbeta.\n",
                                    "If you're setting a nbeta in optimizer_kwargs, please also make sure to set it in the callbacks.\n"
                              ]
                        },
                        {
                              "name": "stderr",
                              "output_type": "stream",
                              "text": [
                                    " 60%|██████    | 6/10 [04:50<03:13, 48.42s/it]"
                              ]
                        },
                        {
                              "name": "stdout",
                              "output_type": "stream",
                              "text": [
                                    "nbeta not set - using default nbeta.\n",
                                    "If you're setting a nbeta in optimizer_kwargs, please also make sure to set it in the callbacks.\n",
                                    "nbeta not set - using default nbeta.\n",
                                    "If you're setting a nbeta in optimizer_kwargs, please also make sure to set it in the callbacks.\n"
                              ]
                        },
                        {
                              "name": "stderr",
                              "output_type": "stream",
                              "text": [
                                    " 70%|███████   | 7/10 [05:39<02:25, 48.64s/it]"
                              ]
                        },
                        {
                              "name": "stdout",
                              "output_type": "stream",
                              "text": [
                                    "nbeta not set - using default nbeta.\n",
                                    "If you're setting a nbeta in optimizer_kwargs, please also make sure to set it in the callbacks.\n",
                                    "nbeta not set - using default nbeta.\n",
                                    "If you're setting a nbeta in optimizer_kwargs, please also make sure to set it in the callbacks.\n"
                              ]
                        },
                        {
                              "name": "stderr",
                              "output_type": "stream",
                              "text": [
                                    " 80%|████████  | 8/10 [06:26<01:36, 48.21s/it]"
                              ]
                        },
                        {
                              "name": "stdout",
                              "output_type": "stream",
                              "text": [
                                    "nbeta not set - using default nbeta.\n",
                                    "If you're setting a nbeta in optimizer_kwargs, please also make sure to set it in the callbacks.\n",
                                    "nbeta not set - using default nbeta.\n",
                                    "If you're setting a nbeta in optimizer_kwargs, please also make sure to set it in the callbacks.\n"
                              ]
                        },
                        {
                              "name": "stderr",
                              "output_type": "stream",
                              "text": [
                                    " 90%|█████████ | 9/10 [07:16<00:48, 48.66s/it]"
                              ]
                        },
                        {
                              "name": "stdout",
                              "output_type": "stream",
                              "text": [
                                    "nbeta not set - using default nbeta.\n",
                                    "If you're setting a nbeta in optimizer_kwargs, please also make sure to set it in the callbacks.\n",
                                    "nbeta not set - using default nbeta.\n",
                                    "If you're setting a nbeta in optimizer_kwargs, please also make sure to set it in the callbacks.\n"
                              ]
                        },
                        {
                              "name": "stderr",
                              "output_type": "stream",
                              "text": [
                                    "100%|██████████| 10/10 [08:04<00:00, 48.45s/it]\n",
                                    "  0%|          | 0/10 [00:00<?, ?it/s]"
                              ]
                        },
                        {
                              "name": "stdout",
                              "output_type": "stream",
                              "text": [
                                    "nbeta not set - using default nbeta.\n",
                                    "If you're setting a nbeta in optimizer_kwargs, please also make sure to set it in the callbacks.\n",
                                    "nbeta not set - using default nbeta.\n",
                                    "If you're setting a nbeta in optimizer_kwargs, please also make sure to set it in the callbacks.\n"
                              ]
                        },
                        {
                              "name": "stderr",
                              "output_type": "stream",
                              "text": [
                                    " 10%|█         | 1/10 [00:47<07:09, 47.78s/it]"
                              ]
                        },
                        {
                              "name": "stdout",
                              "output_type": "stream",
                              "text": [
                                    "nbeta not set - using default nbeta.\n",
                                    "If you're setting a nbeta in optimizer_kwargs, please also make sure to set it in the callbacks.\n",
                                    "nbeta not set - using default nbeta.\n",
                                    "If you're setting a nbeta in optimizer_kwargs, please also make sure to set it in the callbacks.\n"
                              ]
                        },
                        {
                              "name": "stderr",
                              "output_type": "stream",
                              "text": [
                                    " 20%|██        | 2/10 [01:35<06:22, 47.82s/it]"
                              ]
                        },
                        {
                              "name": "stdout",
                              "output_type": "stream",
                              "text": [
                                    "nbeta not set - using default nbeta.\n",
                                    "If you're setting a nbeta in optimizer_kwargs, please also make sure to set it in the callbacks.\n",
                                    "nbeta not set - using default nbeta.\n",
                                    "If you're setting a nbeta in optimizer_kwargs, please also make sure to set it in the callbacks.\n"
                              ]
                        },
                        {
                              "name": "stderr",
                              "output_type": "stream",
                              "text": [
                                    " 30%|███       | 3/10 [02:24<05:36, 48.11s/it]"
                              ]
                        },
                        {
                              "name": "stdout",
                              "output_type": "stream",
                              "text": [
                                    "nbeta not set - using default nbeta.\n",
                                    "If you're setting a nbeta in optimizer_kwargs, please also make sure to set it in the callbacks.\n",
                                    "nbeta not set - using default nbeta.\n",
                                    "If you're setting a nbeta in optimizer_kwargs, please also make sure to set it in the callbacks.\n"
                              ]
                        },
                        {
                              "name": "stderr",
                              "output_type": "stream",
                              "text": [
                                    " 40%|████      | 4/10 [03:12<04:48, 48.04s/it]"
                              ]
                        },
                        {
                              "name": "stdout",
                              "output_type": "stream",
                              "text": [
                                    "nbeta not set - using default nbeta.\n",
                                    "If you're setting a nbeta in optimizer_kwargs, please also make sure to set it in the callbacks.\n",
                                    "nbeta not set - using default nbeta.\n",
                                    "If you're setting a nbeta in optimizer_kwargs, please also make sure to set it in the callbacks.\n"
                              ]
                        },
                        {
                              "name": "stderr",
                              "output_type": "stream",
                              "text": [
                                    " 50%|█████     | 5/10 [03:59<04:00, 48.01s/it]"
                              ]
                        },
                        {
                              "name": "stdout",
                              "output_type": "stream",
                              "text": [
                                    "nbeta not set - using default nbeta.\n",
                                    "If you're setting a nbeta in optimizer_kwargs, please also make sure to set it in the callbacks.\n",
                                    "nbeta not set - using default nbeta.\n",
                                    "If you're setting a nbeta in optimizer_kwargs, please also make sure to set it in the callbacks.\n"
                              ]
                        },
                        {
                              "name": "stderr",
                              "output_type": "stream",
                              "text": [
                                    " 60%|██████    | 6/10 [04:49<03:13, 48.42s/it]"
                              ]
                        },
                        {
                              "name": "stdout",
                              "output_type": "stream",
                              "text": [
                                    "nbeta not set - using default nbeta.\n",
                                    "If you're setting a nbeta in optimizer_kwargs, please also make sure to set it in the callbacks.\n",
                                    "nbeta not set - using default nbeta.\n",
                                    "If you're setting a nbeta in optimizer_kwargs, please also make sure to set it in the callbacks.\n"
                              ]
                        },
                        {
                              "name": "stderr",
                              "output_type": "stream",
                              "text": [
                                    " 70%|███████   | 7/10 [05:37<02:25, 48.35s/it]"
                              ]
                        },
                        {
                              "name": "stdout",
                              "output_type": "stream",
                              "text": [
                                    "nbeta not set - using default nbeta.\n",
                                    "If you're setting a nbeta in optimizer_kwargs, please also make sure to set it in the callbacks.\n",
                                    "nbeta not set - using default nbeta.\n",
                                    "If you're setting a nbeta in optimizer_kwargs, please also make sure to set it in the callbacks.\n"
                              ]
                        },
                        {
                              "name": "stderr",
                              "output_type": "stream",
                              "text": [
                                    " 80%|████████  | 8/10 [06:26<01:36, 48.43s/it]"
                              ]
                        },
                        {
                              "name": "stdout",
                              "output_type": "stream",
                              "text": [
                                    "nbeta not set - using default nbeta.\n",
                                    "If you're setting a nbeta in optimizer_kwargs, please also make sure to set it in the callbacks.\n",
                                    "nbeta not set - using default nbeta.\n",
                                    "If you're setting a nbeta in optimizer_kwargs, please also make sure to set it in the callbacks.\n"
                              ]
                        },
                        {
                              "name": "stderr",
                              "output_type": "stream",
                              "text": [
                                    " 90%|█████████ | 9/10 [07:14<00:48, 48.38s/it]"
                              ]
                        },
                        {
                              "name": "stdout",
                              "output_type": "stream",
                              "text": [
                                    "nbeta not set - using default nbeta.\n",
                                    "If you're setting a nbeta in optimizer_kwargs, please also make sure to set it in the callbacks.\n",
                                    "nbeta not set - using default nbeta.\n",
                                    "If you're setting a nbeta in optimizer_kwargs, please also make sure to set it in the callbacks.\n"
                              ]
                        },
                        {
                              "name": "stderr",
                              "output_type": "stream",
                              "text": [
                                    "100%|██████████| 10/10 [08:03<00:00, 48.31s/it]\n"
                              ]
                        }
                  ],
                  "source": [
                        "from devinterp.slt.sampler import estimate_learning_coeff\n",
                        "from devinterp.utils import evaluate_ce\n",
                        "\n",
                        "\n",
                        "def estimate_rlcts(models, train_loader, device):\n",
                        "    estimates = {\"sgnht\": [], \"sgld\": []}\n",
                        "    for model in tqdm(models):\n",
                        "        for method, optimizer_kwargs in [\n",
                        "            (\"sgnht\", {\"lr\": 1e-7, \"diffusion_factor\": 0.01}),\n",
                        "            (\"sgld\", {\"lr\": 1e-5, \"localization\": 100.0}),\n",
                        "        ]:\n",
                        "            estimate = estimate_learning_coeff(\n",
                        "                model,\n",
                        "                train_loader,\n",
                        "                evaluate=evaluate_ce,\n",
                        "                optimizer_kwargs=optimizer_kwargs,\n",
                        "                sampling_method=SGNHT if method == \"sgnht\" else SGLD,\n",
                        "                num_chains=1,\n",
                        "                num_draws=400,\n",
                        "                num_burnin_steps=0,\n",
                        "                num_steps_bw_draws=1,\n",
                        "                device=device,\n",
                        "                verbose=False,\n",
                        "            )\n",
                        "            estimates[method].append(estimate)\n",
                        "    return estimates\n",
                        "\n",
                        "\n",
                        "data_length = len(train_loader.dataset)\n",
                        "rlct_esgd = estimate_rlcts(models_saved[\"esgd\"], train_loader, DEVICE)\n",
                        "rlct_sgd = estimate_rlcts(models_saved[\"sgd\"], train_loader, DEVICE)"
                  ]
            },
            {
                  "cell_type": "code",
                  "execution_count": 7,
                  "metadata": {},
                  "outputs": [
                        {
                              "data": {
                                    "image/png": "[encoded data removed]",
                                    "text/plain": [
                                          "<Figure size 1000x600 with 2 Axes>"
                                    ]
                              },
                              "metadata": {},
                              "output_type": "display_data"
                        }
                  ],
                  "source": [
                        "sns.set_style(\"whitegrid\")\n",
                        "\n",
                        "fig, ax1 = plt.subplots(figsize=(10, 6))\n",
                        "ax1.set_xlabel(\"Epoch\")\n",
                        "ax1.set_ylabel(\"Loss\", color=PRIMARY)\n",
                        "ax1.plot(train_losses[\"sgd\"], label=\"Train Loss, sgd\", color=PRIMARY)\n",
                        "ax1.plot(test_losses[\"sgd\"], label=\"Test Loss, sgd\", color=PRIMARY_LIGHT)\n",
                        "\n",
                        "ax1.plot(train_losses[\"esgd\"], label=\"Train Loss, esgd\", color=SECONDARY)\n",
                        "ax1.plot(test_losses[\"esgd\"], label=\"Test Loss, esgd\", color=SECONDARY_LIGHT)\n",
                        "ax1.tick_params(axis=\"y\", labelcolor=PRIMARY)\n",
                        "ax1.legend(loc=\"upper left\")\n",
                        "\n",
                        "ax2 = ax1.twinx()\n",
                        "ax2.set_ylabel(r\"Local Learning Coefficient, $\\hat \\lambda$\", color=SECONDARY)\n",
                        "ax2.plot(rlct_sgd[\"sgnht\"], label=\"SGNHT, sgd\", color=TERTIARY)\n",
                        "ax2.plot(rlct_sgd[\"sgld\"], label=\"SGLD, sgd\", color=TERTIARY_LIGHT)\n",
                        "\n",
                        "ax2.plot(rlct_esgd[\"sgnht\"], label=\"SGNHT, esgd\", color=QUATERNARY)\n",
                        "ax2.plot(rlct_esgd[\"sgld\"], label=\"SGLD, esgd\", color=QUATERNARY_LIGHT)\n",
                        "ax2.tick_params(axis=\"y\", labelcolor=SECONDARY)\n",
                        "ax2.legend(loc=\"center right\")\n",
                        "\n",
                        "fig.tight_layout()\n",
                        "plt.show()"
                  ]
            }
      ],
      "metadata": {
            "kernelspec": {
                  "display_name": ".venv",
                  "language": "python",
                  "name": "python3"
            },
            "language_info": {
                  "codemirror_mode": {
                        "name": "ipython",
                        "version": 3
                  },
                  "file_extension": ".py",
                  "mimetype": "text/x-python",
                  "name": "python",
                  "nbconvert_exporter": "python",
                  "pygments_lexer": "ipython3",
                  "version": "3.8.10"
            },
            "orig_nbformat": 4
      },
      "nbformat": 4,
      "nbformat_minor": 2
}
