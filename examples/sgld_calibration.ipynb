{
 "cells": [
  {
   "cell_type": "markdown",
   "id": "38551abb-5509-4306-8463-e61d5e29eff3",
   "metadata": {},
   "source": [
    "# Calibration of SGLD hyperparameters for MNIST"
   ]
  },
  {
   "cell_type": "markdown",
   "id": "b54bdb93-e084-4cfb-b629-3acc541a524e",
   "metadata": {},
   "source": [
    "[![Open In Colab](https://colab.research.google.com/assets/colab-badge.svg)](https://colab.research.google.com/github/timaeus-research/devinterp/blob/main/examples/sgld_calibration.ipynb)\n",
    "\n",
    "This notebook walks through the process for calibrating hyperparameters for Stochastic Gradient Langevin Dynamics (SGLD) based LLC (or $\\hat\\lambda$) estimation. The model we'll use is a small 2-layer ReLU network (~1M params) trained on the MNIST dataset.\n",
    "\n",
    "This notebook is split into 5 sections:\n",
    "1. Data preparation\n",
    "2. Training model checkpoints\n",
    "3. Running calibration sweep\n",
    "4. Plotting LLC estimations over time\n",
    "5. Selecting $\\epsilon$ and $\\gamma$"
   ]
  },
  {
   "cell_type": "code",
   "execution_count": 2,
   "id": "68bd3efa-f196-44c6-b4a1-4a086b995db0",
   "metadata": {},
   "outputs": [
    {
     "name": "stdout",
     "output_type": "stream",
     "text": [
      "Requirement already satisfied: devinterp in /Users/georgeyw/projects/timaeus/devinterp/env/lib/python3.9/site-packages (0.0.2)\n",
      "Requirement already satisfied: matplotlib in /Users/georgeyw/projects/timaeus/devinterp/env/lib/python3.9/site-packages (3.8.0)\n",
      "Requirement already satisfied: seaborn in /Users/georgeyw/projects/timaeus/devinterp/env/lib/python3.9/site-packages (0.13.0)\n",
      "Collecting torchvision\n",
      "  Downloading torchvision-0.16.1-cp39-cp39-macosx_11_0_arm64.whl.metadata (6.6 kB)\n",
      "Requirement already satisfied: einops==0.6.1 in /Users/georgeyw/projects/timaeus/devinterp/env/lib/python3.9/site-packages (from devinterp) (0.6.1)\n",
      "Requirement already satisfied: ipykernel==5.5.6 in /Users/georgeyw/projects/timaeus/devinterp/env/lib/python3.9/site-packages (from devinterp) (5.5.6)\n",
      "Requirement already satisfied: ipywidgets==8.0.7 in /Users/georgeyw/projects/timaeus/devinterp/env/lib/python3.9/site-packages (from devinterp) (8.0.7)\n",
      "Requirement already satisfied: jupyter-core==5.3.1 in /Users/georgeyw/projects/timaeus/devinterp/env/lib/python3.9/site-packages (from devinterp) (5.3.1)\n",
      "Requirement already satisfied: jupyterlab-widgets==3.0.8 in /Users/georgeyw/projects/timaeus/devinterp/env/lib/python3.9/site-packages (from devinterp) (3.0.8)\n",
      "Requirement already satisfied: numpy==1.23.5 in /Users/georgeyw/projects/timaeus/devinterp/env/lib/python3.9/site-packages (from devinterp) (1.23.5)\n",
      "Requirement already satisfied: pandas==1.5.3 in /Users/georgeyw/projects/timaeus/devinterp/env/lib/python3.9/site-packages (from devinterp) (1.5.3)\n",
      "Requirement already satisfied: pydantic==2.1.1 in /Users/georgeyw/projects/timaeus/devinterp/env/lib/python3.9/site-packages (from devinterp) (2.1.1)\n",
      "Requirement already satisfied: pydantic-core==2.4.0 in /Users/georgeyw/projects/timaeus/devinterp/env/lib/python3.9/site-packages (from devinterp) (2.4.0)\n",
      "Requirement already satisfied: torch==2.0.1 in /Users/georgeyw/projects/timaeus/devinterp/env/lib/python3.9/site-packages (from devinterp) (2.0.1)\n",
      "Requirement already satisfied: torchtyping==0.1.4 in /Users/georgeyw/projects/timaeus/devinterp/env/lib/python3.9/site-packages (from devinterp) (0.1.4)\n",
      "Requirement already satisfied: tqdm==4.65.0 in /Users/georgeyw/projects/timaeus/devinterp/env/lib/python3.9/site-packages (from devinterp) (4.65.0)\n",
      "Requirement already satisfied: ipython-genutils in /Users/georgeyw/projects/timaeus/devinterp/env/lib/python3.9/site-packages (from ipykernel==5.5.6->devinterp) (0.2.0)\n",
      "Requirement already satisfied: ipython>=5.0.0 in /Users/georgeyw/projects/timaeus/devinterp/env/lib/python3.9/site-packages (from ipykernel==5.5.6->devinterp) (8.17.2)\n",
      "Requirement already satisfied: traitlets>=4.1.0 in /Users/georgeyw/projects/timaeus/devinterp/env/lib/python3.9/site-packages (from ipykernel==5.5.6->devinterp) (5.13.0)\n",
      "Requirement already satisfied: jupyter-client in /Users/georgeyw/projects/timaeus/devinterp/env/lib/python3.9/site-packages (from ipykernel==5.5.6->devinterp) (8.6.0)\n",
      "Requirement already satisfied: tornado>=4.2 in /Users/georgeyw/projects/timaeus/devinterp/env/lib/python3.9/site-packages (from ipykernel==5.5.6->devinterp) (6.3.3)\n",
      "Requirement already satisfied: appnope in /Users/georgeyw/projects/timaeus/devinterp/env/lib/python3.9/site-packages (from ipykernel==5.5.6->devinterp) (0.1.3)\n",
      "Requirement already satisfied: widgetsnbextension~=4.0.7 in /Users/georgeyw/projects/timaeus/devinterp/env/lib/python3.9/site-packages (from ipywidgets==8.0.7->devinterp) (4.0.9)\n",
      "Requirement already satisfied: platformdirs>=2.5 in /Users/georgeyw/projects/timaeus/devinterp/env/lib/python3.9/site-packages (from jupyter-core==5.3.1->devinterp) (4.0.0)\n",
      "Requirement already satisfied: python-dateutil>=2.8.1 in /Users/georgeyw/projects/timaeus/devinterp/env/lib/python3.9/site-packages (from pandas==1.5.3->devinterp) (2.8.2)\n",
      "Requirement already satisfied: pytz>=2020.1 in /Users/georgeyw/projects/timaeus/devinterp/env/lib/python3.9/site-packages (from pandas==1.5.3->devinterp) (2023.3.post1)\n",
      "Requirement already satisfied: annotated-types>=0.4.0 in /Users/georgeyw/projects/timaeus/devinterp/env/lib/python3.9/site-packages (from pydantic==2.1.1->devinterp) (0.6.0)\n",
      "Requirement already satisfied: typing-extensions>=4.6.1 in /Users/georgeyw/projects/timaeus/devinterp/env/lib/python3.9/site-packages (from pydantic==2.1.1->devinterp) (4.8.0)\n",
      "Requirement already satisfied: filelock in /Users/georgeyw/projects/timaeus/devinterp/env/lib/python3.9/site-packages (from torch==2.0.1->devinterp) (3.13.1)\n",
      "Requirement already satisfied: sympy in /Users/georgeyw/projects/timaeus/devinterp/env/lib/python3.9/site-packages (from torch==2.0.1->devinterp) (1.12)\n",
      "Requirement already satisfied: networkx in /Users/georgeyw/projects/timaeus/devinterp/env/lib/python3.9/site-packages (from torch==2.0.1->devinterp) (3.2.1)\n",
      "Requirement already satisfied: jinja2 in /Users/georgeyw/projects/timaeus/devinterp/env/lib/python3.9/site-packages (from torch==2.0.1->devinterp) (3.1.2)\n",
      "Requirement already satisfied: typeguard>=2.11.1 in /Users/georgeyw/projects/timaeus/devinterp/env/lib/python3.9/site-packages (from torchtyping==0.1.4->devinterp) (4.1.5)\n",
      "Requirement already satisfied: contourpy>=1.0.1 in /Users/georgeyw/projects/timaeus/devinterp/env/lib/python3.9/site-packages (from matplotlib) (1.2.0)\n",
      "Requirement already satisfied: cycler>=0.10 in /Users/georgeyw/projects/timaeus/devinterp/env/lib/python3.9/site-packages (from matplotlib) (0.12.1)\n",
      "Requirement already satisfied: fonttools>=4.22.0 in /Users/georgeyw/projects/timaeus/devinterp/env/lib/python3.9/site-packages (from matplotlib) (4.45.0)\n",
      "Requirement already satisfied: kiwisolver>=1.0.1 in /Users/georgeyw/projects/timaeus/devinterp/env/lib/python3.9/site-packages (from matplotlib) (1.4.5)\n",
      "Requirement already satisfied: packaging>=20.0 in /Users/georgeyw/projects/timaeus/devinterp/env/lib/python3.9/site-packages (from matplotlib) (23.2)\n",
      "Requirement already satisfied: pillow>=6.2.0 in /Users/georgeyw/projects/timaeus/devinterp/env/lib/python3.9/site-packages (from matplotlib) (10.1.0)\n",
      "Requirement already satisfied: pyparsing>=2.3.1 in /Users/georgeyw/projects/timaeus/devinterp/env/lib/python3.9/site-packages (from matplotlib) (3.1.1)\n",
      "Requirement already satisfied: importlib-resources>=3.2.0 in /Users/georgeyw/projects/timaeus/devinterp/env/lib/python3.9/site-packages (from matplotlib) (6.1.1)\n",
      "Requirement already satisfied: requests in /Users/georgeyw/projects/timaeus/devinterp/env/lib/python3.9/site-packages (from torchvision) (2.31.0)\n",
      "INFO: pip is looking at multiple versions of torchvision to determine which version is compatible with other requirements. This could take a while.\n",
      "  Downloading torchvision-0.16.0-cp39-cp39-macosx_11_0_arm64.whl.metadata (6.6 kB)\n",
      "  Downloading torchvision-0.15.2-cp39-cp39-macosx_11_0_arm64.whl (1.4 MB)\n",
      "\u001b[2K     \u001b[38;2;114;156;31m━━━━━━━━━━━━━━━━━━━━━━━━━━━━━━━━━━━━━━━━\u001b[0m \u001b[32m1.4/1.4 MB\u001b[0m \u001b[31m3.9 MB/s\u001b[0m eta \u001b[36m0:00:00\u001b[0m[31m11.0 MB/s\u001b[0m eta \u001b[36m0:00:01\u001b[0m\n",
      "\u001b[?25hRequirement already satisfied: zipp>=3.1.0 in /Users/georgeyw/projects/timaeus/devinterp/env/lib/python3.9/site-packages (from importlib-resources>=3.2.0->matplotlib) (3.17.0)\n",
      "Requirement already satisfied: six>=1.5 in /Users/georgeyw/projects/timaeus/devinterp/env/lib/python3.9/site-packages (from python-dateutil>=2.8.1->pandas==1.5.3->devinterp) (1.16.0)\n",
      "Requirement already satisfied: charset-normalizer<4,>=2 in /Users/georgeyw/projects/timaeus/devinterp/env/lib/python3.9/site-packages (from requests->torchvision) (3.3.2)\n",
      "Requirement already satisfied: idna<4,>=2.5 in /Users/georgeyw/projects/timaeus/devinterp/env/lib/python3.9/site-packages (from requests->torchvision) (3.4)\n",
      "Requirement already satisfied: urllib3<3,>=1.21.1 in /Users/georgeyw/projects/timaeus/devinterp/env/lib/python3.9/site-packages (from requests->torchvision) (2.1.0)\n",
      "Requirement already satisfied: certifi>=2017.4.17 in /Users/georgeyw/projects/timaeus/devinterp/env/lib/python3.9/site-packages (from requests->torchvision) (2023.11.17)\n",
      "Requirement already satisfied: decorator in /Users/georgeyw/projects/timaeus/devinterp/env/lib/python3.9/site-packages (from ipython>=5.0.0->ipykernel==5.5.6->devinterp) (5.1.1)\n",
      "Requirement already satisfied: jedi>=0.16 in /Users/georgeyw/projects/timaeus/devinterp/env/lib/python3.9/site-packages (from ipython>=5.0.0->ipykernel==5.5.6->devinterp) (0.19.1)\n",
      "Requirement already satisfied: matplotlib-inline in /Users/georgeyw/projects/timaeus/devinterp/env/lib/python3.9/site-packages (from ipython>=5.0.0->ipykernel==5.5.6->devinterp) (0.1.6)\n",
      "Requirement already satisfied: prompt-toolkit!=3.0.37,<3.1.0,>=3.0.30 in /Users/georgeyw/projects/timaeus/devinterp/env/lib/python3.9/site-packages (from ipython>=5.0.0->ipykernel==5.5.6->devinterp) (3.0.41)\n",
      "Requirement already satisfied: pygments>=2.4.0 in /Users/georgeyw/projects/timaeus/devinterp/env/lib/python3.9/site-packages (from ipython>=5.0.0->ipykernel==5.5.6->devinterp) (2.17.1)\n",
      "Requirement already satisfied: stack-data in /Users/georgeyw/projects/timaeus/devinterp/env/lib/python3.9/site-packages (from ipython>=5.0.0->ipykernel==5.5.6->devinterp) (0.6.3)\n",
      "Requirement already satisfied: exceptiongroup in /Users/georgeyw/projects/timaeus/devinterp/env/lib/python3.9/site-packages (from ipython>=5.0.0->ipykernel==5.5.6->devinterp) (1.2.0)\n",
      "Requirement already satisfied: pexpect>4.3 in /Users/georgeyw/projects/timaeus/devinterp/env/lib/python3.9/site-packages (from ipython>=5.0.0->ipykernel==5.5.6->devinterp) (4.8.0)\n",
      "Requirement already satisfied: importlib-metadata>=3.6 in /Users/georgeyw/projects/timaeus/devinterp/env/lib/python3.9/site-packages (from typeguard>=2.11.1->torchtyping==0.1.4->devinterp) (6.8.0)\n",
      "Requirement already satisfied: MarkupSafe>=2.0 in /Users/georgeyw/projects/timaeus/devinterp/env/lib/python3.9/site-packages (from jinja2->torch==2.0.1->devinterp) (2.1.3)\n",
      "Requirement already satisfied: pyzmq>=23.0 in /Users/georgeyw/projects/timaeus/devinterp/env/lib/python3.9/site-packages (from jupyter-client->ipykernel==5.5.6->devinterp) (25.1.1)\n",
      "Requirement already satisfied: mpmath>=0.19 in /Users/georgeyw/projects/timaeus/devinterp/env/lib/python3.9/site-packages (from sympy->torch==2.0.1->devinterp) (1.3.0)\n",
      "Requirement already satisfied: parso<0.9.0,>=0.8.3 in /Users/georgeyw/projects/timaeus/devinterp/env/lib/python3.9/site-packages (from jedi>=0.16->ipython>=5.0.0->ipykernel==5.5.6->devinterp) (0.8.3)\n",
      "Requirement already satisfied: ptyprocess>=0.5 in /Users/georgeyw/projects/timaeus/devinterp/env/lib/python3.9/site-packages (from pexpect>4.3->ipython>=5.0.0->ipykernel==5.5.6->devinterp) (0.7.0)\n",
      "Requirement already satisfied: wcwidth in /Users/georgeyw/projects/timaeus/devinterp/env/lib/python3.9/site-packages (from prompt-toolkit!=3.0.37,<3.1.0,>=3.0.30->ipython>=5.0.0->ipykernel==5.5.6->devinterp) (0.2.11)\n",
      "Requirement already satisfied: executing>=1.2.0 in /Users/georgeyw/projects/timaeus/devinterp/env/lib/python3.9/site-packages (from stack-data->ipython>=5.0.0->ipykernel==5.5.6->devinterp) (2.0.1)\n",
      "Requirement already satisfied: asttokens>=2.1.0 in /Users/georgeyw/projects/timaeus/devinterp/env/lib/python3.9/site-packages (from stack-data->ipython>=5.0.0->ipykernel==5.5.6->devinterp) (2.4.1)\n",
      "Requirement already satisfied: pure-eval in /Users/georgeyw/projects/timaeus/devinterp/env/lib/python3.9/site-packages (from stack-data->ipython>=5.0.0->ipykernel==5.5.6->devinterp) (0.2.2)\n",
      "Installing collected packages: torchvision\n",
      "Successfully installed torchvision-0.15.2\n",
      "Note: you may need to restart the kernel to use updated packages.\n"
     ]
    }
   ],
   "source": [
    "%pip install devinterp torchvision"
   ]
  },
  {
   "cell_type": "code",
   "execution_count": 54,
   "id": "5303693e-4e53-48ed-987c-9ac71e40786f",
   "metadata": {},
   "outputs": [],
   "source": [
    "import copy\n",
    "import matplotlib.pyplot as plt\n",
    "\n",
    "import torch\n",
    "import torch.nn as nn\n",
    "import torch.nn.functional as F\n",
    "import torch.optim as optim\n",
    "from torchvision import datasets, transforms\n",
    "from torch.utils.data import DataLoader\n",
    "from tqdm import tqdm\n",
    "\n",
    "from devinterp.optim.sgld import SGLD\n",
    "from devinterp.slt.llc import estimate_learning_coeff_with_summary\n",
    "\n",
    "DEVICE = \"cuda\" if torch.cuda.is_available() else \"cpu\"\n",
    "\n",
    "NUM_CHAINS = 10\n",
    "NUM_DRAWS = 200\n",
    "\n",
    "plt.rcParams[\"figure.figsize\"]=12,9  # note: this cell may need to be re-run after creating a plot to take effect"
   ]
  },
  {
   "cell_type": "code",
   "execution_count": 20,
   "id": "ea5b8c3e-6c5e-4e32-ab97-57af3561c4aa",
   "metadata": {},
   "outputs": [],
   "source": [
    "# Define the neural network\n",
    "class MNIST(nn.Module):\n",
    "    def __init__(\n",
    "        self,\n",
    "        hidden_layer_sizes=[1024, 1024],\n",
    "        input_dim=28 * 28,\n",
    "        output_dim=10,\n",
    "        activation=F.relu,\n",
    "        with_bias=True,\n",
    "    ):\n",
    "        super(MNIST, self).__init__()\n",
    "        self.input_dim = input_dim\n",
    "        self.layer_sizes = [input_dim] + hidden_layer_sizes + [output_dim]\n",
    "        self.activation = activation\n",
    "        self.with_bias = with_bias\n",
    "        self.layers = nn.ModuleList()\n",
    "        for i in range(len(self.layer_sizes) - 1):\n",
    "            dim_in, dim_out = self.layer_sizes[i : i + 2]\n",
    "            self.layers.append(nn.Linear(dim_in, dim_out, bias=self.with_bias).float())\n",
    "\n",
    "    def forward(self, x):\n",
    "        x = x.view(-1, self.input_dim)\n",
    "        for layer in self.layers[:-1]:\n",
    "            x = self.activation(layer(x))\n",
    "        x = self.layers[-1](x)\n",
    "        return x\n",
    "\n",
    "# Train/test utils\n",
    "def train_one_epoch(model, train_loader, optimizer, criterion):\n",
    "    model.train()\n",
    "    train_loss = 0\n",
    "    for data, target in tqdm(train_loader):\n",
    "        optimizer.zero_grad()\n",
    "        output = model(data.to(DEVICE))\n",
    "        loss = criterion(output, target.to(DEVICE))\n",
    "        train_loss += loss.item()\n",
    "        loss.backward()\n",
    "        optimizer.step()\n",
    "    return train_loss / len(train_loader)\n",
    "\n",
    "\n",
    "def evaluate(model, test_loader, criterion):\n",
    "    model.eval()\n",
    "    test_loss = 0\n",
    "    with torch.no_grad():\n",
    "        for data, target in test_loader:\n",
    "            output = model(data.to(DEVICE))\n",
    "            loss = criterion(output, target.to(DEVICE))\n",
    "            test_loss += loss.item()\n",
    "    return test_loss / len(test_loader)"
   ]
  },
  {
   "cell_type": "markdown",
   "id": "466a6d56-b10e-4605-bf94-a4d9edf628b7",
   "metadata": {},
   "source": [
    "### 1. Data preparation"
   ]
  },
  {
   "cell_type": "code",
   "execution_count": 21,
   "id": "4d8ad0ad-8c28-4d1b-8a65-70237afc09dd",
   "metadata": {},
   "outputs": [
    {
     "name": "stdout",
     "output_type": "stream",
     "text": [
      "60000\n"
     ]
    }
   ],
   "source": [
    "# Load MNIST data\n",
    "batch_size = 512\n",
    "train_data = datasets.MNIST(\"../data\", train=True, transform=transforms.ToTensor(), download=True)\n",
    "train_loader = DataLoader(train_data, batch_size=batch_size, shuffle=True)\n",
    "print(len(train_data))\n",
    "# Load test data\n",
    "test_data = datasets.MNIST(\"../data\", train=False, transform=transforms.ToTensor())\n",
    "test_loader = DataLoader(test_data, batch_size=batch_size, shuffle=False)\n",
    "# Initialize model, loss, optimizer and sgld sampler\n",
    "model = MNIST().to(DEVICE)\n",
    "criterion = nn.CrossEntropyLoss()\n",
    "lr = 0.005\n",
    "optimizer = optim.SGD(model.parameters(), lr=lr, momentum=0.9, nesterov=True)\n",
    "n_epochs = 20"
   ]
  },
  {
   "cell_type": "markdown",
   "id": "a176d767-987b-46f9-ab08-40076bf089e5",
   "metadata": {},
   "source": [
    "### 2. Training model checkpoints"
   ]
  },
  {
   "cell_type": "code",
   "execution_count": 9,
   "id": "6b186841-3ee3-413b-9e98-effac262419b",
   "metadata": {
    "scrolled": true
   },
   "outputs": [
    {
     "name": "stderr",
     "output_type": "stream",
     "text": [
      "100%|██████████| 118/118 [00:02<00:00, 43.88it/s]\n"
     ]
    },
    {
     "name": "stdout",
     "output_type": "stream",
     "text": [
      "Epoch 1, Train Loss: 1.9797865556458296, Test Loss: 1.2560135543346405\n"
     ]
    },
    {
     "name": "stderr",
     "output_type": "stream",
     "text": [
      "100%|██████████| 118/118 [00:02<00:00, 46.78it/s]\n"
     ]
    },
    {
     "name": "stdout",
     "output_type": "stream",
     "text": [
      "Epoch 2, Train Loss: 0.770378463601662, Test Loss: 0.5147849828004837\n"
     ]
    },
    {
     "name": "stderr",
     "output_type": "stream",
     "text": [
      "100%|██████████| 118/118 [00:02<00:00, 47.04it/s]\n"
     ]
    },
    {
     "name": "stdout",
     "output_type": "stream",
     "text": [
      "Epoch 3, Train Loss: 0.4573417854006008, Test Loss: 0.3940457791090012\n"
     ]
    },
    {
     "name": "stderr",
     "output_type": "stream",
     "text": [
      "100%|██████████| 118/118 [00:02<00:00, 47.11it/s]\n"
     ]
    },
    {
     "name": "stdout",
     "output_type": "stream",
     "text": [
      "Epoch 4, Train Loss: 0.38147303057929216, Test Loss: 0.34821412712335587\n"
     ]
    },
    {
     "name": "stderr",
     "output_type": "stream",
     "text": [
      "100%|██████████| 118/118 [00:02<00:00, 47.47it/s]\n"
     ]
    },
    {
     "name": "stdout",
     "output_type": "stream",
     "text": [
      "Epoch 5, Train Loss: 0.34229465498257494, Test Loss: 0.31924872323870657\n"
     ]
    },
    {
     "name": "stderr",
     "output_type": "stream",
     "text": [
      "100%|██████████| 118/118 [00:02<00:00, 46.97it/s]\n"
     ]
    },
    {
     "name": "stdout",
     "output_type": "stream",
     "text": [
      "Epoch 6, Train Loss: 0.31893183770826306, Test Loss: 0.3017466992139816\n"
     ]
    },
    {
     "name": "stderr",
     "output_type": "stream",
     "text": [
      "100%|██████████| 118/118 [00:02<00:00, 47.92it/s]\n"
     ]
    },
    {
     "name": "stdout",
     "output_type": "stream",
     "text": [
      "Epoch 7, Train Loss: 0.3005186294094991, Test Loss: 0.2882169097661972\n"
     ]
    },
    {
     "name": "stderr",
     "output_type": "stream",
     "text": [
      "100%|██████████| 118/118 [00:02<00:00, 47.71it/s]\n"
     ]
    },
    {
     "name": "stdout",
     "output_type": "stream",
     "text": [
      "Epoch 8, Train Loss: 0.2862948258802042, Test Loss: 0.27552246041595935\n"
     ]
    },
    {
     "name": "stderr",
     "output_type": "stream",
     "text": [
      "100%|██████████| 118/118 [00:02<00:00, 47.75it/s]\n"
     ]
    },
    {
     "name": "stdout",
     "output_type": "stream",
     "text": [
      "Epoch 9, Train Loss: 0.27352688764616595, Test Loss: 0.2621148329228163\n"
     ]
    },
    {
     "name": "stderr",
     "output_type": "stream",
     "text": [
      "100%|██████████| 118/118 [00:02<00:00, 47.68it/s]\n"
     ]
    },
    {
     "name": "stdout",
     "output_type": "stream",
     "text": [
      "Epoch 10, Train Loss: 0.26054534631765497, Test Loss: 0.2515824556350708\n"
     ]
    },
    {
     "name": "stderr",
     "output_type": "stream",
     "text": [
      "100%|██████████| 118/118 [00:02<00:00, 47.87it/s]\n"
     ]
    },
    {
     "name": "stdout",
     "output_type": "stream",
     "text": [
      "Epoch 11, Train Loss: 0.24949417945186972, Test Loss: 0.24301711581647395\n"
     ]
    },
    {
     "name": "stderr",
     "output_type": "stream",
     "text": [
      "100%|██████████| 118/118 [00:02<00:00, 45.39it/s]\n"
     ]
    },
    {
     "name": "stdout",
     "output_type": "stream",
     "text": [
      "Epoch 12, Train Loss: 0.24039886108899522, Test Loss: 0.23471374846994877\n"
     ]
    },
    {
     "name": "stderr",
     "output_type": "stream",
     "text": [
      "100%|██████████| 118/118 [00:02<00:00, 48.18it/s]\n"
     ]
    },
    {
     "name": "stdout",
     "output_type": "stream",
     "text": [
      "Epoch 13, Train Loss: 0.230219757152816, Test Loss: 0.2255936823785305\n"
     ]
    },
    {
     "name": "stderr",
     "output_type": "stream",
     "text": [
      "100%|██████████| 118/118 [00:02<00:00, 47.80it/s]\n"
     ]
    },
    {
     "name": "stdout",
     "output_type": "stream",
     "text": [
      "Epoch 14, Train Loss: 0.22106221659203706, Test Loss: 0.21661872491240503\n"
     ]
    },
    {
     "name": "stderr",
     "output_type": "stream",
     "text": [
      "100%|██████████| 118/118 [00:02<00:00, 47.60it/s]\n"
     ]
    },
    {
     "name": "stdout",
     "output_type": "stream",
     "text": [
      "Epoch 15, Train Loss: 0.21126644338591624, Test Loss: 0.21106843762099742\n"
     ]
    },
    {
     "name": "stderr",
     "output_type": "stream",
     "text": [
      "100%|██████████| 118/118 [00:02<00:00, 46.75it/s]\n"
     ]
    },
    {
     "name": "stdout",
     "output_type": "stream",
     "text": [
      "Epoch 16, Train Loss: 0.20343748959949462, Test Loss: 0.2032333232462406\n"
     ]
    },
    {
     "name": "stderr",
     "output_type": "stream",
     "text": [
      "100%|██████████| 118/118 [00:02<00:00, 47.63it/s]\n"
     ]
    },
    {
     "name": "stdout",
     "output_type": "stream",
     "text": [
      "Epoch 17, Train Loss: 0.19644407347097234, Test Loss: 0.1954937607049942\n"
     ]
    },
    {
     "name": "stderr",
     "output_type": "stream",
     "text": [
      "100%|██████████| 118/118 [00:02<00:00, 48.54it/s]\n"
     ]
    },
    {
     "name": "stdout",
     "output_type": "stream",
     "text": [
      "Epoch 18, Train Loss: 0.18864557020745035, Test Loss: 0.18853942342102528\n"
     ]
    },
    {
     "name": "stderr",
     "output_type": "stream",
     "text": [
      "100%|██████████| 118/118 [00:02<00:00, 48.22it/s]\n"
     ]
    },
    {
     "name": "stdout",
     "output_type": "stream",
     "text": [
      "Epoch 19, Train Loss: 0.18161925534575674, Test Loss: 0.1833230372518301\n"
     ]
    },
    {
     "name": "stderr",
     "output_type": "stream",
     "text": [
      "100%|██████████| 118/118 [00:02<00:00, 48.75it/s]\n"
     ]
    },
    {
     "name": "stdout",
     "output_type": "stream",
     "text": [
      "Epoch 20, Train Loss: 0.1746838912999226, Test Loss: 0.17762466333806515\n"
     ]
    }
   ],
   "source": [
    "# train model\n",
    "train_losses = []\n",
    "test_losses = []\n",
    "rlct_estimates = []\n",
    "checkpoints = []\n",
    "for epoch in range(n_epochs):\n",
    "    train_loss = train_one_epoch(model, train_loader, optimizer, criterion)\n",
    "    test_loss = evaluate(model, test_loader, criterion)\n",
    "    train_losses.append(train_loss)\n",
    "    test_losses.append(test_loss)\n",
    "    checkpoints += [copy.deepcopy(model)]\n",
    "    print(f\"Epoch {epoch+1}, Train Loss: {train_loss}, Test Loss: {test_loss}\")"
   ]
  },
  {
   "cell_type": "markdown",
   "id": "534f438e-955e-442f-8529-f30667b65d01",
   "metadata": {},
   "source": [
    "### 3. Running calibration sweep\n",
    "\n",
    "The main idea is to sweep across orders of magnitude of learning rate (epsilon) and elasticity (gamma). We look at the mean of LLC estimations over time by looking at the average estimated LLC for each chain at a given time step."
   ]
  },
  {
   "cell_type": "code",
   "execution_count": 35,
   "id": "23babf15-c873-4d0b-8eb3-bd4ceff0ac78",
   "metadata": {},
   "outputs": [],
   "source": [
    "epsilons = [1e-5, 1e-4]\n",
    "gammas = [1, 10]\n",
    "\n",
    "# LLC estimation for fixed eps, gamma\n",
    "def estimate_llc_helper(model, eps, gamma):\n",
    "    optim_kwargs = dict(\n",
    "        lr=eps,\n",
    "        noise_level=1.0,\n",
    "        elasticity=gamma,\n",
    "        num_samples=len(train_data),\n",
    "        temperature=\"adaptive\",\n",
    "    )\n",
    "    results = estimate_learning_coeff_with_summary(\n",
    "        model=model,\n",
    "        loader=train_loader,\n",
    "        criterion=criterion,\n",
    "        sampling_method=SGLD,\n",
    "        optimizer_kwargs=optim_kwargs,\n",
    "        num_chains=NUM_CHAINS,\n",
    "        num_draws=NUM_DRAWS,\n",
    "        device=DEVICE,\n",
    "        online=True,\n",
    "    )\n",
    "    return results['llc/means']"
   ]
  },
  {
   "cell_type": "code",
   "execution_count": 58,
   "id": "5958c2bf-0815-4be3-9753-e0c6879d485b",
   "metadata": {
    "scrolled": true
   },
   "outputs": [
    {
     "name": "stderr",
     "output_type": "stream",
     "text": [
      "Chain 0: 100%|██████████| 200/200 [00:07<00:00, 27.47it/s]\n",
      "Chain 1: 100%|██████████| 200/200 [00:07<00:00, 27.46it/s]\n",
      "Chain 2: 100%|██████████| 200/200 [00:07<00:00, 25.91it/s]\n",
      "Chain 3: 100%|██████████| 200/200 [00:07<00:00, 26.55it/s]\n",
      "Chain 4: 100%|██████████| 200/200 [00:07<00:00, 26.74it/s]\n",
      "Chain 5: 100%|██████████| 200/200 [00:07<00:00, 26.99it/s]\n",
      "Chain 6: 100%|██████████| 200/200 [00:07<00:00, 26.68it/s]\n",
      "Chain 7: 100%|██████████| 200/200 [00:07<00:00, 26.69it/s]\n",
      "Chain 8: 100%|██████████| 200/200 [00:07<00:00, 26.91it/s]\n",
      "Chain 9: 100%|██████████| 200/200 [00:07<00:00, 26.92it/s]\n",
      "Chain 0: 100%|██████████| 200/200 [00:07<00:00, 25.70it/s]\n",
      "Chain 1: 100%|██████████| 200/200 [00:07<00:00, 26.21it/s]\n",
      "Chain 2: 100%|██████████| 200/200 [00:07<00:00, 26.58it/s]\n",
      "Chain 3: 100%|██████████| 200/200 [00:07<00:00, 26.90it/s]\n",
      "Chain 4: 100%|██████████| 200/200 [00:07<00:00, 26.29it/s]\n",
      "Chain 5: 100%|██████████| 200/200 [00:07<00:00, 26.61it/s]\n",
      "Chain 6: 100%|██████████| 200/200 [00:07<00:00, 26.66it/s]\n",
      "Chain 7: 100%|██████████| 200/200 [00:07<00:00, 26.83it/s]\n",
      "Chain 8: 100%|██████████| 200/200 [00:07<00:00, 26.28it/s]\n",
      "Chain 9: 100%|██████████| 200/200 [00:07<00:00, 26.00it/s]\n",
      "Chain 0: 100%|██████████| 200/200 [00:07<00:00, 26.70it/s]\n",
      "Chain 1: 100%|██████████| 200/200 [00:07<00:00, 26.73it/s]\n",
      "Chain 2: 100%|██████████| 200/200 [00:07<00:00, 26.76it/s]\n",
      "Chain 3: 100%|██████████| 200/200 [00:07<00:00, 26.48it/s]\n",
      "Chain 4: 100%|██████████| 200/200 [00:07<00:00, 26.42it/s]\n",
      "Chain 5: 100%|██████████| 200/200 [00:07<00:00, 26.38it/s]\n",
      "Chain 6: 100%|██████████| 200/200 [00:07<00:00, 25.79it/s]\n",
      "Chain 7: 100%|██████████| 200/200 [00:07<00:00, 26.23it/s]\n",
      "Chain 8: 100%|██████████| 200/200 [00:07<00:00, 26.91it/s]\n",
      "Chain 9: 100%|██████████| 200/200 [00:07<00:00, 27.03it/s]\n",
      "Chain 0: 100%|██████████| 200/200 [00:07<00:00, 27.15it/s]\n",
      "Chain 1: 100%|██████████| 200/200 [00:07<00:00, 27.01it/s]\n",
      "Chain 2: 100%|██████████| 200/200 [00:07<00:00, 26.64it/s]\n",
      "Chain 3: 100%|██████████| 200/200 [00:07<00:00, 26.56it/s]\n",
      "Chain 4: 100%|██████████| 200/200 [00:07<00:00, 26.99it/s]\n",
      "Chain 5: 100%|██████████| 200/200 [00:07<00:00, 26.84it/s]\n",
      "Chain 6: 100%|██████████| 200/200 [00:07<00:00, 26.80it/s]\n",
      "Chain 7: 100%|██████████| 200/200 [00:07<00:00, 26.98it/s]\n",
      "Chain 8: 100%|██████████| 200/200 [00:07<00:00, 27.03it/s]\n",
      "Chain 9: 100%|██████████| 200/200 [00:07<00:00, 27.00it/s]\n",
      "Chain 0: 100%|██████████| 200/200 [00:07<00:00, 26.82it/s]\n",
      "Chain 1: 100%|██████████| 200/200 [00:07<00:00, 27.17it/s]\n",
      "Chain 2: 100%|██████████| 200/200 [00:07<00:00, 26.62it/s]\n",
      "Chain 3: 100%|██████████| 200/200 [00:07<00:00, 26.94it/s]\n",
      "Chain 4: 100%|██████████| 200/200 [00:07<00:00, 25.39it/s]\n",
      "Chain 5: 100%|██████████| 200/200 [00:07<00:00, 26.74it/s]\n",
      "Chain 6: 100%|██████████| 200/200 [00:07<00:00, 27.00it/s]\n",
      "Chain 7: 100%|██████████| 200/200 [00:07<00:00, 26.44it/s]\n",
      "Chain 8: 100%|██████████| 200/200 [00:07<00:00, 26.21it/s]\n",
      "Chain 9: 100%|██████████| 200/200 [00:07<00:00, 26.55it/s]\n",
      "Chain 0: 100%|██████████| 200/200 [00:07<00:00, 26.19it/s]\n",
      "Chain 1: 100%|██████████| 200/200 [00:07<00:00, 26.67it/s]\n",
      "Chain 2: 100%|██████████| 200/200 [00:07<00:00, 26.75it/s]\n",
      "Chain 3: 100%|██████████| 200/200 [00:07<00:00, 26.22it/s]\n",
      "Chain 4: 100%|██████████| 200/200 [00:07<00:00, 26.74it/s]\n",
      "Chain 5: 100%|██████████| 200/200 [00:07<00:00, 26.87it/s]\n",
      "Chain 6: 100%|██████████| 200/200 [00:07<00:00, 26.97it/s]\n",
      "Chain 7: 100%|██████████| 200/200 [00:07<00:00, 27.09it/s]\n",
      "Chain 8: 100%|██████████| 200/200 [00:07<00:00, 26.36it/s]\n",
      "Chain 9: 100%|██████████| 200/200 [00:07<00:00, 27.14it/s]\n",
      "Chain 0: 100%|██████████| 200/200 [00:07<00:00, 26.70it/s]\n",
      "Chain 1: 100%|██████████| 200/200 [00:07<00:00, 26.36it/s]\n",
      "Chain 2: 100%|██████████| 200/200 [00:07<00:00, 26.77it/s]\n",
      "Chain 3: 100%|██████████| 200/200 [00:07<00:00, 26.51it/s]\n",
      "Chain 4: 100%|██████████| 200/200 [00:07<00:00, 26.75it/s]\n",
      "Chain 5: 100%|██████████| 200/200 [00:07<00:00, 26.93it/s]\n",
      "Chain 6: 100%|██████████| 200/200 [00:07<00:00, 26.74it/s]\n",
      "Chain 7: 100%|██████████| 200/200 [00:07<00:00, 26.92it/s]\n",
      "Chain 8: 100%|██████████| 200/200 [00:07<00:00, 26.97it/s]\n",
      "Chain 9: 100%|██████████| 200/200 [00:07<00:00, 26.97it/s]\n",
      "Chain 0: 100%|██████████| 200/200 [00:07<00:00, 27.15it/s]\n",
      "Chain 1: 100%|██████████| 200/200 [00:07<00:00, 26.96it/s]\n",
      "Chain 2: 100%|██████████| 200/200 [00:07<00:00, 26.97it/s]\n",
      "Chain 3: 100%|██████████| 200/200 [00:07<00:00, 26.62it/s]\n",
      "Chain 4: 100%|██████████| 200/200 [00:07<00:00, 26.55it/s]\n",
      "Chain 5: 100%|██████████| 200/200 [00:07<00:00, 26.87it/s]\n",
      "Chain 6: 100%|██████████| 200/200 [00:07<00:00, 26.39it/s]\n",
      "Chain 7: 100%|██████████| 200/200 [00:07<00:00, 26.57it/s]\n",
      "Chain 8: 100%|██████████| 200/200 [00:07<00:00, 27.31it/s]\n",
      "Chain 9: 100%|██████████| 200/200 [00:07<00:00, 26.20it/s]\n"
     ]
    }
   ],
   "source": [
    "num_training_samples = [int(6e5), int(1.2e6)]\n",
    "llc_means = {}\n",
    "\n",
    "for samples in num_training_samples:\n",
    "    for epsilon in epsilons:\n",
    "        for gamma in gammas:\n",
    "            pair = (samples, epsilon, gamma)\n",
    "            means = estimate_llc_helper(checkpoints[-1], epsilon, gamma)\n",
    "            llc_means[pair] = means"
   ]
  },
  {
   "cell_type": "markdown",
   "id": "7504ab3e-0eb3-49d5-b4b7-fdb5b1e55514",
   "metadata": {},
   "source": [
    "### 4. Plotting LLC estimations over time"
   ]
  },
  {
   "cell_type": "code",
   "execution_count": 73,
   "id": "14f07959-b072-4fde-ba42-a41ac02185c3",
   "metadata": {},
   "outputs": [],
   "source": [
    "import matplotlib.pyplot as plt\n",
    "\n",
    "def plot_sweep(llc_means, checkpoint_steps, epsilons, gammas):\n",
    "    fig, axs = plt.subplots(len(epsilons), len(gammas))\n",
    "    for i, epsilon in enumerate(epsilons):\n",
    "        for j, gamma in enumerate(gammas):\n",
    "            for steps in checkpoint_steps:\n",
    "                means = llc_means[(steps, epsilon, gamma)]\n",
    "                sgld_steps = list(range(len(means)))\n",
    "                axs[i, j].plot(sgld_steps, means, label=f'{steps} training steps')\n",
    "            axs[i, j].set_title(f\"$\\epsilon$ = {epsilon}, $\\gamma$ = {gamma}\")\n",
    "            axs[i, j].legend()\n",
    "    fig.suptitle('Calibration sweep of MNIST model for $\\epsilon$ and $\\gamma$', fontsize=16)\n",
    "    plt.tight_layout()\n",
    "    plt.show()"
   ]
  },
  {
   "cell_type": "code",
   "execution_count": 74,
   "id": "3acab622-17f4-4bf3-9199-7a542be15a0e",
   "metadata": {},
   "outputs": [
    {
     "data": {
      "image/png": "[encoded data removed]",
      "text/plain": [
       "<Figure size 864x648 with 4 Axes>"
      ]
     },
     "metadata": {
      "needs_background": "light"
     },
     "output_type": "display_data"
    }
   ],
   "source": [
    "plot_sweep(llc_means, num_training_samples, epsilons, gammas)"
   ]
  },
  {
   "cell_type": "markdown",
   "id": "1b0fc954-8101-46b9-9d7d-a30f7dd93884",
   "metadata": {},
   "source": [
    "### 5. Selecting $\\epsilon$ and $\\gamma$"
   ]
  },
  {
   "cell_type": "markdown",
   "id": "53579538-da4d-490f-b1d8-b8bbf0119e65",
   "metadata": {},
   "source": [
    "There is currently no One True Set of hyperparameters. Instead, the goal of calibration is to identify hyperparameters that maintain certain desirable properties. Some general such heuristics:\n",
    "- Optimal traces should converge.\n",
    "- Absolute $\\hat\\lambda$ estimates are not as important as relative $\\hat\\lambda$ estimates.\n",
    "- The most important feature is that the relative ordering of estimates is maintained if you have different models to compare (e.g. different checkpoints).\n",
    "- The graph should not have negative dips (or not dip negative for very long).\n",
    "- You can also examine the loss traces or other diagnostics to check that they look healthy (see the Diagnostics demo [![Open In Colab](https://colab.research.google.com/assets/colab-badge.svg)](https://colab.research.google.com/github/timaeus-research/devinterp/blob/main/examples/diagnostics.ipynb) for examples and other diagnostic tools)\n",
    "  - A good set of loss traces should stay above the initial loss value (or at least not drop below it too far or for too many steps) and should not diverge away from the initial loss value.\n",
    "\n",
    "In the above example, we chose a smaller set of epsilons and gammas in order to reduce the time needed to run the notebook. A typical starting point might be `epsilons = [1e-5, 1e-4, 1e-3]` and `gammas = [1, 10, 100]`, and if you don't get good results on the first sweep, you might recenter your sweep and try again.\n",
    "\n",
    "**Comments on this particular example**\n",
    "- The top two graphs don't appear to converge within the 200 draw steps.\n",
    "  - (200 also isn't a *lot*, you may want to run your sweeps with more than 200 draw steps)\n",
    "- The top right graph has a small negative dip, but that isn't too concerning.\n",
    "- The bottom left graph has lines that appear to cross, but the lines are pretty close to overlapping.\n",
    "- The bottom two graphs do appear to converge, and either one might be fine for parameter selection, but it may also be worth running a new sweep with higher learning rate."
   ]
  },
  {
   "cell_type": "code",
   "execution_count": null,
   "id": "a55107f9-27c1-408f-aea1-52984855ba25",
   "metadata": {},
   "outputs": [],
   "source": []
  }
 ],
 "metadata": {
  "kernelspec": {
   "display_name": "Python 3",
   "language": "python",
   "name": "python3"
  },
  "language_info": {
   "codemirror_mode": {
    "name": "ipython",
    "version": 3
   },
   "file_extension": ".py",
   "mimetype": "text/x-python",
   "name": "python",
   "nbconvert_exporter": "python",
   "pygments_lexer": "ipython3",
   "version": "3.9.18"
  }
 },
 "nbformat": 4,
 "nbformat_minor": 5
}
