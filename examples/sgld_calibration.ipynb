{
 "cells": [
  {
   "cell_type": "markdown",
   "id": "38551abb-5509-4306-8463-e61d5e29eff3",
   "metadata": {},
   "source": [
    "# Calibration of SGLD hyperparameters for MNIST"
   ]
  },
  {
   "cell_type": "markdown",
   "id": "b54bdb93-e084-4cfb-b629-3acc541a524e",
   "metadata": {},
   "source": [
    "[![Open In Colab](https://colab.research.google.com/assets/colab-badge.svg)](https://colab.research.google.com/github/timaeus-research/devinterp/blob/main/examples/sgld_calibration.ipynb)\n",
    "\n",
    "**This notebook takes a while to run, and therefore is not intended to be run as part of the demo.**\n",
    "\n",
    "This notebook walks through the process for calibrating hyperparameters for Stochastic Gradient Langevin Dynamics (SGLD) based LLC (or $\\hat\\lambda$) estimation. The model we'll use is a small 2-layer ReLU network (~1M params) trained on the MNIST dataset.\n",
    "\n",
    "Note that in this case, the theoretical value of the LLC is not known. The intent of this notebook is to demonstrate that, even when we don't have access to the ground truth $\\lambda$, there are diagnostic processes that can allow us to be more confident that $\\hat\\lambda$ preserves desirable properties of $\\lambda$, such as maintaining relative ordering of degeneracy. This also reflects most real-world situations where we're interested in $\\hat\\lambda$ estimations.\n",
    "\n",
    "Finally, I want to emphasize that this is more an art than a science. There is still a great deal of uncertainty and many unknown unknowns. The process of LLC estimation is a **work in progress**, and this notebook only reflects the best state of our knowledge at the time of the creation of this notebook.\n",
    "\n",
    "This notebook is split into 5 sections:\n",
    "1. Data preparation\n",
    "2. Training model checkpoints\n",
    "3. Running calibration sweep\n",
    "4. Plotting LLC estimations over time\n",
    "5. Selecting $\\epsilon$ and $\\gamma$"
   ]
  },
  {
   "cell_type": "code",
   "execution_count": 3,
   "id": "68bd3efa-f196-44c6-b4a1-4a086b995db0",
   "metadata": {},
   "outputs": [
    {
     "name": "stdout",
     "output_type": "stream",
     "text": [
      "Requirement already satisfied: devinterp in /Users/georgeyw/projects/timaeus/devinterp/env/lib/python3.9/site-packages (0.0.2)\n",
      "Requirement already satisfied: torchvision in /Users/georgeyw/projects/timaeus/devinterp/env/lib/python3.9/site-packages (0.15.2)\n",
      "Requirement already satisfied: einops==0.6.1 in /Users/georgeyw/projects/timaeus/devinterp/env/lib/python3.9/site-packages (from devinterp) (0.6.1)\n",
      "Requirement already satisfied: ipykernel==5.5.6 in /Users/georgeyw/projects/timaeus/devinterp/env/lib/python3.9/site-packages (from devinterp) (5.5.6)\n",
      "Requirement already satisfied: ipywidgets==8.0.7 in /Users/georgeyw/projects/timaeus/devinterp/env/lib/python3.9/site-packages (from devinterp) (8.0.7)\n",
      "Requirement already satisfied: jupyter-core==5.3.1 in /Users/georgeyw/projects/timaeus/devinterp/env/lib/python3.9/site-packages (from devinterp) (5.3.1)\n",
      "Requirement already satisfied: jupyterlab-widgets==3.0.8 in /Users/georgeyw/projects/timaeus/devinterp/env/lib/python3.9/site-packages (from devinterp) (3.0.8)\n",
      "Requirement already satisfied: numpy==1.23.5 in /Users/georgeyw/projects/timaeus/devinterp/env/lib/python3.9/site-packages (from devinterp) (1.23.5)\n",
      "Requirement already satisfied: pandas==1.5.3 in /Users/georgeyw/projects/timaeus/devinterp/env/lib/python3.9/site-packages (from devinterp) (1.5.3)\n",
      "Requirement already satisfied: pydantic==2.1.1 in /Users/georgeyw/projects/timaeus/devinterp/env/lib/python3.9/site-packages (from devinterp) (2.1.1)\n",
      "Requirement already satisfied: pydantic-core==2.4.0 in /Users/georgeyw/projects/timaeus/devinterp/env/lib/python3.9/site-packages (from devinterp) (2.4.0)\n",
      "Requirement already satisfied: torch==2.0.1 in /Users/georgeyw/projects/timaeus/devinterp/env/lib/python3.9/site-packages (from devinterp) (2.0.1)\n",
      "Requirement already satisfied: torchtyping==0.1.4 in /Users/georgeyw/projects/timaeus/devinterp/env/lib/python3.9/site-packages (from devinterp) (0.1.4)\n",
      "Requirement already satisfied: tqdm==4.65.0 in /Users/georgeyw/projects/timaeus/devinterp/env/lib/python3.9/site-packages (from devinterp) (4.65.0)\n",
      "Requirement already satisfied: ipython-genutils in /Users/georgeyw/projects/timaeus/devinterp/env/lib/python3.9/site-packages (from ipykernel==5.5.6->devinterp) (0.2.0)\n",
      "Requirement already satisfied: ipython>=5.0.0 in /Users/georgeyw/projects/timaeus/devinterp/env/lib/python3.9/site-packages (from ipykernel==5.5.6->devinterp) (8.17.2)\n",
      "Requirement already satisfied: traitlets>=4.1.0 in /Users/georgeyw/projects/timaeus/devinterp/env/lib/python3.9/site-packages (from ipykernel==5.5.6->devinterp) (5.13.0)\n",
      "Requirement already satisfied: jupyter-client in /Users/georgeyw/projects/timaeus/devinterp/env/lib/python3.9/site-packages (from ipykernel==5.5.6->devinterp) (8.6.0)\n",
      "Requirement already satisfied: tornado>=4.2 in /Users/georgeyw/projects/timaeus/devinterp/env/lib/python3.9/site-packages (from ipykernel==5.5.6->devinterp) (6.3.3)\n",
      "Requirement already satisfied: appnope in /Users/georgeyw/projects/timaeus/devinterp/env/lib/python3.9/site-packages (from ipykernel==5.5.6->devinterp) (0.1.3)\n",
      "Requirement already satisfied: widgetsnbextension~=4.0.7 in /Users/georgeyw/projects/timaeus/devinterp/env/lib/python3.9/site-packages (from ipywidgets==8.0.7->devinterp) (4.0.9)\n",
      "Requirement already satisfied: platformdirs>=2.5 in /Users/georgeyw/projects/timaeus/devinterp/env/lib/python3.9/site-packages (from jupyter-core==5.3.1->devinterp) (4.0.0)\n",
      "Requirement already satisfied: python-dateutil>=2.8.1 in /Users/georgeyw/projects/timaeus/devinterp/env/lib/python3.9/site-packages (from pandas==1.5.3->devinterp) (2.8.2)\n",
      "Requirement already satisfied: pytz>=2020.1 in /Users/georgeyw/projects/timaeus/devinterp/env/lib/python3.9/site-packages (from pandas==1.5.3->devinterp) (2023.3.post1)\n",
      "Requirement already satisfied: annotated-types>=0.4.0 in /Users/georgeyw/projects/timaeus/devinterp/env/lib/python3.9/site-packages (from pydantic==2.1.1->devinterp) (0.6.0)\n",
      "Requirement already satisfied: typing-extensions>=4.6.1 in /Users/georgeyw/projects/timaeus/devinterp/env/lib/python3.9/site-packages (from pydantic==2.1.1->devinterp) (4.8.0)\n",
      "Requirement already satisfied: filelock in /Users/georgeyw/projects/timaeus/devinterp/env/lib/python3.9/site-packages (from torch==2.0.1->devinterp) (3.13.1)\n",
      "Requirement already satisfied: sympy in /Users/georgeyw/projects/timaeus/devinterp/env/lib/python3.9/site-packages (from torch==2.0.1->devinterp) (1.12)\n",
      "Requirement already satisfied: networkx in /Users/georgeyw/projects/timaeus/devinterp/env/lib/python3.9/site-packages (from torch==2.0.1->devinterp) (3.2.1)\n",
      "Requirement already satisfied: jinja2 in /Users/georgeyw/projects/timaeus/devinterp/env/lib/python3.9/site-packages (from torch==2.0.1->devinterp) (3.1.2)\n",
      "Requirement already satisfied: typeguard>=2.11.1 in /Users/georgeyw/projects/timaeus/devinterp/env/lib/python3.9/site-packages (from torchtyping==0.1.4->devinterp) (4.1.5)\n",
      "Requirement already satisfied: requests in /Users/georgeyw/projects/timaeus/devinterp/env/lib/python3.9/site-packages (from torchvision) (2.31.0)\n",
      "Requirement already satisfied: pillow!=8.3.*,>=5.3.0 in /Users/georgeyw/projects/timaeus/devinterp/env/lib/python3.9/site-packages (from torchvision) (10.1.0)\n",
      "Requirement already satisfied: charset-normalizer<4,>=2 in /Users/georgeyw/projects/timaeus/devinterp/env/lib/python3.9/site-packages (from requests->torchvision) (3.3.2)\n",
      "Requirement already satisfied: idna<4,>=2.5 in /Users/georgeyw/projects/timaeus/devinterp/env/lib/python3.9/site-packages (from requests->torchvision) (3.4)\n",
      "Requirement already satisfied: urllib3<3,>=1.21.1 in /Users/georgeyw/projects/timaeus/devinterp/env/lib/python3.9/site-packages (from requests->torchvision) (2.1.0)\n",
      "Requirement already satisfied: certifi>=2017.4.17 in /Users/georgeyw/projects/timaeus/devinterp/env/lib/python3.9/site-packages (from requests->torchvision) (2023.11.17)\n",
      "Requirement already satisfied: decorator in /Users/georgeyw/projects/timaeus/devinterp/env/lib/python3.9/site-packages (from ipython>=5.0.0->ipykernel==5.5.6->devinterp) (5.1.1)\n",
      "Requirement already satisfied: jedi>=0.16 in /Users/georgeyw/projects/timaeus/devinterp/env/lib/python3.9/site-packages (from ipython>=5.0.0->ipykernel==5.5.6->devinterp) (0.19.1)\n",
      "Requirement already satisfied: matplotlib-inline in /Users/georgeyw/projects/timaeus/devinterp/env/lib/python3.9/site-packages (from ipython>=5.0.0->ipykernel==5.5.6->devinterp) (0.1.6)\n",
      "Requirement already satisfied: prompt-toolkit!=3.0.37,<3.1.0,>=3.0.30 in /Users/georgeyw/projects/timaeus/devinterp/env/lib/python3.9/site-packages (from ipython>=5.0.0->ipykernel==5.5.6->devinterp) (3.0.41)\n",
      "Requirement already satisfied: pygments>=2.4.0 in /Users/georgeyw/projects/timaeus/devinterp/env/lib/python3.9/site-packages (from ipython>=5.0.0->ipykernel==5.5.6->devinterp) (2.17.1)\n",
      "Requirement already satisfied: stack-data in /Users/georgeyw/projects/timaeus/devinterp/env/lib/python3.9/site-packages (from ipython>=5.0.0->ipykernel==5.5.6->devinterp) (0.6.3)\n",
      "Requirement already satisfied: exceptiongroup in /Users/georgeyw/projects/timaeus/devinterp/env/lib/python3.9/site-packages (from ipython>=5.0.0->ipykernel==5.5.6->devinterp) (1.2.0)\n",
      "Requirement already satisfied: pexpect>4.3 in /Users/georgeyw/projects/timaeus/devinterp/env/lib/python3.9/site-packages (from ipython>=5.0.0->ipykernel==5.5.6->devinterp) (4.8.0)\n",
      "Requirement already satisfied: six>=1.5 in /Users/georgeyw/projects/timaeus/devinterp/env/lib/python3.9/site-packages (from python-dateutil>=2.8.1->pandas==1.5.3->devinterp) (1.16.0)\n",
      "Requirement already satisfied: importlib-metadata>=3.6 in /Users/georgeyw/projects/timaeus/devinterp/env/lib/python3.9/site-packages (from typeguard>=2.11.1->torchtyping==0.1.4->devinterp) (6.8.0)\n",
      "Requirement already satisfied: MarkupSafe>=2.0 in /Users/georgeyw/projects/timaeus/devinterp/env/lib/python3.9/site-packages (from jinja2->torch==2.0.1->devinterp) (2.1.3)\n",
      "Requirement already satisfied: pyzmq>=23.0 in /Users/georgeyw/projects/timaeus/devinterp/env/lib/python3.9/site-packages (from jupyter-client->ipykernel==5.5.6->devinterp) (25.1.1)\n",
      "Requirement already satisfied: mpmath>=0.19 in /Users/georgeyw/projects/timaeus/devinterp/env/lib/python3.9/site-packages (from sympy->torch==2.0.1->devinterp) (1.3.0)\n",
      "Requirement already satisfied: zipp>=0.5 in /Users/georgeyw/projects/timaeus/devinterp/env/lib/python3.9/site-packages (from importlib-metadata>=3.6->typeguard>=2.11.1->torchtyping==0.1.4->devinterp) (3.17.0)\n",
      "Requirement already satisfied: parso<0.9.0,>=0.8.3 in /Users/georgeyw/projects/timaeus/devinterp/env/lib/python3.9/site-packages (from jedi>=0.16->ipython>=5.0.0->ipykernel==5.5.6->devinterp) (0.8.3)\n",
      "Requirement already satisfied: ptyprocess>=0.5 in /Users/georgeyw/projects/timaeus/devinterp/env/lib/python3.9/site-packages (from pexpect>4.3->ipython>=5.0.0->ipykernel==5.5.6->devinterp) (0.7.0)\n",
      "Requirement already satisfied: wcwidth in /Users/georgeyw/projects/timaeus/devinterp/env/lib/python3.9/site-packages (from prompt-toolkit!=3.0.37,<3.1.0,>=3.0.30->ipython>=5.0.0->ipykernel==5.5.6->devinterp) (0.2.11)\n",
      "Requirement already satisfied: executing>=1.2.0 in /Users/georgeyw/projects/timaeus/devinterp/env/lib/python3.9/site-packages (from stack-data->ipython>=5.0.0->ipykernel==5.5.6->devinterp) (2.0.1)\n",
      "Requirement already satisfied: asttokens>=2.1.0 in /Users/georgeyw/projects/timaeus/devinterp/env/lib/python3.9/site-packages (from stack-data->ipython>=5.0.0->ipykernel==5.5.6->devinterp) (2.4.1)\n",
      "Requirement already satisfied: pure-eval in /Users/georgeyw/projects/timaeus/devinterp/env/lib/python3.9/site-packages (from stack-data->ipython>=5.0.0->ipykernel==5.5.6->devinterp) (0.2.2)\n",
      "Note: you may need to restart the kernel to use updated packages.\n"
     ]
    }
   ],
   "source": [
    "%pip install devinterp torchvision"
   ]
  },
  {
   "cell_type": "code",
   "execution_count": 102,
   "id": "5303693e-4e53-48ed-987c-9ac71e40786f",
   "metadata": {},
   "outputs": [],
   "source": [
    "import copy\n",
    "import matplotlib.pyplot as plt\n",
    "\n",
    "import torch\n",
    "import torch.nn as nn\n",
    "import torch.nn.functional as F\n",
    "import torch.optim as optim\n",
    "from torchvision import datasets, transforms\n",
    "from torch.utils.data import DataLoader\n",
    "from tqdm import tqdm\n",
    "\n",
    "from devinterp.optim.sgld import SGLD\n",
    "from devinterp.slt.llc import estimate_learning_coeff_with_summary\n",
    "\n",
    "DEVICE = \"cpu\"\n",
    "\n",
    "NUM_CHAINS = 8\n",
    "NUM_DRAWS = 2000\n",
    "\n",
    "plt.rcParams[\"figure.figsize\"]=15,12  # note: this cell may need to be re-run after creating a plot to take effect"
   ]
  },
  {
   "cell_type": "code",
   "execution_count": 103,
   "id": "ea5b8c3e-6c5e-4e32-ab97-57af3561c4aa",
   "metadata": {},
   "outputs": [],
   "source": [
    "# Define the neural network\n",
    "class MNIST(nn.Module):\n",
    "    def __init__(\n",
    "        self,\n",
    "        hidden_layer_sizes=[1024, 1024],\n",
    "        input_dim=28 * 28,\n",
    "        output_dim=10,\n",
    "        activation=F.relu,\n",
    "        with_bias=True,\n",
    "    ):\n",
    "        super(MNIST, self).__init__()\n",
    "        self.input_dim = input_dim\n",
    "        self.layer_sizes = [input_dim] + hidden_layer_sizes + [output_dim]\n",
    "        self.activation = activation\n",
    "        self.with_bias = with_bias\n",
    "        self.layers = nn.ModuleList()\n",
    "        for i in range(len(self.layer_sizes) - 1):\n",
    "            dim_in, dim_out = self.layer_sizes[i : i + 2]\n",
    "            self.layers.append(nn.Linear(dim_in, dim_out, bias=self.with_bias).float())\n",
    "\n",
    "    def forward(self, x):\n",
    "        x = x.view(-1, self.input_dim)\n",
    "        for layer in self.layers[:-1]:\n",
    "            x = self.activation(layer(x))\n",
    "        x = self.layers[-1](x)\n",
    "        return x\n",
    "\n",
    "# Train/test utils\n",
    "def train_one_epoch(model, train_loader, optimizer, criterion):\n",
    "    model.train()\n",
    "    train_loss = 0\n",
    "    for data, target in tqdm(train_loader):\n",
    "        optimizer.zero_grad()\n",
    "        output = model(data.to(DEVICE))\n",
    "        loss = criterion(output, target.to(DEVICE))\n",
    "        train_loss += loss.item()\n",
    "        loss.backward()\n",
    "        optimizer.step()\n",
    "    return train_loss / len(train_loader)\n",
    "\n",
    "\n",
    "def evaluate(model, test_loader, criterion):\n",
    "    model.eval()\n",
    "    test_loss = 0\n",
    "    with torch.no_grad():\n",
    "        for data, target in test_loader:\n",
    "            output = model(data.to(DEVICE))\n",
    "            loss = criterion(output, target.to(DEVICE))\n",
    "            test_loss += loss.item()\n",
    "    return test_loss / len(test_loader)"
   ]
  },
  {
   "cell_type": "markdown",
   "id": "466a6d56-b10e-4605-bf94-a4d9edf628b7",
   "metadata": {},
   "source": [
    "### 1. Data preparation"
   ]
  },
  {
   "cell_type": "code",
   "execution_count": 104,
   "id": "4d8ad0ad-8c28-4d1b-8a65-70237afc09dd",
   "metadata": {},
   "outputs": [
    {
     "name": "stdout",
     "output_type": "stream",
     "text": [
      "60000\n"
     ]
    }
   ],
   "source": [
    "# Load MNIST data\n",
    "batch_size = 512\n",
    "train_data = datasets.MNIST(\"../data\", train=True, transform=transforms.ToTensor(), download=True)\n",
    "train_loader = DataLoader(train_data, batch_size=batch_size, shuffle=True)\n",
    "print(len(train_data))\n",
    "# Load test data\n",
    "test_data = datasets.MNIST(\"../data\", train=False, transform=transforms.ToTensor())\n",
    "test_loader = DataLoader(test_data, batch_size=batch_size, shuffle=False)\n",
    "# Initialize model, loss, optimizer and sgld sampler\n",
    "model = MNIST().to(DEVICE)\n",
    "criterion = nn.CrossEntropyLoss()\n",
    "lr = 0.005\n",
    "optimizer = optim.SGD(model.parameters(), lr=lr, momentum=0.9, nesterov=True)\n",
    "n_epochs = 200"
   ]
  },
  {
   "cell_type": "markdown",
   "id": "a176d767-987b-46f9-ab08-40076bf089e5",
   "metadata": {},
   "source": [
    "### 2. Training model checkpoints"
   ]
  },
  {
   "cell_type": "code",
   "execution_count": 89,
   "id": "6b186841-3ee3-413b-9e98-effac262419b",
   "metadata": {
    "scrolled": true
   },
   "outputs": [
    {
     "name": "stderr",
     "output_type": "stream",
     "text": [
      "100%|██████████| 118/118 [00:02<00:00, 47.72it/s]\n"
     ]
    },
    {
     "name": "stdout",
     "output_type": "stream",
     "text": [
      "Epoch 1, Train Loss: 1.95011276915922, Test Loss: 1.1989634871482848\n"
     ]
    },
    {
     "name": "stderr",
     "output_type": "stream",
     "text": [
      "100%|██████████| 118/118 [00:02<00:00, 49.06it/s]\n"
     ]
    },
    {
     "name": "stdout",
     "output_type": "stream",
     "text": [
      "Epoch 2, Train Loss: 0.736962079749269, Test Loss: 0.4984272852540016\n"
     ]
    },
    {
     "name": "stderr",
     "output_type": "stream",
     "text": [
      "100%|██████████| 118/118 [00:02<00:00, 47.25it/s]\n"
     ]
    },
    {
     "name": "stdout",
     "output_type": "stream",
     "text": [
      "Epoch 3, Train Loss: 0.4469994192911407, Test Loss: 0.388454706966877\n"
     ]
    },
    {
     "name": "stderr",
     "output_type": "stream",
     "text": [
      "100%|██████████| 118/118 [00:02<00:00, 42.01it/s]\n"
     ]
    },
    {
     "name": "stdout",
     "output_type": "stream",
     "text": [
      "Epoch 4, Train Loss: 0.37443506187301573, Test Loss: 0.3417148858308792\n"
     ]
    },
    {
     "name": "stderr",
     "output_type": "stream",
     "text": [
      "100%|██████████| 118/118 [00:02<00:00, 50.71it/s]\n"
     ]
    },
    {
     "name": "stdout",
     "output_type": "stream",
     "text": [
      "Epoch 5, Train Loss: 0.3385547697544098, Test Loss: 0.31989716589450834\n"
     ]
    },
    {
     "name": "stderr",
     "output_type": "stream",
     "text": [
      "100%|██████████| 118/118 [00:02<00:00, 48.55it/s]\n"
     ]
    },
    {
     "name": "stdout",
     "output_type": "stream",
     "text": [
      "Epoch 6, Train Loss: 0.3168589595263287, Test Loss: 0.29764694198966024\n"
     ]
    },
    {
     "name": "stderr",
     "output_type": "stream",
     "text": [
      "100%|██████████| 118/118 [00:02<00:00, 49.76it/s]\n"
     ]
    },
    {
     "name": "stdout",
     "output_type": "stream",
     "text": [
      "Epoch 7, Train Loss: 0.297584653784663, Test Loss: 0.2849042765796185\n"
     ]
    },
    {
     "name": "stderr",
     "output_type": "stream",
     "text": [
      "100%|██████████| 118/118 [00:02<00:00, 50.56it/s]\n"
     ]
    },
    {
     "name": "stdout",
     "output_type": "stream",
     "text": [
      "Epoch 8, Train Loss: 0.2815710594088344, Test Loss: 0.2708530452102423\n"
     ]
    },
    {
     "name": "stderr",
     "output_type": "stream",
     "text": [
      "100%|██████████| 118/118 [00:02<00:00, 50.45it/s]\n"
     ]
    },
    {
     "name": "stdout",
     "output_type": "stream",
     "text": [
      "Epoch 9, Train Loss: 0.2689905635128587, Test Loss: 0.2596100404858589\n"
     ]
    },
    {
     "name": "stderr",
     "output_type": "stream",
     "text": [
      "100%|██████████| 118/118 [00:02<00:00, 49.47it/s]\n"
     ]
    },
    {
     "name": "stdout",
     "output_type": "stream",
     "text": [
      "Epoch 10, Train Loss: 0.25742819059198185, Test Loss: 0.24919653981924056\n"
     ]
    },
    {
     "name": "stderr",
     "output_type": "stream",
     "text": [
      "100%|██████████| 118/118 [00:02<00:00, 50.90it/s]\n"
     ]
    },
    {
     "name": "stdout",
     "output_type": "stream",
     "text": [
      "Epoch 11, Train Loss: 0.2463935683086767, Test Loss: 0.2403705645352602\n"
     ]
    },
    {
     "name": "stderr",
     "output_type": "stream",
     "text": [
      "100%|██████████| 118/118 [00:02<00:00, 50.29it/s]\n"
     ]
    },
    {
     "name": "stdout",
     "output_type": "stream",
     "text": [
      "Epoch 12, Train Loss: 0.23670608967037524, Test Loss: 0.23328397311270238\n"
     ]
    },
    {
     "name": "stderr",
     "output_type": "stream",
     "text": [
      "100%|██████████| 118/118 [00:02<00:00, 49.56it/s]\n"
     ]
    },
    {
     "name": "stdout",
     "output_type": "stream",
     "text": [
      "Epoch 13, Train Loss: 0.22726620733737946, Test Loss: 0.22186431027948855\n"
     ]
    },
    {
     "name": "stderr",
     "output_type": "stream",
     "text": [
      "100%|██████████| 118/118 [00:02<00:00, 48.97it/s]\n"
     ]
    },
    {
     "name": "stdout",
     "output_type": "stream",
     "text": [
      "Epoch 14, Train Loss: 0.21839630856352338, Test Loss: 0.21554758362472057\n"
     ]
    },
    {
     "name": "stderr",
     "output_type": "stream",
     "text": [
      "100%|██████████| 118/118 [00:02<00:00, 49.19it/s]\n"
     ]
    },
    {
     "name": "stdout",
     "output_type": "stream",
     "text": [
      "Epoch 15, Train Loss: 0.20967073321847593, Test Loss: 0.20644639879465104\n"
     ]
    },
    {
     "name": "stderr",
     "output_type": "stream",
     "text": [
      "100%|██████████| 118/118 [00:02<00:00, 52.13it/s]\n"
     ]
    },
    {
     "name": "stdout",
     "output_type": "stream",
     "text": [
      "Epoch 16, Train Loss: 0.2023608479964531, Test Loss: 0.19968271292746068\n"
     ]
    },
    {
     "name": "stderr",
     "output_type": "stream",
     "text": [
      "100%|██████████| 118/118 [00:02<00:00, 52.45it/s]\n"
     ]
    },
    {
     "name": "stdout",
     "output_type": "stream",
     "text": [
      "Epoch 17, Train Loss: 0.19404580886081113, Test Loss: 0.1927823696285486\n"
     ]
    },
    {
     "name": "stderr",
     "output_type": "stream",
     "text": [
      "100%|██████████| 118/118 [00:02<00:00, 52.01it/s]\n"
     ]
    },
    {
     "name": "stdout",
     "output_type": "stream",
     "text": [
      "Epoch 18, Train Loss: 0.18569533208037836, Test Loss: 0.1877077419310808\n"
     ]
    },
    {
     "name": "stderr",
     "output_type": "stream",
     "text": [
      "100%|██████████| 118/118 [00:02<00:00, 52.69it/s]\n"
     ]
    },
    {
     "name": "stdout",
     "output_type": "stream",
     "text": [
      "Epoch 19, Train Loss: 0.180758220980228, Test Loss: 0.1800538171082735\n"
     ]
    },
    {
     "name": "stderr",
     "output_type": "stream",
     "text": [
      "100%|██████████| 118/118 [00:02<00:00, 47.59it/s]\n"
     ]
    },
    {
     "name": "stdout",
     "output_type": "stream",
     "text": [
      "Epoch 20, Train Loss: 0.1740743432635978, Test Loss: 0.1749073151499033\n"
     ]
    },
    {
     "name": "stderr",
     "output_type": "stream",
     "text": [
      "100%|██████████| 118/118 [00:02<00:00, 51.36it/s]\n"
     ]
    },
    {
     "name": "stdout",
     "output_type": "stream",
     "text": [
      "Epoch 21, Train Loss: 0.16828586824112018, Test Loss: 0.16781539730727674\n"
     ]
    },
    {
     "name": "stderr",
     "output_type": "stream",
     "text": [
      "100%|██████████| 118/118 [00:02<00:00, 52.26it/s]\n"
     ]
    },
    {
     "name": "stdout",
     "output_type": "stream",
     "text": [
      "Epoch 22, Train Loss: 0.16312208853788296, Test Loss: 0.16480815187096595\n"
     ]
    },
    {
     "name": "stderr",
     "output_type": "stream",
     "text": [
      "100%|██████████| 118/118 [00:02<00:00, 49.50it/s]\n"
     ]
    },
    {
     "name": "stdout",
     "output_type": "stream",
     "text": [
      "Epoch 23, Train Loss: 0.1567008297069598, Test Loss: 0.15920317731797695\n"
     ]
    },
    {
     "name": "stderr",
     "output_type": "stream",
     "text": [
      "100%|██████████| 118/118 [00:02<00:00, 47.76it/s]\n"
     ]
    },
    {
     "name": "stdout",
     "output_type": "stream",
     "text": [
      "Epoch 24, Train Loss: 0.15081795027195397, Test Loss: 0.15641536116600036\n"
     ]
    },
    {
     "name": "stderr",
     "output_type": "stream",
     "text": [
      "100%|██████████| 118/118 [00:02<00:00, 52.38it/s]\n"
     ]
    },
    {
     "name": "stdout",
     "output_type": "stream",
     "text": [
      "Epoch 25, Train Loss: 0.14630579740061597, Test Loss: 0.15182673633098603\n"
     ]
    },
    {
     "name": "stderr",
     "output_type": "stream",
     "text": [
      "100%|██████████| 118/118 [00:02<00:00, 53.68it/s]\n"
     ]
    },
    {
     "name": "stdout",
     "output_type": "stream",
     "text": [
      "Epoch 26, Train Loss: 0.14167250440282336, Test Loss: 0.14635043144226073\n"
     ]
    },
    {
     "name": "stderr",
     "output_type": "stream",
     "text": [
      "100%|██████████| 118/118 [00:02<00:00, 52.27it/s]\n"
     ]
    },
    {
     "name": "stdout",
     "output_type": "stream",
     "text": [
      "Epoch 27, Train Loss: 0.13694785743699237, Test Loss: 0.14252626691013576\n"
     ]
    },
    {
     "name": "stderr",
     "output_type": "stream",
     "text": [
      "100%|██████████| 118/118 [00:02<00:00, 54.53it/s]\n"
     ]
    },
    {
     "name": "stdout",
     "output_type": "stream",
     "text": [
      "Epoch 28, Train Loss: 0.13245905436954256, Test Loss: 0.14042853470891714\n"
     ]
    },
    {
     "name": "stderr",
     "output_type": "stream",
     "text": [
      "100%|██████████| 118/118 [00:02<00:00, 54.37it/s]\n"
     ]
    },
    {
     "name": "stdout",
     "output_type": "stream",
     "text": [
      "Epoch 29, Train Loss: 0.12885295252426196, Test Loss: 0.13761740736663342\n"
     ]
    },
    {
     "name": "stderr",
     "output_type": "stream",
     "text": [
      "100%|██████████| 118/118 [00:02<00:00, 53.93it/s]\n"
     ]
    },
    {
     "name": "stdout",
     "output_type": "stream",
     "text": [
      "Epoch 30, Train Loss: 0.12553206142985215, Test Loss: 0.1329550851136446\n"
     ]
    },
    {
     "name": "stderr",
     "output_type": "stream",
     "text": [
      "100%|██████████| 118/118 [00:02<00:00, 44.21it/s]\n"
     ]
    },
    {
     "name": "stdout",
     "output_type": "stream",
     "text": [
      "Epoch 31, Train Loss: 0.12196360465328572, Test Loss: 0.12960963789373636\n"
     ]
    },
    {
     "name": "stderr",
     "output_type": "stream",
     "text": [
      "100%|██████████| 118/118 [00:02<00:00, 49.90it/s]\n"
     ]
    },
    {
     "name": "stdout",
     "output_type": "stream",
     "text": [
      "Epoch 32, Train Loss: 0.11745572607901136, Test Loss: 0.12657750975340604\n"
     ]
    },
    {
     "name": "stderr",
     "output_type": "stream",
     "text": [
      "100%|██████████| 118/118 [00:02<00:00, 48.73it/s]\n"
     ]
    },
    {
     "name": "stdout",
     "output_type": "stream",
     "text": [
      "Epoch 33, Train Loss: 0.11391157123370696, Test Loss: 0.12497025802731514\n"
     ]
    },
    {
     "name": "stderr",
     "output_type": "stream",
     "text": [
      "100%|██████████| 118/118 [00:02<00:00, 53.15it/s]\n"
     ]
    },
    {
     "name": "stdout",
     "output_type": "stream",
     "text": [
      "Epoch 34, Train Loss: 0.1112009400217715, Test Loss: 0.12081620786339045\n"
     ]
    },
    {
     "name": "stderr",
     "output_type": "stream",
     "text": [
      "100%|██████████| 118/118 [00:02<00:00, 53.65it/s]\n"
     ]
    },
    {
     "name": "stdout",
     "output_type": "stream",
     "text": [
      "Epoch 35, Train Loss: 0.10846766851589841, Test Loss: 0.1183786449022591\n"
     ]
    },
    {
     "name": "stderr",
     "output_type": "stream",
     "text": [
      "100%|██████████| 118/118 [00:02<00:00, 52.89it/s]\n"
     ]
    },
    {
     "name": "stdout",
     "output_type": "stream",
     "text": [
      "Epoch 36, Train Loss: 0.10451741131432986, Test Loss: 0.1159822503104806\n"
     ]
    },
    {
     "name": "stderr",
     "output_type": "stream",
     "text": [
      "100%|██████████| 118/118 [00:02<00:00, 53.83it/s]\n"
     ]
    },
    {
     "name": "stdout",
     "output_type": "stream",
     "text": [
      "Epoch 37, Train Loss: 0.10275741590786788, Test Loss: 0.11402907837182283\n"
     ]
    },
    {
     "name": "stderr",
     "output_type": "stream",
     "text": [
      "100%|██████████| 118/118 [00:02<00:00, 53.16it/s]\n"
     ]
    },
    {
     "name": "stdout",
     "output_type": "stream",
     "text": [
      "Epoch 38, Train Loss: 0.09889434776821379, Test Loss: 0.11450510006397963\n"
     ]
    },
    {
     "name": "stderr",
     "output_type": "stream",
     "text": [
      "100%|██████████| 118/118 [00:02<00:00, 52.99it/s]\n"
     ]
    },
    {
     "name": "stdout",
     "output_type": "stream",
     "text": [
      "Epoch 39, Train Loss: 0.09653471681778714, Test Loss: 0.11025191126391291\n"
     ]
    },
    {
     "name": "stderr",
     "output_type": "stream",
     "text": [
      "100%|██████████| 118/118 [00:02<00:00, 54.75it/s]\n"
     ]
    },
    {
     "name": "stdout",
     "output_type": "stream",
     "text": [
      "Epoch 40, Train Loss: 0.09425091001568205, Test Loss: 0.10796507252380252\n"
     ]
    },
    {
     "name": "stderr",
     "output_type": "stream",
     "text": [
      "100%|██████████| 118/118 [00:02<00:00, 54.60it/s]\n"
     ]
    },
    {
     "name": "stdout",
     "output_type": "stream",
     "text": [
      "Epoch 41, Train Loss: 0.09151189647993799, Test Loss: 0.10574936475604772\n"
     ]
    },
    {
     "name": "stderr",
     "output_type": "stream",
     "text": [
      "100%|██████████| 118/118 [00:02<00:00, 52.53it/s]\n"
     ]
    },
    {
     "name": "stdout",
     "output_type": "stream",
     "text": [
      "Epoch 42, Train Loss: 0.09016943315707021, Test Loss: 0.10413270378485322\n"
     ]
    },
    {
     "name": "stderr",
     "output_type": "stream",
     "text": [
      "100%|██████████| 118/118 [00:02<00:00, 55.08it/s]\n"
     ]
    },
    {
     "name": "stdout",
     "output_type": "stream",
     "text": [
      "Epoch 43, Train Loss: 0.0869949830980119, Test Loss: 0.10346688264980912\n"
     ]
    },
    {
     "name": "stderr",
     "output_type": "stream",
     "text": [
      "100%|██████████| 118/118 [00:02<00:00, 52.70it/s]\n"
     ]
    },
    {
     "name": "stdout",
     "output_type": "stream",
     "text": [
      "Epoch 44, Train Loss: 0.0847844634583946, Test Loss: 0.10072023496031761\n"
     ]
    },
    {
     "name": "stderr",
     "output_type": "stream",
     "text": [
      "100%|██████████| 118/118 [00:02<00:00, 49.90it/s]\n"
     ]
    },
    {
     "name": "stdout",
     "output_type": "stream",
     "text": [
      "Epoch 45, Train Loss: 0.08232151821129403, Test Loss: 0.10009038057178259\n"
     ]
    },
    {
     "name": "stderr",
     "output_type": "stream",
     "text": [
      "100%|██████████| 118/118 [00:02<00:00, 49.35it/s]\n"
     ]
    },
    {
     "name": "stdout",
     "output_type": "stream",
     "text": [
      "Epoch 46, Train Loss: 0.08012057705072023, Test Loss: 0.09885455332696438\n"
     ]
    },
    {
     "name": "stderr",
     "output_type": "stream",
     "text": [
      "100%|██████████| 118/118 [00:02<00:00, 48.24it/s]\n"
     ]
    },
    {
     "name": "stdout",
     "output_type": "stream",
     "text": [
      "Epoch 47, Train Loss: 0.07825589309430729, Test Loss: 0.09793285513296723\n"
     ]
    },
    {
     "name": "stderr",
     "output_type": "stream",
     "text": [
      "100%|██████████| 118/118 [00:02<00:00, 41.78it/s]\n"
     ]
    },
    {
     "name": "stdout",
     "output_type": "stream",
     "text": [
      "Epoch 48, Train Loss: 0.07635836877812774, Test Loss: 0.0955151298083365\n"
     ]
    },
    {
     "name": "stderr",
     "output_type": "stream",
     "text": [
      "100%|██████████| 118/118 [00:02<00:00, 50.40it/s]\n"
     ]
    },
    {
     "name": "stdout",
     "output_type": "stream",
     "text": [
      "Epoch 49, Train Loss: 0.07450650130414356, Test Loss: 0.09527538418769836\n"
     ]
    },
    {
     "name": "stderr",
     "output_type": "stream",
     "text": [
      "100%|██████████| 118/118 [00:02<00:00, 48.30it/s]\n"
     ]
    },
    {
     "name": "stdout",
     "output_type": "stream",
     "text": [
      "Epoch 50, Train Loss: 0.07265224462469756, Test Loss: 0.09332312587648631\n"
     ]
    },
    {
     "name": "stderr",
     "output_type": "stream",
     "text": [
      "100%|██████████| 118/118 [00:02<00:00, 53.83it/s]\n"
     ]
    },
    {
     "name": "stdout",
     "output_type": "stream",
     "text": [
      "Epoch 51, Train Loss: 0.07049430791541177, Test Loss: 0.09113525208085775\n"
     ]
    },
    {
     "name": "stderr",
     "output_type": "stream",
     "text": [
      "100%|██████████| 118/118 [00:02<00:00, 42.11it/s]\n"
     ]
    },
    {
     "name": "stdout",
     "output_type": "stream",
     "text": [
      "Epoch 52, Train Loss: 0.06887866774479211, Test Loss: 0.0912831106223166\n"
     ]
    },
    {
     "name": "stderr",
     "output_type": "stream",
     "text": [
      "100%|██████████| 118/118 [00:02<00:00, 48.39it/s]\n"
     ]
    },
    {
     "name": "stdout",
     "output_type": "stream",
     "text": [
      "Epoch 53, Train Loss: 0.06782001894661936, Test Loss: 0.088799849152565\n"
     ]
    },
    {
     "name": "stderr",
     "output_type": "stream",
     "text": [
      "100%|██████████| 118/118 [00:02<00:00, 54.59it/s]\n"
     ]
    },
    {
     "name": "stdout",
     "output_type": "stream",
     "text": [
      "Epoch 54, Train Loss: 0.06619454326771074, Test Loss: 0.08796557113528251\n"
     ]
    },
    {
     "name": "stderr",
     "output_type": "stream",
     "text": [
      "100%|██████████| 118/118 [00:02<00:00, 52.38it/s]\n"
     ]
    },
    {
     "name": "stdout",
     "output_type": "stream",
     "text": [
      "Epoch 55, Train Loss: 0.06441226197501361, Test Loss: 0.08705908730626107\n"
     ]
    },
    {
     "name": "stderr",
     "output_type": "stream",
     "text": [
      "100%|██████████| 118/118 [00:02<00:00, 52.65it/s]\n"
     ]
    },
    {
     "name": "stdout",
     "output_type": "stream",
     "text": [
      "Epoch 56, Train Loss: 0.06324701740453809, Test Loss: 0.0859617430716753\n"
     ]
    },
    {
     "name": "stderr",
     "output_type": "stream",
     "text": [
      "100%|██████████| 118/118 [00:02<00:00, 50.73it/s]\n"
     ]
    },
    {
     "name": "stdout",
     "output_type": "stream",
     "text": [
      "Epoch 57, Train Loss: 0.06145840393916025, Test Loss: 0.08397798128426075\n"
     ]
    },
    {
     "name": "stderr",
     "output_type": "stream",
     "text": [
      "100%|██████████| 118/118 [00:02<00:00, 52.67it/s]\n"
     ]
    },
    {
     "name": "stdout",
     "output_type": "stream",
     "text": [
      "Epoch 58, Train Loss: 0.05986141040921211, Test Loss: 0.08730422537773848\n"
     ]
    },
    {
     "name": "stderr",
     "output_type": "stream",
     "text": [
      "100%|██████████| 118/118 [00:02<00:00, 53.77it/s]\n"
     ]
    },
    {
     "name": "stdout",
     "output_type": "stream",
     "text": [
      "Epoch 59, Train Loss: 0.058734339393549044, Test Loss: 0.08400449426844717\n"
     ]
    },
    {
     "name": "stderr",
     "output_type": "stream",
     "text": [
      "100%|██████████| 118/118 [00:02<00:00, 52.55it/s]\n"
     ]
    },
    {
     "name": "stdout",
     "output_type": "stream",
     "text": [
      "Epoch 60, Train Loss: 0.05726753487804179, Test Loss: 0.0827803929336369\n"
     ]
    },
    {
     "name": "stderr",
     "output_type": "stream",
     "text": [
      "100%|██████████| 118/118 [00:02<00:00, 48.78it/s]\n"
     ]
    },
    {
     "name": "stdout",
     "output_type": "stream",
     "text": [
      "Epoch 61, Train Loss: 0.05615296942513373, Test Loss: 0.08188272081315517\n"
     ]
    },
    {
     "name": "stderr",
     "output_type": "stream",
     "text": [
      "100%|██████████| 118/118 [00:02<00:00, 51.98it/s]\n"
     ]
    },
    {
     "name": "stdout",
     "output_type": "stream",
     "text": [
      "Epoch 62, Train Loss: 0.05501302721578691, Test Loss: 0.08145459070801735\n"
     ]
    },
    {
     "name": "stderr",
     "output_type": "stream",
     "text": [
      "100%|██████████| 118/118 [00:02<00:00, 53.44it/s]\n"
     ]
    },
    {
     "name": "stdout",
     "output_type": "stream",
     "text": [
      "Epoch 63, Train Loss: 0.05435189636329473, Test Loss: 0.08084196085110307\n"
     ]
    },
    {
     "name": "stderr",
     "output_type": "stream",
     "text": [
      "100%|██████████| 118/118 [00:02<00:00, 52.94it/s]\n"
     ]
    },
    {
     "name": "stdout",
     "output_type": "stream",
     "text": [
      "Epoch 64, Train Loss: 0.05249820172912994, Test Loss: 0.07939339121803642\n"
     ]
    },
    {
     "name": "stderr",
     "output_type": "stream",
     "text": [
      "100%|██████████| 118/118 [00:02<00:00, 52.42it/s]\n"
     ]
    },
    {
     "name": "stdout",
     "output_type": "stream",
     "text": [
      "Epoch 65, Train Loss: 0.05115572672526715, Test Loss: 0.07994109280407428\n"
     ]
    },
    {
     "name": "stderr",
     "output_type": "stream",
     "text": [
      "100%|██████████| 118/118 [00:02<00:00, 55.49it/s]\n"
     ]
    },
    {
     "name": "stdout",
     "output_type": "stream",
     "text": [
      "Epoch 66, Train Loss: 0.05001802063720711, Test Loss: 0.08001258526928723\n"
     ]
    },
    {
     "name": "stderr",
     "output_type": "stream",
     "text": [
      "100%|██████████| 118/118 [00:02<00:00, 55.26it/s]\n"
     ]
    },
    {
     "name": "stdout",
     "output_type": "stream",
     "text": [
      "Epoch 67, Train Loss: 0.04900381886163505, Test Loss: 0.07773434398695826\n"
     ]
    },
    {
     "name": "stderr",
     "output_type": "stream",
     "text": [
      "100%|██████████| 118/118 [00:02<00:00, 56.14it/s]\n"
     ]
    },
    {
     "name": "stdout",
     "output_type": "stream",
     "text": [
      "Epoch 68, Train Loss: 0.04798951074165308, Test Loss: 0.07674539601430297\n"
     ]
    },
    {
     "name": "stderr",
     "output_type": "stream",
     "text": [
      "100%|██████████| 118/118 [00:02<00:00, 55.72it/s]\n"
     ]
    },
    {
     "name": "stdout",
     "output_type": "stream",
     "text": [
      "Epoch 69, Train Loss: 0.047169435753534404, Test Loss: 0.07624773536808789\n"
     ]
    },
    {
     "name": "stderr",
     "output_type": "stream",
     "text": [
      "100%|██████████| 118/118 [00:02<00:00, 55.69it/s]\n"
     ]
    },
    {
     "name": "stdout",
     "output_type": "stream",
     "text": [
      "Epoch 70, Train Loss: 0.0458632639088368, Test Loss: 0.07652347157709301\n"
     ]
    },
    {
     "name": "stderr",
     "output_type": "stream",
     "text": [
      "100%|██████████| 118/118 [00:02<00:00, 54.03it/s]\n"
     ]
    },
    {
     "name": "stdout",
     "output_type": "stream",
     "text": [
      "Epoch 71, Train Loss: 0.04481490832453562, Test Loss: 0.07596820029430092\n"
     ]
    },
    {
     "name": "stderr",
     "output_type": "stream",
     "text": [
      "100%|██████████| 118/118 [00:02<00:00, 53.05it/s]\n"
     ]
    },
    {
     "name": "stdout",
     "output_type": "stream",
     "text": [
      "Epoch 72, Train Loss: 0.04406364835104195, Test Loss: 0.07536602448672056\n"
     ]
    },
    {
     "name": "stderr",
     "output_type": "stream",
     "text": [
      "100%|██████████| 118/118 [00:02<00:00, 52.92it/s]\n"
     ]
    },
    {
     "name": "stdout",
     "output_type": "stream",
     "text": [
      "Epoch 73, Train Loss: 0.04311198946404255, Test Loss: 0.07387233735062182\n"
     ]
    },
    {
     "name": "stderr",
     "output_type": "stream",
     "text": [
      "100%|██████████| 118/118 [00:02<00:00, 45.11it/s]\n"
     ]
    },
    {
     "name": "stdout",
     "output_type": "stream",
     "text": [
      "Epoch 74, Train Loss: 0.04188742927449234, Test Loss: 0.07409821241162717\n"
     ]
    },
    {
     "name": "stderr",
     "output_type": "stream",
     "text": [
      "100%|██████████| 118/118 [00:02<00:00, 50.52it/s]\n"
     ]
    },
    {
     "name": "stdout",
     "output_type": "stream",
     "text": [
      "Epoch 75, Train Loss: 0.0413823656074829, Test Loss: 0.07379701980389655\n"
     ]
    },
    {
     "name": "stderr",
     "output_type": "stream",
     "text": [
      "100%|██████████| 118/118 [00:02<00:00, 52.26it/s]\n"
     ]
    },
    {
     "name": "stdout",
     "output_type": "stream",
     "text": [
      "Epoch 76, Train Loss: 0.04030405919430619, Test Loss: 0.07373528820462524\n"
     ]
    },
    {
     "name": "stderr",
     "output_type": "stream",
     "text": [
      "100%|██████████| 118/118 [00:02<00:00, 54.60it/s]\n"
     ]
    },
    {
     "name": "stdout",
     "output_type": "stream",
     "text": [
      "Epoch 77, Train Loss: 0.039426306325752856, Test Loss: 0.07231593490578234\n"
     ]
    },
    {
     "name": "stderr",
     "output_type": "stream",
     "text": [
      "100%|██████████| 118/118 [00:02<00:00, 54.69it/s]\n"
     ]
    },
    {
     "name": "stdout",
     "output_type": "stream",
     "text": [
      "Epoch 78, Train Loss: 0.038956900285083355, Test Loss: 0.07239450635388493\n"
     ]
    },
    {
     "name": "stderr",
     "output_type": "stream",
     "text": [
      "100%|██████████| 118/118 [00:02<00:00, 55.14it/s]\n"
     ]
    },
    {
     "name": "stdout",
     "output_type": "stream",
     "text": [
      "Epoch 79, Train Loss: 0.037942408434099566, Test Loss: 0.07152157677337527\n"
     ]
    },
    {
     "name": "stderr",
     "output_type": "stream",
     "text": [
      "100%|██████████| 118/118 [00:02<00:00, 54.98it/s]\n"
     ]
    },
    {
     "name": "stdout",
     "output_type": "stream",
     "text": [
      "Epoch 80, Train Loss: 0.03708378242928598, Test Loss: 0.0715971798170358\n"
     ]
    },
    {
     "name": "stderr",
     "output_type": "stream",
     "text": [
      "100%|██████████| 118/118 [00:02<00:00, 54.11it/s]\n"
     ]
    },
    {
     "name": "stdout",
     "output_type": "stream",
     "text": [
      "Epoch 81, Train Loss: 0.03647203416705637, Test Loss: 0.07138169002719223\n"
     ]
    },
    {
     "name": "stderr",
     "output_type": "stream",
     "text": [
      "100%|██████████| 118/118 [00:02<00:00, 55.72it/s]\n"
     ]
    },
    {
     "name": "stdout",
     "output_type": "stream",
     "text": [
      "Epoch 82, Train Loss: 0.035743016757513, Test Loss: 0.07058968846686184\n"
     ]
    },
    {
     "name": "stderr",
     "output_type": "stream",
     "text": [
      "100%|██████████| 118/118 [00:02<00:00, 55.56it/s]\n"
     ]
    },
    {
     "name": "stdout",
     "output_type": "stream",
     "text": [
      "Epoch 83, Train Loss: 0.0353209738919543, Test Loss: 0.07030593957751989\n"
     ]
    },
    {
     "name": "stderr",
     "output_type": "stream",
     "text": [
      "100%|██████████| 118/118 [00:02<00:00, 54.73it/s]\n"
     ]
    },
    {
     "name": "stdout",
     "output_type": "stream",
     "text": [
      "Epoch 84, Train Loss: 0.03436170755175211, Test Loss: 0.06963748200796545\n"
     ]
    },
    {
     "name": "stderr",
     "output_type": "stream",
     "text": [
      "100%|██████████| 118/118 [00:02<00:00, 53.58it/s]\n"
     ]
    },
    {
     "name": "stdout",
     "output_type": "stream",
     "text": [
      "Epoch 85, Train Loss: 0.033823178236577975, Test Loss: 0.07021407918073237\n"
     ]
    },
    {
     "name": "stderr",
     "output_type": "stream",
     "text": [
      "100%|██████████| 118/118 [00:02<00:00, 54.79it/s]\n"
     ]
    },
    {
     "name": "stdout",
     "output_type": "stream",
     "text": [
      "Epoch 86, Train Loss: 0.033072652910851826, Test Loss: 0.06951381368562579\n"
     ]
    },
    {
     "name": "stderr",
     "output_type": "stream",
     "text": [
      "100%|██████████| 118/118 [00:02<00:00, 55.99it/s]\n"
     ]
    },
    {
     "name": "stdout",
     "output_type": "stream",
     "text": [
      "Epoch 87, Train Loss: 0.032274297241247814, Test Loss: 0.06887688292190433\n"
     ]
    },
    {
     "name": "stderr",
     "output_type": "stream",
     "text": [
      "100%|██████████| 118/118 [00:02<00:00, 55.42it/s]\n"
     ]
    },
    {
     "name": "stdout",
     "output_type": "stream",
     "text": [
      "Epoch 88, Train Loss: 0.031845152362297145, Test Loss: 0.06929390239529312\n"
     ]
    },
    {
     "name": "stderr",
     "output_type": "stream",
     "text": [
      "100%|██████████| 118/118 [00:02<00:00, 56.01it/s]\n"
     ]
    },
    {
     "name": "stdout",
     "output_type": "stream",
     "text": [
      "Epoch 89, Train Loss: 0.031123909546788467, Test Loss: 0.06816094424575567\n"
     ]
    },
    {
     "name": "stderr",
     "output_type": "stream",
     "text": [
      "100%|██████████| 118/118 [00:02<00:00, 54.41it/s]\n"
     ]
    },
    {
     "name": "stdout",
     "output_type": "stream",
     "text": [
      "Epoch 90, Train Loss: 0.03042106322502181, Test Loss: 0.06899979035370052\n"
     ]
    },
    {
     "name": "stderr",
     "output_type": "stream",
     "text": [
      "100%|██████████| 118/118 [00:02<00:00, 55.44it/s]\n"
     ]
    },
    {
     "name": "stdout",
     "output_type": "stream",
     "text": [
      "Epoch 91, Train Loss: 0.029719266677433152, Test Loss: 0.06861964710988104\n"
     ]
    },
    {
     "name": "stderr",
     "output_type": "stream",
     "text": [
      "100%|██████████| 118/118 [00:02<00:00, 56.11it/s]\n"
     ]
    },
    {
     "name": "stdout",
     "output_type": "stream",
     "text": [
      "Epoch 92, Train Loss: 0.02929666083527066, Test Loss: 0.0676287959329784\n"
     ]
    },
    {
     "name": "stderr",
     "output_type": "stream",
     "text": [
      "100%|██████████| 118/118 [00:02<00:00, 54.84it/s]\n"
     ]
    },
    {
     "name": "stdout",
     "output_type": "stream",
     "text": [
      "Epoch 93, Train Loss: 0.02867318724550433, Test Loss: 0.0676027269102633\n"
     ]
    },
    {
     "name": "stderr",
     "output_type": "stream",
     "text": [
      "100%|██████████| 118/118 [00:02<00:00, 55.27it/s]\n"
     ]
    },
    {
     "name": "stdout",
     "output_type": "stream",
     "text": [
      "Epoch 94, Train Loss: 0.028109516703792043, Test Loss: 0.06935413498431445\n"
     ]
    },
    {
     "name": "stderr",
     "output_type": "stream",
     "text": [
      "100%|██████████| 118/118 [00:02<00:00, 54.17it/s]\n"
     ]
    },
    {
     "name": "stdout",
     "output_type": "stream",
     "text": [
      "Epoch 95, Train Loss: 0.027587464110831083, Test Loss: 0.06742297457531095\n"
     ]
    },
    {
     "name": "stderr",
     "output_type": "stream",
     "text": [
      "100%|██████████| 118/118 [00:02<00:00, 54.66it/s]\n"
     ]
    },
    {
     "name": "stdout",
     "output_type": "stream",
     "text": [
      "Epoch 96, Train Loss: 0.026916546332728813, Test Loss: 0.06737883407622576\n"
     ]
    },
    {
     "name": "stderr",
     "output_type": "stream",
     "text": [
      "100%|██████████| 118/118 [00:02<00:00, 55.42it/s]\n"
     ]
    },
    {
     "name": "stdout",
     "output_type": "stream",
     "text": [
      "Epoch 97, Train Loss: 0.026344239443414293, Test Loss: 0.0667676438111812\n"
     ]
    },
    {
     "name": "stderr",
     "output_type": "stream",
     "text": [
      "100%|██████████| 118/118 [00:02<00:00, 53.83it/s]\n"
     ]
    },
    {
     "name": "stdout",
     "output_type": "stream",
     "text": [
      "Epoch 98, Train Loss: 0.025944204543227867, Test Loss: 0.06673948084935546\n"
     ]
    },
    {
     "name": "stderr",
     "output_type": "stream",
     "text": [
      "100%|██████████| 118/118 [00:02<00:00, 53.54it/s]\n"
     ]
    },
    {
     "name": "stdout",
     "output_type": "stream",
     "text": [
      "Epoch 99, Train Loss: 0.026087266314080208, Test Loss: 0.06632600044831634\n"
     ]
    },
    {
     "name": "stderr",
     "output_type": "stream",
     "text": [
      "100%|██████████| 118/118 [00:02<00:00, 49.01it/s]\n"
     ]
    },
    {
     "name": "stdout",
     "output_type": "stream",
     "text": [
      "Epoch 100, Train Loss: 0.025133263951135895, Test Loss: 0.06687933318316937\n"
     ]
    },
    {
     "name": "stderr",
     "output_type": "stream",
     "text": [
      "100%|██████████| 118/118 [00:02<00:00, 56.12it/s]\n"
     ]
    },
    {
     "name": "stdout",
     "output_type": "stream",
     "text": [
      "Epoch 101, Train Loss: 0.024662891608047282, Test Loss: 0.06622779462486506\n"
     ]
    },
    {
     "name": "stderr",
     "output_type": "stream",
     "text": [
      "100%|██████████| 118/118 [00:02<00:00, 53.24it/s]\n"
     ]
    },
    {
     "name": "stdout",
     "output_type": "stream",
     "text": [
      "Epoch 102, Train Loss: 0.024006821972838904, Test Loss: 0.06687236544676126\n"
     ]
    },
    {
     "name": "stderr",
     "output_type": "stream",
     "text": [
      "100%|██████████| 118/118 [00:02<00:00, 55.10it/s]\n"
     ]
    },
    {
     "name": "stdout",
     "output_type": "stream",
     "text": [
      "Epoch 103, Train Loss: 0.02361119464355505, Test Loss: 0.06621339106932282\n"
     ]
    },
    {
     "name": "stderr",
     "output_type": "stream",
     "text": [
      "100%|██████████| 118/118 [00:02<00:00, 54.56it/s]\n"
     ]
    },
    {
     "name": "stdout",
     "output_type": "stream",
     "text": [
      "Epoch 104, Train Loss: 0.02308816443813049, Test Loss: 0.06609862786717713\n"
     ]
    },
    {
     "name": "stderr",
     "output_type": "stream",
     "text": [
      "100%|██████████| 118/118 [00:02<00:00, 56.65it/s]\n"
     ]
    },
    {
     "name": "stdout",
     "output_type": "stream",
     "text": [
      "Epoch 105, Train Loss: 0.022662753602331977, Test Loss: 0.06622585686855018\n"
     ]
    },
    {
     "name": "stderr",
     "output_type": "stream",
     "text": [
      "100%|██████████| 118/118 [00:02<00:00, 56.73it/s]\n"
     ]
    },
    {
     "name": "stdout",
     "output_type": "stream",
     "text": [
      "Epoch 106, Train Loss: 0.02219281041742129, Test Loss: 0.06611895388923586\n"
     ]
    },
    {
     "name": "stderr",
     "output_type": "stream",
     "text": [
      "100%|██████████| 118/118 [00:02<00:00, 56.28it/s]\n"
     ]
    },
    {
     "name": "stdout",
     "output_type": "stream",
     "text": [
      "Epoch 107, Train Loss: 0.022064340119329045, Test Loss: 0.06570954769849777\n"
     ]
    },
    {
     "name": "stderr",
     "output_type": "stream",
     "text": [
      "100%|██████████| 118/118 [00:02<00:00, 54.95it/s]\n"
     ]
    },
    {
     "name": "stdout",
     "output_type": "stream",
     "text": [
      "Epoch 108, Train Loss: 0.02153151123232003, Test Loss: 0.06626500375568867\n"
     ]
    },
    {
     "name": "stderr",
     "output_type": "stream",
     "text": [
      "100%|██████████| 118/118 [00:02<00:00, 53.03it/s]\n"
     ]
    },
    {
     "name": "stdout",
     "output_type": "stream",
     "text": [
      "Epoch 109, Train Loss: 0.021042843294030025, Test Loss: 0.06528136525303126\n"
     ]
    },
    {
     "name": "stderr",
     "output_type": "stream",
     "text": [
      "100%|██████████| 118/118 [00:02<00:00, 55.16it/s]\n"
     ]
    },
    {
     "name": "stdout",
     "output_type": "stream",
     "text": [
      "Epoch 110, Train Loss: 0.0205805169150107, Test Loss: 0.0656333688646555\n"
     ]
    },
    {
     "name": "stderr",
     "output_type": "stream",
     "text": [
      "100%|██████████| 118/118 [00:02<00:00, 55.83it/s]\n"
     ]
    },
    {
     "name": "stdout",
     "output_type": "stream",
     "text": [
      "Epoch 111, Train Loss: 0.02031639665838773, Test Loss: 0.06625926084816455\n"
     ]
    },
    {
     "name": "stderr",
     "output_type": "stream",
     "text": [
      "100%|██████████| 118/118 [00:02<00:00, 57.34it/s]\n"
     ]
    },
    {
     "name": "stdout",
     "output_type": "stream",
     "text": [
      "Epoch 112, Train Loss: 0.019906069878173078, Test Loss: 0.06459765955805778\n"
     ]
    },
    {
     "name": "stderr",
     "output_type": "stream",
     "text": [
      "100%|██████████| 118/118 [00:02<00:00, 56.93it/s]\n"
     ]
    },
    {
     "name": "stdout",
     "output_type": "stream",
     "text": [
      "Epoch 113, Train Loss: 0.01956532797697237, Test Loss: 0.0648739644791931\n"
     ]
    },
    {
     "name": "stderr",
     "output_type": "stream",
     "text": [
      "100%|██████████| 118/118 [00:02<00:00, 56.71it/s]\n"
     ]
    },
    {
     "name": "stdout",
     "output_type": "stream",
     "text": [
      "Epoch 114, Train Loss: 0.019230087453467867, Test Loss: 0.06498220628127456\n"
     ]
    },
    {
     "name": "stderr",
     "output_type": "stream",
     "text": [
      "100%|██████████| 118/118 [00:02<00:00, 55.97it/s]\n"
     ]
    },
    {
     "name": "stdout",
     "output_type": "stream",
     "text": [
      "Epoch 115, Train Loss: 0.01879380000913042, Test Loss: 0.06537893391214311\n"
     ]
    },
    {
     "name": "stderr",
     "output_type": "stream",
     "text": [
      "100%|██████████| 118/118 [00:02<00:00, 56.67it/s]\n"
     ]
    },
    {
     "name": "stdout",
     "output_type": "stream",
     "text": [
      "Epoch 116, Train Loss: 0.018563017122826334, Test Loss: 0.06479697171598672\n"
     ]
    },
    {
     "name": "stderr",
     "output_type": "stream",
     "text": [
      "100%|██████████| 118/118 [00:02<00:00, 56.53it/s]\n"
     ]
    },
    {
     "name": "stdout",
     "output_type": "stream",
     "text": [
      "Epoch 117, Train Loss: 0.01825409845875229, Test Loss: 0.06474623465910553\n"
     ]
    },
    {
     "name": "stderr",
     "output_type": "stream",
     "text": [
      "100%|██████████| 118/118 [00:02<00:00, 57.01it/s]\n"
     ]
    },
    {
     "name": "stdout",
     "output_type": "stream",
     "text": [
      "Epoch 118, Train Loss: 0.017990417557500176, Test Loss: 0.06482186140492559\n"
     ]
    },
    {
     "name": "stderr",
     "output_type": "stream",
     "text": [
      "100%|██████████| 118/118 [00:02<00:00, 54.24it/s]\n"
     ]
    },
    {
     "name": "stdout",
     "output_type": "stream",
     "text": [
      "Epoch 119, Train Loss: 0.017689308151602745, Test Loss: 0.06437424886971713\n"
     ]
    },
    {
     "name": "stderr",
     "output_type": "stream",
     "text": [
      "100%|██████████| 118/118 [00:02<00:00, 54.29it/s]\n"
     ]
    },
    {
     "name": "stdout",
     "output_type": "stream",
     "text": [
      "Epoch 120, Train Loss: 0.017333208709576373, Test Loss: 0.064343047933653\n"
     ]
    },
    {
     "name": "stderr",
     "output_type": "stream",
     "text": [
      "100%|██████████| 118/118 [00:02<00:00, 55.42it/s]\n"
     ]
    },
    {
     "name": "stdout",
     "output_type": "stream",
     "text": [
      "Epoch 121, Train Loss: 0.016916087907502205, Test Loss: 0.06506044156849385\n"
     ]
    },
    {
     "name": "stderr",
     "output_type": "stream",
     "text": [
      "100%|██████████| 118/118 [00:02<00:00, 53.69it/s]\n"
     ]
    },
    {
     "name": "stdout",
     "output_type": "stream",
     "text": [
      "Epoch 122, Train Loss: 0.016724613921369536, Test Loss: 0.06417038571089506\n"
     ]
    },
    {
     "name": "stderr",
     "output_type": "stream",
     "text": [
      "100%|██████████| 118/118 [00:02<00:00, 56.86it/s]\n"
     ]
    },
    {
     "name": "stdout",
     "output_type": "stream",
     "text": [
      "Epoch 123, Train Loss: 0.016702372920146938, Test Loss: 0.06453486257232725\n"
     ]
    },
    {
     "name": "stderr",
     "output_type": "stream",
     "text": [
      "100%|██████████| 118/118 [00:02<00:00, 54.01it/s]\n"
     ]
    },
    {
     "name": "stdout",
     "output_type": "stream",
     "text": [
      "Epoch 124, Train Loss: 0.01616766027932576, Test Loss: 0.06465850537642837\n"
     ]
    },
    {
     "name": "stderr",
     "output_type": "stream",
     "text": [
      "100%|██████████| 118/118 [00:02<00:00, 55.86it/s]\n"
     ]
    },
    {
     "name": "stdout",
     "output_type": "stream",
     "text": [
      "Epoch 125, Train Loss: 0.015749614204327436, Test Loss: 0.06456193863414228\n"
     ]
    },
    {
     "name": "stderr",
     "output_type": "stream",
     "text": [
      "100%|██████████| 118/118 [00:02<00:00, 56.30it/s]\n"
     ]
    },
    {
     "name": "stdout",
     "output_type": "stream",
     "text": [
      "Epoch 126, Train Loss: 0.015492595657232707, Test Loss: 0.06558677479624749\n"
     ]
    },
    {
     "name": "stderr",
     "output_type": "stream",
     "text": [
      "100%|██████████| 118/118 [00:02<00:00, 57.17it/s]\n"
     ]
    },
    {
     "name": "stdout",
     "output_type": "stream",
     "text": [
      "Epoch 127, Train Loss: 0.015359076513451034, Test Loss: 0.06411431725136936\n"
     ]
    },
    {
     "name": "stderr",
     "output_type": "stream",
     "text": [
      "100%|██████████| 118/118 [00:02<00:00, 57.14it/s]\n"
     ]
    },
    {
     "name": "stdout",
     "output_type": "stream",
     "text": [
      "Epoch 128, Train Loss: 0.01496486229253775, Test Loss: 0.06453347415663302\n"
     ]
    },
    {
     "name": "stderr",
     "output_type": "stream",
     "text": [
      "100%|██████████| 118/118 [00:02<00:00, 56.13it/s]\n"
     ]
    },
    {
     "name": "stdout",
     "output_type": "stream",
     "text": [
      "Epoch 129, Train Loss: 0.014770178514990514, Test Loss: 0.06423282120376825\n"
     ]
    },
    {
     "name": "stderr",
     "output_type": "stream",
     "text": [
      "100%|██████████| 118/118 [00:02<00:00, 56.16it/s]\n"
     ]
    },
    {
     "name": "stdout",
     "output_type": "stream",
     "text": [
      "Epoch 130, Train Loss: 0.01481669657800536, Test Loss: 0.06460567712783813\n"
     ]
    },
    {
     "name": "stderr",
     "output_type": "stream",
     "text": [
      "100%|██████████| 118/118 [00:02<00:00, 55.27it/s]\n"
     ]
    },
    {
     "name": "stdout",
     "output_type": "stream",
     "text": [
      "Epoch 131, Train Loss: 0.014389078401155391, Test Loss: 0.06454972391948104\n"
     ]
    },
    {
     "name": "stderr",
     "output_type": "stream",
     "text": [
      "100%|██████████| 118/118 [00:02<00:00, 51.92it/s]\n"
     ]
    },
    {
     "name": "stdout",
     "output_type": "stream",
     "text": [
      "Epoch 132, Train Loss: 0.013998241408459716, Test Loss: 0.06483401120640338\n"
     ]
    },
    {
     "name": "stderr",
     "output_type": "stream",
     "text": [
      "100%|██████████| 118/118 [00:02<00:00, 57.03it/s]\n"
     ]
    },
    {
     "name": "stdout",
     "output_type": "stream",
     "text": [
      "Epoch 133, Train Loss: 0.013729413880540406, Test Loss: 0.06464172070845961\n"
     ]
    },
    {
     "name": "stderr",
     "output_type": "stream",
     "text": [
      "100%|██████████| 118/118 [00:02<00:00, 57.05it/s]\n"
     ]
    },
    {
     "name": "stdout",
     "output_type": "stream",
     "text": [
      "Epoch 134, Train Loss: 0.013487439981456531, Test Loss: 0.06497586378827691\n"
     ]
    },
    {
     "name": "stderr",
     "output_type": "stream",
     "text": [
      "100%|██████████| 118/118 [00:02<00:00, 56.84it/s]\n"
     ]
    },
    {
     "name": "stdout",
     "output_type": "stream",
     "text": [
      "Epoch 135, Train Loss: 0.013318144763677807, Test Loss: 0.06427630009129644\n"
     ]
    },
    {
     "name": "stderr",
     "output_type": "stream",
     "text": [
      "100%|██████████| 118/118 [00:02<00:00, 57.38it/s]\n"
     ]
    },
    {
     "name": "stdout",
     "output_type": "stream",
     "text": [
      "Epoch 136, Train Loss: 0.013009462205661555, Test Loss: 0.0641660806722939\n"
     ]
    },
    {
     "name": "stderr",
     "output_type": "stream",
     "text": [
      "100%|██████████| 118/118 [00:02<00:00, 57.01it/s]\n"
     ]
    },
    {
     "name": "stdout",
     "output_type": "stream",
     "text": [
      "Epoch 137, Train Loss: 0.012868263778450378, Test Loss: 0.06471104733645916\n"
     ]
    },
    {
     "name": "stderr",
     "output_type": "stream",
     "text": [
      "100%|██████████| 118/118 [00:02<00:00, 54.39it/s]\n"
     ]
    },
    {
     "name": "stdout",
     "output_type": "stream",
     "text": [
      "Epoch 138, Train Loss: 0.012613227251538281, Test Loss: 0.06435909727588296\n"
     ]
    },
    {
     "name": "stderr",
     "output_type": "stream",
     "text": [
      "100%|██████████| 118/118 [00:02<00:00, 56.87it/s]\n"
     ]
    },
    {
     "name": "stdout",
     "output_type": "stream",
     "text": [
      "Epoch 139, Train Loss: 0.012596611379472128, Test Loss: 0.06447425526566804\n"
     ]
    },
    {
     "name": "stderr",
     "output_type": "stream",
     "text": [
      "100%|██████████| 118/118 [00:02<00:00, 56.52it/s]\n"
     ]
    },
    {
     "name": "stdout",
     "output_type": "stream",
     "text": [
      "Epoch 140, Train Loss: 0.012229937992958446, Test Loss: 0.06473470600321889\n"
     ]
    },
    {
     "name": "stderr",
     "output_type": "stream",
     "text": [
      "100%|██████████| 118/118 [00:02<00:00, 55.70it/s]\n"
     ]
    },
    {
     "name": "stdout",
     "output_type": "stream",
     "text": [
      "Epoch 141, Train Loss: 0.012000835950533717, Test Loss: 0.06422779206186532\n"
     ]
    },
    {
     "name": "stderr",
     "output_type": "stream",
     "text": [
      "100%|██████████| 118/118 [00:02<00:00, 54.91it/s]\n"
     ]
    },
    {
     "name": "stdout",
     "output_type": "stream",
     "text": [
      "Epoch 142, Train Loss: 0.011942134159853903, Test Loss: 0.06453262404538691\n"
     ]
    },
    {
     "name": "stderr",
     "output_type": "stream",
     "text": [
      "100%|██████████| 118/118 [00:02<00:00, 55.25it/s]\n"
     ]
    },
    {
     "name": "stdout",
     "output_type": "stream",
     "text": [
      "Epoch 143, Train Loss: 0.011651063914079282, Test Loss: 0.06463482133112848\n"
     ]
    },
    {
     "name": "stderr",
     "output_type": "stream",
     "text": [
      "100%|██████████| 118/118 [00:02<00:00, 55.87it/s]\n"
     ]
    },
    {
     "name": "stdout",
     "output_type": "stream",
     "text": [
      "Epoch 144, Train Loss: 0.01143375363090407, Test Loss: 0.06513009299524128\n"
     ]
    },
    {
     "name": "stderr",
     "output_type": "stream",
     "text": [
      "100%|██████████| 118/118 [00:02<00:00, 56.40it/s]\n"
     ]
    },
    {
     "name": "stdout",
     "output_type": "stream",
     "text": [
      "Epoch 145, Train Loss: 0.01126916263789191, Test Loss: 0.06445728898979723\n"
     ]
    },
    {
     "name": "stderr",
     "output_type": "stream",
     "text": [
      "100%|██████████| 118/118 [00:02<00:00, 54.96it/s]\n"
     ]
    },
    {
     "name": "stdout",
     "output_type": "stream",
     "text": [
      "Epoch 146, Train Loss: 0.01113724062945378, Test Loss: 0.06439522719010711\n"
     ]
    },
    {
     "name": "stderr",
     "output_type": "stream",
     "text": [
      "100%|██████████| 118/118 [00:02<00:00, 56.29it/s]\n"
     ]
    },
    {
     "name": "stdout",
     "output_type": "stream",
     "text": [
      "Epoch 147, Train Loss: 0.010990216388856456, Test Loss: 0.06439629280939699\n"
     ]
    },
    {
     "name": "stderr",
     "output_type": "stream",
     "text": [
      "100%|██████████| 118/118 [00:02<00:00, 50.28it/s]\n"
     ]
    },
    {
     "name": "stdout",
     "output_type": "stream",
     "text": [
      "Epoch 148, Train Loss: 0.01079346322438727, Test Loss: 0.0645018523093313\n"
     ]
    },
    {
     "name": "stderr",
     "output_type": "stream",
     "text": [
      "100%|██████████| 118/118 [00:02<00:00, 54.89it/s]\n"
     ]
    },
    {
     "name": "stdout",
     "output_type": "stream",
     "text": [
      "Epoch 149, Train Loss: 0.010556644507510177, Test Loss: 0.06530158123932779\n"
     ]
    },
    {
     "name": "stderr",
     "output_type": "stream",
     "text": [
      "100%|██████████| 118/118 [00:02<00:00, 54.94it/s]\n"
     ]
    },
    {
     "name": "stdout",
     "output_type": "stream",
     "text": [
      "Epoch 150, Train Loss: 0.010437066583909978, Test Loss: 0.06486112894490362\n"
     ]
    },
    {
     "name": "stderr",
     "output_type": "stream",
     "text": [
      "100%|██████████| 118/118 [00:02<00:00, 57.46it/s]\n"
     ]
    },
    {
     "name": "stdout",
     "output_type": "stream",
     "text": [
      "Epoch 151, Train Loss: 0.010268584509395946, Test Loss: 0.06460220436565578\n"
     ]
    },
    {
     "name": "stderr",
     "output_type": "stream",
     "text": [
      "100%|██████████| 118/118 [00:02<00:00, 57.70it/s]\n"
     ]
    },
    {
     "name": "stdout",
     "output_type": "stream",
     "text": [
      "Epoch 152, Train Loss: 0.010159996855151603, Test Loss: 0.0653307135682553\n"
     ]
    },
    {
     "name": "stderr",
     "output_type": "stream",
     "text": [
      "100%|██████████| 118/118 [00:02<00:00, 57.52it/s]\n"
     ]
    },
    {
     "name": "stdout",
     "output_type": "stream",
     "text": [
      "Epoch 153, Train Loss: 0.009971749582091126, Test Loss: 0.0642168668564409\n"
     ]
    },
    {
     "name": "stderr",
     "output_type": "stream",
     "text": [
      "100%|██████████| 118/118 [00:02<00:00, 56.94it/s]\n"
     ]
    },
    {
     "name": "stdout",
     "output_type": "stream",
     "text": [
      "Epoch 154, Train Loss: 0.009805064754939433, Test Loss: 0.06434946954250335\n"
     ]
    },
    {
     "name": "stderr",
     "output_type": "stream",
     "text": [
      "100%|██████████| 118/118 [00:02<00:00, 57.49it/s]\n"
     ]
    },
    {
     "name": "stdout",
     "output_type": "stream",
     "text": [
      "Epoch 155, Train Loss: 0.009723254949075439, Test Loss: 0.06507258382625877\n"
     ]
    },
    {
     "name": "stderr",
     "output_type": "stream",
     "text": [
      "100%|██████████| 118/118 [00:02<00:00, 57.73it/s]\n"
     ]
    },
    {
     "name": "stdout",
     "output_type": "stream",
     "text": [
      "Epoch 156, Train Loss: 0.009583277515356698, Test Loss: 0.06441776533611118\n"
     ]
    },
    {
     "name": "stderr",
     "output_type": "stream",
     "text": [
      "100%|██████████| 118/118 [00:02<00:00, 57.57it/s]\n"
     ]
    },
    {
     "name": "stdout",
     "output_type": "stream",
     "text": [
      "Epoch 157, Train Loss: 0.009381567416081236, Test Loss: 0.0646320388186723\n"
     ]
    },
    {
     "name": "stderr",
     "output_type": "stream",
     "text": [
      "100%|██████████| 118/118 [00:02<00:00, 56.49it/s]\n"
     ]
    },
    {
     "name": "stdout",
     "output_type": "stream",
     "text": [
      "Epoch 158, Train Loss: 0.009275742403973462, Test Loss: 0.06478628851473331\n"
     ]
    },
    {
     "name": "stderr",
     "output_type": "stream",
     "text": [
      "100%|██████████| 118/118 [00:02<00:00, 55.01it/s]\n"
     ]
    },
    {
     "name": "stdout",
     "output_type": "stream",
     "text": [
      "Epoch 159, Train Loss: 0.009108301729626827, Test Loss: 0.06483937613666058\n"
     ]
    },
    {
     "name": "stderr",
     "output_type": "stream",
     "text": [
      "100%|██████████| 118/118 [00:02<00:00, 56.76it/s]\n"
     ]
    },
    {
     "name": "stdout",
     "output_type": "stream",
     "text": [
      "Epoch 160, Train Loss: 0.008986450625204687, Test Loss: 0.06527614020742475\n"
     ]
    },
    {
     "name": "stderr",
     "output_type": "stream",
     "text": [
      "100%|██████████| 118/118 [00:02<00:00, 57.65it/s]\n"
     ]
    },
    {
     "name": "stdout",
     "output_type": "stream",
     "text": [
      "Epoch 161, Train Loss: 0.008809006628896094, Test Loss: 0.06465454678982496\n"
     ]
    },
    {
     "name": "stderr",
     "output_type": "stream",
     "text": [
      "100%|██████████| 118/118 [00:02<00:00, 57.71it/s]\n"
     ]
    },
    {
     "name": "stdout",
     "output_type": "stream",
     "text": [
      "Epoch 162, Train Loss: 0.008664530362555031, Test Loss: 0.06519681629724801\n"
     ]
    },
    {
     "name": "stderr",
     "output_type": "stream",
     "text": [
      "100%|██████████| 118/118 [00:02<00:00, 57.52it/s]\n"
     ]
    },
    {
     "name": "stdout",
     "output_type": "stream",
     "text": [
      "Epoch 163, Train Loss: 0.008602640717842822, Test Loss: 0.06519219116307795\n"
     ]
    },
    {
     "name": "stderr",
     "output_type": "stream",
     "text": [
      "100%|██████████| 118/118 [00:02<00:00, 57.51it/s]\n"
     ]
    },
    {
     "name": "stdout",
     "output_type": "stream",
     "text": [
      "Epoch 164, Train Loss: 0.008545878990474393, Test Loss: 0.06526601407676935\n"
     ]
    },
    {
     "name": "stderr",
     "output_type": "stream",
     "text": [
      "100%|██████████| 118/118 [00:02<00:00, 57.70it/s]\n"
     ]
    },
    {
     "name": "stdout",
     "output_type": "stream",
     "text": [
      "Epoch 165, Train Loss: 0.008323892374854472, Test Loss: 0.06507213795557618\n"
     ]
    },
    {
     "name": "stderr",
     "output_type": "stream",
     "text": [
      "100%|██████████| 118/118 [00:02<00:00, 57.57it/s]\n"
     ]
    },
    {
     "name": "stdout",
     "output_type": "stream",
     "text": [
      "Epoch 166, Train Loss: 0.00825050899411662, Test Loss: 0.06463780719786882\n"
     ]
    },
    {
     "name": "stderr",
     "output_type": "stream",
     "text": [
      "100%|██████████| 118/118 [00:02<00:00, 55.23it/s]\n"
     ]
    },
    {
     "name": "stdout",
     "output_type": "stream",
     "text": [
      "Epoch 167, Train Loss: 0.00811090471885972, Test Loss: 0.0654767940286547\n"
     ]
    },
    {
     "name": "stderr",
     "output_type": "stream",
     "text": [
      "100%|██████████| 118/118 [00:02<00:00, 57.18it/s]\n"
     ]
    },
    {
     "name": "stdout",
     "output_type": "stream",
     "text": [
      "Epoch 168, Train Loss: 0.007984705312745803, Test Loss: 0.06545958449132741\n"
     ]
    },
    {
     "name": "stderr",
     "output_type": "stream",
     "text": [
      "100%|██████████| 118/118 [00:02<00:00, 57.34it/s]\n"
     ]
    },
    {
     "name": "stdout",
     "output_type": "stream",
     "text": [
      "Epoch 169, Train Loss: 0.007917747805210746, Test Loss: 0.0652781213633716\n"
     ]
    },
    {
     "name": "stderr",
     "output_type": "stream",
     "text": [
      "100%|██████████| 118/118 [00:02<00:00, 53.53it/s]\n"
     ]
    },
    {
     "name": "stdout",
     "output_type": "stream",
     "text": [
      "Epoch 170, Train Loss: 0.0077725835795656355, Test Loss: 0.06534621235914528\n"
     ]
    },
    {
     "name": "stderr",
     "output_type": "stream",
     "text": [
      "100%|██████████| 118/118 [00:02<00:00, 56.83it/s]\n"
     ]
    },
    {
     "name": "stdout",
     "output_type": "stream",
     "text": [
      "Epoch 171, Train Loss: 0.007648107927229445, Test Loss: 0.06589688155800104\n"
     ]
    },
    {
     "name": "stderr",
     "output_type": "stream",
     "text": [
      "100%|██████████| 118/118 [00:02<00:00, 57.81it/s]\n"
     ]
    },
    {
     "name": "stdout",
     "output_type": "stream",
     "text": [
      "Epoch 172, Train Loss: 0.007582188870015917, Test Loss: 0.06575623555108905\n"
     ]
    },
    {
     "name": "stderr",
     "output_type": "stream",
     "text": [
      "100%|██████████| 118/118 [00:02<00:00, 57.95it/s]\n"
     ]
    },
    {
     "name": "stdout",
     "output_type": "stream",
     "text": [
      "Epoch 173, Train Loss: 0.007458263380705553, Test Loss: 0.06553532802499831\n"
     ]
    },
    {
     "name": "stderr",
     "output_type": "stream",
     "text": [
      "100%|██████████| 118/118 [00:02<00:00, 57.37it/s]\n"
     ]
    },
    {
     "name": "stdout",
     "output_type": "stream",
     "text": [
      "Epoch 174, Train Loss: 0.00735875081184115, Test Loss: 0.0651405042503029\n"
     ]
    },
    {
     "name": "stderr",
     "output_type": "stream",
     "text": [
      "100%|██████████| 118/118 [00:02<00:00, 57.79it/s]\n"
     ]
    },
    {
     "name": "stdout",
     "output_type": "stream",
     "text": [
      "Epoch 175, Train Loss: 0.007253060942136888, Test Loss: 0.06532801170833409\n"
     ]
    },
    {
     "name": "stderr",
     "output_type": "stream",
     "text": [
      "100%|██████████| 118/118 [00:02<00:00, 57.53it/s]\n"
     ]
    },
    {
     "name": "stdout",
     "output_type": "stream",
     "text": [
      "Epoch 176, Train Loss: 0.007135897030327785, Test Loss: 0.06561435461044311\n"
     ]
    },
    {
     "name": "stderr",
     "output_type": "stream",
     "text": [
      "100%|██████████| 118/118 [00:02<00:00, 52.78it/s]\n"
     ]
    },
    {
     "name": "stdout",
     "output_type": "stream",
     "text": [
      "Epoch 177, Train Loss: 0.007041357459610928, Test Loss: 0.06578961019404232\n"
     ]
    },
    {
     "name": "stderr",
     "output_type": "stream",
     "text": [
      "100%|██████████| 118/118 [00:02<00:00, 56.93it/s]\n"
     ]
    },
    {
     "name": "stdout",
     "output_type": "stream",
     "text": [
      "Epoch 178, Train Loss: 0.00699350345974504, Test Loss: 0.0659009815659374\n"
     ]
    },
    {
     "name": "stderr",
     "output_type": "stream",
     "text": [
      "100%|██████████| 118/118 [00:02<00:00, 57.05it/s]\n"
     ]
    },
    {
     "name": "stdout",
     "output_type": "stream",
     "text": [
      "Epoch 179, Train Loss: 0.006911336688987784, Test Loss: 0.06623213901184499\n"
     ]
    },
    {
     "name": "stderr",
     "output_type": "stream",
     "text": [
      "100%|██████████| 118/118 [00:02<00:00, 56.98it/s]\n"
     ]
    },
    {
     "name": "stdout",
     "output_type": "stream",
     "text": [
      "Epoch 180, Train Loss: 0.00678574807065839, Test Loss: 0.06600914923474192\n"
     ]
    },
    {
     "name": "stderr",
     "output_type": "stream",
     "text": [
      "100%|██████████| 118/118 [00:02<00:00, 56.27it/s]\n"
     ]
    },
    {
     "name": "stdout",
     "output_type": "stream",
     "text": [
      "Epoch 181, Train Loss: 0.006667378859720745, Test Loss: 0.06613634685054422\n"
     ]
    },
    {
     "name": "stderr",
     "output_type": "stream",
     "text": [
      "100%|██████████| 118/118 [00:02<00:00, 57.15it/s]\n"
     ]
    },
    {
     "name": "stdout",
     "output_type": "stream",
     "text": [
      "Epoch 182, Train Loss: 0.006589610372291152, Test Loss: 0.06580842304974795\n"
     ]
    },
    {
     "name": "stderr",
     "output_type": "stream",
     "text": [
      "100%|██████████| 118/118 [00:02<00:00, 57.77it/s]\n"
     ]
    },
    {
     "name": "stdout",
     "output_type": "stream",
     "text": [
      "Epoch 183, Train Loss: 0.006484997636338664, Test Loss: 0.06598558849655092\n"
     ]
    },
    {
     "name": "stderr",
     "output_type": "stream",
     "text": [
      "100%|██████████| 118/118 [00:02<00:00, 56.70it/s]\n"
     ]
    },
    {
     "name": "stdout",
     "output_type": "stream",
     "text": [
      "Epoch 184, Train Loss: 0.006448305724977942, Test Loss: 0.06601225207559765\n"
     ]
    },
    {
     "name": "stderr",
     "output_type": "stream",
     "text": [
      "100%|██████████| 118/118 [00:02<00:00, 57.06it/s]\n"
     ]
    },
    {
     "name": "stdout",
     "output_type": "stream",
     "text": [
      "Epoch 185, Train Loss: 0.006342347328535328, Test Loss: 0.06630666861310601\n"
     ]
    },
    {
     "name": "stderr",
     "output_type": "stream",
     "text": [
      "100%|██████████| 118/118 [00:02<00:00, 56.65it/s]\n"
     ]
    },
    {
     "name": "stdout",
     "output_type": "stream",
     "text": [
      "Epoch 186, Train Loss: 0.0062840992695320464, Test Loss: 0.06575384153984487\n"
     ]
    },
    {
     "name": "stderr",
     "output_type": "stream",
     "text": [
      "100%|██████████| 118/118 [00:02<00:00, 55.06it/s]\n"
     ]
    },
    {
     "name": "stdout",
     "output_type": "stream",
     "text": [
      "Epoch 187, Train Loss: 0.006183160642572379, Test Loss: 0.0658295144326985\n"
     ]
    },
    {
     "name": "stderr",
     "output_type": "stream",
     "text": [
      "100%|██████████| 118/118 [00:02<00:00, 57.67it/s]\n"
     ]
    },
    {
     "name": "stdout",
     "output_type": "stream",
     "text": [
      "Epoch 188, Train Loss: 0.00606632050742411, Test Loss: 0.06598505428992212\n"
     ]
    },
    {
     "name": "stderr",
     "output_type": "stream",
     "text": [
      "100%|██████████| 118/118 [00:02<00:00, 57.26it/s]\n"
     ]
    },
    {
     "name": "stdout",
     "output_type": "stream",
     "text": [
      "Epoch 189, Train Loss: 0.005992271367192142, Test Loss: 0.06631664014421404\n"
     ]
    },
    {
     "name": "stderr",
     "output_type": "stream",
     "text": [
      "100%|██████████| 118/118 [00:02<00:00, 57.28it/s]\n"
     ]
    },
    {
     "name": "stdout",
     "output_type": "stream",
     "text": [
      "Epoch 190, Train Loss: 0.005929107282515931, Test Loss: 0.06673913514241576\n"
     ]
    },
    {
     "name": "stderr",
     "output_type": "stream",
     "text": [
      "100%|██████████| 118/118 [00:02<00:00, 57.42it/s]\n"
     ]
    },
    {
     "name": "stdout",
     "output_type": "stream",
     "text": [
      "Epoch 191, Train Loss: 0.005879802370870138, Test Loss: 0.06675169677473605\n"
     ]
    },
    {
     "name": "stderr",
     "output_type": "stream",
     "text": [
      "100%|██████████| 118/118 [00:02<00:00, 57.42it/s]\n"
     ]
    },
    {
     "name": "stdout",
     "output_type": "stream",
     "text": [
      "Epoch 192, Train Loss: 0.005850940427774468, Test Loss: 0.06614511301741004\n"
     ]
    },
    {
     "name": "stderr",
     "output_type": "stream",
     "text": [
      "100%|██████████| 118/118 [00:02<00:00, 57.34it/s]\n"
     ]
    },
    {
     "name": "stdout",
     "output_type": "stream",
     "text": [
      "Epoch 193, Train Loss: 0.005768555999828218, Test Loss: 0.06655108518898487\n"
     ]
    },
    {
     "name": "stderr",
     "output_type": "stream",
     "text": [
      "100%|██████████| 118/118 [00:02<00:00, 56.71it/s]\n"
     ]
    },
    {
     "name": "stdout",
     "output_type": "stream",
     "text": [
      "Epoch 194, Train Loss: 0.005653505900211759, Test Loss: 0.06619867333211005\n"
     ]
    },
    {
     "name": "stderr",
     "output_type": "stream",
     "text": [
      "100%|██████████| 118/118 [00:02<00:00, 57.19it/s]\n"
     ]
    },
    {
     "name": "stdout",
     "output_type": "stream",
     "text": [
      "Epoch 195, Train Loss: 0.005607917670050036, Test Loss: 0.06690716301091015\n"
     ]
    },
    {
     "name": "stderr",
     "output_type": "stream",
     "text": [
      "100%|██████████| 118/118 [00:02<00:00, 54.16it/s]\n"
     ]
    },
    {
     "name": "stdout",
     "output_type": "stream",
     "text": [
      "Epoch 196, Train Loss: 0.005530253062577192, Test Loss: 0.06654356815852225\n"
     ]
    },
    {
     "name": "stderr",
     "output_type": "stream",
     "text": [
      "100%|██████████| 118/118 [00:02<00:00, 55.82it/s]\n"
     ]
    },
    {
     "name": "stdout",
     "output_type": "stream",
     "text": [
      "Epoch 197, Train Loss: 0.005443360638741593, Test Loss: 0.06637024250812829\n"
     ]
    },
    {
     "name": "stderr",
     "output_type": "stream",
     "text": [
      "100%|██████████| 118/118 [00:02<00:00, 50.01it/s]\n"
     ]
    },
    {
     "name": "stdout",
     "output_type": "stream",
     "text": [
      "Epoch 198, Train Loss: 0.005381121098900498, Test Loss: 0.06674422344658523\n"
     ]
    },
    {
     "name": "stderr",
     "output_type": "stream",
     "text": [
      "100%|██████████| 118/118 [00:02<00:00, 53.30it/s]\n"
     ]
    },
    {
     "name": "stdout",
     "output_type": "stream",
     "text": [
      "Epoch 199, Train Loss: 0.005290721443489636, Test Loss: 0.0665362136438489\n"
     ]
    },
    {
     "name": "stderr",
     "output_type": "stream",
     "text": [
      "100%|██████████| 118/118 [00:02<00:00, 57.10it/s]\n"
     ]
    },
    {
     "name": "stdout",
     "output_type": "stream",
     "text": [
      "Epoch 200, Train Loss: 0.005222199504437335, Test Loss: 0.06694006405305117\n"
     ]
    }
   ],
   "source": [
    "# train model\n",
    "train_losses = []\n",
    "test_losses = []\n",
    "checkpoints = []\n",
    "for epoch in range(n_epochs):\n",
    "    train_loss = train_one_epoch(model, train_loader, optimizer, criterion)\n",
    "    test_loss = evaluate(model, test_loader, criterion)\n",
    "    train_losses.append(train_loss)\n",
    "    test_losses.append(test_loss)\n",
    "    checkpoints += [copy.deepcopy(model)]\n",
    "    print(f\"Epoch {epoch+1}, Train Loss: {train_loss}, Test Loss: {test_loss}\")"
   ]
  },
  {
   "cell_type": "markdown",
   "id": "6460d0a4-08e2-4e6c-9964-9100217d4b1a",
   "metadata": {},
   "source": [
    "Plotting the train and test loss to show that training has converged:"
   ]
  },
  {
   "cell_type": "code",
   "execution_count": 113,
   "id": "5a4512d7-2a67-41e4-8f66-3a19f966c542",
   "metadata": {},
   "outputs": [
    {
     "data": {
      "image/png": "[encoded data removed]",
      "text/plain": [
       "<Figure size 1080x864 with 1 Axes>"
      ]
     },
     "metadata": {
      "needs_background": "light"
     },
     "output_type": "display_data"
    }
   ],
   "source": [
    "import matplotlib.pyplot as plt\n",
    "\n",
    "epochs = list(range(n_epochs))\n",
    "plt.plot(epochs, train_losses, label='Train')\n",
    "plt.plot(epochs, test_losses, label='Test')\n",
    "plt.xlabel('Training epochs')\n",
    "plt.ylabel('Loss')\n",
    "plt.title('Training and test loss for MNIST model')\n",
    "plt.legend()\n",
    "plt.show()"
   ]
  },
  {
   "cell_type": "markdown",
   "id": "534f438e-955e-442f-8529-f30667b65d01",
   "metadata": {},
   "source": [
    "### 3. Running calibration sweep\n",
    "\n",
    "The main idea is to sweep across orders of magnitude of learning rate (epsilon) and elasticity (gamma). We look at the mean of LLC estimations over time by looking at the average estimated LLC for each chain at a given time step. A reasonable starting point for sweeping is to use `[1e-5, 1e-4, 1e-3]` for epsilon values and `[1, 10, 100]` for gamma values."
   ]
  },
  {
   "cell_type": "code",
   "execution_count": 130,
   "id": "23babf15-c873-4d0b-8eb3-bd4ceff0ac78",
   "metadata": {},
   "outputs": [],
   "source": [
    "EPSILONS = [1e-5, 1e-4, 1e-3]\n",
    "GAMMAS = [1, 10, 100]\n",
    "\n",
    "\n",
    "def estimate_llcs_sweeper(model, epsilons, gammas):\n",
    "    results = {}\n",
    "    for epsilon in epsilons:\n",
    "        for gamma in gammas:\n",
    "            optim_kwargs = dict(\n",
    "                lr=epsilon,\n",
    "                noise_level=1.0,\n",
    "                elasticity=gamma,\n",
    "                num_samples=len(train_data),\n",
    "                temperature=\"adaptive\",\n",
    "            )\n",
    "            pair = (epsilon, gamma)\n",
    "            results[pair] = estimate_learning_coeff_with_summary(\n",
    "                model=model,\n",
    "                loader=train_loader,\n",
    "                criterion=criterion,\n",
    "                sampling_method=SGLD,\n",
    "                optimizer_kwargs=optim_kwargs,\n",
    "                num_chains=NUM_CHAINS,\n",
    "                num_draws=NUM_DRAWS,\n",
    "                device=DEVICE,\n",
    "                online=True,\n",
    "            )\n",
    "    return results\n",
    "\n",
    "\n",
    "def plot_single_graph(result, title=''):\n",
    "    llc_color = 'teal'\n",
    "    fig, axs = plt.subplots(1, 1)\n",
    "    # plot loss traces\n",
    "    loss_traces = result['loss/trace']\n",
    "    for trace in loss_traces:\n",
    "        init_loss = trace[0]\n",
    "        zeroed_trace = trace - init_loss\n",
    "        sgld_steps = list(range(len(trace)))\n",
    "        axs.plot(sgld_steps, zeroed_trace)\n",
    "\n",
    "    # plot llcs\n",
    "    means = result['llc/means']\n",
    "    stds = result['llc/stds']\n",
    "    sgld_steps = list(range(len(means)))\n",
    "    axs2 = axs.twinx() \n",
    "    axs2.plot(sgld_steps, means, color=llc_color, linestyle='--', linewidth=2, label=f'llc', zorder=3)\n",
    "    axs2.fill_between(sgld_steps, means - stds, means + stds, color=llc_color, alpha=0.3, zorder=2)\n",
    "\n",
    "    # center zero, assume zero is in the range of both y axes already\n",
    "    y1_min, y1_max = axs.get_ylim()\n",
    "    y2_min, y2_max = axs2.get_ylim()\n",
    "    y1_zero_ratio = abs(y1_min) / (abs(y1_min) + abs(y1_max))\n",
    "    y2_zero_ratio = abs(y2_min) / (abs(y2_min) + abs(y2_max))\n",
    "    percent_to_add = abs(y1_zero_ratio - y2_zero_ratio)\n",
    "    y1_amt_to_add = (y1_max - y1_min) * percent_to_add\n",
    "    y2_amt_to_add = (y2_max - y2_min) * percent_to_add\n",
    "    if y1_zero_ratio < y2_zero_ratio:\n",
    "        # add to bottom of y1 and top of y2\n",
    "        y1_min -= y1_amt_to_add\n",
    "        y2_max += y2_amt_to_add\n",
    "    elif y2_zero_ratio < y1_zero_ratio:\n",
    "        # add to bottom of y2 and top of y1\n",
    "        y2_min -= y2_amt_to_add\n",
    "        y1_max += y1_amt_to_add\n",
    "    axs.set_ylim(y1_min, y1_max)\n",
    "    axs2.set_ylim(y2_min, y2_max)\n",
    "    axs.set_xlabel('SGLD time step')\n",
    "    axs.set_ylabel('loss')\n",
    "    axs2.set_ylabel('llc', color=llc_color)\n",
    "    axs2.tick_params(axis='y', labelcolor=llc_color)\n",
    "    axs.axhline(color='black', linestyle=':')\n",
    "    fig.suptitle(title, fontsize=16)\n",
    "    plt.tight_layout()\n",
    "    plt.show()\n",
    "\n",
    "\n",
    "def plot_sweep_single_model(results, epsilons, gammas, **kwargs):\n",
    "    llc_color = 'teal'\n",
    "    fig, axs = plt.subplots(len(epsilons), len(gammas))\n",
    "\n",
    "    for i, epsilon in enumerate(epsilons):\n",
    "        for j, gamma in enumerate(gammas):\n",
    "            result = results[(epsilon, gamma)]\n",
    "            # plot loss traces\n",
    "            loss_traces = result['loss/trace']\n",
    "            for trace in loss_traces:\n",
    "                init_loss = trace[0]\n",
    "                zeroed_trace = trace - init_loss\n",
    "                sgld_steps = list(range(len(trace)))\n",
    "                axs[i, j].plot(sgld_steps, zeroed_trace)\n",
    "\n",
    "            # plot llcs\n",
    "            means = result['llc/means']\n",
    "            stds = result['llc/stds']\n",
    "            sgld_steps = list(range(len(means)))\n",
    "            axs2 = axs[i, j].twinx() \n",
    "            axs2.plot(sgld_steps, means, color=llc_color, linestyle='--', linewidth=2, label=f'llc', zorder=3)\n",
    "            axs2.fill_between(sgld_steps, means - stds, means + stds, color=llc_color, alpha=0.3, zorder=2)\n",
    "\n",
    "            # center zero, assume zero is in the range of both y axes already\n",
    "            y1_min, y1_max = axs[i, j].get_ylim()\n",
    "            y2_min, y2_max = axs2.get_ylim()\n",
    "            y1_zero_ratio = abs(y1_min) / (abs(y1_min) + abs(y1_max))\n",
    "            y2_zero_ratio = abs(y2_min) / (abs(y2_min) + abs(y2_max))\n",
    "            percent_to_add = abs(y1_zero_ratio - y2_zero_ratio)\n",
    "            y1_amt_to_add = (y1_max - y1_min) * percent_to_add\n",
    "            y2_amt_to_add = (y2_max - y2_min) * percent_to_add\n",
    "            if y1_zero_ratio < y2_zero_ratio:\n",
    "                # add to bottom of y1 and top of y2\n",
    "                y1_min -= y1_amt_to_add\n",
    "                y2_max += y2_amt_to_add\n",
    "            elif y2_zero_ratio < y1_zero_ratio:\n",
    "                # add to bottom of y2 and top of y1\n",
    "                y2_min -= y2_amt_to_add\n",
    "                y1_max += y1_amt_to_add\n",
    "            axs[i, j].set_ylim(y1_min, y1_max)\n",
    "            axs2.set_ylim(y2_min, y2_max)\n",
    "            \n",
    "            axs[i, j].set_title(f\"$\\epsilon$ = {epsilon} : $\\gamma$ = {gamma}\")\n",
    "            # only show x axis label on last row\n",
    "            if i == len(epsilons) - 1:\n",
    "                axs[i, j].set_xlabel('SGLD time step')\n",
    "            axs[i, j].set_ylabel('loss')\n",
    "            axs2.set_ylabel('llc', color=llc_color)\n",
    "            axs2.tick_params(axis='y', labelcolor=llc_color)\n",
    "    if kwargs['title']:\n",
    "        fig.suptitle(kwargs['title'], fontsize=16)\n",
    "    plt.tight_layout()\n",
    "    plt.show()"
   ]
  },
  {
   "cell_type": "code",
   "execution_count": 106,
   "id": "049c47a1-461b-481a-b847-d750ff109298",
   "metadata": {
    "scrolled": true
   },
   "outputs": [
    {
     "name": "stderr",
     "output_type": "stream",
     "text": [
      "Chain 0: 100%|██████████| 2000/2000 [00:55<00:00, 35.74it/s]\n",
      "Chain 1: 100%|██████████| 2000/2000 [00:54<00:00, 36.47it/s]\n",
      "Chain 2: 100%|██████████| 2000/2000 [00:55<00:00, 36.07it/s]\n",
      "Chain 3: 100%|██████████| 2000/2000 [00:55<00:00, 36.08it/s]\n",
      "Chain 4: 100%|██████████| 2000/2000 [00:55<00:00, 35.83it/s]\n",
      "Chain 5: 100%|██████████| 2000/2000 [00:56<00:00, 35.30it/s]\n",
      "Chain 6: 100%|██████████| 2000/2000 [00:56<00:00, 35.32it/s]\n",
      "Chain 7: 100%|██████████| 2000/2000 [00:56<00:00, 35.66it/s]\n",
      "Chain 0: 100%|██████████| 2000/2000 [00:55<00:00, 36.10it/s]\n",
      "Chain 1: 100%|██████████| 2000/2000 [00:56<00:00, 35.59it/s]\n",
      "Chain 2: 100%|██████████| 2000/2000 [00:55<00:00, 36.22it/s]\n",
      "Chain 3: 100%|██████████| 2000/2000 [00:55<00:00, 36.01it/s]\n",
      "Chain 4: 100%|██████████| 2000/2000 [00:57<00:00, 34.95it/s]\n",
      "Chain 5: 100%|██████████| 2000/2000 [00:55<00:00, 36.05it/s]\n",
      "Chain 6: 100%|██████████| 2000/2000 [00:55<00:00, 35.87it/s]\n",
      "Chain 7: 100%|██████████| 2000/2000 [00:56<00:00, 35.46it/s]\n",
      "Chain 0: 100%|██████████| 2000/2000 [00:55<00:00, 35.75it/s]\n",
      "Chain 1: 100%|██████████| 2000/2000 [00:56<00:00, 35.33it/s]\n",
      "Chain 2: 100%|██████████| 2000/2000 [00:55<00:00, 36.01it/s]\n",
      "Chain 3: 100%|██████████| 2000/2000 [00:55<00:00, 35.87it/s]\n",
      "Chain 4: 100%|██████████| 2000/2000 [00:56<00:00, 35.66it/s]\n",
      "Chain 5: 100%|██████████| 2000/2000 [00:56<00:00, 35.56it/s]\n",
      "Chain 6: 100%|██████████| 2000/2000 [00:56<00:00, 35.42it/s]\n",
      "Chain 7: 100%|██████████| 2000/2000 [00:55<00:00, 35.88it/s]\n",
      "Chain 0: 100%|██████████| 2000/2000 [00:57<00:00, 34.97it/s]\n",
      "Chain 1: 100%|██████████| 2000/2000 [00:55<00:00, 36.13it/s]\n",
      "Chain 2: 100%|██████████| 2000/2000 [00:56<00:00, 35.67it/s]\n",
      "Chain 3: 100%|██████████| 2000/2000 [00:56<00:00, 35.55it/s]\n",
      "Chain 4: 100%|██████████| 2000/2000 [00:55<00:00, 35.95it/s]\n",
      "Chain 5: 100%|██████████| 2000/2000 [00:55<00:00, 35.80it/s]\n",
      "Chain 6: 100%|██████████| 2000/2000 [00:56<00:00, 35.47it/s]\n",
      "Chain 7: 100%|██████████| 2000/2000 [00:56<00:00, 35.12it/s]\n",
      "Chain 0: 100%|██████████| 2000/2000 [00:55<00:00, 35.95it/s]\n",
      "Chain 1: 100%|██████████| 2000/2000 [00:56<00:00, 35.55it/s]\n",
      "Chain 2: 100%|██████████| 2000/2000 [00:56<00:00, 35.52it/s]\n",
      "Chain 3: 100%|██████████| 2000/2000 [00:55<00:00, 35.93it/s]\n",
      "Chain 4: 100%|██████████| 2000/2000 [00:55<00:00, 35.94it/s]\n",
      "Chain 5: 100%|██████████| 2000/2000 [00:55<00:00, 35.86it/s]\n",
      "Chain 6: 100%|██████████| 2000/2000 [00:56<00:00, 35.62it/s]\n",
      "Chain 7: 100%|██████████| 2000/2000 [00:56<00:00, 35.24it/s]\n",
      "Chain 0: 100%|██████████| 2000/2000 [00:56<00:00, 35.61it/s]\n",
      "Chain 1: 100%|██████████| 2000/2000 [00:56<00:00, 35.56it/s]\n",
      "Chain 2: 100%|██████████| 2000/2000 [00:56<00:00, 35.63it/s]\n",
      "Chain 3: 100%|██████████| 2000/2000 [00:55<00:00, 35.73it/s]\n",
      "Chain 4: 100%|██████████| 2000/2000 [00:56<00:00, 35.65it/s]\n",
      "Chain 5: 100%|██████████| 2000/2000 [00:55<00:00, 36.03it/s]\n",
      "Chain 6: 100%|██████████| 2000/2000 [00:57<00:00, 34.83it/s]\n",
      "Chain 7: 100%|██████████| 2000/2000 [00:55<00:00, 35.99it/s]\n",
      "Chain 0: 100%|██████████| 2000/2000 [00:58<00:00, 34.45it/s]\n",
      "Chain 1: 100%|██████████| 2000/2000 [00:56<00:00, 35.14it/s]\n",
      "Chain 2: 100%|██████████| 2000/2000 [00:57<00:00, 35.05it/s]\n",
      "Chain 3: 100%|██████████| 2000/2000 [00:56<00:00, 35.45it/s]\n",
      "Chain 4: 100%|██████████| 2000/2000 [00:56<00:00, 35.41it/s]\n",
      "Chain 5: 100%|██████████| 2000/2000 [00:57<00:00, 34.82it/s]\n",
      "Chain 6: 100%|██████████| 2000/2000 [00:56<00:00, 35.16it/s]\n",
      "Chain 7: 100%|██████████| 2000/2000 [00:56<00:00, 35.15it/s]\n",
      "Chain 0: 100%|██████████| 2000/2000 [00:56<00:00, 35.59it/s]\n",
      "Chain 1: 100%|██████████| 2000/2000 [00:56<00:00, 35.34it/s]\n",
      "Chain 2: 100%|██████████| 2000/2000 [00:56<00:00, 35.53it/s]\n",
      "Chain 3: 100%|██████████| 2000/2000 [00:55<00:00, 35.72it/s]\n",
      "Chain 4: 100%|██████████| 2000/2000 [00:56<00:00, 35.34it/s]\n",
      "Chain 5: 100%|██████████| 2000/2000 [00:57<00:00, 34.87it/s]\n",
      "Chain 6: 100%|██████████| 2000/2000 [00:57<00:00, 35.02it/s]\n",
      "Chain 7: 100%|██████████| 2000/2000 [00:56<00:00, 35.57it/s]\n",
      "Chain 0: 100%|██████████| 2000/2000 [00:56<00:00, 35.61it/s]\n",
      "Chain 1: 100%|██████████| 2000/2000 [00:56<00:00, 35.38it/s]\n",
      "Chain 2: 100%|██████████| 2000/2000 [00:56<00:00, 35.37it/s]\n",
      "Chain 3: 100%|██████████| 2000/2000 [00:55<00:00, 35.95it/s]\n",
      "Chain 4: 100%|██████████| 2000/2000 [00:56<00:00, 35.36it/s]\n",
      "Chain 5: 100%|██████████| 2000/2000 [00:57<00:00, 34.91it/s]\n",
      "Chain 6: 100%|██████████| 2000/2000 [00:56<00:00, 35.41it/s]\n",
      "Chain 7: 100%|██████████| 2000/2000 [00:55<00:00, 35.88it/s]\n"
     ]
    }
   ],
   "source": [
    "results = estimate_llcs_sweeper(checkpoints[-1], EPSILONS, GAMMAS)"
   ]
  },
  {
   "cell_type": "markdown",
   "id": "7504ab3e-0eb3-49d5-b4b7-fdb5b1e55514",
   "metadata": {},
   "source": [
    "### 4. Plotting LLC estimations over time"
   ]
  },
  {
   "cell_type": "code",
   "execution_count": 108,
   "id": "3acab622-17f4-4bf3-9199-7a542be15a0e",
   "metadata": {},
   "outputs": [
    {
     "data": {
      "image/png": "[encoded data removed]",
      "text/plain": [
       "<Figure size 1080x864 with 18 Axes>"
      ]
     },
     "metadata": {
      "needs_background": "light"
     },
     "output_type": "display_data"
    }
   ],
   "source": [
    "plot_sweep_single_model(results, EPSILONS, GAMMAS, title='Calibration sweep of MNIST model for lr ($\\epsilon$) and elasticity ($\\gamma$)')"
   ]
  },
  {
   "cell_type": "markdown",
   "id": "6bce759a-fe07-4273-9f64-f5422de47375",
   "metadata": {},
   "source": [
    "In these graphs, the LLC estimation mean is shown as a teal dotted line, and the standard deviation is shown as a shaded teal area around the mean. The remaining lines are the loss trace for each estimation. These are plotted with a shared $y=0$ line and have different scales of y axis (which can be seen on the left and right sides of each subplot).\n",
    "\n",
    "The major differences in this case seem to come from changes in $\\epsilon$, or learning rate. Let's go row by row through what's happening.\n",
    "\n",
    "1. In the first row, there's a curve that looks like it might converge, with the $\\gamma=100$ case being the closest to flattening out. We can try re-running that case for longer to see if it does converge as expected. The loss traces also look healthy from a distance, but we can zoom in to check below.\n",
    "2. The second row has a huge spike upwards in estimated LLC before quickly dropping back down and converging on a much smaller value. This is typically not a healthy sign, and we can see that the loss spikes up very high in each of these graphs first. We can take a closer look at one of these graphs below as well.\n",
    "3. Finally, the third row has very few SGLD steps recorded on the x-axis. These LLC estimates are diverging quickly and become NaN values, which we definitely don't want to see. We probably don't need to investigate this row further, and we can assume that in general, $\\epsilon=1e^{-3}$ values are too large for estimating LLC in this model."
   ]
  },
  {
   "cell_type": "code",
   "execution_count": 131,
   "id": "201acbb4-016a-4cd3-97dd-9e47fdc2c1ea",
   "metadata": {},
   "outputs": [
    {
     "data": {
      "image/png": "[encoded data removed]",
      "text/plain": [
       "<Figure size 1080x864 with 2 Axes>"
      ]
     },
     "metadata": {
      "needs_background": "light"
     },
     "output_type": "display_data"
    }
   ],
   "source": [
    "# Plotting a bigger version of the first row, third column graph above\n",
    "epsilon = 1e-5\n",
    "gamma = 100\n",
    "result = results[(epsilon, gamma)]\n",
    "plot_single_graph(result)"
   ]
  },
  {
   "cell_type": "markdown",
   "id": "91d50f18-8b82-4775-aedb-f11889cf80f7",
   "metadata": {},
   "source": [
    "There are some occasional spikes in the loss trace, but in general the loss traces all gradually increase and then appear to flatten out, and they also appear to stay above 0. Except for the very tall green spike, this is essentially what we want a healthy loss trace to look like."
   ]
  },
  {
   "cell_type": "code",
   "execution_count": 132,
   "id": "d9629a46-15cc-4840-aaad-4b9d4f17913a",
   "metadata": {},
   "outputs": [
    {
     "data": {
      "image/png": "[encoded data removed]",
      "text/plain": [
       "<Figure size 1080x864 with 2 Axes>"
      ]
     },
     "metadata": {
      "needs_background": "light"
     },
     "output_type": "display_data"
    }
   ],
   "source": [
    "# Plotting a bigger version of the second row, first column graph above\n",
    "epsilon = 1e-4\n",
    "gamma = 1\n",
    "result = results[(epsilon, gamma)]\n",
    "plot_single_graph(result)"
   ]
  },
  {
   "cell_type": "markdown",
   "id": "d780a7c4-51e3-445a-92ee-ef9fcfd3d80a",
   "metadata": {},
   "source": [
    "In this case, there's a huge spike at the very start of at least one (and maybe more than one) loss trace. In some models, this shape of LLC curve might happen because the SGLD sampling process is actually continuing to train the model, however in that case, we'd expect the loss traces to drop below the initial loss. In this example, the losses still remain positive after the initial spike, so it doesn't appear that SGLD is turning into continued training. It is currently unclear whether a spike (or in general, a not-monotonically-increasing curve) is a reason to invalidate a set of parameters, but it may be safest to consider it a yellow flag and pick a better set of parameters if possible.\n",
    "\n",
    "**In general, the loss traces are a useful diagnostic tool and should be the first thing to check when there's odd behavior in your LLC estimation.**"
   ]
  },
  {
   "cell_type": "markdown",
   "id": "cf876f0b-ab5f-4601-8b21-c2127882b09f",
   "metadata": {},
   "source": [
    "Let's try running more samples on the $\\epsilon=1e^{-5},\\ \\gamma=100$ case to see if it continues to flatten out."
   ]
  },
  {
   "cell_type": "code",
   "execution_count": 133,
   "id": "b644f97a-5f0c-4546-92f3-7877f5935eec",
   "metadata": {},
   "outputs": [
    {
     "name": "stderr",
     "output_type": "stream",
     "text": [
      "Chain 0: 100%|██████████| 5000/5000 [02:14<00:00, 37.22it/s]\n",
      "Chain 1: 100%|██████████| 5000/5000 [02:16<00:00, 36.76it/s]\n",
      "Chain 2: 100%|██████████| 5000/5000 [02:14<00:00, 37.26it/s]\n",
      "Chain 3: 100%|██████████| 5000/5000 [02:15<00:00, 36.77it/s]\n",
      "Chain 4: 100%|██████████| 5000/5000 [02:15<00:00, 36.96it/s]\n",
      "Chain 5: 100%|██████████| 5000/5000 [02:17<00:00, 36.32it/s]\n",
      "Chain 6: 100%|██████████| 5000/5000 [02:14<00:00, 37.20it/s]\n",
      "Chain 7: 100%|██████████| 5000/5000 [02:16<00:00, 36.56it/s]\n",
      "Chain 8: 100%|██████████| 5000/5000 [02:12<00:00, 37.61it/s]\n",
      "Chain 9: 100%|██████████| 5000/5000 [02:16<00:00, 36.64it/s]\n"
     ]
    }
   ],
   "source": [
    "optim_kwargs = dict(\n",
    "    lr=1e-5,\n",
    "    noise_level=1.0,\n",
    "    elasticity=100,\n",
    "    num_samples=len(train_data),\n",
    "    temperature=\"adaptive\",\n",
    ")\n",
    "result = estimate_learning_coeff_with_summary(\n",
    "    model=checkpoints[-1],\n",
    "    loader=train_loader,\n",
    "    criterion=criterion,\n",
    "    sampling_method=SGLD,\n",
    "    optimizer_kwargs=optim_kwargs,\n",
    "    num_chains=10,\n",
    "    num_draws=5000,\n",
    "    device=DEVICE,\n",
    "    online=True,\n",
    ")"
   ]
  },
  {
   "cell_type": "code",
   "execution_count": 134,
   "id": "b5467341-627c-4c74-a76b-fb176441e3db",
   "metadata": {},
   "outputs": [
    {
     "data": {
      "image/png": "[encoded data removed]",
      "text/plain": [
       "<Figure size 1080x864 with 2 Axes>"
      ]
     },
     "metadata": {
      "needs_background": "light"
     },
     "output_type": "display_data"
    }
   ],
   "source": [
    "plot_single_graph(result)"
   ]
  },
  {
   "cell_type": "markdown",
   "id": "1b0fc954-8101-46b9-9d7d-a30f7dd93884",
   "metadata": {},
   "source": [
    "### 5. Heuristics for selecting $\\epsilon$ and $\\gamma$"
   ]
  },
  {
   "cell_type": "markdown",
   "id": "53579538-da4d-490f-b1d8-b8bbf0119e65",
   "metadata": {},
   "source": [
    "There is currently no One True Set of hyperparameters. Instead, the goal of calibration is to identify hyperparameters that maintain certain desirable properties. Some general such heuristics:\n",
    "- Optimal traces should converge.\n",
    "- Absolute $\\hat\\lambda$ estimates are not as important as relative $\\hat\\lambda$ estimates.\n",
    "- The most important feature is that the relative ordering of estimates is maintained if you have different models to compare (e.g. different checkpoints).\n",
    "- The graph should not have negative dips (or not dip negative for very long).\n",
    "- You can also examine the loss traces or other diagnostics to check that they look healthy, such as in the examples above.\n",
    "  - A good set of loss traces should stay above the initial loss value (or at least not drop below it too far or for too many steps) and should not diverge away from the initial loss value.\n",
    "\n",
    "If you don't get good results on the first sweep, you might recenter your sweep and try again."
   ]
  },
  {
   "cell_type": "markdown",
   "id": "20177ce1-96f0-4b7c-ae5b-60aa579e0457",
   "metadata": {},
   "source": [
    "### 6. Selecting $\\epsilon$ and $\\gamma$ in this MNIST example"
   ]
  },
  {
   "cell_type": "markdown",
   "id": "7c6b07e8-83be-4a14-a66e-7ae27d5ea902",
   "metadata": {},
   "source": [
    "- The third row in our sweep graphs ($\\epsilon=1e^{-3}$) is definitely a no-go, since the values quickly diverge to NaN.\n",
    "- The second row has some odd behavior in the loss trace, causing a big spike in the initial LLC estimation. This should probably be avoided if there's a better option.\n",
    "- With enough draws, the LLC estimation for $\\epsilon=1e^{-5}, \\ \\gamma=100$ looks like it will converge nicely. The loss traces are basically flattened out as well, which is another indication that the LLC estimation should continue to converge without issue. In this first sweep, this would be my recommendation for hyperparameters, perhaps with even more draws if compute resources allow it.\n",
    "- If more refinement is needed (e.g. it's necessary for LLC estimation to converge in a fewer number of draws), then another option would be to sweep with more granular values (say, a half order of magnitude) around $\\epsilon=1e^{-5}, \\ \\gamma=100$"
   ]
  },
  {
   "cell_type": "code",
   "execution_count": null,
   "id": "4f825da3-9be5-434d-b4f8-4b3ef653f5ea",
   "metadata": {},
   "outputs": [],
   "source": []
  }
 ],
 "metadata": {
  "kernelspec": {
   "display_name": "Python 3",
   "language": "python",
   "name": "python3"
  },
  "language_info": {
   "codemirror_mode": {
    "name": "ipython",
    "version": 3
   },
   "file_extension": ".py",
   "mimetype": "text/x-python",
   "name": "python",
   "nbconvert_exporter": "python",
   "pygments_lexer": "ipython3",
   "version": "3.9.18"
  }
 },
 "nbformat": 4,
 "nbformat_minor": 5
}
