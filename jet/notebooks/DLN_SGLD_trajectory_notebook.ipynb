{
  "cells": [
    {
      "cell_type": "markdown",
      "metadata": {
        "id": "T7X6Ie0-JeGX"
      },
      "source": [
        "[![Open In Colab](https://colab.research.google.com/assets/colab-badge.svg)](https://colab.research.google.com/github/timaeus-research/devinterp/blob/stan/jet/notebooks/DLN_SGLD_trajectory_notebook.ipynb)\n",
        "\n",
        "# Normal Crossing SGLD trajectory notebook\n",
        "\n",
        "This notebook uses SGLD to sample from the posterior around a point, for a polynomial model characterized by $y_{pred} = w_1^a * w_2^b * x$ for some $(a, b)$, where $w_1$ and $w_2$ are weights to be learned and $x$ is our (1-dimensional) input.\n",
        "\n",
        "Both the input $x$ and target data $y$ are generated using (independent) gaussian noise, and the loss is Mean Squared Error from $y$ to $y_{pred}$, so the model achieves its lowest loss when $w_1=0$ or $w_2=0$.\n"
      ]
    },
    {
      "cell_type": "code",
      "execution_count": 1,
      "metadata": {
        "colab": {
          "base_uri": "https://localhost:8080/"
        },
        "collapsed": true,
        "id": "adozz2e4JeGa",
        "outputId": "c94aaa82-d39b-49d8-da72-39779721bdd1"
      },
      "outputs": [
        {
          "output_type": "stream",
          "name": "stdout",
          "text": [
            "Collecting git+https://github.com/timaeus-research/devinterp.git@stan/jet\n",
            "  Cloning https://github.com/timaeus-research/devinterp.git (to revision stan/jet) to /tmp/pip-req-build-2s8s6305\n",
            "  Running command git clone --filter=blob:none --quiet https://github.com/timaeus-research/devinterp.git /tmp/pip-req-build-2s8s6305\n",
            "  Running command git checkout -b stan/jet --track origin/stan/jet\n",
            "  Switched to a new branch 'stan/jet'\n",
            "  Branch 'stan/jet' set up to track remote branch 'stan/jet' from 'origin'.\n",
            "  Resolved https://github.com/timaeus-research/devinterp.git to commit 7c09f4dead8e939f31a5b7afa41f6837f796498b\n",
            "  Installing build dependencies ... \u001b[?25l\u001b[?25hdone\n",
            "  Getting requirements to build wheel ... \u001b[?25l\u001b[?25hdone\n",
            "  Preparing metadata (pyproject.toml) ... \u001b[?25l\u001b[?25hdone\n",
            "Requirement already satisfied: einops>=0.6.1 in /usr/local/lib/python3.10/dist-packages (from devinterp==1.2.0) (0.8.0)\n",
            "Requirement already satisfied: matplotlib>=3.7.5 in /usr/local/lib/python3.10/dist-packages (from devinterp==1.2.0) (3.8.0)\n",
            "Requirement already satisfied: nbformat>=4.2.0 in /usr/local/lib/python3.10/dist-packages (from devinterp==1.2.0) (5.10.4)\n",
            "Requirement already satisfied: numpy>=1.23.5 in /usr/local/lib/python3.10/dist-packages (from devinterp==1.2.0) (1.26.4)\n",
            "Requirement already satisfied: pandas>=1.5.3 in /usr/local/lib/python3.10/dist-packages (from devinterp==1.2.0) (2.2.2)\n",
            "Requirement already satisfied: plotly>=5.24.0 in /usr/local/lib/python3.10/dist-packages (from devinterp==1.2.0) (5.24.1)\n",
            "Requirement already satisfied: pydantic>=2.9.0 in /usr/local/lib/python3.10/dist-packages (from devinterp==1.2.0) (2.9.2)\n",
            "Requirement already satisfied: scipy>=1.10.1 in /usr/local/lib/python3.10/dist-packages (from devinterp==1.2.0) (1.13.1)\n",
            "Requirement already satisfied: torch>=2.0.1 in /usr/local/lib/python3.10/dist-packages (from devinterp==1.2.0) (2.5.0+cu121)\n",
            "Requirement already satisfied: tqdm>=4.65.0 in /usr/local/lib/python3.10/dist-packages (from devinterp==1.2.0) (4.66.6)\n",
            "Requirement already satisfied: cloudpickle>=3.0.0 in /usr/local/lib/python3.10/dist-packages (from devinterp==1.2.0) (3.1.0)\n",
            "Collecting PyMoments (from devinterp==1.2.0)\n",
            "  Downloading PyMoments-1.0.1-py3-none-any.whl.metadata (6.0 kB)\n",
            "Requirement already satisfied: contourpy>=1.0.1 in /usr/local/lib/python3.10/dist-packages (from matplotlib>=3.7.5->devinterp==1.2.0) (1.3.0)\n",
            "Requirement already satisfied: cycler>=0.10 in /usr/local/lib/python3.10/dist-packages (from matplotlib>=3.7.5->devinterp==1.2.0) (0.12.1)\n",
            "Requirement already satisfied: fonttools>=4.22.0 in /usr/local/lib/python3.10/dist-packages (from matplotlib>=3.7.5->devinterp==1.2.0) (4.54.1)\n",
            "Requirement already satisfied: kiwisolver>=1.0.1 in /usr/local/lib/python3.10/dist-packages (from matplotlib>=3.7.5->devinterp==1.2.0) (1.4.7)\n",
            "Requirement already satisfied: packaging>=20.0 in /usr/local/lib/python3.10/dist-packages (from matplotlib>=3.7.5->devinterp==1.2.0) (24.1)\n",
            "Requirement already satisfied: pillow>=6.2.0 in /usr/local/lib/python3.10/dist-packages (from matplotlib>=3.7.5->devinterp==1.2.0) (10.4.0)\n",
            "Requirement already satisfied: pyparsing>=2.3.1 in /usr/local/lib/python3.10/dist-packages (from matplotlib>=3.7.5->devinterp==1.2.0) (3.2.0)\n",
            "Requirement already satisfied: python-dateutil>=2.7 in /usr/local/lib/python3.10/dist-packages (from matplotlib>=3.7.5->devinterp==1.2.0) (2.8.2)\n",
            "Requirement already satisfied: fastjsonschema>=2.15 in /usr/local/lib/python3.10/dist-packages (from nbformat>=4.2.0->devinterp==1.2.0) (2.20.0)\n",
            "Requirement already satisfied: jsonschema>=2.6 in /usr/local/lib/python3.10/dist-packages (from nbformat>=4.2.0->devinterp==1.2.0) (4.23.0)\n",
            "Requirement already satisfied: jupyter-core!=5.0.*,>=4.12 in /usr/local/lib/python3.10/dist-packages (from nbformat>=4.2.0->devinterp==1.2.0) (5.7.2)\n",
            "Requirement already satisfied: traitlets>=5.1 in /usr/local/lib/python3.10/dist-packages (from nbformat>=4.2.0->devinterp==1.2.0) (5.7.1)\n",
            "Requirement already satisfied: pytz>=2020.1 in /usr/local/lib/python3.10/dist-packages (from pandas>=1.5.3->devinterp==1.2.0) (2024.2)\n",
            "Requirement already satisfied: tzdata>=2022.7 in /usr/local/lib/python3.10/dist-packages (from pandas>=1.5.3->devinterp==1.2.0) (2024.2)\n",
            "Requirement already satisfied: tenacity>=6.2.0 in /usr/local/lib/python3.10/dist-packages (from plotly>=5.24.0->devinterp==1.2.0) (9.0.0)\n",
            "Requirement already satisfied: annotated-types>=0.6.0 in /usr/local/lib/python3.10/dist-packages (from pydantic>=2.9.0->devinterp==1.2.0) (0.7.0)\n",
            "Requirement already satisfied: pydantic-core==2.23.4 in /usr/local/lib/python3.10/dist-packages (from pydantic>=2.9.0->devinterp==1.2.0) (2.23.4)\n",
            "Requirement already satisfied: typing-extensions>=4.6.1 in /usr/local/lib/python3.10/dist-packages (from pydantic>=2.9.0->devinterp==1.2.0) (4.12.2)\n",
            "Requirement already satisfied: filelock in /usr/local/lib/python3.10/dist-packages (from torch>=2.0.1->devinterp==1.2.0) (3.16.1)\n",
            "Requirement already satisfied: networkx in /usr/local/lib/python3.10/dist-packages (from torch>=2.0.1->devinterp==1.2.0) (3.4.2)\n",
            "Requirement already satisfied: jinja2 in /usr/local/lib/python3.10/dist-packages (from torch>=2.0.1->devinterp==1.2.0) (3.1.4)\n",
            "Requirement already satisfied: fsspec in /usr/local/lib/python3.10/dist-packages (from torch>=2.0.1->devinterp==1.2.0) (2024.10.0)\n",
            "Requirement already satisfied: sympy==1.13.1 in /usr/local/lib/python3.10/dist-packages (from torch>=2.0.1->devinterp==1.2.0) (1.13.1)\n",
            "Requirement already satisfied: mpmath<1.4,>=1.1.0 in /usr/local/lib/python3.10/dist-packages (from sympy==1.13.1->torch>=2.0.1->devinterp==1.2.0) (1.3.0)\n",
            "Requirement already satisfied: attrs>=22.2.0 in /usr/local/lib/python3.10/dist-packages (from jsonschema>=2.6->nbformat>=4.2.0->devinterp==1.2.0) (24.2.0)\n",
            "Requirement already satisfied: jsonschema-specifications>=2023.03.6 in /usr/local/lib/python3.10/dist-packages (from jsonschema>=2.6->nbformat>=4.2.0->devinterp==1.2.0) (2024.10.1)\n",
            "Requirement already satisfied: referencing>=0.28.4 in /usr/local/lib/python3.10/dist-packages (from jsonschema>=2.6->nbformat>=4.2.0->devinterp==1.2.0) (0.35.1)\n",
            "Requirement already satisfied: rpds-py>=0.7.1 in /usr/local/lib/python3.10/dist-packages (from jsonschema>=2.6->nbformat>=4.2.0->devinterp==1.2.0) (0.20.0)\n",
            "Requirement already satisfied: platformdirs>=2.5 in /usr/local/lib/python3.10/dist-packages (from jupyter-core!=5.0.*,>=4.12->nbformat>=4.2.0->devinterp==1.2.0) (4.3.6)\n",
            "Requirement already satisfied: six>=1.5 in /usr/local/lib/python3.10/dist-packages (from python-dateutil>=2.7->matplotlib>=3.7.5->devinterp==1.2.0) (1.16.0)\n",
            "Requirement already satisfied: MarkupSafe>=2.0 in /usr/local/lib/python3.10/dist-packages (from jinja2->torch>=2.0.1->devinterp==1.2.0) (3.0.2)\n",
            "Downloading PyMoments-1.0.1-py3-none-any.whl (95 kB)\n",
            "\u001b[2K   \u001b[90m━━━━━━━━━━━━━━━━━━━━━━━━━━━━━━━━━━━━━━━━\u001b[0m \u001b[32m95.3/95.3 kB\u001b[0m \u001b[31m2.3 MB/s\u001b[0m eta \u001b[36m0:00:00\u001b[0m\n",
            "\u001b[?25hBuilding wheels for collected packages: devinterp\n",
            "  Building wheel for devinterp (pyproject.toml) ... \u001b[?25l\u001b[?25hdone\n",
            "  Created wheel for devinterp: filename=devinterp-1.2.0-py3-none-any.whl size=58560 sha256=61f870dc3dd94a0af40cad4409471571dc7e8426dae55f085c15d333b51c0a2b\n",
            "  Stored in directory: /tmp/pip-ephem-wheel-cache-od81ymvi/wheels/a5/38/f3/3eb48f64c88f89e8b92c610f4a00c5be9acee739579a1bb958\n",
            "Successfully built devinterp\n",
            "Installing collected packages: PyMoments, devinterp\n",
            "Successfully installed PyMoments-1.0.1 devinterp-1.2.0\n",
            "Requirement already satisfied: seaborn in /usr/local/lib/python3.10/dist-packages (0.13.2)\n",
            "Requirement already satisfied: numpy!=1.24.0,>=1.20 in /usr/local/lib/python3.10/dist-packages (from seaborn) (1.26.4)\n",
            "Requirement already satisfied: pandas>=1.2 in /usr/local/lib/python3.10/dist-packages (from seaborn) (2.2.2)\n",
            "Requirement already satisfied: matplotlib!=3.6.1,>=3.4 in /usr/local/lib/python3.10/dist-packages (from seaborn) (3.8.0)\n",
            "Requirement already satisfied: contourpy>=1.0.1 in /usr/local/lib/python3.10/dist-packages (from matplotlib!=3.6.1,>=3.4->seaborn) (1.3.0)\n",
            "Requirement already satisfied: cycler>=0.10 in /usr/local/lib/python3.10/dist-packages (from matplotlib!=3.6.1,>=3.4->seaborn) (0.12.1)\n",
            "Requirement already satisfied: fonttools>=4.22.0 in /usr/local/lib/python3.10/dist-packages (from matplotlib!=3.6.1,>=3.4->seaborn) (4.54.1)\n",
            "Requirement already satisfied: kiwisolver>=1.0.1 in /usr/local/lib/python3.10/dist-packages (from matplotlib!=3.6.1,>=3.4->seaborn) (1.4.7)\n",
            "Requirement already satisfied: packaging>=20.0 in /usr/local/lib/python3.10/dist-packages (from matplotlib!=3.6.1,>=3.4->seaborn) (24.1)\n",
            "Requirement already satisfied: pillow>=6.2.0 in /usr/local/lib/python3.10/dist-packages (from matplotlib!=3.6.1,>=3.4->seaborn) (10.4.0)\n",
            "Requirement already satisfied: pyparsing>=2.3.1 in /usr/local/lib/python3.10/dist-packages (from matplotlib!=3.6.1,>=3.4->seaborn) (3.2.0)\n",
            "Requirement already satisfied: python-dateutil>=2.7 in /usr/local/lib/python3.10/dist-packages (from matplotlib!=3.6.1,>=3.4->seaborn) (2.8.2)\n",
            "Requirement already satisfied: pytz>=2020.1 in /usr/local/lib/python3.10/dist-packages (from pandas>=1.2->seaborn) (2024.2)\n",
            "Requirement already satisfied: tzdata>=2022.7 in /usr/local/lib/python3.10/dist-packages (from pandas>=1.2->seaborn) (2024.2)\n",
            "Requirement already satisfied: six>=1.5 in /usr/local/lib/python3.10/dist-packages (from python-dateutil>=2.7->matplotlib!=3.6.1,>=3.4->seaborn) (1.16.0)\n"
          ]
        }
      ],
      "source": [
        "!pip install git+https://github.com/timaeus-research/devinterp.git@stan/jet\n",
        "\n",
        "%pip install seaborn"
      ]
    },
    {
      "cell_type": "code",
      "execution_count": 2,
      "metadata": {
        "id": "mtMp5sPLJeGk"
      },
      "outputs": [],
      "source": [
        "# @title\n",
        "import locale\n",
        "\n",
        "\n",
        "def getpreferredencoding(do_setlocale=True):\n",
        "    return \"UTF-8\"\n",
        "\n",
        "\n",
        "locale.getpreferredencoding = getpreferredencoding\n",
        "\n",
        "import numpy as np\n",
        "import seaborn as sns\n",
        "import torch\n",
        "import torch.nn as nn\n",
        "from matplotlib.colors import LinearSegmentedColormap\n",
        "\n",
        "from devinterp.optim.sgld import SGLD\n",
        "from devinterp.optim.sgnht import SGNHT\n",
        "from devinterp.slt.llc import OnlineLLCEstimator\n",
        "from devinterp.utils import default_nbeta, evaluate_mse\n",
        "from devinterp.slt.sampler import sample\n",
        "\n",
        "from devinterp.jet_tools.plot import *\n",
        "from devinterp.jet_tools.models import *\n",
        "from devinterp.jet_tools.diffs import *\n",
        "from devinterp.jet_tools.utils import *"
      ]
    },
    {
      "cell_type": "markdown",
      "metadata": {
        "id": "R0Q6fDgVG8Md"
      },
      "source": [
        "# **Auxiliary functions**"
      ]
    },
    {
      "cell_type": "code",
      "execution_count": 3,
      "metadata": {
        "id": "crcmiE9zJeGo"
      },
      "outputs": [],
      "source": [
        "# plotting\n",
        "sns.set_style(\"whitegrid\")\n",
        "\n",
        "# plotting\n",
        "CMAP = sns.color_palette(\"muted\", as_cmap=True)\n",
        "PRIMARY, SECONDARY, TERTIARY = CMAP[:3]\n",
        "\n",
        "\n",
        "def hex_to_rgb(hex_color):\n",
        "    hex_color = hex_color.lstrip(\"#\")\n",
        "    return tuple(int(hex_color[i : i + 2], 16) / 255.0 for i in (0, 2, 4))\n",
        "\n",
        "\n",
        "lighter_factor = 0.9  # Between 0 and 1, higher values make it closer to white\n",
        "lighter_SECONDARY = tuple(\n",
        "    [x + (1 - x) * lighter_factor for x in hex_to_rgb(SECONDARY)[:3]] + [1.0]\n",
        ")\n",
        "\n",
        "colors = [SECONDARY, lighter_SECONDARY]\n",
        "n_bins = 20  # Number of bins\n",
        "contour_cmap = LinearSegmentedColormap.from_list(\"custom_cmap\", colors, N=n_bins)"
      ]
    },
    {
      "cell_type": "code",
      "execution_count": 4,
      "metadata": {
        "id": "3WxiBvc-En1M"
      },
      "outputs": [],
      "source": [
        "DEVICE = \"cuda\" if torch.cuda.is_available() else \"cpu\""
      ]
    },
    {
      "cell_type": "code",
      "execution_count": 5,
      "metadata": {
        "id": "dkAkgb3oXiFc"
      },
      "outputs": [],
      "source": [
        "SEED = 0\n",
        "SIGMA = 1\n",
        "NUM_TRAIN_SAMPLES = 1000\n",
        "BATCH_SIZE = NUM_TRAIN_SAMPLES\n",
        "EVALUATE = evaluate_mse\n",
        "\n",
        "train_loader, train_data, x, y = generate_dataset_for_seed(\n",
        "    seed=SEED, sigma=SIGMA, batch_size=BATCH_SIZE, num_samples=NUM_TRAIN_SAMPLES\n",
        ")"
      ]
    },
    {
      "cell_type": "markdown",
      "metadata": {
        "id": "VscFk5TxDsTP"
      },
      "source": [
        "## **Marginal and joint distributions of jets**"
      ]
    },
    {
      "cell_type": "code",
      "execution_count": 6,
      "metadata": {
        "colab": {
          "base_uri": "https://localhost:8080/"
        },
        "id": "JLCjZ2v4C9_f",
        "outputId": "95379648-fe8a-4c83-a217-3179a209d46d"
      },
      "outputs": [
        {
          "output_type": "stream",
          "name": "stdout",
          "text": [
            "[0. 0.]\n"
          ]
        }
      ],
      "source": [
        "test_array = np.array([[[0.0], [1.0], [3.0], [4.0]]])\n",
        "\n",
        "should_be = np.array([1.0, -1.0])\n",
        "print(ith_place_nth_diff(test_array, 1, n=2).reshape(-1) - should_be.reshape(-1))"
      ]
    },
    {
      "cell_type": "markdown",
      "metadata": {
        "id": "bDEsFpweJeG0"
      },
      "source": [
        "# **SGLD trajectories sampling**\n"
      ]
    },
    {
      "cell_type": "code",
      "execution_count": 7,
      "metadata": {
        "colab": {
          "base_uri": "https://localhost:8080/"
        },
        "id": "Eyhsfo_rtsdA",
        "outputId": "495aa294-ad66-4876-b950-03a31de63afc"
      },
      "outputs": [
        {
          "output_type": "stream",
          "name": "stdout",
          "text": [
            "Created continuous dataset (shuffle parameter is ignored)\n"
          ]
        }
      ],
      "source": [
        "method = \"xavier\"\n",
        "dln_model = DLN(\n",
        "    DLNConfig(\n",
        "        input_dim=2,\n",
        "        hidden_dim=2,\n",
        "        output_dim=2,\n",
        "        n_layers=2,\n",
        "        initialization_method=method,  # \"xavier\" \"zeros\" \"random\" \"kaiming\"\n",
        "    )\n",
        ")\n",
        "\n",
        "dln_dataset = create_dataset(dln_model, seed=SEED)\n",
        "dln_dataloader = torch.utils.data.DataLoader(dln_dataset, batch_size=64)"
      ]
    },
    {
      "cell_type": "code",
      "execution_count": 8,
      "metadata": {
        "id": "rJ4X4HJitudr"
      },
      "outputs": [],
      "source": [
        "INITIAL_PARAMETERS = [0.0, 0.0]\n",
        "A_B = [\n",
        "    1,\n",
        "    3,\n",
        "]  # MSE loss function and zero-mean gaussian, so this is effectively w_1**2 * w_2**4 as loss, NB\n",
        "\n",
        "nbeta = default_nbeta(len(train_data))  # = n/log(n)\n",
        "model = PolyModel(torch.tensor(A_B).to(DEVICE), DEVICE).to(\n",
        "    DEVICE\n",
        ")  # lol idk which one it should be\n",
        "model.weights = nn.Parameter(\n",
        "    torch.tensor(INITIAL_PARAMETERS, dtype=torch.float32, requires_grad=True).to(DEVICE)\n",
        ")"
      ]
    },
    {
      "cell_type": "code",
      "execution_count": 9,
      "metadata": {
        "id": "v4c-OwPQajGj"
      },
      "outputs": [],
      "source": [
        "# Number and length of chains\n",
        "num_chains_sgld = 1\n",
        "num_draws_sgld = 10_000\n",
        "\n",
        "# SGLD parameters\n",
        "epsilon_sgld = 0.005"
      ]
    },
    {
      "cell_type": "code",
      "execution_count": null,
      "metadata": {
        "colab": {
          "base_uri": "https://localhost:8080/"
        },
        "id": "46XYC-3tJeG4",
        "outputId": "90a8e615-1019-4760-d5ad-7e1dc25bcbef"
      },
      "outputs": [
        {
          "output_type": "stream",
          "name": "stderr",
          "text": [
            "/usr/local/lib/python3.10/dist-packages/devinterp/backends/default/slt/sampler.py:225: UserWarning: You are taking more draws than burn-in steps, your LLC estimates will likely be underestimates. Please check LLC chain convergence.\n",
            "  warnings.warn(\n",
            "/usr/local/lib/python3.10/dist-packages/devinterp/backends/default/slt/sampler.py:264: UserWarning: If you're setting a nbeta or temperature in optimizer_kwargs, please also make sure to set it in the callbacks.\n",
            "  warnings.warn(\n",
            "/usr/local/lib/python3.10/dist-packages/devinterp/backends/default/slt/sampler.py:291: UserWarning: You are using seeded runs, for full reproducibility check https://pytorch.org/docs/stable/notes/randomness.html\n",
            "  warnings.warn(\n",
            "Chain 0:   1%|          | 123/10000 [00:05<03:05, 53.35it/s]"
          ]
        }
      ],
      "source": [
        "torch.manual_seed(SEED)\n",
        "np.random.seed(SEED)\n",
        "sgld_weights = WeightCallback(\n",
        "    num_chains=num_chains_sgld, num_draws=num_draws_sgld, model=dln_model\n",
        ")\n",
        "\n",
        "online_llc_estimator = OnlineLLCEstimator(\n",
        "    num_chains=num_chains_sgld,\n",
        "    num_draws=num_draws_sgld,\n",
        "    nbeta=nbeta,\n",
        "    init_loss=0.0,\n",
        "    device=DEVICE,\n",
        ")\n",
        "trace_sgld = sample(\n",
        "    dln_model,\n",
        "    dln_dataloader,\n",
        "    evaluate=EVALUATE,\n",
        "    optimizer_kwargs=dict(lr=epsilon_sgld, nbeta=nbeta, bounding_box_size=1.0),\n",
        "    sampling_method=SGLD,\n",
        "    num_chains=num_chains_sgld,  # independent sampling runs\n",
        "    num_draws=num_draws_sgld,  # length of a sampling run\n",
        "    verbose=True,\n",
        "    device=DEVICE,\n",
        "    callbacks=[online_llc_estimator, sgld_weights],\n",
        "    seed=SEED,\n",
        ")"
      ]
    },
    {
      "cell_type": "code",
      "execution_count": null,
      "metadata": {
        "id": "HIsLRtNOb0ZU"
      },
      "outputs": [],
      "source": [
        "wt_sgld = np.array(sgld_weights.get_results()[\"ws/trace\"])\n",
        "\n",
        "# numpy running mean of llc_chain (does not work yet with multiple chains)\n",
        "llc_chain = online_llc_estimator.get_results()[\"llc/trace\"]\n",
        "# llc_chain = np.cumsum(llc_chain) / np.arange(1, len(llc_chain[0]) + 1)\n",
        "print(np.nonzero(np.isnan(wt_sgld)))\n",
        "print(epsilon_sgld * num_draws_sgld)\n",
        "\n",
        "# take the first element of the first element of every weights tensor (which has shape (3, 10000, 2, 3, 3)), so we get\n",
        "# wt_sgld = wt_sgld[:,:,:,0,0]\n",
        "# print(wt_sgld.shape)"
      ]
    },
    {
      "cell_type": "markdown",
      "metadata": {
        "id": "nIPbl4QuPfSw"
      },
      "source": [
        "# **SGLD plots**"
      ]
    },
    {
      "cell_type": "markdown",
      "metadata": {
        "id": "qJnqCCvIDJmi"
      },
      "source": [
        "## **Plotting SGLD trajectories and jet coordinates**"
      ]
    },
    {
      "cell_type": "code",
      "execution_count": null,
      "metadata": {
        "id": "ZrvpVHloxC6f"
      },
      "outputs": [],
      "source": [
        "plot_multi_trajectories(wt_sgld, [1, 10], [0, 1, 2], \"SLGD\")"
      ]
    },
    {
      "cell_type": "markdown",
      "metadata": {
        "id": "oX4m0sLgCgVL"
      },
      "source": [
        "## **Plot cumulant statistics of marginal distribution of jet coordinates SGLD**\n"
      ]
    },
    {
      "cell_type": "code",
      "execution_count": null,
      "metadata": {
        "id": "NQqx7jIYrVZL"
      },
      "outputs": [],
      "source": [
        "flattened = wt_sgld.reshape((num_chains_sgld, num_draws_sgld, -1))\n",
        "print(flattened.shape)\n",
        "plot_second_order_first_place_stats(flattened, 1, method=method)\n",
        "plot_third_order_stats_per_dim(flattened, 1, method=method)"
      ]
    },
    {
      "cell_type": "code",
      "execution_count": null,
      "metadata": {
        "id": "A_OkJvsi1IrL"
      },
      "outputs": [],
      "source": [
        "plot_second_order_two_place_stats(wt_sgld, 1)"
      ]
    },
    {
      "cell_type": "code",
      "execution_count": null,
      "metadata": {
        "id": "HVukMH_jKtMB"
      },
      "outputs": [],
      "source": [
        "plot_third_order_stats(wt_sgld, 1)"
      ]
    },
    {
      "cell_type": "markdown",
      "metadata": {
        "id": "J1CNG6VcMu9l"
      },
      "source": [
        "## **Vector fields SGLD**"
      ]
    },
    {
      "cell_type": "code",
      "execution_count": null,
      "metadata": {
        "id": "D1zL6GemIPFh"
      },
      "outputs": [],
      "source": [
        "plot_vector_field_jets(wt_sgld, [10, 100, 500], [1], 15, \"SGLD\")"
      ]
    },
    {
      "cell_type": "markdown",
      "metadata": {
        "id": "NhuR4bY4Rhu-"
      },
      "source": [
        "# **SGHNT trajectories sampling**"
      ]
    },
    {
      "cell_type": "code",
      "execution_count": null,
      "metadata": {
        "id": "c_cp5xUdRtGP"
      },
      "outputs": [],
      "source": [
        "num_chains_sgnht = 1\n",
        "num_draws_sgnht = 10_000\n",
        "\n",
        "epsilon_sgnht = 0.001"
      ]
    },
    {
      "cell_type": "code",
      "execution_count": null,
      "metadata": {
        "id": "Ed0M_UqCRhgj"
      },
      "outputs": [],
      "source": [
        "sgnht_weights = WeightCallback(\n",
        "    num_chains=num_chains_sgnht, num_draws=num_draws_sgnht, model=model\n",
        ")\n",
        "online_llc_estimator = OnlineLLCEstimator(\n",
        "    num_chains=num_chains_sgnht,\n",
        "    num_draws=num_draws_sgld,\n",
        "    nbeta=nbeta,\n",
        "    init_loss=0.0,\n",
        "    device=DEVICE,\n",
        ")\n",
        "\n",
        "trace_sgnht = sample(\n",
        "    model,\n",
        "    train_loader,\n",
        "    evaluate=EVALUATE,\n",
        "    optimizer_kwargs=dict(\n",
        "        lr=epsilon_sgnht, nbeta=nbeta, diffusion_factor=0.005, bounding_box_size=1.0\n",
        "    ),\n",
        "    sampling_method=SGNHT,\n",
        "    num_chains=num_chains_sgnht,  # independent sampling runs\n",
        "    num_draws=num_draws_sgnht,  # length of a sampling run\n",
        "    verbose=True,\n",
        "    device=DEVICE,\n",
        "    callbacks=[online_llc_estimator, sgnht_weights],\n",
        "    seed=SEED,\n",
        ")"
      ]
    },
    {
      "cell_type": "code",
      "execution_count": null,
      "metadata": {
        "id": "yq97LgCWR3AZ"
      },
      "outputs": [],
      "source": [
        "wt_sgnht = np.array(sgnht_weights.get_results()[\"ws/trace\"])\n",
        "\n",
        "print(np.nonzero(np.isnan(wt_sgnht)))\n",
        "print(epsilon_sgld * num_draws_sgnht)"
      ]
    },
    {
      "cell_type": "markdown",
      "metadata": {
        "id": "dFTchnwePqHf"
      },
      "source": [
        "# **SGNHT plots**"
      ]
    },
    {
      "cell_type": "markdown",
      "metadata": {
        "id": "LFFVM_W5OBBh"
      },
      "source": [
        "## **Plotting SGNHT trajectories and jet coordinates**\n",
        "\n",
        "\n"
      ]
    },
    {
      "cell_type": "code",
      "execution_count": null,
      "metadata": {
        "id": "bHvgeY2kG3UY"
      },
      "outputs": [],
      "source": [
        "plot_multi_trajectories(wt_sgnht, [1, 10], [0, 1, 2], \"SGNHT\")"
      ]
    },
    {
      "cell_type": "markdown",
      "metadata": {
        "id": "rvNOYprHOOqh"
      },
      "source": [
        "## **Plot cumulant statistics of marginal distribution of jet coordinates SGNHT**"
      ]
    },
    {
      "cell_type": "code",
      "execution_count": null,
      "metadata": {
        "id": "5L9wwfcROQgf"
      },
      "outputs": [],
      "source": [
        "plot_second_order_two_place_stats(wt_sgnht, 1)"
      ]
    },
    {
      "cell_type": "code",
      "execution_count": null,
      "metadata": {
        "id": "zxsHEjcJOhvZ"
      },
      "outputs": [],
      "source": [
        "plot_third_order_stats(wt_sgnht, 1)"
      ]
    },
    {
      "cell_type": "markdown",
      "metadata": {
        "id": "lf8X-VKvOtnh"
      },
      "source": [
        "## **Vector fields SGNHT**"
      ]
    },
    {
      "cell_type": "code",
      "execution_count": null,
      "metadata": {
        "id": "voj4Hoh_OmHu"
      },
      "outputs": [],
      "source": [
        "plot_vector_field_jets(wt_sgnht, [10, 100, 500], [1], 15, \"SGNHT\")"
      ]
    },
    {
      "cell_type": "code",
      "execution_count": null,
      "metadata": {
        "id": "d6ur2hNfOxLT"
      },
      "outputs": [],
      "source": []
    }
  ],
  "metadata": {
    "accelerator": "GPU",
    "colab": {
      "collapsed_sections": [
        "VscFk5TxDsTP",
        "Y-2OVnx_COBU",
        "QI2iD3zhtdmw",
        "LFFVM_W5OBBh"
      ],
      "gpuType": "T4",
      "provenance": []
    },
    "kernelspec": {
      "display_name": "Python 3",
      "name": "python3"
    },
    "language_info": {
      "codemirror_mode": {
        "name": "ipython",
        "version": 3
      },
      "file_extension": ".py",
      "mimetype": "text/x-python",
      "name": "python",
      "nbconvert_exporter": "python",
      "pygments_lexer": "ipython3",
      "version": "3.8.10"
    }
  },
  "nbformat": 4,
  "nbformat_minor": 0
}